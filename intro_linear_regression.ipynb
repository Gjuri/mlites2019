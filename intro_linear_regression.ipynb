{
  "nbformat": 4,
  "nbformat_minor": 0,
  "metadata": {
    "colab": {
      "name": "intro-linear-regression.ipynb",
      "version": "0.3.2",
      "provenance": [],
      "include_colab_link": true
    },
    "kernelspec": {
      "name": "python3",
      "display_name": "Python 3"
    }
  },
  "cells": [
    {
      "cell_type": "markdown",
      "metadata": {
        "id": "view-in-github",
        "colab_type": "text"
      },
      "source": [
        "<a href=\"https://colab.research.google.com/github/mlites/mlites2019/blob/master/intro_linear_regression.ipynb\" target=\"_parent\"><img src=\"https://colab.research.google.com/assets/colab-badge.svg\" alt=\"Open In Colab\"/></a>"
      ]
    },
    {
      "metadata": {
        "id": "7YzKFlBhrNw7",
        "colab_type": "text"
      },
      "cell_type": "markdown",
      "source": [
        "# Introduction to Linear Regression and Gradient Descent\n",
        "\n",
        "Hello! In this exercise we'll peek behind the scenes at the deceptively simple linear regression algorithm by implementing a gradient descent version`\n",
        "\n",
        "Along the way we'll learn to do some data manipulation in python using Pandas and NumPy, and learn how to separate our data into Training and Test sets for validation.\n",
        "\n",
        "If you haven't already, make sure you run intro_kaggle.ipynb to download the necessary datasets\n",
        "\n",
        "\n",
        "More background\n",
        "* [Introduction to Machine Learning Algorithms: Linear Regression](https://towardsdatascience.com/introduction-to-machine-learning-algorithms-linear-regression-14c4e325882a)\n",
        "\n",
        "* [Quick start to Pandas](https://pandas.pydata.org/pandas-docs/stable/getting_started/10min.html)\n"
      ]
    },
    {
      "metadata": {
        "id": "HiNCUqcAs-Ci",
        "colab_type": "text"
      },
      "cell_type": "markdown",
      "source": [
        "## Outline\n",
        "\n",
        "1. import necessary packages\n",
        "2. Load Iditarod data\n",
        "3. Do some date and time conversion\n",
        "4. Generate some new features\n",
        "5. Plot some data\n",
        "6. Fit regression with sklearn\n",
        "7. Fit regression with gradient descent"
      ]
    },
    {
      "metadata": {
        "id": "1SVLr4yuG45H",
        "colab_type": "text"
      },
      "cell_type": "markdown",
      "source": [
        "## Getting Started"
      ]
    },
    {
      "metadata": {
        "id": "bpUxrh72gEvo",
        "colab_type": "code",
        "colab": {}
      },
      "cell_type": "code",
      "source": [
        "import pandas as pd #import Pandas under the shortcut 'pd'\n",
        "import numpy as np #import NumPy; NumPy is the fundamental package for scientific computing with Python\n",
        "import matplotlib.pyplot as plt #MatPlotLib is a plotting library"
      ],
      "execution_count": 0,
      "outputs": []
    },
    {
      "metadata": {
        "id": "CeYCbkx0G7WH",
        "colab_type": "text"
      },
      "cell_type": "markdown",
      "source": [
        "## Exploring the Iditarod Dataset"
      ]
    },
    {
      "metadata": {
        "id": "nyu1CYGKtypu",
        "colab_type": "code",
        "colab": {
          "base_uri": "https://localhost:8080/",
          "height": 881
        },
        "outputId": "44335920-4a24-4111-c86f-d23d72301095"
      },
      "cell_type": "code",
      "source": [
        "# first lets load the Iditarod data into a pandas dataframe in a variable called 'iditarod'\n",
        "\n",
        "iditarod = pd.read_csv(\"iditarod.csv\")\n",
        "iditarod.tail()"
      ],
      "execution_count": 4,
      "outputs": [
        {
          "output_type": "error",
          "ename": "FileNotFoundError",
          "evalue": "ignored",
          "traceback": [
            "\u001b[0;31m---------------------------------------------------------------------------\u001b[0m",
            "\u001b[0;31mFileNotFoundError\u001b[0m                         Traceback (most recent call last)",
            "\u001b[0;32m<ipython-input-4-4ef2395d7d5c>\u001b[0m in \u001b[0;36m<module>\u001b[0;34m()\u001b[0m\n\u001b[1;32m      1\u001b[0m \u001b[0;34m\u001b[0m\u001b[0m\n\u001b[0;32m----> 2\u001b[0;31m \u001b[0miditarod\u001b[0m \u001b[0;34m=\u001b[0m \u001b[0mpd\u001b[0m\u001b[0;34m.\u001b[0m\u001b[0mread_csv\u001b[0m\u001b[0;34m(\u001b[0m\u001b[0;34m\"iditarod.csv\"\u001b[0m\u001b[0;34m)\u001b[0m\u001b[0;34m\u001b[0m\u001b[0;34m\u001b[0m\u001b[0m\n\u001b[0m\u001b[1;32m      3\u001b[0m \u001b[0miditarod\u001b[0m\u001b[0;34m.\u001b[0m\u001b[0mtail\u001b[0m\u001b[0;34m(\u001b[0m\u001b[0;34m)\u001b[0m\u001b[0;34m\u001b[0m\u001b[0;34m\u001b[0m\u001b[0m\n",
            "\u001b[0;32m/usr/local/lib/python3.6/dist-packages/pandas/io/parsers.py\u001b[0m in \u001b[0;36mparser_f\u001b[0;34m(filepath_or_buffer, sep, delimiter, header, names, index_col, usecols, squeeze, prefix, mangle_dupe_cols, dtype, engine, converters, true_values, false_values, skipinitialspace, skiprows, nrows, na_values, keep_default_na, na_filter, verbose, skip_blank_lines, parse_dates, infer_datetime_format, keep_date_col, date_parser, dayfirst, iterator, chunksize, compression, thousands, decimal, lineterminator, quotechar, quoting, escapechar, comment, encoding, dialect, tupleize_cols, error_bad_lines, warn_bad_lines, skipfooter, doublequote, delim_whitespace, low_memory, memory_map, float_precision)\u001b[0m\n\u001b[1;32m    676\u001b[0m                     skip_blank_lines=skip_blank_lines)\n\u001b[1;32m    677\u001b[0m \u001b[0;34m\u001b[0m\u001b[0m\n\u001b[0;32m--> 678\u001b[0;31m         \u001b[0;32mreturn\u001b[0m \u001b[0m_read\u001b[0m\u001b[0;34m(\u001b[0m\u001b[0mfilepath_or_buffer\u001b[0m\u001b[0;34m,\u001b[0m \u001b[0mkwds\u001b[0m\u001b[0;34m)\u001b[0m\u001b[0;34m\u001b[0m\u001b[0;34m\u001b[0m\u001b[0m\n\u001b[0m\u001b[1;32m    679\u001b[0m \u001b[0;34m\u001b[0m\u001b[0m\n\u001b[1;32m    680\u001b[0m     \u001b[0mparser_f\u001b[0m\u001b[0;34m.\u001b[0m\u001b[0m__name__\u001b[0m \u001b[0;34m=\u001b[0m \u001b[0mname\u001b[0m\u001b[0;34m\u001b[0m\u001b[0;34m\u001b[0m\u001b[0m\n",
            "\u001b[0;32m/usr/local/lib/python3.6/dist-packages/pandas/io/parsers.py\u001b[0m in \u001b[0;36m_read\u001b[0;34m(filepath_or_buffer, kwds)\u001b[0m\n\u001b[1;32m    438\u001b[0m \u001b[0;34m\u001b[0m\u001b[0m\n\u001b[1;32m    439\u001b[0m     \u001b[0;31m# Create the parser.\u001b[0m\u001b[0;34m\u001b[0m\u001b[0;34m\u001b[0m\u001b[0;34m\u001b[0m\u001b[0m\n\u001b[0;32m--> 440\u001b[0;31m     \u001b[0mparser\u001b[0m \u001b[0;34m=\u001b[0m \u001b[0mTextFileReader\u001b[0m\u001b[0;34m(\u001b[0m\u001b[0mfilepath_or_buffer\u001b[0m\u001b[0;34m,\u001b[0m \u001b[0;34m**\u001b[0m\u001b[0mkwds\u001b[0m\u001b[0;34m)\u001b[0m\u001b[0;34m\u001b[0m\u001b[0;34m\u001b[0m\u001b[0m\n\u001b[0m\u001b[1;32m    441\u001b[0m \u001b[0;34m\u001b[0m\u001b[0m\n\u001b[1;32m    442\u001b[0m     \u001b[0;32mif\u001b[0m \u001b[0mchunksize\u001b[0m \u001b[0;32mor\u001b[0m \u001b[0miterator\u001b[0m\u001b[0;34m:\u001b[0m\u001b[0;34m\u001b[0m\u001b[0;34m\u001b[0m\u001b[0m\n",
            "\u001b[0;32m/usr/local/lib/python3.6/dist-packages/pandas/io/parsers.py\u001b[0m in \u001b[0;36m__init__\u001b[0;34m(self, f, engine, **kwds)\u001b[0m\n\u001b[1;32m    785\u001b[0m             \u001b[0mself\u001b[0m\u001b[0;34m.\u001b[0m\u001b[0moptions\u001b[0m\u001b[0;34m[\u001b[0m\u001b[0;34m'has_index_names'\u001b[0m\u001b[0;34m]\u001b[0m \u001b[0;34m=\u001b[0m \u001b[0mkwds\u001b[0m\u001b[0;34m[\u001b[0m\u001b[0;34m'has_index_names'\u001b[0m\u001b[0;34m]\u001b[0m\u001b[0;34m\u001b[0m\u001b[0;34m\u001b[0m\u001b[0m\n\u001b[1;32m    786\u001b[0m \u001b[0;34m\u001b[0m\u001b[0m\n\u001b[0;32m--> 787\u001b[0;31m         \u001b[0mself\u001b[0m\u001b[0;34m.\u001b[0m\u001b[0m_make_engine\u001b[0m\u001b[0;34m(\u001b[0m\u001b[0mself\u001b[0m\u001b[0;34m.\u001b[0m\u001b[0mengine\u001b[0m\u001b[0;34m)\u001b[0m\u001b[0;34m\u001b[0m\u001b[0;34m\u001b[0m\u001b[0m\n\u001b[0m\u001b[1;32m    788\u001b[0m \u001b[0;34m\u001b[0m\u001b[0m\n\u001b[1;32m    789\u001b[0m     \u001b[0;32mdef\u001b[0m \u001b[0mclose\u001b[0m\u001b[0;34m(\u001b[0m\u001b[0mself\u001b[0m\u001b[0;34m)\u001b[0m\u001b[0;34m:\u001b[0m\u001b[0;34m\u001b[0m\u001b[0;34m\u001b[0m\u001b[0m\n",
            "\u001b[0;32m/usr/local/lib/python3.6/dist-packages/pandas/io/parsers.py\u001b[0m in \u001b[0;36m_make_engine\u001b[0;34m(self, engine)\u001b[0m\n\u001b[1;32m   1012\u001b[0m     \u001b[0;32mdef\u001b[0m \u001b[0m_make_engine\u001b[0m\u001b[0;34m(\u001b[0m\u001b[0mself\u001b[0m\u001b[0;34m,\u001b[0m \u001b[0mengine\u001b[0m\u001b[0;34m=\u001b[0m\u001b[0;34m'c'\u001b[0m\u001b[0;34m)\u001b[0m\u001b[0;34m:\u001b[0m\u001b[0;34m\u001b[0m\u001b[0;34m\u001b[0m\u001b[0m\n\u001b[1;32m   1013\u001b[0m         \u001b[0;32mif\u001b[0m \u001b[0mengine\u001b[0m \u001b[0;34m==\u001b[0m \u001b[0;34m'c'\u001b[0m\u001b[0;34m:\u001b[0m\u001b[0;34m\u001b[0m\u001b[0;34m\u001b[0m\u001b[0m\n\u001b[0;32m-> 1014\u001b[0;31m             \u001b[0mself\u001b[0m\u001b[0;34m.\u001b[0m\u001b[0m_engine\u001b[0m \u001b[0;34m=\u001b[0m \u001b[0mCParserWrapper\u001b[0m\u001b[0;34m(\u001b[0m\u001b[0mself\u001b[0m\u001b[0;34m.\u001b[0m\u001b[0mf\u001b[0m\u001b[0;34m,\u001b[0m \u001b[0;34m**\u001b[0m\u001b[0mself\u001b[0m\u001b[0;34m.\u001b[0m\u001b[0moptions\u001b[0m\u001b[0;34m)\u001b[0m\u001b[0;34m\u001b[0m\u001b[0;34m\u001b[0m\u001b[0m\n\u001b[0m\u001b[1;32m   1015\u001b[0m         \u001b[0;32melse\u001b[0m\u001b[0;34m:\u001b[0m\u001b[0;34m\u001b[0m\u001b[0;34m\u001b[0m\u001b[0m\n\u001b[1;32m   1016\u001b[0m             \u001b[0;32mif\u001b[0m \u001b[0mengine\u001b[0m \u001b[0;34m==\u001b[0m \u001b[0;34m'python'\u001b[0m\u001b[0;34m:\u001b[0m\u001b[0;34m\u001b[0m\u001b[0;34m\u001b[0m\u001b[0m\n",
            "\u001b[0;32m/usr/local/lib/python3.6/dist-packages/pandas/io/parsers.py\u001b[0m in \u001b[0;36m__init__\u001b[0;34m(self, src, **kwds)\u001b[0m\n\u001b[1;32m   1706\u001b[0m         \u001b[0mkwds\u001b[0m\u001b[0;34m[\u001b[0m\u001b[0;34m'usecols'\u001b[0m\u001b[0;34m]\u001b[0m \u001b[0;34m=\u001b[0m \u001b[0mself\u001b[0m\u001b[0;34m.\u001b[0m\u001b[0musecols\u001b[0m\u001b[0;34m\u001b[0m\u001b[0;34m\u001b[0m\u001b[0m\n\u001b[1;32m   1707\u001b[0m \u001b[0;34m\u001b[0m\u001b[0m\n\u001b[0;32m-> 1708\u001b[0;31m         \u001b[0mself\u001b[0m\u001b[0;34m.\u001b[0m\u001b[0m_reader\u001b[0m \u001b[0;34m=\u001b[0m \u001b[0mparsers\u001b[0m\u001b[0;34m.\u001b[0m\u001b[0mTextReader\u001b[0m\u001b[0;34m(\u001b[0m\u001b[0msrc\u001b[0m\u001b[0;34m,\u001b[0m \u001b[0;34m**\u001b[0m\u001b[0mkwds\u001b[0m\u001b[0;34m)\u001b[0m\u001b[0;34m\u001b[0m\u001b[0;34m\u001b[0m\u001b[0m\n\u001b[0m\u001b[1;32m   1709\u001b[0m \u001b[0;34m\u001b[0m\u001b[0m\n\u001b[1;32m   1710\u001b[0m         \u001b[0mpassed_names\u001b[0m \u001b[0;34m=\u001b[0m \u001b[0mself\u001b[0m\u001b[0;34m.\u001b[0m\u001b[0mnames\u001b[0m \u001b[0;32mis\u001b[0m \u001b[0;32mNone\u001b[0m\u001b[0;34m\u001b[0m\u001b[0;34m\u001b[0m\u001b[0m\n",
            "\u001b[0;32mpandas/_libs/parsers.pyx\u001b[0m in \u001b[0;36mpandas._libs.parsers.TextReader.__cinit__\u001b[0;34m()\u001b[0m\n",
            "\u001b[0;32mpandas/_libs/parsers.pyx\u001b[0m in \u001b[0;36mpandas._libs.parsers.TextReader._setup_parser_source\u001b[0;34m()\u001b[0m\n",
            "\u001b[0;31mFileNotFoundError\u001b[0m: File b'iditarod.csv' does not exist"
          ]
        }
      ]
    },
    {
      "metadata": {
        "id": "HP1WAYeruSD0",
        "colab_type": "text"
      },
      "cell_type": "markdown",
      "source": [
        "There is a bunch of data here about each musher, like when they arrived at each checkpoint, how long it took, what their speed was, and how many dogs they checked in or out.\n",
        "\n",
        "Let's explore the data a bit to see what it looks like. Say we're interested in how the number of dogs on the team affects the speed, we can plot that using the MatPlotLib library.\n",
        "\n",
        "Let's look at the speed versus the number of dogs dropped by each team."
      ]
    },
    {
      "metadata": {
        "id": "p8VbufoWuunJ",
        "colab_type": "code",
        "colab": {
          "base_uri": "https://localhost:8080/",
          "height": 609
        },
        "outputId": "27b163fd-0285-4265-e567-3369f5ae80ec"
      },
      "cell_type": "code",
      "source": [
        "iditarod[\"Dogs_dropped\"] = 16 - iditarod[\"Arrival Dogs\"] #everyone starts with 16 dogs\n",
        "plt.figure(figsize=(10,10)) #set the figure size in inches\n",
        "plt.scatter(iditarod[\"Dogs_dropped\"],iditarod[\"Speed\"],color='blue') # the scatter command make a scatter plot\n",
        "plt.xlabel(\"Dogs Dropped\")\n",
        "plt.ylabel(\"Speed (mph)\")\n",
        "plt.show()"
      ],
      "execution_count": 120,
      "outputs": [
        {
          "output_type": "display_data",
          "data": {
            "image/png": "[encoded data removed]",
            "text/plain": [
              "<Figure size 720x720 with 1 Axes>"
            ]
          },
          "metadata": {
            "tags": []
          }
        }
      ]
    },
    {
      "metadata": {
        "id": "qUq0xjo8v3Uk",
        "colab_type": "text"
      },
      "cell_type": "markdown",
      "source": [
        "**Questions:**\n",
        "* What do you think, is there a trend?\n",
        "* Do mushers go faster when they have more dogs?\n",
        "* What other factors might affect their speed?\n",
        "\n",
        "\n",
        "Let's do some feature conversions and dig into the data a bit more."
      ]
    },
    {
      "metadata": {
        "id": "wcBdzJf9xBXi",
        "colab_type": "code",
        "colab": {}
      },
      "cell_type": "code",
      "source": [
        "#let's drop values that have NA or NaN's\n",
        "iditarod = iditarod.dropna()\n",
        "\n",
        "#then convert the times into machine-readable timestamps\n",
        "\n",
        "# import the datetime module\n",
        "from datetime import datetime\n",
        "\n",
        "# get the Date and Time into a new temporary dataframe\n",
        "# pd.loc[] accesses rows or columns in a dataframe by character labels\n",
        "dt = iditarod.loc[:, ['Arrival Date', 'Arrival Time']] # : means 'all rows'\n",
        "\n",
        "# 'apply' applies a function (in this case anonymous, or 'lambda') to each row (axis=1) of the new dataframe\n",
        "# this function concatenates the Date and Time and converts them into a special 'datetime' object\n",
        "# which then gets saved back into the original dataframe\n",
        "\n",
        "iditarod['Arrival_datetime'] = dt.apply(lambda x: datetime.strptime(x[0]+'/'+x[1], '%m/%d/%Y/%H:%M:%S'), axis=1)\n",
        "\n",
        "# another way to make datetime objects in pandas\n",
        "# iditarod[\"Arrival Time\"] = pd.DatetimeIndex(iditarod[\"Arrival Time\"],dtype='datetime64[ns]')\n",
        "# iditarod[\"Departure Time\"] = pd.DatetimeIndex(iditarod[\"Departure Time\"],dtype='datetime64[ns]')\n"
      ],
      "execution_count": 0,
      "outputs": []
    },
    {
      "metadata": {
        "id": "2xChmo_qYmdN",
        "colab_type": "text"
      },
      "cell_type": "markdown",
      "source": [
        "Now we can plot the number of Dogs Dropped as a function of the Datetime"
      ]
    },
    {
      "metadata": {
        "id": "iGqwFqOGYnET",
        "colab_type": "code",
        "colab": {
          "base_uri": "https://localhost:8080/",
          "height": 609
        },
        "outputId": "e1f1a8bd-378d-4681-97a8-615498dc5404"
      },
      "cell_type": "code",
      "source": [
        "# plot_data is a matplotlib command to use when you're plotting a date or time\n",
        "plt.figure(figsize=(10,10)) #set the figure size in inches\n",
        "plt.plot_date(iditarod[\"Arrival_datetime\"],iditarod[\"Dogs_dropped\"],color='blue') #make a scatter plot\n",
        "plt.xlabel(\"Time\")\n",
        "plt.ylabel(\"Dogs Dropped\")\n",
        "plt.show()\n"
      ],
      "execution_count": 123,
      "outputs": [
        {
          "output_type": "display_data",
          "data": {
            "image/png": "[encoded data removed]",
            "text/plain": [
              "<Figure size 720x720 with 1 Axes>"
            ]
          },
          "metadata": {
            "tags": []
          }
        }
      ]
    },
    {
      "metadata": {
        "id": "soMC-duB8yGY",
        "colab_type": "text"
      },
      "cell_type": "markdown",
      "source": [
        "Is there a trend here?\n",
        "\n",
        "It kind of looks like it, but how can we tell for sure?\n",
        "\n",
        "Let's look at one more example."
      ]
    },
    {
      "metadata": {
        "id": "gvA-Waw16bLh",
        "colab_type": "code",
        "colab": {
          "base_uri": "https://localhost:8080/",
          "height": 355
        },
        "outputId": "d2825ebf-ebeb-4bc4-a1cc-5df054be4bd7"
      },
      "cell_type": "code",
      "source": [
        "# let's find the cumulative time and distance traveleled to each checkpoint\n",
        "\n",
        "# first we'll find the unique checkpoints like this:\n",
        "iditarod[\"Checkpoint\"].unique()\n",
        "\n",
        "# then from the Iditarod website we can find the cumulative distances\n",
        "# to each unique checkpoint\n",
        "# https://iditarod.com/race-map/\n",
        "\n",
        "# and input them into a new dictionary ('dict') like so:\n",
        "cumulative_dist = {\n",
        "'Fairbanks'\t: 0,\n",
        "'Nenana'\t: 71,\n",
        "'Manley'\t: 161,\n",
        "'Tanana'\t: 227,\n",
        "'Ruby'\t: 346,\n",
        "'Galena'\t: 396,\n",
        "'Huslia'\t: 478,\n",
        "'Koyukuk'\t: 564,\n",
        "'Nulato'\t: 586,\n",
        "'Kaltag'\t: 633,\n",
        "'Unalakleet'\t: 718,\n",
        "'Shaktoolik'\t: 758,\n",
        "'Koyuk'\t: 808,\n",
        "'Elim'\t: 856,\n",
        "'White Mountain'\t: 902,\n",
        "'Safety'\t: 957,\n",
        "'Nome'\t: 979\n",
        "}\n",
        "\n",
        "# now we can the insert those into the iditarod dataframe using the 'replace()' function like so:\n",
        "iditarod[\"Distance_traveled\"] = iditarod[\"Checkpoint\"].replace(cumulative_dist)\n",
        "\n",
        "# finally lets convert the timestamps into hours elapsed since the the start of the race\n",
        "# we subtract the Arrival time from the race start time and use the .astype() function to report the time difference in hours\n",
        "# I know what you're saying -- this isn't perfectly accurate because they actually do a 2-minute staggered start, but I'll leave that as an exercise for the reader\n",
        "\n",
        "racestart = pd.Timestamp('2017-03-06 11:00:00.00000')\n",
        "iditarod[\"Elapsed_time\"] = (iditarod[\"Arrival_datetime\"] - racestart).astype('timedelta64[h]')\n",
        "\n",
        "# now let's take a look at our new features\n",
        "iditarod.head()"
      ],
      "execution_count": 124,
      "outputs": [
        {
          "output_type": "execute_result",
          "data": {
            "text/html": [
              "<div>\n",
              "<style scoped>\n",
              "    .dataframe tbody tr th:only-of-type {\n",
              "        vertical-align: middle;\n",
              "    }\n",
              "\n",
              "    .dataframe tbody tr th {\n",
              "        vertical-align: top;\n",
              "    }\n",
              "\n",
              "    .dataframe thead th {\n",
              "        text-align: right;\n",
              "    }\n",
              "</style>\n",
              "<table border=\"1\" class=\"dataframe\">\n",
              "  <thead>\n",
              "    <tr style=\"text-align: right;\">\n",
              "      <th></th>\n",
              "      <th>Number</th>\n",
              "      <th>Name</th>\n",
              "      <th>Status</th>\n",
              "      <th>Country</th>\n",
              "      <th>Checkpoint</th>\n",
              "      <th>Latitude</th>\n",
              "      <th>Longitude</th>\n",
              "      <th>Distance</th>\n",
              "      <th>Time</th>\n",
              "      <th>Speed</th>\n",
              "      <th>...</th>\n",
              "      <th>Elapsed Time</th>\n",
              "      <th>Departure Date</th>\n",
              "      <th>Departure Time</th>\n",
              "      <th>Departure Dogs</th>\n",
              "      <th>Arrival_datetime</th>\n",
              "      <th>Cumulative_distance</th>\n",
              "      <th>Cumulative_hours</th>\n",
              "      <th>Distance_traveled</th>\n",
              "      <th>Elapsed_time</th>\n",
              "      <th>Dogs_dropped</th>\n",
              "    </tr>\n",
              "  </thead>\n",
              "  <tbody>\n",
              "    <tr>\n",
              "      <th>72</th>\n",
              "      <td>6</td>\n",
              "      <td>Linwood Fiedler</td>\n",
              "      <td>Veteran</td>\n",
              "      <td>United States</td>\n",
              "      <td>Nenana</td>\n",
              "      <td>64.5952</td>\n",
              "      <td>-149.0897</td>\n",
              "      <td>60.0</td>\n",
              "      <td>5.05</td>\n",
              "      <td>11.88</td>\n",
              "      <td>...</td>\n",
              "      <td>3.93</td>\n",
              "      <td>03/06/2017</td>\n",
              "      <td>20:07:00</td>\n",
              "      <td>16.0</td>\n",
              "      <td>2017-03-06 16:11:00</td>\n",
              "      <td>71</td>\n",
              "      <td>5.0</td>\n",
              "      <td>71</td>\n",
              "      <td>5.0</td>\n",
              "      <td>0.0</td>\n",
              "    </tr>\n",
              "    <tr>\n",
              "      <th>73</th>\n",
              "      <td>5</td>\n",
              "      <td>Cody Strathe</td>\n",
              "      <td>Veteran</td>\n",
              "      <td>United States</td>\n",
              "      <td>Nenana</td>\n",
              "      <td>64.5952</td>\n",
              "      <td>-149.0897</td>\n",
              "      <td>60.0</td>\n",
              "      <td>5.22</td>\n",
              "      <td>11.50</td>\n",
              "      <td>...</td>\n",
              "      <td>0.12</td>\n",
              "      <td>03/06/2017</td>\n",
              "      <td>16:26:00</td>\n",
              "      <td>16.0</td>\n",
              "      <td>2017-03-06 16:19:00</td>\n",
              "      <td>71</td>\n",
              "      <td>5.0</td>\n",
              "      <td>71</td>\n",
              "      <td>5.0</td>\n",
              "      <td>0.0</td>\n",
              "    </tr>\n",
              "    <tr>\n",
              "      <th>74</th>\n",
              "      <td>4</td>\n",
              "      <td>Misha Wiljes</td>\n",
              "      <td>Rookie</td>\n",
              "      <td>Czech Republic</td>\n",
              "      <td>Nenana</td>\n",
              "      <td>64.5952</td>\n",
              "      <td>-149.0897</td>\n",
              "      <td>60.0</td>\n",
              "      <td>5.25</td>\n",
              "      <td>11.43</td>\n",
              "      <td>...</td>\n",
              "      <td>5.93</td>\n",
              "      <td>03/06/2017</td>\n",
              "      <td>22:15:00</td>\n",
              "      <td>15.0</td>\n",
              "      <td>2017-03-06 16:19:00</td>\n",
              "      <td>71</td>\n",
              "      <td>5.0</td>\n",
              "      <td>71</td>\n",
              "      <td>5.0</td>\n",
              "      <td>1.0</td>\n",
              "    </tr>\n",
              "    <tr>\n",
              "      <th>75</th>\n",
              "      <td>9</td>\n",
              "      <td>Michelle Phillips</td>\n",
              "      <td>Veteran</td>\n",
              "      <td>Canada</td>\n",
              "      <td>Nenana</td>\n",
              "      <td>64.5952</td>\n",
              "      <td>-149.0897</td>\n",
              "      <td>60.0</td>\n",
              "      <td>5.18</td>\n",
              "      <td>11.58</td>\n",
              "      <td>...</td>\n",
              "      <td>3.48</td>\n",
              "      <td>03/06/2017</td>\n",
              "      <td>19:54:00</td>\n",
              "      <td>16.0</td>\n",
              "      <td>2017-03-06 16:25:00</td>\n",
              "      <td>71</td>\n",
              "      <td>5.0</td>\n",
              "      <td>71</td>\n",
              "      <td>5.0</td>\n",
              "      <td>0.0</td>\n",
              "    </tr>\n",
              "    <tr>\n",
              "      <th>76</th>\n",
              "      <td>15</td>\n",
              "      <td>Martin Buser</td>\n",
              "      <td>Veteran</td>\n",
              "      <td>United States</td>\n",
              "      <td>Nenana</td>\n",
              "      <td>64.5952</td>\n",
              "      <td>-149.0897</td>\n",
              "      <td>60.0</td>\n",
              "      <td>5.02</td>\n",
              "      <td>11.96</td>\n",
              "      <td>...</td>\n",
              "      <td>0.23</td>\n",
              "      <td>03/06/2017</td>\n",
              "      <td>16:41:00</td>\n",
              "      <td>16.0</td>\n",
              "      <td>2017-03-06 16:27:00</td>\n",
              "      <td>71</td>\n",
              "      <td>5.0</td>\n",
              "      <td>71</td>\n",
              "      <td>5.0</td>\n",
              "      <td>0.0</td>\n",
              "    </tr>\n",
              "  </tbody>\n",
              "</table>\n",
              "<p>5 rows × 23 columns</p>\n",
              "</div>"
            ],
            "text/plain": [
              "    Number               Name   Status         Country Checkpoint  Latitude  \\\n",
              "72       6    Linwood Fiedler  Veteran   United States     Nenana   64.5952   \n",
              "73       5       Cody Strathe  Veteran   United States     Nenana   64.5952   \n",
              "74       4       Misha Wiljes   Rookie  Czech Republic     Nenana   64.5952   \n",
              "75       9  Michelle Phillips  Veteran          Canada     Nenana   64.5952   \n",
              "76      15       Martin Buser  Veteran   United States     Nenana   64.5952   \n",
              "\n",
              "    Longitude  Distance  Time  Speed      ...      Elapsed Time  \\\n",
              "72  -149.0897      60.0  5.05  11.88      ...              3.93   \n",
              "73  -149.0897      60.0  5.22  11.50      ...              0.12   \n",
              "74  -149.0897      60.0  5.25  11.43      ...              5.93   \n",
              "75  -149.0897      60.0  5.18  11.58      ...              3.48   \n",
              "76  -149.0897      60.0  5.02  11.96      ...              0.23   \n",
              "\n",
              "   Departure Date  Departure Time  Departure Dogs    Arrival_datetime  \\\n",
              "72     03/06/2017        20:07:00            16.0 2017-03-06 16:11:00   \n",
              "73     03/06/2017        16:26:00            16.0 2017-03-06 16:19:00   \n",
              "74     03/06/2017        22:15:00            15.0 2017-03-06 16:19:00   \n",
              "75     03/06/2017        19:54:00            16.0 2017-03-06 16:25:00   \n",
              "76     03/06/2017        16:41:00            16.0 2017-03-06 16:27:00   \n",
              "\n",
              "   Cumulative_distance  Cumulative_hours Distance_traveled  Elapsed_time  \\\n",
              "72                  71               5.0                71           5.0   \n",
              "73                  71               5.0                71           5.0   \n",
              "74                  71               5.0                71           5.0   \n",
              "75                  71               5.0                71           5.0   \n",
              "76                  71               5.0                71           5.0   \n",
              "\n",
              "    Dogs_dropped  \n",
              "72           0.0  \n",
              "73           0.0  \n",
              "74           1.0  \n",
              "75           0.0  \n",
              "76           0.0  \n",
              "\n",
              "[5 rows x 23 columns]"
            ]
          },
          "metadata": {
            "tags": []
          },
          "execution_count": 124
        }
      ]
    },
    {
      "metadata": {
        "id": "a-q6XmD9DOjA",
        "colab_type": "text"
      },
      "cell_type": "markdown",
      "source": [
        "Ok, your turn!\n",
        "\n",
        "Fill in the missing details to make a scatter plot of the Elapsed Time as a function of the Distance Traveled"
      ]
    },
    {
      "metadata": {
        "id": "BdMJcJFwATW4",
        "colab_type": "code",
        "colab": {
          "base_uri": "https://localhost:8080/",
          "height": 609
        },
        "outputId": "fa282254-e636-4f54-aad5-15e5a1a8c2b3"
      },
      "cell_type": "code",
      "source": [
        "plt.figure(figsize=(10,10)) #set the figure size in inches\n",
        "plt.scatter(iditarod[\"\"],iditarod[\"\"],color='blue') #make a scatter plot\n",
        "plt.xlabel(\"Distance Traveled\")\n",
        "plt.ylabel(\"Elapsed Time\")\n",
        "plt.show()"
      ],
      "execution_count": 57,
      "outputs": [
        {
          "output_type": "display_data",
          "data": {
            "image/png": "[encoded data removed]",
            "text/plain": [
              "<Figure size 720x720 with 1 Axes>"
            ]
          },
          "metadata": {
            "tags": []
          }
        }
      ]
    },
    {
      "metadata": {
        "id": "aApvHl2MHDNe",
        "colab_type": "text"
      },
      "cell_type": "markdown",
      "source": [
        "## Introducing Training and Testing Sets\n",
        "\n",
        "In Machine Learning, the way we validate how well the machines are learning is by using two subsets of any given dataset: a Train set, and a Test set. Let's say we split the data 80/20 between these subsets, this means we'll use80% of the data to Train our model, and 20% to Test whether our predictions are any good.\n",
        "\n",
        "\n",
        "**Some questions for you:**\n",
        "\n",
        "* Why don't we train on the whole data set?\n",
        "* Wouldn't we get a better model that way?\n",
        "* Think about the answers and we'll come back to it later."
      ]
    },
    {
      "metadata": {
        "id": "1L2Z8NRxIA_Z",
        "colab_type": "text"
      },
      "cell_type": "markdown",
      "source": [
        "First, let's work with the Elapsed Time and Distance Traveled data, and split it into Train and Test sets.\n",
        "\n",
        "We'll use scikit-learn, a simple but powerful machine learning toolkit for python.\n",
        "\n",
        "docs: [train_test_split](https://scikit-learn.org/stable/modules/generated/sklearn.model_selection.train_test_split.html)"
      ]
    },
    {
      "metadata": {
        "id": "MXCGftTFt5tt",
        "colab_type": "code",
        "colab": {}
      },
      "cell_type": "code",
      "source": [
        "import sklearn #import the scikit-learn package\n",
        "from sklearn.model_selection import train_test_split #import the train_test_split function\n",
        "\n",
        "x = iditarod[\"Distance_traveled\"]\n",
        "y = iditarod[\"Elapsed_time\"]\n",
        "\n",
        "# here we tell sklearn to split our data and reserve 20% for the test set\n",
        "# train_test_split automatically shuffles the data before returning the splits\n",
        "x_train, x_test, y_train, y_test = train_test_split(x, y, test_size=0.2) \n",
        "\n",
        "# need to convert data to numpy array and reshape data for input into linear model\n",
        "x_train = np.array(x_train)\n",
        "y_train = np.array(y_train)\n",
        "x_test = np.array(x_test)\n",
        "y_test = np.array(y_test)\n",
        "\n",
        "x_train = x_train.reshape(-1,1)\n",
        "x_test = x_test.reshape(-1,1)"
      ],
      "execution_count": 0,
      "outputs": []
    },
    {
      "metadata": {
        "id": "drCVpaAAZ7CX",
        "colab_type": "text"
      },
      "cell_type": "markdown",
      "source": [
        "## sklearn LinearRegression\n",
        "\n",
        "Now that we've split the data into training and testing sets, let's do some linear regression. We'll use the LinearRegression module from sklearn first."
      ]
    },
    {
      "metadata": {
        "id": "RZJGwk_Hte_B",
        "colab_type": "code",
        "colab": {
          "base_uri": "https://localhost:8080/",
          "height": 198
        },
        "outputId": "0ba10e16-1d9f-4b39-fd8b-7a20880864a5"
      },
      "cell_type": "code",
      "source": [
        "from sklearn.linear_model import LinearRegression # import the LinearRegression module from sklearn\n",
        "from sklearn.metrics import r2_score # import the r2_score module from sklearn\n",
        "\n",
        "clf = LinearRegression() # initiate an object of Class LinearRegression\n",
        "clf.fit(x_train,y_train) # call the fit() function to fit the training data x_train and y_train"
      ],
      "execution_count": 2,
      "outputs": [
        {
          "output_type": "error",
          "ename": "NameError",
          "evalue": "ignored",
          "traceback": [
            "\u001b[0;31m---------------------------------------------------------------------------\u001b[0m",
            "\u001b[0;31mNameError\u001b[0m                                 Traceback (most recent call last)",
            "\u001b[0;32m<ipython-input-2-a18bf25baa78>\u001b[0m in \u001b[0;36m<module>\u001b[0;34m()\u001b[0m\n\u001b[1;32m      3\u001b[0m \u001b[0;34m\u001b[0m\u001b[0m\n\u001b[1;32m      4\u001b[0m \u001b[0mclf\u001b[0m \u001b[0;34m=\u001b[0m \u001b[0mLinearRegression\u001b[0m\u001b[0;34m(\u001b[0m\u001b[0;34m)\u001b[0m \u001b[0;31m# initiate an object of Class LinearRegression\u001b[0m\u001b[0;34m\u001b[0m\u001b[0;34m\u001b[0m\u001b[0m\n\u001b[0;32m----> 5\u001b[0;31m \u001b[0mclf\u001b[0m\u001b[0;34m.\u001b[0m\u001b[0mfit\u001b[0m\u001b[0;34m(\u001b[0m\u001b[0mx_train\u001b[0m\u001b[0;34m,\u001b[0m\u001b[0my_train\u001b[0m\u001b[0;34m)\u001b[0m \u001b[0;31m# call the fit() function to fit the training data x_train and y_train\u001b[0m\u001b[0;34m\u001b[0m\u001b[0;34m\u001b[0m\u001b[0m\n\u001b[0m",
            "\u001b[0;31mNameError\u001b[0m: name 'x_train' is not defined"
          ]
        }
      ]
    },
    {
      "metadata": {
        "id": "5YMSdkc2UbDU",
        "colab_type": "text"
      },
      "cell_type": "markdown",
      "source": [
        "Now that we have a model trained on the training set, we can use it to predict new values.\n",
        "\n",
        "For example, if the Iditarod was 1100 miles long instead of 1000, how many hours would it take the average musher to finish?\n"
      ]
    },
    {
      "metadata": {
        "id": "p502J_nCUdQt",
        "colab_type": "code",
        "colab": {
          "base_uri": "https://localhost:8080/",
          "height": 201
        },
        "outputId": "c3f7b027-1208-48b1-dde2-8fcd564ef0e4"
      },
      "cell_type": "code",
      "source": [
        "y_pred = clf.predict([np.array(1100)]) # we need double brackets because predict() expects an array of arrays\n",
        "print(y_pred[0]) # [0] to access the first value in the y_pred array"
      ],
      "execution_count": 1,
      "outputs": [
        {
          "output_type": "error",
          "ename": "NameError",
          "evalue": "ignored",
          "traceback": [
            "\u001b[0;31m---------------------------------------------------------------------------\u001b[0m",
            "\u001b[0;31mNameError\u001b[0m                                 Traceback (most recent call last)",
            "\u001b[0;32m<ipython-input-1-8d47a2dfaed7>\u001b[0m in \u001b[0;36m<module>\u001b[0;34m()\u001b[0m\n\u001b[0;32m----> 1\u001b[0;31m \u001b[0my_pred\u001b[0m \u001b[0;34m=\u001b[0m \u001b[0mclf\u001b[0m\u001b[0;34m.\u001b[0m\u001b[0mpredict\u001b[0m\u001b[0;34m(\u001b[0m\u001b[0;34m[\u001b[0m\u001b[0mnp\u001b[0m\u001b[0;34m.\u001b[0m\u001b[0marray\u001b[0m\u001b[0;34m(\u001b[0m\u001b[0;36m1100\u001b[0m\u001b[0;34m)\u001b[0m\u001b[0;34m]\u001b[0m\u001b[0;34m)\u001b[0m \u001b[0;31m# we need double brackets because predict() expects an array of arrays\u001b[0m\u001b[0;34m\u001b[0m\u001b[0;34m\u001b[0m\u001b[0m\n\u001b[0m\u001b[1;32m      2\u001b[0m \u001b[0mprint\u001b[0m\u001b[0;34m(\u001b[0m\u001b[0my_pred\u001b[0m\u001b[0;34m[\u001b[0m\u001b[0;36m0\u001b[0m\u001b[0;34m]\u001b[0m\u001b[0;34m)\u001b[0m \u001b[0;31m# [0] to access the first value in the y_pred array\u001b[0m\u001b[0;34m\u001b[0m\u001b[0;34m\u001b[0m\u001b[0m\n",
            "\u001b[0;31mNameError\u001b[0m: name 'clf' is not defined"
          ]
        }
      ]
    },
    {
      "metadata": {
        "id": "vo4Z_uauUlnS",
        "colab_type": "text"
      },
      "cell_type": "markdown",
      "source": [
        "Let's print out the formula for our best fit line using the coefficients found within the 'clf' object"
      ]
    },
    {
      "metadata": {
        "id": "cSHUv9ufOU5Z",
        "colab_type": "code",
        "outputId": "13a0d7ad-69ab-4775-f2b2-c9c2eaa31471",
        "colab": {
          "base_uri": "https://localhost:8080/",
          "height": 51
        }
      },
      "cell_type": "code",
      "source": [
        "# the formula for the best fit line is\n",
        "slope = clf.coef_[0]\n",
        "intercept = clf.intercept_\n",
        "print(\"y = \" + str(slope) + \"x\" + \" + \" + str(intercept)) #str() converts a numeric to a string\n",
        "\n",
        "# get control of those significant figures by printing with nicer formatting\n",
        "print(\"y = %.2fx + %.2f\" % (slope, intercept)) # %.2f says to format a _f_loating-point number to 2 decimal places"
      ],
      "execution_count": 138,
      "outputs": [
        {
          "output_type": "stream",
          "text": [
            "y = 0.2682487215156617x + -15.802236413973844\n",
            "y = 0.27x + -15.80\n"
          ],
          "name": "stdout"
        }
      ]
    },
    {
      "metadata": {
        "id": "LASjK74aQg7C",
        "colab_type": "text"
      },
      "cell_type": "markdown",
      "source": [
        "Now let's plot the best fit line over the training and testing data"
      ]
    },
    {
      "metadata": {
        "id": "t7V6HKM5QgjP",
        "colab_type": "code",
        "colab": {
          "base_uri": "https://localhost:8080/",
          "height": 392
        },
        "outputId": "fbb3b2f0-7878-45fc-efd8-14cb5c01a63f"
      },
      "cell_type": "code",
      "source": [
        "x_fit = np.linspace(0,1000, 50) # linspace(start, stop, num) generates a linearly-spaced numeric array\n",
        "y_fit = slope*x_fit + intercept\n",
        "\n",
        "plt.figure(figsize=(12,6))\n",
        "\n",
        "plt.subplot(1, 2, 1) #subplot(nrows, ncols, index) allows for multiple plots on one page\n",
        "plt.scatter(x_train,y_train,color='red',label='train')\n",
        "plt.plot(x_fit,y_fit,color='black',label = 'prediction')\n",
        "plt.legend()\n",
        "plt.xlabel(\"Distance Traveled\")\n",
        "plt.ylabel(\"Elapsed Time\")\n",
        "\n",
        "plt.subplot(1, 2, 2)\n",
        "plt.scatter(x_test,y_test,color='blue',label='test')\n",
        "plt.plot(x_fit,y_fit,color='black',label = 'prediction')\n",
        "plt.legend()\n",
        "plt.xlabel(\"Distance Traveled\")\n",
        "plt.ylabel(\"Elapsed Time\")\n",
        "\n",
        "plt.show()"
      ],
      "execution_count": 139,
      "outputs": [
        {
          "output_type": "display_data",
          "data": {
            "image/png": "[encoded data removed]",
            "text/plain": [
              "<Figure size 864x432 with 2 Axes>"
            ]
          },
          "metadata": {
            "tags": []
          }
        }
      ]
    },
    {
      "metadata": {
        "id": "SbtAJkcOaf-N",
        "colab_type": "text"
      },
      "cell_type": "markdown",
      "source": [
        "Finally, let's use the Test set to validate how well we did on our predictions.\n",
        "\n",
        "We'll use the R<sup>2</sup> test to do so along with the sklearn predict() function\n"
      ]
    },
    {
      "metadata": {
        "id": "-5CTzFGitnrz",
        "colab_type": "code",
        "colab": {
          "base_uri": "https://localhost:8080/",
          "height": 51
        },
        "outputId": "b67b2ef3-b08e-4104-adac-09ec60f5bb42"
      },
      "cell_type": "code",
      "source": [
        "y_pred = clf.predict(x_test)\n",
        "print('R2 Score:',r2_score(y_test,y_pred))\n",
        "\n",
        "# if we wanted to do the prediction manually we could do it like this\n",
        "y_pred = slope * x_test + intercept\n",
        "print('R2 Score:',r2_score(y_test,y_pred))\n"
      ],
      "execution_count": 155,
      "outputs": [
        {
          "output_type": "stream",
          "text": [
            "R2 Score: 0.9426935278718954\n",
            "R2 Score: 0.9426935278718954\n"
          ],
          "name": "stdout"
        }
      ]
    },
    {
      "metadata": {
        "id": "KXC39Izra2Ia",
        "colab_type": "text"
      },
      "cell_type": "markdown",
      "source": [
        "Not too bad!\n",
        "\n",
        "**Question:** What features might we add to make our predictions better next time?"
      ]
    },
    {
      "metadata": {
        "id": "McnfTUP5a9e4",
        "colab_type": "text"
      },
      "cell_type": "markdown",
      "source": [
        "## Roll-your-own Linear Regression\n",
        "\n",
        "\"Training a machine learning algorithm or a neural network is really just the process of minimizing the cost function\"\n",
        "\n",
        "Let's see how that works under the hood\n",
        "\n",
        "\n",
        "More info:\n",
        "  * [Linear Regression in Python](https://towardsdatascience.com/linear-regression-in-python-9a1f5f000606)\n",
        "  \n",
        "  * [Linear Regression Using Gradient Descent in 10 Lines of Code](https://towardsdatascience.com/linear-regression-using-gradient-descent-in-10-lines-of-code-642f995339c0)\n",
        "  \n",
        "  *  [Linear Regression using Gradient Descent](https://towardsdatascience.com/linear-regression-using-gradient-descent-97a6c8700931)\n",
        "\n",
        "\n"
      ]
    },
    {
      "metadata": {
        "id": "WpVIcmNztk4p",
        "colab_type": "code",
        "colab": {
          "base_uri": "https://localhost:8080/",
          "height": 303
        },
        "outputId": "f3fdb27f-be72-4111-c654-89aecc5ad926"
      },
      "cell_type": "code",
      "source": [
        "## Linear Regression by iterative least squares\n",
        "\n",
        "# let's define a function that implements the gradient descent\n",
        "# def linear_regression(X, y, slope_current=0, intercept_current=0, epochs=1000, learning_rate=0.00001):\n",
        "#      N = float(len(y))\n",
        "#      for i in range(epochs):\n",
        "#           y_current = (slope_current * X) + intercept_current\n",
        "#           error = y - y_current\n",
        "#           cost = np.sum(error**2)/N\n",
        "#           slope_gradient = -(2/N) * np.sum(X * (error))\n",
        "#           intercept_gradient = -(2/N) * np.sum(error)\n",
        "#           slope_current = slope_current - (learning_rate * slope_gradient)\n",
        "#           intercept_current = intercept_current - (learning_rate * intercept_gradient)\n",
        "#           if(i%10 == 0):\n",
        "#             print(cost)      \n",
        "#      return slope_current, intercept_current, cost\n",
        "        \n",
        "# linear_regression(x_train, y_train)\n",
        "# #           cost = sum([data**2 for data in (y-y_current)]) / N\n",
        "\n",
        "X = iditarod[\"Distance_traveled\"].values\n",
        "Y = iditarod[\"Elapsed_time\"].values\n",
        "\n",
        "def linear_regression(X, y, m_current=0, b_current=0, epochs=1000, learning_rate=0.0001):\n",
        "    N = float(len(y))\n",
        "    for i in range(epochs):\n",
        "          y_current = (m_current * X) + b_current\n",
        "          cost = np.sum([data**2 for data in (y - y_current)]) / N\n",
        "          m_gradient = -(2/N) * np.sum(X * (y - y_current))\n",
        "          b_gradient = -(2/N) * np.sum(y - y_current)\n",
        "          m_current = m_current - (learning_rate * m_gradient)\n",
        "          b_current = b_current - (learning_rate * b_gradient)\n",
        "    return m_current, b_current, cost\n",
        "  \n",
        "lg = linear_regression(X, Y, learning_rate=1e-9, epochs=300)\n",
        "print(lg)\n",
        "\n",
        "y_pred = slope * x_test + intercept\n",
        "plt.scatter(x_train,y_train,color=\"red\")\n",
        "plt.scatter(x_test,y_test,color=\"blue\")\n",
        "plt.plot(x_test,y_pred,color='black',label = 'prediction')\n"
      ],
      "execution_count": 276,
      "outputs": [
        {
          "output_type": "stream",
          "text": [
            "(0.05011814603055602, 7.128498070605024e-05, 14928.122847702725)\n"
          ],
          "name": "stdout"
        },
        {
          "output_type": "execute_result",
          "data": {
            "text/plain": [
              "[<matplotlib.lines.Line2D at 0x7f611c725be0>]"
            ]
          },
          "metadata": {
            "tags": []
          },
          "execution_count": 276
        },
        {
          "output_type": "display_data",
          "data": {
            "image/png": "[encoded data removed]",
            "text/plain": [
              "<Figure size 432x288 with 1 Axes>"
            ]
          },
          "metadata": {
            "tags": []
          }
        }
      ]
    },
    {
      "metadata": {
        "id": "-dieD1n2voeq",
        "colab_type": "code",
        "colab": {
          "base_uri": "https://localhost:8080/",
          "height": 303
        },
        "outputId": "b1307a0b-cd73-47cf-905c-542c2252cb63"
      },
      "cell_type": "code",
      "source": [
        "X = iditarod[\"Distance_traveled\"].values\n",
        "Y = iditarod[\"Elapsed_time\"].values\n",
        "\n",
        "m = 0\n",
        "c = 0\n",
        "\n",
        "L = 0.000001  # The learning Rate\n",
        "epochs = 3000  # The number of iterations to perform gradient descent\n",
        "\n",
        "n = float(len(X)) # Number of elements in X\n",
        "\n",
        "# Performing Gradient Descent \n",
        "for i in range(epochs): \n",
        "    Y_pred = m*X + c  # The current predicted value of Y\n",
        "    D_m = (-2/n) * sum(X * (Y - Y_pred))  # Derivative wrt m\n",
        "#     print(D_m)\n",
        "    D_c = (-2/n) * sum(Y - Y_pred)  # Derivative wrt c\n",
        "#     print(D_c)\n",
        "    m = m - L * D_m  # Update m\n",
        "#     print(m)\n",
        "    c = c - L * D_c  # Update c\n",
        "#     print(c)\n",
        "    \n",
        "print (m, c)\n",
        "\n",
        "\n",
        "y_pred = m * X + c\n",
        "plt.scatter(x_train,y_train,color=\"red\")\n",
        "plt.scatter(x_test,y_test,color=\"blue\")\n",
        "plt.plot(X,y_pred,color='black',label = 'prediction')"
      ],
      "execution_count": 275,
      "outputs": [
        {
          "output_type": "stream",
          "text": [
            "0.24573983443355474 -0.01762353001666048\n"
          ],
          "name": "stdout"
        },
        {
          "output_type": "execute_result",
          "data": {
            "text/plain": [
              "[<matplotlib.lines.Line2D at 0x7f611c5ce128>]"
            ]
          },
          "metadata": {
            "tags": []
          },
          "execution_count": 275
        },
        {
          "output_type": "display_data",
          "data": {
            "image/png": "[encoded data removed]",
            "text/plain": [
              "<Figure size 432x288 with 1 Axes>"
            ]
          },
          "metadata": {
            "tags": []
          }
        }
      ]
    },
    {
      "metadata": {
        "id": "7Wqw0oS7wbk3",
        "colab_type": "code",
        "colab": {
          "base_uri": "https://localhost:8080/",
          "height": 34
        },
        "outputId": "48c46e0d-0273-4f64-9d48-e7564b396afa"
      },
      "cell_type": "code",
      "source": [
        "m = 0\n",
        "c = 0\n",
        "\n",
        "L = 0.0001  # The learning Rate\n",
        "epochs = 1000  # The number of iterations to perform gradient descent\n",
        "\n",
        "n = float(len(X)) # Number of elements in X\n",
        "\n",
        "i=1\n",
        "Y_pred = m*X + c  # The current predicted value of Y\n",
        "D_m = (-2/n) * sum(X * (Y - Y_pred))  # Derivative wrt m\n",
        "D_c = (-2/n) * sum(Y - Y_pred)  # Derivative wrt c\n",
        "m = m - L * D_m  # Update m\n",
        "c = c - L * D_c  # Update c\n",
        "\n",
        "print(c)\n"
      ],
      "execution_count": 242,
      "outputs": [
        {
          "output_type": "stream",
          "text": [
            "0.026635493519441673\n"
          ],
          "name": "stdout"
        }
      ]
    },
    {
      "metadata": {
        "id": "UbK8_7eAbl-G",
        "colab_type": "code",
        "colab": {
          "base_uri": "https://localhost:8080/",
          "height": 861
        },
        "outputId": "c02bee91-1618-4eaa-f256-7b452d0dfb2f"
      },
      "cell_type": "code",
      "source": [
        "# plt.subplot(1, 3, 1) #subplot(nrows, ncols, index) allows for multiple plots on one page\n",
        "# plt.scatter(range(len(lg[2])),lg[0])\n",
        "# plt.subplot(1, 3, 2) #subplot(nrows, ncols, index) allows for multiple plots on one page\n",
        "# plt.scatter(range(len(lg[2])),lg[1])\n",
        "# plt.subplot(1, 3, 3) #subplot(nrows, ncols, index) allows for multiple plots on one page\n",
        "# plt.scatter(range(len(lg[2])),lg[2])\n"
      ],
      "execution_count": 212,
      "outputs": [
        {
          "output_type": "error",
          "ename": "ValueError",
          "evalue": "ignored",
          "traceback": [
            "\u001b[0;31m---------------------------------------------------------------------------\u001b[0m",
            "\u001b[0;31mValueError\u001b[0m                                Traceback (most recent call last)",
            "\u001b[0;32m<ipython-input-212-0dbf0e4687e8>\u001b[0m in \u001b[0;36m<module>\u001b[0;34m()\u001b[0m\n\u001b[1;32m      1\u001b[0m \u001b[0mplt\u001b[0m\u001b[0;34m.\u001b[0m\u001b[0msubplot\u001b[0m\u001b[0;34m(\u001b[0m\u001b[0;36m1\u001b[0m\u001b[0;34m,\u001b[0m \u001b[0;36m3\u001b[0m\u001b[0;34m,\u001b[0m \u001b[0;36m1\u001b[0m\u001b[0;34m)\u001b[0m \u001b[0;31m#subplot(nrows, ncols, index) allows for multiple plots on one page\u001b[0m\u001b[0;34m\u001b[0m\u001b[0;34m\u001b[0m\u001b[0m\n\u001b[0;32m----> 2\u001b[0;31m \u001b[0mplt\u001b[0m\u001b[0;34m.\u001b[0m\u001b[0mscatter\u001b[0m\u001b[0;34m(\u001b[0m\u001b[0mrange\u001b[0m\u001b[0;34m(\u001b[0m\u001b[0mlen\u001b[0m\u001b[0;34m(\u001b[0m\u001b[0mlg\u001b[0m\u001b[0;34m[\u001b[0m\u001b[0;36m2\u001b[0m\u001b[0;34m]\u001b[0m\u001b[0;34m)\u001b[0m\u001b[0;34m)\u001b[0m\u001b[0;34m,\u001b[0m\u001b[0mlg\u001b[0m\u001b[0;34m[\u001b[0m\u001b[0;36m0\u001b[0m\u001b[0;34m]\u001b[0m\u001b[0;34m)\u001b[0m\u001b[0;34m\u001b[0m\u001b[0;34m\u001b[0m\u001b[0m\n\u001b[0m\u001b[1;32m      3\u001b[0m \u001b[0mplt\u001b[0m\u001b[0;34m.\u001b[0m\u001b[0msubplot\u001b[0m\u001b[0;34m(\u001b[0m\u001b[0;36m1\u001b[0m\u001b[0;34m,\u001b[0m \u001b[0;36m3\u001b[0m\u001b[0;34m,\u001b[0m \u001b[0;36m2\u001b[0m\u001b[0;34m)\u001b[0m \u001b[0;31m#subplot(nrows, ncols, index) allows for multiple plots on one page\u001b[0m\u001b[0;34m\u001b[0m\u001b[0;34m\u001b[0m\u001b[0m\n\u001b[1;32m      4\u001b[0m \u001b[0mplt\u001b[0m\u001b[0;34m.\u001b[0m\u001b[0mscatter\u001b[0m\u001b[0;34m(\u001b[0m\u001b[0mrange\u001b[0m\u001b[0;34m(\u001b[0m\u001b[0mlen\u001b[0m\u001b[0;34m(\u001b[0m\u001b[0mlg\u001b[0m\u001b[0;34m[\u001b[0m\u001b[0;36m2\u001b[0m\u001b[0;34m]\u001b[0m\u001b[0;34m)\u001b[0m\u001b[0;34m)\u001b[0m\u001b[0;34m,\u001b[0m\u001b[0mlg\u001b[0m\u001b[0;34m[\u001b[0m\u001b[0;36m1\u001b[0m\u001b[0;34m]\u001b[0m\u001b[0;34m)\u001b[0m\u001b[0;34m\u001b[0m\u001b[0;34m\u001b[0m\u001b[0m\n\u001b[1;32m      5\u001b[0m \u001b[0mplt\u001b[0m\u001b[0;34m.\u001b[0m\u001b[0msubplot\u001b[0m\u001b[0;34m(\u001b[0m\u001b[0;36m1\u001b[0m\u001b[0;34m,\u001b[0m \u001b[0;36m3\u001b[0m\u001b[0;34m,\u001b[0m \u001b[0;36m3\u001b[0m\u001b[0;34m)\u001b[0m \u001b[0;31m#subplot(nrows, ncols, index) allows for multiple plots on one page\u001b[0m\u001b[0;34m\u001b[0m\u001b[0;34m\u001b[0m\u001b[0m\n",
            "\u001b[0;32m/usr/local/lib/python3.6/dist-packages/matplotlib/pyplot.py\u001b[0m in \u001b[0;36mscatter\u001b[0;34m(x, y, s, c, marker, cmap, norm, vmin, vmax, alpha, linewidths, verts, edgecolors, data, **kwargs)\u001b[0m\n\u001b[1;32m   2860\u001b[0m         \u001b[0mvmin\u001b[0m\u001b[0;34m=\u001b[0m\u001b[0mvmin\u001b[0m\u001b[0;34m,\u001b[0m \u001b[0mvmax\u001b[0m\u001b[0;34m=\u001b[0m\u001b[0mvmax\u001b[0m\u001b[0;34m,\u001b[0m \u001b[0malpha\u001b[0m\u001b[0;34m=\u001b[0m\u001b[0malpha\u001b[0m\u001b[0;34m,\u001b[0m \u001b[0mlinewidths\u001b[0m\u001b[0;34m=\u001b[0m\u001b[0mlinewidths\u001b[0m\u001b[0;34m,\u001b[0m\u001b[0;34m\u001b[0m\u001b[0;34m\u001b[0m\u001b[0m\n\u001b[1;32m   2861\u001b[0m         verts=verts, edgecolors=edgecolors, **({\"data\": data} if data\n\u001b[0;32m-> 2862\u001b[0;31m         is not None else {}), **kwargs)\n\u001b[0m\u001b[1;32m   2863\u001b[0m     \u001b[0msci\u001b[0m\u001b[0;34m(\u001b[0m\u001b[0m__ret\u001b[0m\u001b[0;34m)\u001b[0m\u001b[0;34m\u001b[0m\u001b[0;34m\u001b[0m\u001b[0m\n\u001b[1;32m   2864\u001b[0m     \u001b[0;32mreturn\u001b[0m \u001b[0m__ret\u001b[0m\u001b[0;34m\u001b[0m\u001b[0;34m\u001b[0m\u001b[0m\n",
            "\u001b[0;32m/usr/local/lib/python3.6/dist-packages/matplotlib/__init__.py\u001b[0m in \u001b[0;36minner\u001b[0;34m(ax, data, *args, **kwargs)\u001b[0m\n\u001b[1;32m   1808\u001b[0m                         \u001b[0;34m\"the Matplotlib list!)\"\u001b[0m \u001b[0;34m%\u001b[0m \u001b[0;34m(\u001b[0m\u001b[0mlabel_namer\u001b[0m\u001b[0;34m,\u001b[0m \u001b[0mfunc\u001b[0m\u001b[0;34m.\u001b[0m\u001b[0m__name__\u001b[0m\u001b[0;34m)\u001b[0m\u001b[0;34m,\u001b[0m\u001b[0;34m\u001b[0m\u001b[0;34m\u001b[0m\u001b[0m\n\u001b[1;32m   1809\u001b[0m                         RuntimeWarning, stacklevel=2)\n\u001b[0;32m-> 1810\u001b[0;31m             \u001b[0;32mreturn\u001b[0m \u001b[0mfunc\u001b[0m\u001b[0;34m(\u001b[0m\u001b[0max\u001b[0m\u001b[0;34m,\u001b[0m \u001b[0;34m*\u001b[0m\u001b[0margs\u001b[0m\u001b[0;34m,\u001b[0m \u001b[0;34m**\u001b[0m\u001b[0mkwargs\u001b[0m\u001b[0;34m)\u001b[0m\u001b[0;34m\u001b[0m\u001b[0;34m\u001b[0m\u001b[0m\n\u001b[0m\u001b[1;32m   1811\u001b[0m \u001b[0;34m\u001b[0m\u001b[0m\n\u001b[1;32m   1812\u001b[0m         inner.__doc__ = _add_data_doc(inner.__doc__,\n",
            "\u001b[0;32m/usr/local/lib/python3.6/dist-packages/matplotlib/axes/_axes.py\u001b[0m in \u001b[0;36mscatter\u001b[0;34m(self, x, y, s, c, marker, cmap, norm, vmin, vmax, alpha, linewidths, verts, edgecolors, **kwargs)\u001b[0m\n\u001b[1;32m   4180\u001b[0m         \u001b[0my\u001b[0m \u001b[0;34m=\u001b[0m \u001b[0mnp\u001b[0m\u001b[0;34m.\u001b[0m\u001b[0mma\u001b[0m\u001b[0;34m.\u001b[0m\u001b[0mravel\u001b[0m\u001b[0;34m(\u001b[0m\u001b[0my\u001b[0m\u001b[0;34m)\u001b[0m\u001b[0;34m\u001b[0m\u001b[0;34m\u001b[0m\u001b[0m\n\u001b[1;32m   4181\u001b[0m         \u001b[0;32mif\u001b[0m \u001b[0mx\u001b[0m\u001b[0;34m.\u001b[0m\u001b[0msize\u001b[0m \u001b[0;34m!=\u001b[0m \u001b[0my\u001b[0m\u001b[0;34m.\u001b[0m\u001b[0msize\u001b[0m\u001b[0;34m:\u001b[0m\u001b[0;34m\u001b[0m\u001b[0;34m\u001b[0m\u001b[0m\n\u001b[0;32m-> 4182\u001b[0;31m             \u001b[0;32mraise\u001b[0m \u001b[0mValueError\u001b[0m\u001b[0;34m(\u001b[0m\u001b[0;34m\"x and y must be the same size\"\u001b[0m\u001b[0;34m)\u001b[0m\u001b[0;34m\u001b[0m\u001b[0;34m\u001b[0m\u001b[0m\n\u001b[0m\u001b[1;32m   4183\u001b[0m \u001b[0;34m\u001b[0m\u001b[0m\n\u001b[1;32m   4184\u001b[0m         \u001b[0;32mif\u001b[0m \u001b[0ms\u001b[0m \u001b[0;32mis\u001b[0m \u001b[0;32mNone\u001b[0m\u001b[0;34m:\u001b[0m\u001b[0;34m\u001b[0m\u001b[0;34m\u001b[0m\u001b[0m\n",
            "\u001b[0;31mValueError\u001b[0m: x and y must be the same size"
          ]
        },
        {
          "output_type": "display_data",
          "data": {
            "image/png": "[encoded data removed]",
            "text/plain": [
              "<Figure size 432x288 with 1 Axes>"
            ]
          },
          "metadata": {
            "tags": []
          }
        }
      ]
    },
    {
      "metadata": {
        "id": "6pwcS8EnhVoZ",
        "colab_type": "code",
        "colab": {}
      },
      "cell_type": "code",
      "source": [
        "# For simple linear regression it's possible to calculate the coefficients exactly\n",
        "# but that's not always possible\n",
        "\n",
        "# https://mubaris.com/posts/linear-regression/\n",
        "# https://www.cs.toronto.edu/~frossard/post/linear_regression/\n",
        "\n",
        "# Mean X and Y\n",
        "mean_x = np.mean(X)\n",
        "mean_y = np.mean(Y)\n",
        "\n",
        "# Total number of values\n",
        "m = len(X)\n",
        "\n",
        "# Using the formula to calculate b1 and b2\n",
        "numer = 0\n",
        "denom = 0\n",
        "for i in range(m):\n",
        "    numer += (X[i] - mean_x) * (Y[i] - mean_y)\n",
        "    denom += (X[i] - mean_x) ** 2\n",
        "b1 = numer / denom\n",
        "b0 = mean_y - (b1 * mean_x)\n",
        "\n",
        "# Print coefficients\n",
        "print(b1, b0)"
      ],
      "execution_count": 0,
      "outputs": []
    }
  ]
}