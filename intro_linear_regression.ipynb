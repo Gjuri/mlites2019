{
  "nbformat": 4,
  "nbformat_minor": 0,
  "metadata": {
    "colab": {
      "name": "intro-linear-regression.ipynb",
      "version": "0.3.2",
      "provenance": [],
      "include_colab_link": true
    },
    "kernelspec": {
      "name": "python3",
      "display_name": "Python 3"
    }
  },
  "cells": [
    {
      "cell_type": "markdown",
      "metadata": {
        "id": "view-in-github",
        "colab_type": "text"
      },
      "source": [
        "<a href=\"https://colab.research.google.com/github/mlites/mlites2019/blob/master/intro_linear_regression.ipynb\" target=\"_parent\"><img src=\"https://colab.research.google.com/assets/colab-badge.svg\" alt=\"Open In Colab\"/></a>"
      ]
    },
    {
      "metadata": {
        "id": "7YzKFlBhrNw7",
        "colab_type": "text"
      },
      "cell_type": "markdown",
      "source": [
        "# Introduction to Linear Regression and Gradient Descent\n",
        "\n",
        "Hello! In this exercise we'll peek behind the scenes at the deceptively simple linear regression algoritm by implementing a gradient descent algorithm\n",
        "\n",
        "Along the way we'll learn to do some data manipulation in python using Pandas and NumPy, and learn how to separate our data into Training and Test sets for validation.\n",
        "\n",
        "If you haven't already, make sure you run intro_kaggle.ipynb to download the necessary datasets\n",
        "\n",
        "\n",
        "More background on linear regression\n",
        "* [Introduction to Machine Learning Algorithms: Linear Regression](https://towardsdatascience.com/introduction-to-machine-learning-algorithms-linear-regression-14c4e325882a)\n"
      ]
    },
    {
      "metadata": {
        "id": "HiNCUqcAs-Ci",
        "colab_type": "text"
      },
      "cell_type": "markdown",
      "source": [
        "## Outline\n",
        "\n",
        "1. import necessary packages\n",
        "2. Load Iditarod data\n",
        "3. "
      ]
    },
    {
      "metadata": {
        "id": "bpUxrh72gEvo",
        "colab_type": "code",
        "colab": {}
      },
      "cell_type": "code",
      "source": [
        "import pandas as pd #import Pandas under the shortcut 'pd'\n",
        "import numpy as np #import NumPy; NumPy is the fundamental package for scientific computing with Python\n",
        "import matplotlib.pyplot as plt #MatPlotLib is a plotting library"
      ],
      "execution_count": 0,
      "outputs": []
    },
    {
      "metadata": {
        "id": "nyu1CYGKtypu",
        "colab_type": "code",
        "colab": {
          "base_uri": "https://localhost:8080/",
          "height": 326
        },
        "outputId": "5b57ebcf-db43-4411-a268-a6c69351efeb"
      },
      "cell_type": "code",
      "source": [
        "# first lets load the Iditarod data into a pandas dataframe in a variable called 'iditarod'\n",
        "\n",
        "iditarod = pd.read_csv(\"iditarod.csv\")\n",
        "iditarod.tail()"
      ],
      "execution_count": 31,
      "outputs": [
        {
          "output_type": "execute_result",
          "data": {
            "text/html": [
              "<div>\n",
              "<style scoped>\n",
              "    .dataframe tbody tr th:only-of-type {\n",
              "        vertical-align: middle;\n",
              "    }\n",
              "\n",
              "    .dataframe tbody tr th {\n",
              "        vertical-align: top;\n",
              "    }\n",
              "\n",
              "    .dataframe thead th {\n",
              "        text-align: right;\n",
              "    }\n",
              "</style>\n",
              "<table border=\"1\" class=\"dataframe\">\n",
              "  <thead>\n",
              "    <tr style=\"text-align: right;\">\n",
              "      <th></th>\n",
              "      <th>Number</th>\n",
              "      <th>Name</th>\n",
              "      <th>Status</th>\n",
              "      <th>Country</th>\n",
              "      <th>Checkpoint</th>\n",
              "      <th>Latitude</th>\n",
              "      <th>Longitude</th>\n",
              "      <th>Distance</th>\n",
              "      <th>Time</th>\n",
              "      <th>Speed</th>\n",
              "      <th>Arrival Date</th>\n",
              "      <th>Arrival Time</th>\n",
              "      <th>Arrival Dogs</th>\n",
              "      <th>Elapsed Time</th>\n",
              "      <th>Departure Date</th>\n",
              "      <th>Departure Time</th>\n",
              "      <th>Departure Dogs</th>\n",
              "    </tr>\n",
              "  </thead>\n",
              "  <tbody>\n",
              "    <tr>\n",
              "      <th>1141</th>\n",
              "      <td>43</td>\n",
              "      <td>Jimmy Lebling</td>\n",
              "      <td>Rookie</td>\n",
              "      <td>United States</td>\n",
              "      <td>Nome</td>\n",
              "      <td>64.4964</td>\n",
              "      <td>-165.3996</td>\n",
              "      <td>22.0</td>\n",
              "      <td>2.95</td>\n",
              "      <td>7.46</td>\n",
              "      <td>03/18/2017</td>\n",
              "      <td>12:19:06</td>\n",
              "      <td>12.0</td>\n",
              "      <td>0.0</td>\n",
              "      <td>NaN</td>\n",
              "      <td>NaN</td>\n",
              "      <td>NaN</td>\n",
              "    </tr>\n",
              "    <tr>\n",
              "      <th>1142</th>\n",
              "      <td>47</td>\n",
              "      <td>Paul Hansen</td>\n",
              "      <td>Rookie</td>\n",
              "      <td>United States</td>\n",
              "      <td>Nome</td>\n",
              "      <td>64.4964</td>\n",
              "      <td>-165.3996</td>\n",
              "      <td>22.0</td>\n",
              "      <td>3.07</td>\n",
              "      <td>7.17</td>\n",
              "      <td>03/18/2017</td>\n",
              "      <td>14:19:11</td>\n",
              "      <td>12.0</td>\n",
              "      <td>0.0</td>\n",
              "      <td>NaN</td>\n",
              "      <td>NaN</td>\n",
              "      <td>NaN</td>\n",
              "    </tr>\n",
              "    <tr>\n",
              "      <th>1143</th>\n",
              "      <td>35</td>\n",
              "      <td>Alan Eischens</td>\n",
              "      <td>Veteran</td>\n",
              "      <td>United States</td>\n",
              "      <td>Nome</td>\n",
              "      <td>64.4964</td>\n",
              "      <td>-165.3996</td>\n",
              "      <td>22.0</td>\n",
              "      <td>3.50</td>\n",
              "      <td>6.29</td>\n",
              "      <td>03/18/2017</td>\n",
              "      <td>14:39:46</td>\n",
              "      <td>16.0</td>\n",
              "      <td>0.0</td>\n",
              "      <td>NaN</td>\n",
              "      <td>NaN</td>\n",
              "      <td>NaN</td>\n",
              "    </tr>\n",
              "    <tr>\n",
              "      <th>1144</th>\n",
              "      <td>53</td>\n",
              "      <td>Peter Reuter</td>\n",
              "      <td>Rookie</td>\n",
              "      <td>United States</td>\n",
              "      <td>Nome</td>\n",
              "      <td>64.4964</td>\n",
              "      <td>-165.3996</td>\n",
              "      <td>22.0</td>\n",
              "      <td>3.60</td>\n",
              "      <td>6.11</td>\n",
              "      <td>03/18/2017</td>\n",
              "      <td>14:45:38</td>\n",
              "      <td>9.0</td>\n",
              "      <td>0.0</td>\n",
              "      <td>NaN</td>\n",
              "      <td>NaN</td>\n",
              "      <td>NaN</td>\n",
              "    </tr>\n",
              "    <tr>\n",
              "      <th>1145</th>\n",
              "      <td>31</td>\n",
              "      <td>Cindy Abbott</td>\n",
              "      <td>Veteran</td>\n",
              "      <td>United States</td>\n",
              "      <td>Nome</td>\n",
              "      <td>64.4964</td>\n",
              "      <td>-165.3996</td>\n",
              "      <td>22.0</td>\n",
              "      <td>3.07</td>\n",
              "      <td>7.17</td>\n",
              "      <td>03/18/2017</td>\n",
              "      <td>14:57:31</td>\n",
              "      <td>12.0</td>\n",
              "      <td>0.0</td>\n",
              "      <td>NaN</td>\n",
              "      <td>NaN</td>\n",
              "      <td>NaN</td>\n",
              "    </tr>\n",
              "  </tbody>\n",
              "</table>\n",
              "</div>"
            ],
            "text/plain": [
              "      Number           Name   Status        Country Checkpoint  Latitude  \\\n",
              "1141      43  Jimmy Lebling   Rookie  United States       Nome   64.4964   \n",
              "1142      47    Paul Hansen   Rookie  United States       Nome   64.4964   \n",
              "1143      35  Alan Eischens  Veteran  United States       Nome   64.4964   \n",
              "1144      53   Peter Reuter   Rookie  United States       Nome   64.4964   \n",
              "1145      31   Cindy Abbott  Veteran  United States       Nome   64.4964   \n",
              "\n",
              "      Longitude  Distance  Time  Speed Arrival Date Arrival Time  \\\n",
              "1141  -165.3996      22.0  2.95   7.46   03/18/2017     12:19:06   \n",
              "1142  -165.3996      22.0  3.07   7.17   03/18/2017     14:19:11   \n",
              "1143  -165.3996      22.0  3.50   6.29   03/18/2017     14:39:46   \n",
              "1144  -165.3996      22.0  3.60   6.11   03/18/2017     14:45:38   \n",
              "1145  -165.3996      22.0  3.07   7.17   03/18/2017     14:57:31   \n",
              "\n",
              "      Arrival Dogs  Elapsed Time Departure Date Departure Time  Departure Dogs  \n",
              "1141          12.0           0.0            NaN            NaN             NaN  \n",
              "1142          12.0           0.0            NaN            NaN             NaN  \n",
              "1143          16.0           0.0            NaN            NaN             NaN  \n",
              "1144           9.0           0.0            NaN            NaN             NaN  \n",
              "1145          12.0           0.0            NaN            NaN             NaN  "
            ]
          },
          "metadata": {
            "tags": []
          },
          "execution_count": 31
        }
      ]
    },
    {
      "metadata": {
        "id": "HP1WAYeruSD0",
        "colab_type": "text"
      },
      "cell_type": "markdown",
      "source": [
        "Here we can see there is a bunch of data here about each musher, like when they arrived at each checkpoint, how long it took, what their speed was, and how many dogs they checked in or out\n",
        "\n",
        "Let's explore the data a bit to see what it looks like. Say we're interested in how the number of dogs on the team affects the speed, we can plot that using the MatPlotLib library."
      ]
    },
    {
      "metadata": {
        "id": "p8VbufoWuunJ",
        "colab_type": "code",
        "colab": {
          "base_uri": "https://localhost:8080/",
          "height": 609
        },
        "outputId": "455d71ff-f5de-4eab-843b-03d4680185d8"
      },
      "cell_type": "code",
      "source": [
        "plt.figure(figsize=(10,10)) #set the figure size in inches\n",
        "plt.scatter(iditarod[\"Arrival Dogs\"],iditarod[\"Speed\"],color='blue') # the scatter command make a scatter plot\n",
        "plt.xlabel(\"Number of dogs\")\n",
        "plt.ylabel(\"Speed (mph)\")\n",
        "plt.show()"
      ],
      "execution_count": 11,
      "outputs": [
        {
          "output_type": "display_data",
          "data": {
            "image/png": "[encoded data removed]",
            "text/plain": [
              "<Figure size 720x720 with 1 Axes>"
            ]
          },
          "metadata": {
            "tags": []
          }
        }
      ]
    },
    {
      "metadata": {
        "id": "qUq0xjo8v3Uk",
        "colab_type": "text"
      },
      "cell_type": "markdown",
      "source": [
        "What do you think, is there a trend?\n",
        "\n",
        "Do mushers go faster when they have more dogs?\n",
        "\n",
        "What other factors might affect their speed?\n",
        "\n",
        "Let's the Date and Time into a single object, Datetime"
      ]
    },
    {
      "metadata": {
        "id": "wcBdzJf9xBXi",
        "colab_type": "code",
        "colab": {
          "base_uri": "https://localhost:8080/",
          "height": 609
        },
        "outputId": "dc3c3f86-b63a-4515-cbbb-a6e58e634eb7"
      },
      "cell_type": "code",
      "source": [
        "\n",
        "#let's drop values that have NA or NaN's\n",
        "iditarod = iditarod.dropna()\n",
        "\n",
        "#then convert the timestamps into a machine-readable timestamps\n",
        "\n",
        "# import the datetime module\n",
        "from datetime import datetime\n",
        "\n",
        "# and get the Date and Time into a new dataframe\n",
        "\n",
        "dt = iditarod.loc[:, ['Arrival Date', 'Arrival Time']] # : means 'all rows'\n",
        "\n",
        "# this applies an anonymouse function ('lambda') to each row (axis=1) of the new dataframe\n",
        "# that concatenates the Date and Time and converts them into a special 'datetime' object\n",
        "# this then gets saved back into the iditarod dataframe\n",
        "\n",
        "iditarod['Arrival_datetime'] = dt.apply(lambda x: datetime.strptime(x[0]+'/'+x[1], '%m/%d/%Y/%H:%M:%S'), axis=1)\n",
        "\n",
        "# another way to make datetime objects in pandas\n",
        "# iditarod[\"Arrival Time\"] = pd.DatetimeIndex(iditarod[\"Arrival Time\"],dtype='datetime64[ns]')\n",
        "# iditarod[\"Departure Time\"] = pd.DatetimeIndex(iditarod[\"Departure Time\"],dtype='datetime64[ns]')\n",
        "\n",
        "# now we can plot the number of Dogs as a function of the Datetime\n",
        "# plot_data is a matplotlib command to use when you're plotting a date or time\n",
        "plt.figure(figsize=(10,10)) #set the figure size in inches\n",
        "plt.plot_date(iditarod[\"Arrival_datetime\"],iditarod[\"Arrival Dogs\"],color='blue') #make a scatter plot\n",
        "plt.xlabel(\"Time\")\n",
        "plt.ylabel(\"Dogs\")\n",
        "plt.show()\n"
      ],
      "execution_count": 38,
      "outputs": [
        {
          "output_type": "display_data",
          "data": {
            "image/png": "[encoded data removed]",
            "text/plain": [
              "<Figure size 720x720 with 1 Axes>"
            ]
          },
          "metadata": {
            "tags": []
          }
        }
      ]
    },
    {
      "metadata": {
        "id": "soMC-duB8yGY",
        "colab_type": "text"
      },
      "cell_type": "markdown",
      "source": [
        "Is there a trend here?\n",
        "\n",
        "It kind of looks like it, but how can we tell for sure?\n",
        "\n",
        "Let's look at one more example."
      ]
    },
    {
      "metadata": {
        "id": "gvA-Waw16bLh",
        "colab_type": "code",
        "colab": {
          "base_uri": "https://localhost:8080/",
          "height": 355
        },
        "outputId": "d37b1f3f-0d18-48d2-9882-17387fffc8e2"
      },
      "cell_type": "code",
      "source": [
        "# it might be nice to know the cumulative time and distance traveleled to each checkpoint\n",
        "\n",
        "# we can find the unique checkpoints like this:\n",
        "iditarod[\"Checkpoint\"].unique()\n",
        "\n",
        "# then from the Iditarod website we can find the cumulative distances\n",
        "# https://iditarod.com/race-map/\n",
        "\n",
        "# and input them into a new dictionary like so:\n",
        "cumulative_dist = {\n",
        "'Fairbanks'\t: 0,\n",
        "'Nenana'\t: 71,\n",
        "'Manley'\t: 161,\n",
        "'Tanana'\t: 227,\n",
        "'Ruby'\t: 346,\n",
        "'Galena'\t: 396,\n",
        "'Huslia'\t: 478,\n",
        "'Koyukuk'\t: 564,\n",
        "'Nulato'\t: 586,\n",
        "'Kaltag'\t: 633,\n",
        "'Unalakleet'\t: 718,\n",
        "'Shaktoolik'\t: 758,\n",
        "'Koyuk'\t: 808,\n",
        "'Elim'\t: 856,\n",
        "'White Mountain'\t: 902,\n",
        "'Safety'\t: 957,\n",
        "'Nome'\t: 979\n",
        "}\n",
        "\n",
        "# now we can the insert those into the iditarod dataframe using the 'replace' function like so:\n",
        "iditarod[\"Cumulative_distance\"] = iditarod[\"Checkpoint\"].replace(cumulative_dist)\n",
        "\n",
        "# finally lets convert the timestamps into hours elapsed since the the start of the race\n",
        "# the .astype() function reports the time difference in hours\n",
        "racestart = pd.Timestamp('2017-03-06 12:00:00.00000')\n",
        "iditarod[\"Cumulative_hours\"] = (iditarod[\"Arrival_datetime\"]-racestart).astype('timedelta64[h]')\n",
        "\n",
        "# now let's take a look at our new features\n",
        "iditarod.head()"
      ],
      "execution_count": 48,
      "outputs": [
        {
          "output_type": "execute_result",
          "data": {
            "text/html": [
              "<div>\n",
              "<style scoped>\n",
              "    .dataframe tbody tr th:only-of-type {\n",
              "        vertical-align: middle;\n",
              "    }\n",
              "\n",
              "    .dataframe tbody tr th {\n",
              "        vertical-align: top;\n",
              "    }\n",
              "\n",
              "    .dataframe thead th {\n",
              "        text-align: right;\n",
              "    }\n",
              "</style>\n",
              "<table border=\"1\" class=\"dataframe\">\n",
              "  <thead>\n",
              "    <tr style=\"text-align: right;\">\n",
              "      <th></th>\n",
              "      <th>Number</th>\n",
              "      <th>Name</th>\n",
              "      <th>Status</th>\n",
              "      <th>Country</th>\n",
              "      <th>Checkpoint</th>\n",
              "      <th>Latitude</th>\n",
              "      <th>Longitude</th>\n",
              "      <th>Distance</th>\n",
              "      <th>Time</th>\n",
              "      <th>Speed</th>\n",
              "      <th>...</th>\n",
              "      <th>Arrival Time</th>\n",
              "      <th>Arrival Dogs</th>\n",
              "      <th>Elapsed Time</th>\n",
              "      <th>Departure Date</th>\n",
              "      <th>Departure Time</th>\n",
              "      <th>Departure Dogs</th>\n",
              "      <th>Arrival_datetime</th>\n",
              "      <th>Cumulative</th>\n",
              "      <th>Cumulative_distance</th>\n",
              "      <th>Cumulative_hours</th>\n",
              "    </tr>\n",
              "  </thead>\n",
              "  <tbody>\n",
              "    <tr>\n",
              "      <th>72</th>\n",
              "      <td>6</td>\n",
              "      <td>Linwood Fiedler</td>\n",
              "      <td>Veteran</td>\n",
              "      <td>United States</td>\n",
              "      <td>Nenana</td>\n",
              "      <td>64.5952</td>\n",
              "      <td>-149.0897</td>\n",
              "      <td>60.0</td>\n",
              "      <td>5.05</td>\n",
              "      <td>11.88</td>\n",
              "      <td>...</td>\n",
              "      <td>16:11:00</td>\n",
              "      <td>16.0</td>\n",
              "      <td>3.93</td>\n",
              "      <td>03/06/2017</td>\n",
              "      <td>20:07:00</td>\n",
              "      <td>16.0</td>\n",
              "      <td>2017-03-06 16:11:00</td>\n",
              "      <td>71</td>\n",
              "      <td>71</td>\n",
              "      <td>4.0</td>\n",
              "    </tr>\n",
              "    <tr>\n",
              "      <th>73</th>\n",
              "      <td>5</td>\n",
              "      <td>Cody Strathe</td>\n",
              "      <td>Veteran</td>\n",
              "      <td>United States</td>\n",
              "      <td>Nenana</td>\n",
              "      <td>64.5952</td>\n",
              "      <td>-149.0897</td>\n",
              "      <td>60.0</td>\n",
              "      <td>5.22</td>\n",
              "      <td>11.50</td>\n",
              "      <td>...</td>\n",
              "      <td>16:19:00</td>\n",
              "      <td>16.0</td>\n",
              "      <td>0.12</td>\n",
              "      <td>03/06/2017</td>\n",
              "      <td>16:26:00</td>\n",
              "      <td>16.0</td>\n",
              "      <td>2017-03-06 16:19:00</td>\n",
              "      <td>71</td>\n",
              "      <td>71</td>\n",
              "      <td>4.0</td>\n",
              "    </tr>\n",
              "    <tr>\n",
              "      <th>74</th>\n",
              "      <td>4</td>\n",
              "      <td>Misha Wiljes</td>\n",
              "      <td>Rookie</td>\n",
              "      <td>Czech Republic</td>\n",
              "      <td>Nenana</td>\n",
              "      <td>64.5952</td>\n",
              "      <td>-149.0897</td>\n",
              "      <td>60.0</td>\n",
              "      <td>5.25</td>\n",
              "      <td>11.43</td>\n",
              "      <td>...</td>\n",
              "      <td>16:19:00</td>\n",
              "      <td>15.0</td>\n",
              "      <td>5.93</td>\n",
              "      <td>03/06/2017</td>\n",
              "      <td>22:15:00</td>\n",
              "      <td>15.0</td>\n",
              "      <td>2017-03-06 16:19:00</td>\n",
              "      <td>71</td>\n",
              "      <td>71</td>\n",
              "      <td>4.0</td>\n",
              "    </tr>\n",
              "    <tr>\n",
              "      <th>75</th>\n",
              "      <td>9</td>\n",
              "      <td>Michelle Phillips</td>\n",
              "      <td>Veteran</td>\n",
              "      <td>Canada</td>\n",
              "      <td>Nenana</td>\n",
              "      <td>64.5952</td>\n",
              "      <td>-149.0897</td>\n",
              "      <td>60.0</td>\n",
              "      <td>5.18</td>\n",
              "      <td>11.58</td>\n",
              "      <td>...</td>\n",
              "      <td>16:25:00</td>\n",
              "      <td>16.0</td>\n",
              "      <td>3.48</td>\n",
              "      <td>03/06/2017</td>\n",
              "      <td>19:54:00</td>\n",
              "      <td>16.0</td>\n",
              "      <td>2017-03-06 16:25:00</td>\n",
              "      <td>71</td>\n",
              "      <td>71</td>\n",
              "      <td>4.0</td>\n",
              "    </tr>\n",
              "    <tr>\n",
              "      <th>76</th>\n",
              "      <td>15</td>\n",
              "      <td>Martin Buser</td>\n",
              "      <td>Veteran</td>\n",
              "      <td>United States</td>\n",
              "      <td>Nenana</td>\n",
              "      <td>64.5952</td>\n",
              "      <td>-149.0897</td>\n",
              "      <td>60.0</td>\n",
              "      <td>5.02</td>\n",
              "      <td>11.96</td>\n",
              "      <td>...</td>\n",
              "      <td>16:27:00</td>\n",
              "      <td>16.0</td>\n",
              "      <td>0.23</td>\n",
              "      <td>03/06/2017</td>\n",
              "      <td>16:41:00</td>\n",
              "      <td>16.0</td>\n",
              "      <td>2017-03-06 16:27:00</td>\n",
              "      <td>71</td>\n",
              "      <td>71</td>\n",
              "      <td>4.0</td>\n",
              "    </tr>\n",
              "  </tbody>\n",
              "</table>\n",
              "<p>5 rows × 21 columns</p>\n",
              "</div>"
            ],
            "text/plain": [
              "    Number               Name   Status         Country Checkpoint  Latitude  \\\n",
              "72       6    Linwood Fiedler  Veteran   United States     Nenana   64.5952   \n",
              "73       5       Cody Strathe  Veteran   United States     Nenana   64.5952   \n",
              "74       4       Misha Wiljes   Rookie  Czech Republic     Nenana   64.5952   \n",
              "75       9  Michelle Phillips  Veteran          Canada     Nenana   64.5952   \n",
              "76      15       Martin Buser  Veteran   United States     Nenana   64.5952   \n",
              "\n",
              "    Longitude  Distance  Time  Speed        ...        Arrival Time  \\\n",
              "72  -149.0897      60.0  5.05  11.88        ...            16:11:00   \n",
              "73  -149.0897      60.0  5.22  11.50        ...            16:19:00   \n",
              "74  -149.0897      60.0  5.25  11.43        ...            16:19:00   \n",
              "75  -149.0897      60.0  5.18  11.58        ...            16:25:00   \n",
              "76  -149.0897      60.0  5.02  11.96        ...            16:27:00   \n",
              "\n",
              "   Arrival Dogs  Elapsed Time  Departure Date Departure Time Departure Dogs  \\\n",
              "72         16.0          3.93      03/06/2017       20:07:00           16.0   \n",
              "73         16.0          0.12      03/06/2017       16:26:00           16.0   \n",
              "74         15.0          5.93      03/06/2017       22:15:00           15.0   \n",
              "75         16.0          3.48      03/06/2017       19:54:00           16.0   \n",
              "76         16.0          0.23      03/06/2017       16:41:00           16.0   \n",
              "\n",
              "      Arrival_datetime Cumulative  Cumulative_distance  Cumulative_hours  \n",
              "72 2017-03-06 16:11:00         71                   71               4.0  \n",
              "73 2017-03-06 16:19:00         71                   71               4.0  \n",
              "74 2017-03-06 16:19:00         71                   71               4.0  \n",
              "75 2017-03-06 16:25:00         71                   71               4.0  \n",
              "76 2017-03-06 16:27:00         71                   71               4.0  \n",
              "\n",
              "[5 rows x 21 columns]"
            ]
          },
          "metadata": {
            "tags": []
          },
          "execution_count": 48
        }
      ]
    },
    {
      "metadata": {
        "id": "BdMJcJFwATW4",
        "colab_type": "code",
        "colab": {
          "base_uri": "https://localhost:8080/",
          "height": 609
        },
        "outputId": "ce85cbb3-384d-4412-92f3-e4745e2133c5"
      },
      "cell_type": "code",
      "source": [
        "# now we can plot the number of Dogs as a function of the Datetime\n",
        "plt.figure(figsize=(10,10)) #set the figure size in inches\n",
        "plt.plot_date(iditarod[\"Arrival_datetime\"],iditarod[\"Arrival Dogs\"],color='blue') #make a scatter plot\n",
        "plt.xlabel(\"Date and Time\")\n",
        "plt.ylabel(\"Dogs\")\n",
        "plt.show()"
      ],
      "execution_count": 50,
      "outputs": [
        {
          "output_type": "display_data",
          "data": {
            "image/png": "[encoded data removed]",
            "text/plain": [
              "<Figure size 720x720 with 1 Axes>"
            ]
          },
          "metadata": {
            "tags": []
          }
        }
      ]
    },
    {
      "metadata": {
        "id": "MXCGftTFt5tt",
        "colab_type": "code",
        "colab": {}
      },
      "cell_type": "code",
      "source": [
        "\n",
        "df_train = pd.read_csv('/Users/rohith/Documents/Datasets/Linear_Regression/train.csv')\n",
        "df_test = pd.read_csv('/Users/rohith/Documents/Datasets/Linear_Regression/test.csv')\n",
        "\n",
        "x_train = df_train['x']\n",
        "y_train = df_train['y']\n",
        "x_test = df_test['x']\n",
        "y_test = df_test['y']\n",
        "\n",
        "x_train = np.array(x_train)\n",
        "y_train = np.array(y_train)\n",
        "x_test = np.array(x_test)\n",
        "y_test = np.array(y_test)\n",
        "\n",
        "x_train = x_train.reshape(-1,1)\n",
        "x_test = x_test.reshape(-1,1)\n"
      ],
      "execution_count": 0,
      "outputs": []
    },
    {
      "metadata": {
        "id": "RZJGwk_Hte_B",
        "colab_type": "code",
        "colab": {}
      },
      "cell_type": "code",
      "source": [
        "from sklearn.linear_model import LinearRegression \n",
        "from sklearn.metrics import r2_score\n",
        "\n",
        "clf = LinearRegression(normalize=True)\n",
        "clf.fit(x_train,y_train)\n",
        "y_pred = clf.predict(x_test)\n",
        "print(r2_score(y_test,y_pred))\n"
      ],
      "execution_count": 0,
      "outputs": []
    },
    {
      "metadata": {
        "id": "WpVIcmNztk4p",
        "colab_type": "code",
        "colab": {}
      },
      "cell_type": "code",
      "source": [
        "## Linear Regression \n",
        "import numpy as np\n",
        "\n",
        "n = 700\n",
        "alpha = 0.0001\n",
        "\n",
        "a_0 = np.zeros((n,1))\n",
        "a_1 = np.zeros((n,1))\n",
        "\n",
        "epochs = 0\n",
        "while(epochs < 1000):\n",
        "    y = a_0 + a_1 * x_train\n",
        "    error = y - y_train\n",
        "    mean_sq_er = np.sum(error**2)\n",
        "    mean_sq_er = mean_sq_er/n\n",
        "    a_0 = a_0 - alpha * 2 * np.sum(error)/n \n",
        "    a_1 = a_1 - alpha * 2 * np.sum(error * x_train)/n\n",
        "    epochs += 1\n",
        "    if(epochs%10 == 0):\n",
        "        print(mean_sq_er)"
      ],
      "execution_count": 0,
      "outputs": []
    },
    {
      "metadata": {
        "id": "-5CTzFGitnrz",
        "colab_type": "code",
        "colab": {}
      },
      "cell_type": "code",
      "source": [
        "y_prediction = a_0 + a_1 * x_test\n",
        "print('R2 Score:',r2_score(y_test,y_prediction))\n",
        "\n",
        "y_plot = []\n",
        "for i in range(100):\n",
        "    y_plot.append(a_0 + a_1 * i)\n",
        "plt.figure(figsize=(10,10))\n",
        "plt.scatter(x_test,y_test,color='red',label='GT')\n",
        "plt.plot(range(len(y_plot)),y_plot,color='black',label = 'pred')\n",
        "plt.legend()\n",
        "plt.show()"
      ],
      "execution_count": 0,
      "outputs": []
    }
  ]
}