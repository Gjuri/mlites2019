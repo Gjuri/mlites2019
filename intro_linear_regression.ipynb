{
  "nbformat": 4,
  "nbformat_minor": 0,
  "metadata": {
    "colab": {
      "name": "intro-linear-regression.ipynb",
      "version": "0.3.2",
      "provenance": [],
      "include_colab_link": true
    },
    "kernelspec": {
      "name": "python3",
      "display_name": "Python 3"
    }
  },
  "cells": [
    {
      "cell_type": "markdown",
      "metadata": {
        "id": "view-in-github",
        "colab_type": "text"
      },
      "source": [
        "<a href=\"https://colab.research.google.com/github/mlites/mlites2019/blob/master/intro_linear_regression.ipynb\" target=\"_parent\"><img src=\"https://colab.research.google.com/assets/colab-badge.svg\" alt=\"Open In Colab\"/></a>"
      ]
    },
    {
      "metadata": {
        "id": "7YzKFlBhrNw7",
        "colab_type": "text"
      },
      "cell_type": "markdown",
      "source": [
        "# Introduction to Linear Regression and Gradient Descent\n",
        "\n",
        "Hello! In this exercise we'll peek behind the scenes at the deceptively simple linear regression algoritm by implementing a gradient descent algorithm\n",
        "\n",
        "Along the way we'll learn to do some data manipulation in python using Pandas and NumPy, and learn how to separate our data into Training and Test sets for validation.\n",
        "\n",
        "If you haven't already, make sure you run intro_kaggle.ipynb to download the necessary datasets\n",
        "\n",
        "\n",
        "More background\n",
        "* [Introduction to Machine Learning Algorithms: Linear Regression](https://towardsdatascience.com/introduction-to-machine-learning-algorithms-linear-regression-14c4e325882a)\n",
        "\n",
        "* [Quick start to Pandas](https://pandas.pydata.org/pandas-docs/stable/getting_started/10min.html)\n"
      ]
    },
    {
      "metadata": {
        "id": "HiNCUqcAs-Ci",
        "colab_type": "text"
      },
      "cell_type": "markdown",
      "source": [
        "## Outline\n",
        "\n",
        "1. import necessary packages\n",
        "2. Load Iditarod data\n",
        "3. Do some date and time conversion\n",
        "4. Generate some new features\n",
        "5. Plot some data"
      ]
    },
    {
      "metadata": {
        "id": "1SVLr4yuG45H",
        "colab_type": "text"
      },
      "cell_type": "markdown",
      "source": [
        "## Getting Started"
      ]
    },
    {
      "metadata": {
        "id": "bpUxrh72gEvo",
        "colab_type": "code",
        "colab": {}
      },
      "cell_type": "code",
      "source": [
        "import pandas as pd #import Pandas under the shortcut 'pd'\n",
        "import numpy as np #import NumPy; NumPy is the fundamental package for scientific computing with Python\n",
        "import matplotlib.pyplot as plt #MatPlotLib is a plotting library"
      ],
      "execution_count": 0,
      "outputs": []
    },
    {
      "metadata": {
        "id": "CeYCbkx0G7WH",
        "colab_type": "text"
      },
      "cell_type": "markdown",
      "source": [
        "## Exploring the Iditarod Dataset"
      ]
    },
    {
      "metadata": {
        "id": "nyu1CYGKtypu",
        "colab_type": "code",
        "colab": {
          "base_uri": "https://localhost:8080/",
          "height": 326
        },
        "outputId": "75fd6b44-a7d3-4823-8421-08208130dd4c"
      },
      "cell_type": "code",
      "source": [
        "# first lets load the Iditarod data into a pandas dataframe in a variable called 'iditarod'\n",
        "\n",
        "iditarod = pd.read_csv(\"iditarod.csv\")\n",
        "iditarod.tail()"
      ],
      "execution_count": 51,
      "outputs": [
        {
          "output_type": "execute_result",
          "data": {
            "text/html": [
              "<div>\n",
              "<style scoped>\n",
              "    .dataframe tbody tr th:only-of-type {\n",
              "        vertical-align: middle;\n",
              "    }\n",
              "\n",
              "    .dataframe tbody tr th {\n",
              "        vertical-align: top;\n",
              "    }\n",
              "\n",
              "    .dataframe thead th {\n",
              "        text-align: right;\n",
              "    }\n",
              "</style>\n",
              "<table border=\"1\" class=\"dataframe\">\n",
              "  <thead>\n",
              "    <tr style=\"text-align: right;\">\n",
              "      <th></th>\n",
              "      <th>Number</th>\n",
              "      <th>Name</th>\n",
              "      <th>Status</th>\n",
              "      <th>Country</th>\n",
              "      <th>Checkpoint</th>\n",
              "      <th>Latitude</th>\n",
              "      <th>Longitude</th>\n",
              "      <th>Distance</th>\n",
              "      <th>Time</th>\n",
              "      <th>Speed</th>\n",
              "      <th>Arrival Date</th>\n",
              "      <th>Arrival Time</th>\n",
              "      <th>Arrival Dogs</th>\n",
              "      <th>Elapsed Time</th>\n",
              "      <th>Departure Date</th>\n",
              "      <th>Departure Time</th>\n",
              "      <th>Departure Dogs</th>\n",
              "    </tr>\n",
              "  </thead>\n",
              "  <tbody>\n",
              "    <tr>\n",
              "      <th>1141</th>\n",
              "      <td>43</td>\n",
              "      <td>Jimmy Lebling</td>\n",
              "      <td>Rookie</td>\n",
              "      <td>United States</td>\n",
              "      <td>Nome</td>\n",
              "      <td>64.4964</td>\n",
              "      <td>-165.3996</td>\n",
              "      <td>22.0</td>\n",
              "      <td>2.95</td>\n",
              "      <td>7.46</td>\n",
              "      <td>03/18/2017</td>\n",
              "      <td>12:19:06</td>\n",
              "      <td>12.0</td>\n",
              "      <td>0.0</td>\n",
              "      <td>NaN</td>\n",
              "      <td>NaN</td>\n",
              "      <td>NaN</td>\n",
              "    </tr>\n",
              "    <tr>\n",
              "      <th>1142</th>\n",
              "      <td>47</td>\n",
              "      <td>Paul Hansen</td>\n",
              "      <td>Rookie</td>\n",
              "      <td>United States</td>\n",
              "      <td>Nome</td>\n",
              "      <td>64.4964</td>\n",
              "      <td>-165.3996</td>\n",
              "      <td>22.0</td>\n",
              "      <td>3.07</td>\n",
              "      <td>7.17</td>\n",
              "      <td>03/18/2017</td>\n",
              "      <td>14:19:11</td>\n",
              "      <td>12.0</td>\n",
              "      <td>0.0</td>\n",
              "      <td>NaN</td>\n",
              "      <td>NaN</td>\n",
              "      <td>NaN</td>\n",
              "    </tr>\n",
              "    <tr>\n",
              "      <th>1143</th>\n",
              "      <td>35</td>\n",
              "      <td>Alan Eischens</td>\n",
              "      <td>Veteran</td>\n",
              "      <td>United States</td>\n",
              "      <td>Nome</td>\n",
              "      <td>64.4964</td>\n",
              "      <td>-165.3996</td>\n",
              "      <td>22.0</td>\n",
              "      <td>3.50</td>\n",
              "      <td>6.29</td>\n",
              "      <td>03/18/2017</td>\n",
              "      <td>14:39:46</td>\n",
              "      <td>16.0</td>\n",
              "      <td>0.0</td>\n",
              "      <td>NaN</td>\n",
              "      <td>NaN</td>\n",
              "      <td>NaN</td>\n",
              "    </tr>\n",
              "    <tr>\n",
              "      <th>1144</th>\n",
              "      <td>53</td>\n",
              "      <td>Peter Reuter</td>\n",
              "      <td>Rookie</td>\n",
              "      <td>United States</td>\n",
              "      <td>Nome</td>\n",
              "      <td>64.4964</td>\n",
              "      <td>-165.3996</td>\n",
              "      <td>22.0</td>\n",
              "      <td>3.60</td>\n",
              "      <td>6.11</td>\n",
              "      <td>03/18/2017</td>\n",
              "      <td>14:45:38</td>\n",
              "      <td>9.0</td>\n",
              "      <td>0.0</td>\n",
              "      <td>NaN</td>\n",
              "      <td>NaN</td>\n",
              "      <td>NaN</td>\n",
              "    </tr>\n",
              "    <tr>\n",
              "      <th>1145</th>\n",
              "      <td>31</td>\n",
              "      <td>Cindy Abbott</td>\n",
              "      <td>Veteran</td>\n",
              "      <td>United States</td>\n",
              "      <td>Nome</td>\n",
              "      <td>64.4964</td>\n",
              "      <td>-165.3996</td>\n",
              "      <td>22.0</td>\n",
              "      <td>3.07</td>\n",
              "      <td>7.17</td>\n",
              "      <td>03/18/2017</td>\n",
              "      <td>14:57:31</td>\n",
              "      <td>12.0</td>\n",
              "      <td>0.0</td>\n",
              "      <td>NaN</td>\n",
              "      <td>NaN</td>\n",
              "      <td>NaN</td>\n",
              "    </tr>\n",
              "  </tbody>\n",
              "</table>\n",
              "</div>"
            ],
            "text/plain": [
              "      Number           Name   Status        Country Checkpoint  Latitude  \\\n",
              "1141      43  Jimmy Lebling   Rookie  United States       Nome   64.4964   \n",
              "1142      47    Paul Hansen   Rookie  United States       Nome   64.4964   \n",
              "1143      35  Alan Eischens  Veteran  United States       Nome   64.4964   \n",
              "1144      53   Peter Reuter   Rookie  United States       Nome   64.4964   \n",
              "1145      31   Cindy Abbott  Veteran  United States       Nome   64.4964   \n",
              "\n",
              "      Longitude  Distance  Time  Speed Arrival Date Arrival Time  \\\n",
              "1141  -165.3996      22.0  2.95   7.46   03/18/2017     12:19:06   \n",
              "1142  -165.3996      22.0  3.07   7.17   03/18/2017     14:19:11   \n",
              "1143  -165.3996      22.0  3.50   6.29   03/18/2017     14:39:46   \n",
              "1144  -165.3996      22.0  3.60   6.11   03/18/2017     14:45:38   \n",
              "1145  -165.3996      22.0  3.07   7.17   03/18/2017     14:57:31   \n",
              "\n",
              "      Arrival Dogs  Elapsed Time Departure Date Departure Time  Departure Dogs  \n",
              "1141          12.0           0.0            NaN            NaN             NaN  \n",
              "1142          12.0           0.0            NaN            NaN             NaN  \n",
              "1143          16.0           0.0            NaN            NaN             NaN  \n",
              "1144           9.0           0.0            NaN            NaN             NaN  \n",
              "1145          12.0           0.0            NaN            NaN             NaN  "
            ]
          },
          "metadata": {
            "tags": []
          },
          "execution_count": 51
        }
      ]
    },
    {
      "metadata": {
        "id": "HP1WAYeruSD0",
        "colab_type": "text"
      },
      "cell_type": "markdown",
      "source": [
        "Here we can see there is a bunch of data here about each musher, like when they arrived at each checkpoint, how long it took, what their speed was, and how many dogs they checked in or out\n",
        "\n",
        "Let's explore the data a bit to see what it looks like. Say we're interested in how the number of dogs on the team affects the speed, we can plot that using the MatPlotLib library."
      ]
    },
    {
      "metadata": {
        "id": "p8VbufoWuunJ",
        "colab_type": "code",
        "colab": {
          "base_uri": "https://localhost:8080/",
          "height": 609
        },
        "outputId": "254d88ad-ed8e-4d0d-ebd7-337dbc340434"
      },
      "cell_type": "code",
      "source": [
        "plt.figure(figsize=(10,10)) #set the figure size in inches\n",
        "plt.scatter(iditarod[\"Arrival Dogs\"],iditarod[\"Speed\"],color='blue') # the scatter command make a scatter plot\n",
        "plt.xlabel(\"Number of dogs\")\n",
        "plt.ylabel(\"Speed (mph)\")\n",
        "plt.show()"
      ],
      "execution_count": 52,
      "outputs": [
        {
          "output_type": "display_data",
          "data": {
            "image/png": "[encoded data removed]",
            "text/plain": [
              "<Figure size 720x720 with 1 Axes>"
            ]
          },
          "metadata": {
            "tags": []
          }
        }
      ]
    },
    {
      "metadata": {
        "id": "qUq0xjo8v3Uk",
        "colab_type": "text"
      },
      "cell_type": "markdown",
      "source": [
        "What do you think, is there a trend?\n",
        "\n",
        "Do mushers go faster when they have more dogs?\n",
        "\n",
        "What other factors might affect their speed?\n",
        "\n",
        "Let's the Date and Time into a single object, Datetime"
      ]
    },
    {
      "metadata": {
        "id": "wcBdzJf9xBXi",
        "colab_type": "code",
        "colab": {
          "base_uri": "https://localhost:8080/",
          "height": 609
        },
        "outputId": "c4195ca8-14ad-4bc7-ff7f-1d914c93e27f"
      },
      "cell_type": "code",
      "source": [
        "\n",
        "#let's drop values that have NA or NaN's\n",
        "iditarod = iditarod.dropna()\n",
        "\n",
        "#then convert the timestamps into a machine-readable timestamps\n",
        "\n",
        "# import the datetime module\n",
        "from datetime import datetime\n",
        "\n",
        "# and get the Date and Time into a new dataframe\n",
        "\n",
        "dt = iditarod.loc[:, ['Arrival Date', 'Arrival Time']] # : means 'all rows'\n",
        "\n",
        "# this applies an anonymouse function ('lambda') to each row (axis=1) of the new dataframe\n",
        "# that concatenates the Date and Time and converts them into a special 'datetime' object\n",
        "# this then gets saved back into the iditarod dataframe\n",
        "\n",
        "iditarod['Arrival_datetime'] = dt.apply(lambda x: datetime.strptime(x[0]+'/'+x[1], '%m/%d/%Y/%H:%M:%S'), axis=1)\n",
        "\n",
        "# another way to make datetime objects in pandas\n",
        "# iditarod[\"Arrival Time\"] = pd.DatetimeIndex(iditarod[\"Arrival Time\"],dtype='datetime64[ns]')\n",
        "# iditarod[\"Departure Time\"] = pd.DatetimeIndex(iditarod[\"Departure Time\"],dtype='datetime64[ns]')\n",
        "\n",
        "# now we can plot the number of Dogs as a function of the Datetime\n",
        "# plot_data is a matplotlib command to use when you're plotting a date or time\n",
        "plt.figure(figsize=(10,10)) #set the figure size in inches\n",
        "plt.plot_date(iditarod[\"Arrival_datetime\"],iditarod[\"Arrival Dogs\"],color='blue') #make a scatter plot\n",
        "plt.xlabel(\"Time\")\n",
        "plt.ylabel(\"Dogs\")\n",
        "plt.show()\n"
      ],
      "execution_count": 53,
      "outputs": [
        {
          "output_type": "display_data",
          "data": {
            "image/png": "[encoded data removed]",
            "text/plain": [
              "<Figure size 720x720 with 1 Axes>"
            ]
          },
          "metadata": {
            "tags": []
          }
        }
      ]
    },
    {
      "metadata": {
        "id": "soMC-duB8yGY",
        "colab_type": "text"
      },
      "cell_type": "markdown",
      "source": [
        "Is there a trend here?\n",
        "\n",
        "It kind of looks like it, but how can we tell for sure?\n",
        "\n",
        "Let's look at one more example."
      ]
    },
    {
      "metadata": {
        "id": "gvA-Waw16bLh",
        "colab_type": "code",
        "colab": {
          "base_uri": "https://localhost:8080/",
          "height": 355
        },
        "outputId": "74cd3ec7-48f1-4302-ffaa-c09e2f61fab1"
      },
      "cell_type": "code",
      "source": [
        "# it might be nice to know the cumulative time and distance traveleled to each checkpoint\n",
        "\n",
        "# we can find the unique checkpoints like this:\n",
        "iditarod[\"Checkpoint\"].unique()\n",
        "\n",
        "# then from the Iditarod website we can find the cumulative distances\n",
        "# https://iditarod.com/race-map/\n",
        "\n",
        "# and input them into a new dictionary ('dict') like so:\n",
        "cumulative_dist = {\n",
        "'Fairbanks'\t: 0,\n",
        "'Nenana'\t: 71,\n",
        "'Manley'\t: 161,\n",
        "'Tanana'\t: 227,\n",
        "'Ruby'\t: 346,\n",
        "'Galena'\t: 396,\n",
        "'Huslia'\t: 478,\n",
        "'Koyukuk'\t: 564,\n",
        "'Nulato'\t: 586,\n",
        "'Kaltag'\t: 633,\n",
        "'Unalakleet'\t: 718,\n",
        "'Shaktoolik'\t: 758,\n",
        "'Koyuk'\t: 808,\n",
        "'Elim'\t: 856,\n",
        "'White Mountain'\t: 902,\n",
        "'Safety'\t: 957,\n",
        "'Nome'\t: 979\n",
        "}\n",
        "\n",
        "# now we can the insert those into the iditarod dataframe using the 'replace' function like so:\n",
        "iditarod[\"Distance_traveled\"] = iditarod[\"Checkpoint\"].replace(cumulative_dist)\n",
        "\n",
        "# finally lets convert the timestamps into hours elapsed since the the start of the race\n",
        "# we subtract the Arrival time from the race start time and use the .astype() function to report time difference in hours\n",
        "# ok ok this isn't perfectly accurate because they actually do a 2-minute staggered start but I'll leave that as an exercise for the reader\n",
        "racestart = pd.Timestamp('2017-03-06 11:00:00.00000')\n",
        "iditarod[\"Elapsed_time\"] = (iditarod[\"Arrival_datetime\"]-racestart).astype('timedelta64[h]')\n",
        "\n",
        "# now let's take a look at our new features\n",
        "iditarod.head()"
      ],
      "execution_count": 61,
      "outputs": [
        {
          "output_type": "execute_result",
          "data": {
            "text/html": [
              "<div>\n",
              "<style scoped>\n",
              "    .dataframe tbody tr th:only-of-type {\n",
              "        vertical-align: middle;\n",
              "    }\n",
              "\n",
              "    .dataframe tbody tr th {\n",
              "        vertical-align: top;\n",
              "    }\n",
              "\n",
              "    .dataframe thead th {\n",
              "        text-align: right;\n",
              "    }\n",
              "</style>\n",
              "<table border=\"1\" class=\"dataframe\">\n",
              "  <thead>\n",
              "    <tr style=\"text-align: right;\">\n",
              "      <th></th>\n",
              "      <th>Number</th>\n",
              "      <th>Name</th>\n",
              "      <th>Status</th>\n",
              "      <th>Country</th>\n",
              "      <th>Checkpoint</th>\n",
              "      <th>Latitude</th>\n",
              "      <th>Longitude</th>\n",
              "      <th>Distance</th>\n",
              "      <th>Time</th>\n",
              "      <th>Speed</th>\n",
              "      <th>...</th>\n",
              "      <th>Arrival Dogs</th>\n",
              "      <th>Elapsed Time</th>\n",
              "      <th>Departure Date</th>\n",
              "      <th>Departure Time</th>\n",
              "      <th>Departure Dogs</th>\n",
              "      <th>Arrival_datetime</th>\n",
              "      <th>Cumulative_distance</th>\n",
              "      <th>Cumulative_hours</th>\n",
              "      <th>Distance_traveled</th>\n",
              "      <th>Elapsed_time</th>\n",
              "    </tr>\n",
              "  </thead>\n",
              "  <tbody>\n",
              "    <tr>\n",
              "      <th>72</th>\n",
              "      <td>6</td>\n",
              "      <td>Linwood Fiedler</td>\n",
              "      <td>Veteran</td>\n",
              "      <td>United States</td>\n",
              "      <td>Nenana</td>\n",
              "      <td>64.5952</td>\n",
              "      <td>-149.0897</td>\n",
              "      <td>60.0</td>\n",
              "      <td>5.05</td>\n",
              "      <td>11.88</td>\n",
              "      <td>...</td>\n",
              "      <td>16.0</td>\n",
              "      <td>3.93</td>\n",
              "      <td>03/06/2017</td>\n",
              "      <td>20:07:00</td>\n",
              "      <td>16.0</td>\n",
              "      <td>2017-03-06 16:11:00</td>\n",
              "      <td>71</td>\n",
              "      <td>5.0</td>\n",
              "      <td>71</td>\n",
              "      <td>5.0</td>\n",
              "    </tr>\n",
              "    <tr>\n",
              "      <th>73</th>\n",
              "      <td>5</td>\n",
              "      <td>Cody Strathe</td>\n",
              "      <td>Veteran</td>\n",
              "      <td>United States</td>\n",
              "      <td>Nenana</td>\n",
              "      <td>64.5952</td>\n",
              "      <td>-149.0897</td>\n",
              "      <td>60.0</td>\n",
              "      <td>5.22</td>\n",
              "      <td>11.50</td>\n",
              "      <td>...</td>\n",
              "      <td>16.0</td>\n",
              "      <td>0.12</td>\n",
              "      <td>03/06/2017</td>\n",
              "      <td>16:26:00</td>\n",
              "      <td>16.0</td>\n",
              "      <td>2017-03-06 16:19:00</td>\n",
              "      <td>71</td>\n",
              "      <td>5.0</td>\n",
              "      <td>71</td>\n",
              "      <td>5.0</td>\n",
              "    </tr>\n",
              "    <tr>\n",
              "      <th>74</th>\n",
              "      <td>4</td>\n",
              "      <td>Misha Wiljes</td>\n",
              "      <td>Rookie</td>\n",
              "      <td>Czech Republic</td>\n",
              "      <td>Nenana</td>\n",
              "      <td>64.5952</td>\n",
              "      <td>-149.0897</td>\n",
              "      <td>60.0</td>\n",
              "      <td>5.25</td>\n",
              "      <td>11.43</td>\n",
              "      <td>...</td>\n",
              "      <td>15.0</td>\n",
              "      <td>5.93</td>\n",
              "      <td>03/06/2017</td>\n",
              "      <td>22:15:00</td>\n",
              "      <td>15.0</td>\n",
              "      <td>2017-03-06 16:19:00</td>\n",
              "      <td>71</td>\n",
              "      <td>5.0</td>\n",
              "      <td>71</td>\n",
              "      <td>5.0</td>\n",
              "    </tr>\n",
              "    <tr>\n",
              "      <th>75</th>\n",
              "      <td>9</td>\n",
              "      <td>Michelle Phillips</td>\n",
              "      <td>Veteran</td>\n",
              "      <td>Canada</td>\n",
              "      <td>Nenana</td>\n",
              "      <td>64.5952</td>\n",
              "      <td>-149.0897</td>\n",
              "      <td>60.0</td>\n",
              "      <td>5.18</td>\n",
              "      <td>11.58</td>\n",
              "      <td>...</td>\n",
              "      <td>16.0</td>\n",
              "      <td>3.48</td>\n",
              "      <td>03/06/2017</td>\n",
              "      <td>19:54:00</td>\n",
              "      <td>16.0</td>\n",
              "      <td>2017-03-06 16:25:00</td>\n",
              "      <td>71</td>\n",
              "      <td>5.0</td>\n",
              "      <td>71</td>\n",
              "      <td>5.0</td>\n",
              "    </tr>\n",
              "    <tr>\n",
              "      <th>76</th>\n",
              "      <td>15</td>\n",
              "      <td>Martin Buser</td>\n",
              "      <td>Veteran</td>\n",
              "      <td>United States</td>\n",
              "      <td>Nenana</td>\n",
              "      <td>64.5952</td>\n",
              "      <td>-149.0897</td>\n",
              "      <td>60.0</td>\n",
              "      <td>5.02</td>\n",
              "      <td>11.96</td>\n",
              "      <td>...</td>\n",
              "      <td>16.0</td>\n",
              "      <td>0.23</td>\n",
              "      <td>03/06/2017</td>\n",
              "      <td>16:41:00</td>\n",
              "      <td>16.0</td>\n",
              "      <td>2017-03-06 16:27:00</td>\n",
              "      <td>71</td>\n",
              "      <td>5.0</td>\n",
              "      <td>71</td>\n",
              "      <td>5.0</td>\n",
              "    </tr>\n",
              "  </tbody>\n",
              "</table>\n",
              "<p>5 rows × 22 columns</p>\n",
              "</div>"
            ],
            "text/plain": [
              "    Number               Name   Status         Country Checkpoint  Latitude  \\\n",
              "72       6    Linwood Fiedler  Veteran   United States     Nenana   64.5952   \n",
              "73       5       Cody Strathe  Veteran   United States     Nenana   64.5952   \n",
              "74       4       Misha Wiljes   Rookie  Czech Republic     Nenana   64.5952   \n",
              "75       9  Michelle Phillips  Veteran          Canada     Nenana   64.5952   \n",
              "76      15       Martin Buser  Veteran   United States     Nenana   64.5952   \n",
              "\n",
              "    Longitude  Distance  Time  Speed      ...      Arrival Dogs Elapsed Time  \\\n",
              "72  -149.0897      60.0  5.05  11.88      ...              16.0         3.93   \n",
              "73  -149.0897      60.0  5.22  11.50      ...              16.0         0.12   \n",
              "74  -149.0897      60.0  5.25  11.43      ...              15.0         5.93   \n",
              "75  -149.0897      60.0  5.18  11.58      ...              16.0         3.48   \n",
              "76  -149.0897      60.0  5.02  11.96      ...              16.0         0.23   \n",
              "\n",
              "    Departure Date  Departure Time Departure Dogs    Arrival_datetime  \\\n",
              "72      03/06/2017        20:07:00           16.0 2017-03-06 16:11:00   \n",
              "73      03/06/2017        16:26:00           16.0 2017-03-06 16:19:00   \n",
              "74      03/06/2017        22:15:00           15.0 2017-03-06 16:19:00   \n",
              "75      03/06/2017        19:54:00           16.0 2017-03-06 16:25:00   \n",
              "76      03/06/2017        16:41:00           16.0 2017-03-06 16:27:00   \n",
              "\n",
              "    Cumulative_distance Cumulative_hours  Distance_traveled  Elapsed_time  \n",
              "72                   71              5.0                 71           5.0  \n",
              "73                   71              5.0                 71           5.0  \n",
              "74                   71              5.0                 71           5.0  \n",
              "75                   71              5.0                 71           5.0  \n",
              "76                   71              5.0                 71           5.0  \n",
              "\n",
              "[5 rows x 22 columns]"
            ]
          },
          "metadata": {
            "tags": []
          },
          "execution_count": 61
        }
      ]
    },
    {
      "metadata": {
        "id": "a-q6XmD9DOjA",
        "colab_type": "text"
      },
      "cell_type": "markdown",
      "source": [
        "Ok, your turn!\n",
        "\n",
        "Fill in the missing details to make a scatter plot of the elapsed time as a function of the distance traveled"
      ]
    },
    {
      "metadata": {
        "id": "BdMJcJFwATW4",
        "colab_type": "code",
        "colab": {
          "base_uri": "https://localhost:8080/",
          "height": 609
        },
        "outputId": "fa282254-e636-4f54-aad5-15e5a1a8c2b3"
      },
      "cell_type": "code",
      "source": [
        "plt.figure(figsize=(10,10)) #set the figure size in inches\n",
        "plt.scatter(iditarod[\"\"],iditarod[\"\"],color='blue') #make a scatter plot\n",
        "plt.xlabel(\"Distance Traveled\")\n",
        "plt.ylabel(\"Elapsed Time\")\n",
        "plt.show()"
      ],
      "execution_count": 57,
      "outputs": [
        {
          "output_type": "display_data",
          "data": {
            "image/png": "[encoded data removed]",
            "text/plain": [
              "<Figure size 720x720 with 1 Axes>"
            ]
          },
          "metadata": {
            "tags": []
          }
        }
      ]
    },
    {
      "metadata": {
        "id": "aApvHl2MHDNe",
        "colab_type": "text"
      },
      "cell_type": "markdown",
      "source": [
        "## Introducing Training and Testing Sets\n",
        "\n",
        "In Machine Learning, the way we validate how well the machines are learning is by using two subsets of any given dataset: a Train set, and a Test set. Usually we'll split the data 80/20 between these subsets and thus use 80% of the data to Train our model, and 20% to Test whether our predictions are any good.\n",
        "\n",
        "\n",
        "**Some questions for you:**\n",
        "\n",
        "* Why don't we train on the whole data set?\n",
        "* Wouldn't we get a better model that way?\n",
        "* Think about the answers and we'll come back to it later."
      ]
    },
    {
      "metadata": {
        "id": "1L2Z8NRxIA_Z",
        "colab_type": "text"
      },
      "cell_type": "markdown",
      "source": [
        "First, let's work with the Elapsed Time and Distance Traveled data, and split it into Train and Test sets.\n",
        "\n",
        "We'll use scikit-learn, a basic but powerful machine learning toolkit for python.\n",
        "\n",
        "docs: [train_test_split](https://scikit-learn.org/stable/modules/generated/sklearn.model_selection.train_test_split.html)"
      ]
    },
    {
      "metadata": {
        "id": "MXCGftTFt5tt",
        "colab_type": "code",
        "colab": {}
      },
      "cell_type": "code",
      "source": [
        "import sklearn #import the scikit-learn package\n",
        "from sklearn.model_selection import train_test_split #import the \n",
        "\n",
        "x = iditarod[\"Distance_traveled\"]\n",
        "y = iditarod[\"Elapsed_time\"]\n",
        "\n",
        "# here we tell sklearn to split our data and reserve 20% for the test set\n",
        "x_train, x_test, y_train, y_test = train_test_split(x, y, test_size=0.2)\n",
        "\n",
        "# need to convert data to numpy array and reshape data for input into linear model \n",
        "x_train = np.array(x_train)\n",
        "y_train = np.array(y_train)\n",
        "x_test = np.array(x_test)\n",
        "y_test = np.array(y_test)\n",
        "\n",
        "x_train = x_train.reshape(-1,1)\n",
        "x_test = x_test.reshape(-1,1)\n",
        "\n"
      ],
      "execution_count": 0,
      "outputs": []
    },
    {
      "metadata": {
        "id": "RZJGwk_Hte_B",
        "colab_type": "code",
        "colab": {
          "base_uri": "https://localhost:8080/",
          "height": 34
        },
        "outputId": "366cb3d8-8ef6-4778-d899-fccf43fa9070"
      },
      "cell_type": "code",
      "source": [
        "from sklearn.linear_model import LinearRegression # import the LinearRegression module from sklearn\n",
        "from sklearn.metrics import r2_score # import the r2_score module from sklearn\n",
        "\n",
        "clf = LinearRegression() # initiate an object of Class LinearRegression\n",
        "clf.fit(x_train,y_train) # call the .fit function to fit the training data x_train and y_train"
      ],
      "execution_count": 81,
      "outputs": [
        {
          "output_type": "stream",
          "text": [
            "[279.69106422]\n"
          ],
          "name": "stdout"
        }
      ]
    },
    {
      "metadata": {
        "id": "5YMSdkc2UbDU",
        "colab_type": "text"
      },
      "cell_type": "markdown",
      "source": [
        "Now that we have a model trained on the training set, we can use it to predict new values.\n",
        "\n",
        "For example, if the Iditarod was 1100 miles long instead of 1000, how many hours would it take the average musher to finish?\n"
      ]
    },
    {
      "metadata": {
        "id": "p502J_nCUdQt",
        "colab_type": "code",
        "colab": {
          "base_uri": "https://localhost:8080/",
          "height": 34
        },
        "outputId": "aa608823-00cc-4840-85eb-079da2d29e8d"
      },
      "cell_type": "code",
      "source": [
        "y_pred = clf.predict([[1100]]) # we need double brackets because .predict expects an array of arrays\n",
        "print(y_pred[0]) # [0] to access the first value in the y_pred array"
      ],
      "execution_count": 113,
      "outputs": [
        {
          "output_type": "stream",
          "text": [
            "279.69106421579426\n"
          ],
          "name": "stdout"
        }
      ]
    },
    {
      "metadata": {
        "id": "vo4Z_uauUlnS",
        "colab_type": "text"
      },
      "cell_type": "markdown",
      "source": [
        "Let's print out the formula for our best fit line using the coefficients found within the 'clf' object"
      ]
    },
    {
      "metadata": {
        "id": "cSHUv9ufOU5Z",
        "colab_type": "code",
        "outputId": "3042697d-3937-4acf-df59-e7738e233579",
        "colab": {
          "base_uri": "https://localhost:8080/",
          "height": 51
        }
      },
      "cell_type": "code",
      "source": [
        "# the formula for the best fit line is\n",
        "slope = clf.coef_[0]\n",
        "intercept = clf.intercept_\n",
        "print(\"y = \" + str(slope) + \"x\" + \" + \" + str(intercept)) #str() converts a numeric to a string\n",
        "\n",
        "# get control of those significant figures by printing with nicer formatting\n",
        "print(\"y = %.2fx + %.2f\" % (slope, intercept)) # %.2f says to format a _f_loating-point number to 2 decimal places"
      ],
      "execution_count": 114,
      "outputs": [
        {
          "output_type": "stream",
          "text": [
            "y = 0.26849998873152303x + -15.658923388881078\n",
            "y = 0.27x + -15.66\n"
          ],
          "name": "stdout"
        }
      ]
    },
    {
      "metadata": {
        "id": "LASjK74aQg7C",
        "colab_type": "text"
      },
      "cell_type": "markdown",
      "source": [
        "Now let's plot the best fit line over the training and testing data"
      ]
    },
    {
      "metadata": {
        "id": "t7V6HKM5QgjP",
        "colab_type": "code",
        "colab": {
          "base_uri": "https://localhost:8080/",
          "height": 392
        },
        "outputId": "d54f6638-8af6-4926-bf53-9ad69cab7f0a"
      },
      "cell_type": "code",
      "source": [
        "x_fit = np.linspace(0,1000, 50) # linspace(start, stop, num) generates a linearly-spaced numeric array\n",
        "y_fit = slope*x_fit + intercept\n",
        "\n",
        "plt.figure(figsize=(12,6))\n",
        "\n",
        "plt.subplot(1, 2, 1) #subplot(nrows, ncols, index) allows for multiple plots on one page\n",
        "plt.scatter(x_train,y_train,color='red',label='train')\n",
        "plt.plot(x_fit,y_fit,color='black',label = 'prediction')\n",
        "plt.legend()\n",
        "plt.xlabel(\"Distance Traveled\")\n",
        "plt.ylabel(\"Elapsed Time\")\n",
        "\n",
        "plt.subplot(1, 2, 2)\n",
        "plt.scatter(x_test,y_test,color='blue',label='test')\n",
        "plt.plot(x_fit,y_fit,color='black',label = 'prediction')\n",
        "plt.legend()\n",
        "plt.xlabel(\"Distance Traveled\")\n",
        "plt.ylabel(\"Elapsed Time\")\n",
        "\n",
        "plt.show()"
      ],
      "execution_count": 115,
      "outputs": [
        {
          "output_type": "display_data",
          "data": {
            "image/png": "[encoded data removed]",
            "text/plain": [
              "<Figure size 864x432 with 2 Axes>"
            ]
          },
          "metadata": {
            "tags": []
          }
        }
      ]
    },
    {
      "metadata": {
        "id": "-5CTzFGitnrz",
        "colab_type": "code",
        "colab": {}
      },
      "cell_type": "code",
      "source": [
        "y_prediction = a_0 + a_1 * x_test\n",
        "print('R2 Score:',r2_score(y_test,y_prediction))\n",
        "\n",
        "y_plot = []\n",
        "for i in range(100):\n",
        "    y_plot.append(a_0 + a_1 * i)\n",
        "plt.figure(figsize=(10,10))\n",
        "plt.scatter(x_test,y_test,color='red',label='GT')\n",
        "plt.plot(range(len(y_plot)),y_plot,color='black',label = 'pred')\n",
        "plt.legend()\n",
        "plt.show()"
      ],
      "execution_count": 0,
      "outputs": []
    },
    {
      "metadata": {
        "id": "WpVIcmNztk4p",
        "colab_type": "code",
        "colab": {}
      },
      "cell_type": "code",
      "source": [
        "## Linear Regression \n",
        "import numpy as np\n",
        "\n",
        "n = 700\n",
        "alpha = 0.0001\n",
        "\n",
        "a_0 = np.zeros((n,1))\n",
        "a_1 = np.zeros((n,1))\n",
        "\n",
        "epochs = 0\n",
        "while(epochs < 1000):\n",
        "    y = a_0 + a_1 * x_train\n",
        "    error = y - y_train\n",
        "    mean_sq_er = np.sum(error**2)\n",
        "    mean_sq_er = mean_sq_er/n\n",
        "    a_0 = a_0 - alpha * 2 * np.sum(error)/n \n",
        "    a_1 = a_1 - alpha * 2 * np.sum(error * x_train)/n\n",
        "    epochs += 1\n",
        "    if(epochs%10 == 0):\n",
        "        print(mean_sq_er)"
      ],
      "execution_count": 0,
      "outputs": []
    }
  ]
}