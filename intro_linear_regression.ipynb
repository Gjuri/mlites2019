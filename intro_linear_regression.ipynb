{
  "nbformat": 4,
  "nbformat_minor": 0,
  "metadata": {
    "colab": {
      "name": "intro_linear_regression.ipynb",
      "version": "0.3.2",
      "provenance": [],
      "toc_visible": true,
      "include_colab_link": true
    },
    "kernelspec": {
      "name": "python3",
      "display_name": "Python 3"
    }
  },
  "cells": [
    {
      "cell_type": "markdown",
      "metadata": {
        "id": "view-in-github",
        "colab_type": "text"
      },
      "source": [
        "<a href=\"https://colab.research.google.com/github/mlites/mlites2019/blob/master/intro_linear_regression.ipynb\" target=\"_parent\"><img src=\"https://colab.research.google.com/assets/colab-badge.svg\" alt=\"Open In Colab\"/></a>"
      ]
    },
    {
      "metadata": {
        "id": "7YzKFlBhrNw7",
        "colab_type": "text"
      },
      "cell_type": "markdown",
      "source": [
        "# Introduction to Linear Regression and Gradient Descent\n",
        "\n",
        "Hello! In this exercise we'll peek behind the scenes at the deceptively simple linear regression algorithm by implementing a version using \"gradient descent\".\n",
        "\n",
        "Along the way we'll learn to do some data manipulation in python using Pandas and NumPy, and learn how to separate our data into Training and Test sets for validation.\n",
        "\n",
        "If you haven't already, make sure you run [intro_kaggle.ipynb](https://colab.research.google.com/github/mlites/mlites2019/blob/master/kaggle_introduction.ipynb) to download the necessary datasets\n",
        "\n",
        "\n",
        "More background\n",
        "* [Introduction to Machine Learning Algorithms: Linear Regression](https://towardsdatascience.com/introduction-to-machine-learning-algorithms-linear-regression-14c4e325882a)\n",
        "\n",
        "* [Quick start to Pandas](https://pandas.pydata.org/pandas-docs/stable/getting_started/10min.html)\n"
      ]
    },
    {
      "metadata": {
        "id": "HiNCUqcAs-Ci",
        "colab_type": "text"
      },
      "cell_type": "markdown",
      "source": [
        "## Outline\n",
        "\n",
        "1. import necessary packages\n",
        "2. Load Iditarod data\n",
        "3. Do some date and time conversion\n",
        "4. Generate some new features\n",
        "5. Plot some data\n",
        "6. Fit regression with sklearn\n",
        "7. Fit regression with gradient descent"
      ]
    },
    {
      "metadata": {
        "id": "1SVLr4yuG45H",
        "colab_type": "text"
      },
      "cell_type": "markdown",
      "source": [
        "## Getting Started"
      ]
    },
    {
      "metadata": {
        "id": "bpUxrh72gEvo",
        "colab_type": "code",
        "colab": {}
      },
      "cell_type": "code",
      "source": [
        "import pandas as pd #import Pandas under the shortcut 'pd'\n",
        "import numpy as np #import NumPy; NumPy is the fundamental package for scientific computing with Python\n",
        "import matplotlib.pyplot as plt #MatPlotLib is a plotting library"
      ],
      "execution_count": 0,
      "outputs": []
    },
    {
      "metadata": {
        "id": "CeYCbkx0G7WH",
        "colab_type": "text"
      },
      "cell_type": "markdown",
      "source": [
        "## Exploring the Iditarod Dataset"
      ]
    },
    {
      "metadata": {
        "id": "nyu1CYGKtypu",
        "colab_type": "code",
        "outputId": "234e7131-2b39-4b97-e1a5-e9d4e035d050",
        "colab": {
          "base_uri": "https://localhost:8080/",
          "height": 326
        }
      },
      "cell_type": "code",
      "source": [
        "# first lets load the Iditarod data into a pandas dataframe in a variable called 'iditarod'\n",
        "\n",
        "iditarod = pd.read_csv(\"iditarod.csv\")\n",
        "iditarod.tail()"
      ],
      "execution_count": 449,
      "outputs": [
        {
          "output_type": "execute_result",
          "data": {
            "text/html": [
              "<div>\n",
              "<style scoped>\n",
              "    .dataframe tbody tr th:only-of-type {\n",
              "        vertical-align: middle;\n",
              "    }\n",
              "\n",
              "    .dataframe tbody tr th {\n",
              "        vertical-align: top;\n",
              "    }\n",
              "\n",
              "    .dataframe thead th {\n",
              "        text-align: right;\n",
              "    }\n",
              "</style>\n",
              "<table border=\"1\" class=\"dataframe\">\n",
              "  <thead>\n",
              "    <tr style=\"text-align: right;\">\n",
              "      <th></th>\n",
              "      <th>Number</th>\n",
              "      <th>Name</th>\n",
              "      <th>Status</th>\n",
              "      <th>Country</th>\n",
              "      <th>Checkpoint</th>\n",
              "      <th>Latitude</th>\n",
              "      <th>Longitude</th>\n",
              "      <th>Distance</th>\n",
              "      <th>Time</th>\n",
              "      <th>Speed</th>\n",
              "      <th>Arrival Date</th>\n",
              "      <th>Arrival Time</th>\n",
              "      <th>Arrival Dogs</th>\n",
              "      <th>Elapsed Time</th>\n",
              "      <th>Departure Date</th>\n",
              "      <th>Departure Time</th>\n",
              "      <th>Departure Dogs</th>\n",
              "    </tr>\n",
              "  </thead>\n",
              "  <tbody>\n",
              "    <tr>\n",
              "      <th>1141</th>\n",
              "      <td>43</td>\n",
              "      <td>Jimmy Lebling</td>\n",
              "      <td>Rookie</td>\n",
              "      <td>United States</td>\n",
              "      <td>Nome</td>\n",
              "      <td>64.4964</td>\n",
              "      <td>-165.3996</td>\n",
              "      <td>22.0</td>\n",
              "      <td>2.95</td>\n",
              "      <td>7.46</td>\n",
              "      <td>03/18/2017</td>\n",
              "      <td>12:19:06</td>\n",
              "      <td>12.0</td>\n",
              "      <td>0.0</td>\n",
              "      <td>NaN</td>\n",
              "      <td>NaN</td>\n",
              "      <td>NaN</td>\n",
              "    </tr>\n",
              "    <tr>\n",
              "      <th>1142</th>\n",
              "      <td>47</td>\n",
              "      <td>Paul Hansen</td>\n",
              "      <td>Rookie</td>\n",
              "      <td>United States</td>\n",
              "      <td>Nome</td>\n",
              "      <td>64.4964</td>\n",
              "      <td>-165.3996</td>\n",
              "      <td>22.0</td>\n",
              "      <td>3.07</td>\n",
              "      <td>7.17</td>\n",
              "      <td>03/18/2017</td>\n",
              "      <td>14:19:11</td>\n",
              "      <td>12.0</td>\n",
              "      <td>0.0</td>\n",
              "      <td>NaN</td>\n",
              "      <td>NaN</td>\n",
              "      <td>NaN</td>\n",
              "    </tr>\n",
              "    <tr>\n",
              "      <th>1143</th>\n",
              "      <td>35</td>\n",
              "      <td>Alan Eischens</td>\n",
              "      <td>Veteran</td>\n",
              "      <td>United States</td>\n",
              "      <td>Nome</td>\n",
              "      <td>64.4964</td>\n",
              "      <td>-165.3996</td>\n",
              "      <td>22.0</td>\n",
              "      <td>3.50</td>\n",
              "      <td>6.29</td>\n",
              "      <td>03/18/2017</td>\n",
              "      <td>14:39:46</td>\n",
              "      <td>16.0</td>\n",
              "      <td>0.0</td>\n",
              "      <td>NaN</td>\n",
              "      <td>NaN</td>\n",
              "      <td>NaN</td>\n",
              "    </tr>\n",
              "    <tr>\n",
              "      <th>1144</th>\n",
              "      <td>53</td>\n",
              "      <td>Peter Reuter</td>\n",
              "      <td>Rookie</td>\n",
              "      <td>United States</td>\n",
              "      <td>Nome</td>\n",
              "      <td>64.4964</td>\n",
              "      <td>-165.3996</td>\n",
              "      <td>22.0</td>\n",
              "      <td>3.60</td>\n",
              "      <td>6.11</td>\n",
              "      <td>03/18/2017</td>\n",
              "      <td>14:45:38</td>\n",
              "      <td>9.0</td>\n",
              "      <td>0.0</td>\n",
              "      <td>NaN</td>\n",
              "      <td>NaN</td>\n",
              "      <td>NaN</td>\n",
              "    </tr>\n",
              "    <tr>\n",
              "      <th>1145</th>\n",
              "      <td>31</td>\n",
              "      <td>Cindy Abbott</td>\n",
              "      <td>Veteran</td>\n",
              "      <td>United States</td>\n",
              "      <td>Nome</td>\n",
              "      <td>64.4964</td>\n",
              "      <td>-165.3996</td>\n",
              "      <td>22.0</td>\n",
              "      <td>3.07</td>\n",
              "      <td>7.17</td>\n",
              "      <td>03/18/2017</td>\n",
              "      <td>14:57:31</td>\n",
              "      <td>12.0</td>\n",
              "      <td>0.0</td>\n",
              "      <td>NaN</td>\n",
              "      <td>NaN</td>\n",
              "      <td>NaN</td>\n",
              "    </tr>\n",
              "  </tbody>\n",
              "</table>\n",
              "</div>"
            ],
            "text/plain": [
              "      Number           Name   Status        Country Checkpoint  Latitude  \\\n",
              "1141      43  Jimmy Lebling   Rookie  United States       Nome   64.4964   \n",
              "1142      47    Paul Hansen   Rookie  United States       Nome   64.4964   \n",
              "1143      35  Alan Eischens  Veteran  United States       Nome   64.4964   \n",
              "1144      53   Peter Reuter   Rookie  United States       Nome   64.4964   \n",
              "1145      31   Cindy Abbott  Veteran  United States       Nome   64.4964   \n",
              "\n",
              "      Longitude  Distance  Time  Speed Arrival Date Arrival Time  \\\n",
              "1141  -165.3996      22.0  2.95   7.46   03/18/2017     12:19:06   \n",
              "1142  -165.3996      22.0  3.07   7.17   03/18/2017     14:19:11   \n",
              "1143  -165.3996      22.0  3.50   6.29   03/18/2017     14:39:46   \n",
              "1144  -165.3996      22.0  3.60   6.11   03/18/2017     14:45:38   \n",
              "1145  -165.3996      22.0  3.07   7.17   03/18/2017     14:57:31   \n",
              "\n",
              "      Arrival Dogs  Elapsed Time Departure Date Departure Time  Departure Dogs  \n",
              "1141          12.0           0.0            NaN            NaN             NaN  \n",
              "1142          12.0           0.0            NaN            NaN             NaN  \n",
              "1143          16.0           0.0            NaN            NaN             NaN  \n",
              "1144           9.0           0.0            NaN            NaN             NaN  \n",
              "1145          12.0           0.0            NaN            NaN             NaN  "
            ]
          },
          "metadata": {
            "tags": []
          },
          "execution_count": 449
        }
      ]
    },
    {
      "metadata": {
        "id": "HP1WAYeruSD0",
        "colab_type": "text"
      },
      "cell_type": "markdown",
      "source": [
        "There is a bunch of data here about each musher, like when they arrived at each checkpoint, how long it took, what their speed was, and how many dogs they checked in or out.\n",
        "\n",
        "Let's explore the data a bit to see what it looks like. Say we're interested in how the number of dogs on the team affects the speed, we can plot that using the MatPlotLib library.\n",
        "\n",
        "Let's look at the speed versus the number of dogs dropped by each team."
      ]
    },
    {
      "metadata": {
        "id": "p8VbufoWuunJ",
        "colab_type": "code",
        "outputId": "47f93a58-7c5b-491e-ea9b-b41b134a0c98",
        "colab": {
          "base_uri": "https://localhost:8080/",
          "height": 609
        }
      },
      "cell_type": "code",
      "source": [
        "iditarod[\"Dogs_dropped\"] = 16 - iditarod[\"Arrival Dogs\"] #everyone starts with 16 dogs\n",
        "plt.figure(figsize=(10,10)) #set the figure size in inches\n",
        "plt.scatter(iditarod[\"Dogs_dropped\"],iditarod[\"Speed\"],color='blue') # the scatter command make a scatter plot\n",
        "plt.xlabel(\"Dogs Dropped\")\n",
        "plt.ylabel(\"Speed (mph)\")\n",
        "plt.show()"
      ],
      "execution_count": 450,
      "outputs": [
        {
          "output_type": "display_data",
          "data": {
            "image/png": "[encoded data removed]",
            "text/plain": [
              "<Figure size 720x720 with 1 Axes>"
            ]
          },
          "metadata": {
            "tags": []
          }
        }
      ]
    },
    {
      "metadata": {
        "id": "qUq0xjo8v3Uk",
        "colab_type": "text"
      },
      "cell_type": "markdown",
      "source": [
        "**Questions:**\n",
        "* What do you think, is there a trend?\n",
        "* Do mushers go faster when they have more dogs?\n",
        "* What other factors might affect their speed?\n",
        "\n",
        "\n",
        "Let's do some feature conversions and dig into the data a bit more."
      ]
    },
    {
      "metadata": {
        "id": "wcBdzJf9xBXi",
        "colab_type": "code",
        "colab": {
          "base_uri": "https://localhost:8080/",
          "height": 139
        },
        "outputId": "76891fc8-b4db-49de-a050-a4940c1f3ab6"
      },
      "cell_type": "code",
      "source": [
        "#let's drop values that have NA or NaN's\n",
        "iditarod = iditarod.dropna()\n",
        "\n",
        "#then convert the times into machine-readable timestamps\n",
        "\n",
        "# import the datetime module\n",
        "from datetime import datetime\n",
        "\n",
        "# get the Date and Time into a new temporary dataframe\n",
        "# pd.loc[] accesses rows or columns in a dataframe by character labels\n",
        "dt = iditarod.loc[:, ['Arrival Date', 'Arrival Time']] # ':' means 'all rows'\n",
        "\n",
        "# 'apply' applies a function (in this case an anonymous 'lambda' function) to each row (axis=1) of the new dataframe\n",
        "# the function concatenates the Date and Time and converts them into a special 'datetime' object\n",
        "# which then gets saved back into the original dataframe\n",
        "\n",
        "iditarod['Arrival_datetime'] = dt.apply(lambda x: datetime.strptime(x[0] + '/' + x[1], '%m/%d/%Y/%H:%M:%S'), axis=1)\n",
        "\n",
        "# another way to make datetime objects in pandas\n",
        "# iditarod[\"Arrival Time\"] = pd.DatetimeIndex(iditarod[\"Arrival Time\"],dtype='datetime64[ns]')\n",
        "# iditarod[\"Departure Time\"] = pd.DatetimeIndex(iditarod[\"Departure Time\"],dtype='datetime64[ns]')\n"
      ],
      "execution_count": 452,
      "outputs": [
        {
          "output_type": "stream",
          "text": [
            "/usr/local/lib/python3.6/dist-packages/ipykernel_launcher.py:16: SettingWithCopyWarning: \n",
            "A value is trying to be set on a copy of a slice from a DataFrame.\n",
            "Try using .loc[row_indexer,col_indexer] = value instead\n",
            "\n",
            "See the caveats in the documentation: http://pandas.pydata.org/pandas-docs/stable/indexing.html#indexing-view-versus-copy\n",
            "  app.launch_new_instance()\n"
          ],
          "name": "stderr"
        }
      ]
    },
    {
      "metadata": {
        "id": "2xChmo_qYmdN",
        "colab_type": "text"
      },
      "cell_type": "markdown",
      "source": [
        "Now we can plot the number of Dogs Dropped as a function of the Datetime"
      ]
    },
    {
      "metadata": {
        "id": "iGqwFqOGYnET",
        "colab_type": "code",
        "outputId": "9298ccba-c651-4ac2-893c-bc696ef845ae",
        "colab": {
          "base_uri": "https://localhost:8080/",
          "height": 609
        }
      },
      "cell_type": "code",
      "source": [
        "# plot_date is a matplotlib command to use when you're plotting a date or time\n",
        "plt.figure(figsize=(10,10)) #set the figure size in inches\n",
        "plt.plot_date(iditarod[\"Arrival_datetime\"],iditarod[\"Dogs_dropped\"],color='blue') #make a scatter plot\n",
        "plt.xlabel(\"Datetime\")\n",
        "plt.ylabel(\"Dogs Dropped\")\n",
        "plt.show()\n"
      ],
      "execution_count": 18,
      "outputs": [
        {
          "output_type": "display_data",
          "data": {
            "image/png": "[encoded data removed]",
            "text/plain": [
              "<Figure size 720x720 with 1 Axes>"
            ]
          },
          "metadata": {
            "tags": []
          }
        }
      ]
    },
    {
      "metadata": {
        "id": "soMC-duB8yGY",
        "colab_type": "text"
      },
      "cell_type": "markdown",
      "source": [
        "Is there a trend here?\n",
        "\n",
        "It kind of looks like it, but how can we tell for sure?\n",
        "\n",
        "Let's look at one more example."
      ]
    },
    {
      "metadata": {
        "id": "gvA-Waw16bLh",
        "colab_type": "code",
        "outputId": "a4c0d58c-90cb-44a3-8e55-368f36127ff9",
        "colab": {
          "base_uri": "https://localhost:8080/",
          "height": 68
        }
      },
      "cell_type": "code",
      "source": [
        "# let's find the cumulative time and distance traveleled to each checkpoint\n",
        "\n",
        "# first we'll find the unique checkpoints like this:\n",
        "iditarod[\"Checkpoint\"].unique()\n",
        "\n",
        "# then from the Iditarod website we can find the cumulative distances\n",
        "# to each unique checkpoint\n",
        "# https://iditarod.com/race-map/\n"
      ],
      "execution_count": 19,
      "outputs": [
        {
          "output_type": "execute_result",
          "data": {
            "text/plain": [
              "array(['Nenana', 'Manley', 'Tanana', 'Ruby', 'Galena', 'Huslia',\n",
              "       'Koyukuk', 'Nulato', 'Kaltag', 'Unalakleet', 'Shaktoolik', 'Koyuk',\n",
              "       'Elim', 'White Mountain', 'Safety'], dtype=object)"
            ]
          },
          "metadata": {
            "tags": []
          },
          "execution_count": 19
        }
      ]
    },
    {
      "metadata": {
        "id": "-wa-S6vlU922",
        "colab_type": "code",
        "colab": {
          "base_uri": "https://localhost:8080/",
          "height": 326
        },
        "outputId": "0d94da77-aaf1-454f-b033-57b8e52936c9"
      },
      "cell_type": "code",
      "source": [
        "# PS the race started in Fairbanks in 2017 because of global warming\n",
        "\n",
        "# inputing them into a new dictionary ('dict') like so:\n",
        "cumulative_dist = {\n",
        "'Fairbanks'\t: 0,\n",
        "'Nenana'\t: 71,\n",
        "'Manley'\t: 161,\n",
        "'Tanana'\t: 227,\n",
        "'Ruby'\t: 346,\n",
        "'Galena'\t: 396,\n",
        "'Huslia'\t: 478,\n",
        "'Koyukuk'\t: 564,\n",
        "'Nulato'\t: 586,\n",
        "'Kaltag'\t: 633,\n",
        "'Unalakleet'\t: 718,\n",
        "'Shaktoolik'\t: 758,\n",
        "'Koyuk'\t: 808,\n",
        "'Elim'\t: 856,\n",
        "'White Mountain'\t: 902,\n",
        "'Safety'\t: 957,\n",
        "'Nome'\t: 979\n",
        "}\n",
        "\n",
        "# now we can insert those into the iditarod dataframe using the 'replace()' function like so:\n",
        "# this function replacess e.g. \"Huslia\" with \"478\" from the original column (\"Checkpoint\")\n",
        "iditarod[\"Distance_traveled\"] = iditarod[\"Checkpoint\"].replace(cumulative_dist)\n",
        "\n",
        "# finally lets convert the timestamps into hours elapsed since the the start of the race\n",
        "# we subtract the Arrival time from the race start time and use the .astype() function to report the time difference in hours\n",
        "# I know what you're saying -- this isn't perfectly accurate because they actually do a 2-minute staggered start, but I'll leave that as an exercise for the reader\n",
        "\n",
        "racestart = pd.Timestamp('2017-03-06 11:00:00.00000')\n",
        "iditarod[\"Elapsed_time\"] = (iditarod[\"Arrival_datetime\"] - racestart).astype('timedelta64[h]')\n",
        "\n",
        "# now let's take a look at our new features\n",
        "iditarod.head()"
      ],
      "execution_count": 9,
      "outputs": [
        {
          "output_type": "execute_result",
          "data": {
            "text/html": [
              "<div>\n",
              "<style scoped>\n",
              "    .dataframe tbody tr th:only-of-type {\n",
              "        vertical-align: middle;\n",
              "    }\n",
              "\n",
              "    .dataframe tbody tr th {\n",
              "        vertical-align: top;\n",
              "    }\n",
              "\n",
              "    .dataframe thead th {\n",
              "        text-align: right;\n",
              "    }\n",
              "</style>\n",
              "<table border=\"1\" class=\"dataframe\">\n",
              "  <thead>\n",
              "    <tr style=\"text-align: right;\">\n",
              "      <th></th>\n",
              "      <th>Number</th>\n",
              "      <th>Name</th>\n",
              "      <th>Status</th>\n",
              "      <th>Country</th>\n",
              "      <th>Checkpoint</th>\n",
              "      <th>Latitude</th>\n",
              "      <th>Longitude</th>\n",
              "      <th>Distance</th>\n",
              "      <th>Time</th>\n",
              "      <th>Speed</th>\n",
              "      <th>Arrival Date</th>\n",
              "      <th>Arrival Time</th>\n",
              "      <th>Arrival Dogs</th>\n",
              "      <th>Elapsed Time</th>\n",
              "      <th>Departure Date</th>\n",
              "      <th>Departure Time</th>\n",
              "      <th>Departure Dogs</th>\n",
              "      <th>Arrival_datetime</th>\n",
              "      <th>Distance_traveled</th>\n",
              "      <th>Elapsed_time</th>\n",
              "    </tr>\n",
              "  </thead>\n",
              "  <tbody>\n",
              "    <tr>\n",
              "      <th>72</th>\n",
              "      <td>6</td>\n",
              "      <td>Linwood Fiedler</td>\n",
              "      <td>Veteran</td>\n",
              "      <td>United States</td>\n",
              "      <td>Nenana</td>\n",
              "      <td>64.5952</td>\n",
              "      <td>-149.0897</td>\n",
              "      <td>60.0</td>\n",
              "      <td>5.05</td>\n",
              "      <td>11.88</td>\n",
              "      <td>03/06/2017</td>\n",
              "      <td>16:11:00</td>\n",
              "      <td>16.0</td>\n",
              "      <td>3.93</td>\n",
              "      <td>03/06/2017</td>\n",
              "      <td>20:07:00</td>\n",
              "      <td>16.0</td>\n",
              "      <td>2017-03-06 16:11:00</td>\n",
              "      <td>71</td>\n",
              "      <td>5.0</td>\n",
              "    </tr>\n",
              "    <tr>\n",
              "      <th>73</th>\n",
              "      <td>5</td>\n",
              "      <td>Cody Strathe</td>\n",
              "      <td>Veteran</td>\n",
              "      <td>United States</td>\n",
              "      <td>Nenana</td>\n",
              "      <td>64.5952</td>\n",
              "      <td>-149.0897</td>\n",
              "      <td>60.0</td>\n",
              "      <td>5.22</td>\n",
              "      <td>11.50</td>\n",
              "      <td>03/06/2017</td>\n",
              "      <td>16:19:00</td>\n",
              "      <td>16.0</td>\n",
              "      <td>0.12</td>\n",
              "      <td>03/06/2017</td>\n",
              "      <td>16:26:00</td>\n",
              "      <td>16.0</td>\n",
              "      <td>2017-03-06 16:19:00</td>\n",
              "      <td>71</td>\n",
              "      <td>5.0</td>\n",
              "    </tr>\n",
              "    <tr>\n",
              "      <th>74</th>\n",
              "      <td>4</td>\n",
              "      <td>Misha Wiljes</td>\n",
              "      <td>Rookie</td>\n",
              "      <td>Czech Republic</td>\n",
              "      <td>Nenana</td>\n",
              "      <td>64.5952</td>\n",
              "      <td>-149.0897</td>\n",
              "      <td>60.0</td>\n",
              "      <td>5.25</td>\n",
              "      <td>11.43</td>\n",
              "      <td>03/06/2017</td>\n",
              "      <td>16:19:00</td>\n",
              "      <td>15.0</td>\n",
              "      <td>5.93</td>\n",
              "      <td>03/06/2017</td>\n",
              "      <td>22:15:00</td>\n",
              "      <td>15.0</td>\n",
              "      <td>2017-03-06 16:19:00</td>\n",
              "      <td>71</td>\n",
              "      <td>5.0</td>\n",
              "    </tr>\n",
              "    <tr>\n",
              "      <th>75</th>\n",
              "      <td>9</td>\n",
              "      <td>Michelle Phillips</td>\n",
              "      <td>Veteran</td>\n",
              "      <td>Canada</td>\n",
              "      <td>Nenana</td>\n",
              "      <td>64.5952</td>\n",
              "      <td>-149.0897</td>\n",
              "      <td>60.0</td>\n",
              "      <td>5.18</td>\n",
              "      <td>11.58</td>\n",
              "      <td>03/06/2017</td>\n",
              "      <td>16:25:00</td>\n",
              "      <td>16.0</td>\n",
              "      <td>3.48</td>\n",
              "      <td>03/06/2017</td>\n",
              "      <td>19:54:00</td>\n",
              "      <td>16.0</td>\n",
              "      <td>2017-03-06 16:25:00</td>\n",
              "      <td>71</td>\n",
              "      <td>5.0</td>\n",
              "    </tr>\n",
              "    <tr>\n",
              "      <th>76</th>\n",
              "      <td>15</td>\n",
              "      <td>Martin Buser</td>\n",
              "      <td>Veteran</td>\n",
              "      <td>United States</td>\n",
              "      <td>Nenana</td>\n",
              "      <td>64.5952</td>\n",
              "      <td>-149.0897</td>\n",
              "      <td>60.0</td>\n",
              "      <td>5.02</td>\n",
              "      <td>11.96</td>\n",
              "      <td>03/06/2017</td>\n",
              "      <td>16:27:00</td>\n",
              "      <td>16.0</td>\n",
              "      <td>0.23</td>\n",
              "      <td>03/06/2017</td>\n",
              "      <td>16:41:00</td>\n",
              "      <td>16.0</td>\n",
              "      <td>2017-03-06 16:27:00</td>\n",
              "      <td>71</td>\n",
              "      <td>5.0</td>\n",
              "    </tr>\n",
              "  </tbody>\n",
              "</table>\n",
              "</div>"
            ],
            "text/plain": [
              "    Number               Name   Status         Country Checkpoint  Latitude  \\\n",
              "72       6    Linwood Fiedler  Veteran   United States     Nenana   64.5952   \n",
              "73       5       Cody Strathe  Veteran   United States     Nenana   64.5952   \n",
              "74       4       Misha Wiljes   Rookie  Czech Republic     Nenana   64.5952   \n",
              "75       9  Michelle Phillips  Veteran          Canada     Nenana   64.5952   \n",
              "76      15       Martin Buser  Veteran   United States     Nenana   64.5952   \n",
              "\n",
              "    Longitude  Distance  Time  Speed Arrival Date Arrival Time  Arrival Dogs  \\\n",
              "72  -149.0897      60.0  5.05  11.88   03/06/2017     16:11:00          16.0   \n",
              "73  -149.0897      60.0  5.22  11.50   03/06/2017     16:19:00          16.0   \n",
              "74  -149.0897      60.0  5.25  11.43   03/06/2017     16:19:00          15.0   \n",
              "75  -149.0897      60.0  5.18  11.58   03/06/2017     16:25:00          16.0   \n",
              "76  -149.0897      60.0  5.02  11.96   03/06/2017     16:27:00          16.0   \n",
              "\n",
              "    Elapsed Time Departure Date Departure Time  Departure Dogs  \\\n",
              "72          3.93     03/06/2017       20:07:00            16.0   \n",
              "73          0.12     03/06/2017       16:26:00            16.0   \n",
              "74          5.93     03/06/2017       22:15:00            15.0   \n",
              "75          3.48     03/06/2017       19:54:00            16.0   \n",
              "76          0.23     03/06/2017       16:41:00            16.0   \n",
              "\n",
              "      Arrival_datetime Distance_traveled  Elapsed_time  \n",
              "72 2017-03-06 16:11:00                71           5.0  \n",
              "73 2017-03-06 16:19:00                71           5.0  \n",
              "74 2017-03-06 16:19:00                71           5.0  \n",
              "75 2017-03-06 16:25:00                71           5.0  \n",
              "76 2017-03-06 16:27:00                71           5.0  "
            ]
          },
          "metadata": {
            "tags": []
          },
          "execution_count": 9
        }
      ]
    },
    {
      "metadata": {
        "id": "a-q6XmD9DOjA",
        "colab_type": "text"
      },
      "cell_type": "markdown",
      "source": [
        "Ok, your turn!\n",
        "\n",
        "Fill in the missing details to make a scatter plot of the Elapsed Time as a function of the Distance Traveled"
      ]
    },
    {
      "metadata": {
        "id": "BdMJcJFwATW4",
        "colab_type": "code",
        "outputId": "fa282254-e636-4f54-aad5-15e5a1a8c2b3",
        "colab": {
          "base_uri": "https://localhost:8080/",
          "height": 609
        }
      },
      "cell_type": "code",
      "source": [
        "plt.figure(figsize=(10,10)) #set the figure size in inches\n",
        "plt.scatter(iditarod[\"\"],iditarod[\"\"],color='blue') #make a scatter plot\n",
        "plt.xlabel(\"Distance Traveled\")\n",
        "plt.ylabel(\"Elapsed Time\")\n",
        "plt.show()"
      ],
      "execution_count": 0,
      "outputs": [
        {
          "output_type": "display_data",
          "data": {
            "image/png": "[encoded data removed]",
            "text/plain": [
              "<Figure size 720x720 with 1 Axes>"
            ]
          },
          "metadata": {
            "tags": []
          }
        }
      ]
    },
    {
      "metadata": {
        "id": "jjIupi5SX5-r",
        "colab_type": "text"
      },
      "cell_type": "markdown",
      "source": [
        "You'll notice that this dataset violates several rules of traditional statistical analysis:\n",
        "* The sample mean and variances are not independent, in fact they are correlated\n",
        "* The samples are not i.i.d. or \"independent and identically distributed\", since each time point 't' depends on 't-1'\n",
        "* Which means this is a time series, though for now we're going to ignore this\n",
        "* Here's a nice online book about analysing time series data properly:\n",
        "    * [Forecasting: principles and practice](https://otexts.com/fpp2/stationarity.html)\n",
        "* [How (not) to use Machine Learning on Time Series Forecasting](https://towardsdatascience.com/how-not-to-use-machine-learning-for-time-series-forecasting-avoiding-the-pitfalls-19f9d7adf424)"
      ]
    },
    {
      "metadata": {
        "id": "aApvHl2MHDNe",
        "colab_type": "text"
      },
      "cell_type": "markdown",
      "source": [
        "## Introducing Training and Testing Sets\n",
        "\n",
        "In Machine Learning, the way we validate how well the machines are learning is by using two subsets of any given dataset: a Train set, and a Test set. Let's say we split the data 80/20 between these subsets, this means we'll usen80% of the data to Train our model, and reserve 20% to Test whether our predictions are any good.\n",
        "\n",
        "\n",
        "**Some questions to ponder:**\n",
        "\n",
        "* Why don't we train on the whole data set?\n",
        "* Wouldn't we get a better model that way?\n"
      ]
    },
    {
      "metadata": {
        "id": "1L2Z8NRxIA_Z",
        "colab_type": "text"
      },
      "cell_type": "markdown",
      "source": [
        "First, let's work with the Elapsed Time and Distance Traveled data, and split it into Train and Test sets.\n",
        "\n",
        "We'll use scikit-learn, a simple but powerful machine learning toolkit for python.\n",
        "\n",
        "docs: [train_test_split](https://scikit-learn.org/stable/modules/generated/sklearn.model_selection.train_test_split.html)"
      ]
    },
    {
      "metadata": {
        "id": "MXCGftTFt5tt",
        "colab_type": "code",
        "colab": {
          "base_uri": "https://localhost:8080/",
          "height": 357
        },
        "outputId": "43a89132-03fb-4b9a-97a4-ec8f944e7fd2"
      },
      "cell_type": "code",
      "source": [
        "import sklearn #import the scikit-learn package\n",
        "from sklearn.model_selection import train_test_split #import the train_test_split function\n",
        "\n",
        "x = iditarod[\"Distance_traveled\"]\n",
        "y = iditarod[\"Elapsed_time\"]\n",
        "\n",
        "# here we tell sklearn to split our data and reserve 20% for the test set\n",
        "# train_test_split automatically shuffles the data before returning the splits\n",
        "x_train, x_test, y_train, y_test = train_test_split(x, y, test_size=0.2)\n",
        "\n",
        "# we need to convert the data to numpy array and reshape it for input into the linear model function\n",
        "x_train = np.array(x_train)\n",
        "y_train = np.array(y_train)\n",
        "x_test = np.array(x_test)\n",
        "y_test = np.array(y_test)\n",
        "\n",
        "x_train = x_train.reshape(-1,1) # the -1 indicates that that dimension will be inferred from the data\n",
        "x_test = x_test.reshape(-1,1) # so (-1,1) says to reshape the data into 1 column that has the same number of rows as the data\n",
        "y_train = y_train.reshape(-1,1) # the -1 indicates that that dimension will be inferred from the data\n",
        "y_test = y_test.reshape(-1,1) # so (-1,1) says to reshape the data into 1 column that has the same number of rows as the data\n",
        "\n",
        "# mimic \"head\" to preview the x_test set by taking a top slice of the array\n",
        "print(x_test[:10]) # notice x_test values are integers\n",
        "\n",
        "# to \"tail\" take a bottom slice\n",
        "print(y_test[-10:]) # notice y_test values are floats\n"
      ],
      "execution_count": 106,
      "outputs": [
        {
          "output_type": "stream",
          "text": [
            "[[718]\n",
            " [856]\n",
            " [902]\n",
            " [856]\n",
            " [586]\n",
            " [478]\n",
            " [564]\n",
            " [902]\n",
            " [902]\n",
            " [718]]\n",
            "[[233.]\n",
            " [  6.]\n",
            " [ 22.]\n",
            " [236.]\n",
            " [108.]\n",
            " [274.]\n",
            " [165.]\n",
            " [ 87.]\n",
            " [  6.]\n",
            " [188.]]\n"
          ],
          "name": "stdout"
        }
      ]
    },
    {
      "metadata": {
        "id": "64IcRWxPtJ3j",
        "colab_type": "text"
      },
      "cell_type": "markdown",
      "source": [
        "## Simple Linear Regression\n",
        "\n",
        "It turns out, for linear regression it is often possible to calculate the best possible coefficients exactly.\n",
        "\n",
        "### Ordinary Least Squares\n",
        "Here's an example implementing an exact solution to the linear regression problem using Ordinary Least Squares.\n",
        "\n",
        "However, since this is not possible for every function, we will also use machine learning, and will go through an example using gradient descent from scratch.\n",
        "\n"
      ]
    },
    {
      "metadata": {
        "id": "KrFemk57A6sF",
        "colab_type": "code",
        "colab": {
          "base_uri": "https://localhost:8080/",
          "height": 283
        },
        "outputId": "91989e5f-06a6-491c-a6c4-413ad3143745"
      },
      "cell_type": "code",
      "source": [
        "#generate some random correlated data\n",
        "n = 20\n",
        "x = np.random.rand(n)\n",
        "y = np.random.normal(loc=x,scale=0.2,size=n)\n",
        "dy = x - y\n",
        "\n",
        "fig, ax = plt.subplots()\n",
        "\n",
        "ax.scatter(x,y,label=\"observed\",color=\"black\")\n",
        "ax.plot(x,x,label=\"predicted\",color=\"orange\")\n",
        "ax.vlines(x,y,y+dy,label=\"residuals\",color=\"blue\")\n",
        "\n",
        "plt.xlabel(\"x\")\n",
        "plt.ylabel(\"y\")\n",
        "plt.show()"
      ],
      "execution_count": 422,
      "outputs": [
        {
          "output_type": "display_data",
          "data": {
            "image/png": "[encoded data removed]",
            "text/plain": [
              "<Figure size 432x288 with 1 Axes>"
            ]
          },
          "metadata": {
            "tags": []
          }
        }
      ]
    },
    {
      "metadata": {
        "id": "q4ocT0ODFSMr",
        "colab_type": "text"
      },
      "cell_type": "markdown",
      "source": [
        "In the plot above, the orange line is our *estimator* or *best fit line*, which we want to optimize to best predict future values of $y$ given $x$.\n",
        "\n",
        "The blue lines are *residuals* ($r$), or the difference between the predicted and actual values for any given $x$.\n",
        "\n",
        "The goal of simple linear regression is to find the line \n",
        "$$y_i = mx_i+b+r_i$$ that optimizes our ability to predict future $y$s given future $x$s.\n",
        "\n",
        "* $x_i$ is the $i$th value at which a measurement of $y$ was taken\n",
        "* $y_i$ is the observed value at $x_i$\n",
        "* $r_i$ is the observed residual at $x_i$\n",
        "* $\\hat y_i$ is the predicted value at $x_i$\n",
        "* $\\bar x = \\frac{1}{n}\\sum_{i=1}^{n} x_i$, the mean of the $x$s\n",
        "* $\\bar y= \\frac{1}{n}\\sum_{i=1}^{n} y_i$, the mean of the $y$s\n",
        "\n",
        "\n",
        "It turns out that for simple linear regression (that is, when there is only one input and one output variable), the best estimates of the slope ($m$) and intercept ($b$) can be obtained by minimizing the sum of the squared errors of prediction.\n",
        "\n",
        "$$SSE = \\sum_{i=1}^{n}  r_i^2$$\n",
        "\n",
        "Ideally, we want to find the values of $m$ and $b$ that minimize the value of the SSE function. Mathematically, you can do that by expressing SSE in terms of $m$ and $b$, taking the derivatives of SSE with respect to $m$ and $b$, setting these derivatives to zero, and solving for $m$ and $b$. However, we won't go into that derivation here and jump straight to the conclusions, which are:\n",
        "\n",
        "$$m = \\frac{Cov(x,y)}{Var(x)}$$\n",
        "\n",
        "where $Cov(x,y)$ is the covariance:\n",
        "\n",
        "$$Cov(x,y) = \\frac{1}{n}\\sum_{i=1}^{n}(x_i - \\bar x)(y_i - \\bar y)$$\n",
        "\n",
        "and $Var(x)$ is the variance:\n",
        "\n",
        "$$Var(x) = \\frac{1}{n}\\sum_{i=1}^{n} (x_i - \\bar x)^2$$\n",
        "\n",
        "and\n",
        "\n",
        "$$b = \\bar y - m \\cdot \\bar x$$\n",
        "\n",
        "\n",
        "In the example below, we'll calculate these values for the training set"
      ]
    },
    {
      "metadata": {
        "id": "6pwcS8EnhVoZ",
        "colab_type": "code",
        "colab": {
          "base_uri": "https://localhost:8080/",
          "height": 51
        },
        "outputId": "8276a9df-d7b2-455d-ff79-31549fa3f9a0"
      },
      "cell_type": "code",
      "source": [
        "# means of x and y\n",
        "xbar = np.mean(x_train)\n",
        "ybar = np.mean(y_train)\n",
        "\n",
        "# calculate Cov(x,y) and Var(x)\n",
        "cov_xy = (1/n)*np.sum((x_train - mean_x) * (y_train - mean_y))\n",
        "var_x = (1/n)*np.sum((x_train - mean_x) ** 2)\n",
        "\n",
        "# get the estimates of the coefficients using Ordinary Least Squares\n",
        "m = cov_xy / var_x\n",
        "b = ybar - (m * xbar)\n",
        "\n",
        "# Print the coefficients\n",
        "print(\"y = %.2fx + %.2f\" % (m, b))\n",
        "\n",
        "# import the r2_score module from sklearn to calculate the R^2 metric\n",
        "from sklearn.metrics import r2_score # import the r2_score module from sklearn\n",
        "\n",
        "# compare our test set to our training set\n",
        "y_pred = m*x_test + b\n",
        "print('R2 Score:',r2_score(y_test,y_pred))\n"
      ],
      "execution_count": 426,
      "outputs": [
        {
          "output_type": "stream",
          "text": [
            "y = 0.27x + -15.35\n",
            "R2 Score: 0.9381785364698395\n"
          ],
          "name": "stdout"
        }
      ]
    },
    {
      "metadata": {
        "id": "94sYagfURxsv",
        "colab_type": "text"
      },
      "cell_type": "markdown",
      "source": [
        "These are the gold standard coefficients and R2 value that we'll compare the other methods to below."
      ]
    },
    {
      "metadata": {
        "id": "drCVpaAAZ7CX",
        "colab_type": "text"
      },
      "cell_type": "markdown",
      "source": [
        "## sklearn LinearRegression\n",
        "\n",
        "Now that we've split the data into training and testing sets, let's do some linear regression. We'll use the LinearRegression module from sklearn first."
      ]
    },
    {
      "metadata": {
        "id": "RZJGwk_Hte_B",
        "colab_type": "code",
        "outputId": "9216321d-b68a-4bf9-b5de-1ad6c976d625",
        "colab": {
          "base_uri": "https://localhost:8080/",
          "height": 51
        }
      },
      "cell_type": "code",
      "source": [
        "from sklearn.linear_model import LinearRegression # import the LinearRegression module from sklearn\n",
        "\n",
        "clf = LinearRegression() # initiate an object of Class LinearRegression\n",
        "clf.fit(x_train,y_train) # call the fit() function to fit the training data x_train and y_train"
      ],
      "execution_count": 107,
      "outputs": [
        {
          "output_type": "execute_result",
          "data": {
            "text/plain": [
              "LinearRegression(copy_X=True, fit_intercept=True, n_jobs=None,\n",
              "         normalize=False)"
            ]
          },
          "metadata": {
            "tags": []
          },
          "execution_count": 107
        }
      ]
    },
    {
      "metadata": {
        "id": "vo4Z_uauUlnS",
        "colab_type": "text"
      },
      "cell_type": "markdown",
      "source": [
        "That's it!\n",
        "\n",
        "Let's print out the formula for our best fit line using the coefficients found within the 'clf' object"
      ]
    },
    {
      "metadata": {
        "id": "cSHUv9ufOU5Z",
        "colab_type": "code",
        "outputId": "301086cb-d045-48a2-cd5e-66eecfc9dfcc",
        "colab": {
          "base_uri": "https://localhost:8080/",
          "height": 51
        }
      },
      "cell_type": "code",
      "source": [
        "# the formula for the best fit line is\n",
        "slope = clf.coef_[0]\n",
        "intercept = clf.intercept_\n",
        "print(\"y = \" + str(slope[0]) + \"x\" + \" + \" + str(intercept[0])) #str() converts a numeric to a string\n",
        "\n",
        "# get control of those significant figures by printing with nicer formatting\n",
        "print(\"y = %.2fx + %.2f\" % (slope, intercept)) # %.2f says to format a _f_loating-point number to 2 decimal places"
      ],
      "execution_count": 364,
      "outputs": [
        {
          "output_type": "stream",
          "text": [
            "y = 0.26751697604093494x + -15.346844507755577\n",
            "y = 0.27x + -15.35\n"
          ],
          "name": "stdout"
        }
      ]
    },
    {
      "metadata": {
        "id": "5YMSdkc2UbDU",
        "colab_type": "text"
      },
      "cell_type": "markdown",
      "source": [
        "Now that we have a model trained on the training set, we can use it to predict new values.\n",
        "\n",
        "For example, if the Iditarod was 1100 or 1200 miles long instead of 1000, how many hours would it take the average musher to finish?\n"
      ]
    },
    {
      "metadata": {
        "id": "p502J_nCUdQt",
        "colab_type": "code",
        "outputId": "31bf1ab6-a7aa-4db8-bdc8-e63d2707a956",
        "colab": {
          "base_uri": "https://localhost:8080/",
          "height": 51
        }
      },
      "cell_type": "code",
      "source": [
        "y_pred = clf.predict([[1100],[1200]]) # we need double brackets because predict() expects an array of arrays\n",
        "print(y_pred)"
      ],
      "execution_count": 108,
      "outputs": [
        {
          "output_type": "stream",
          "text": [
            "[[278.92182914]\n",
            " [305.67352674]]\n"
          ],
          "name": "stdout"
        }
      ]
    },
    {
      "metadata": {
        "id": "LASjK74aQg7C",
        "colab_type": "text"
      },
      "cell_type": "markdown",
      "source": [
        "Now let's plot the best fit line over the training and testing data"
      ]
    },
    {
      "metadata": {
        "id": "t7V6HKM5QgjP",
        "colab_type": "code",
        "outputId": "715d4e22-9b24-464b-82cc-0480672d3f0f",
        "colab": {
          "base_uri": "https://localhost:8080/",
          "height": 392
        }
      },
      "cell_type": "code",
      "source": [
        "x_fit = np.linspace(0,1000, 50) # linspace(start, stop, num) generates a linearly-spaced numeric array\n",
        "y_fit = slope*x_fit + intercept\n",
        "\n",
        "plt.figure(figsize=(12,6))\n",
        "\n",
        "plt.subplot(1, 2, 1) #subplot(nrows, ncols, index) allows for multiple plots on one page\n",
        "plt.scatter(x_train,y_train,color='red',label='train')\n",
        "plt.plot(x_fit,y_fit,color='black',label = 'prediction')\n",
        "plt.legend()\n",
        "plt.xlabel(\"Distance Traveled\")\n",
        "plt.ylabel(\"Elapsed Time\")\n",
        "\n",
        "plt.subplot(1, 2, 2)\n",
        "plt.scatter(x_test,y_test,color='blue',label='test')\n",
        "plt.plot(x_fit,y_fit,color='black',label = 'prediction')\n",
        "plt.legend()\n",
        "plt.xlabel(\"Distance Traveled\")\n",
        "plt.ylabel(\"Elapsed Time\")\n",
        "\n",
        "plt.show()"
      ],
      "execution_count": 367,
      "outputs": [
        {
          "output_type": "display_data",
          "data": {
            "image/png": "[encoded data removed]",
            "text/plain": [
              "<Figure size 864x432 with 2 Axes>"
            ]
          },
          "metadata": {
            "tags": []
          }
        }
      ]
    },
    {
      "metadata": {
        "id": "SbtAJkcOaf-N",
        "colab_type": "text"
      },
      "cell_type": "markdown",
      "source": [
        "Finally, let's use the Test set to validate how well we did on our predictions.\n",
        "\n",
        "We'll use the R<sup>2</sup> test to do so along with the sklearn predict() function\n"
      ]
    },
    {
      "metadata": {
        "id": "-5CTzFGitnrz",
        "colab_type": "code",
        "outputId": "5fdb9289-937d-40c5-a10f-5ab28de180bc",
        "colab": {
          "base_uri": "https://localhost:8080/",
          "height": 51
        }
      },
      "cell_type": "code",
      "source": [
        "# first we'll use the sklearn predict() function\n",
        "y_pred = clf.predict(x_test)\n",
        "print('R2 Score:',r2_score(y_test,y_pred))\n",
        "\n",
        "# if we wanted to do the prediction manually we could do it like this\n",
        "y_pred = slope * x_test + intercept\n",
        "print('R2 Score:',r2_score(y_test,y_pred))\n"
      ],
      "execution_count": 111,
      "outputs": [
        {
          "output_type": "stream",
          "text": [
            "R2 Score: 0.9381785364698394\n",
            "R2 Score: 0.9381785364698394\n"
          ],
          "name": "stdout"
        }
      ]
    },
    {
      "metadata": {
        "id": "KXC39Izra2Ia",
        "colab_type": "text"
      },
      "cell_type": "markdown",
      "source": [
        "Not too bad!\n",
        "\n",
        "**Question:** What features might we add to make our predictions better next time?"
      ]
    },
    {
      "metadata": {
        "id": "McnfTUP5a9e4",
        "colab_type": "text"
      },
      "cell_type": "markdown",
      "source": [
        "## Linear Regression by Gradient Descent\n",
        "\n",
        "\"Training a machine learning algorithm or a neural network is really just the process of minimizing the cost function\"\n",
        "\n",
        "Let's see how that works under the hood\n",
        "\n",
        "\n",
        "Some background info:\n",
        "  * [Linear Regression in Python](https://towardsdatascience.com/linear-regression-in-python-9a1f5f000606)\n",
        "  \n",
        "  * [Linear Regression Using Gradient Descent in 10 Lines of Code](https://towardsdatascience.com/linear-regression-using-gradient-descent-in-10-lines-of-code-642f995339c0)\n",
        "  \n",
        "  *  [Linear Regression using Gradient Descent](https://towardsdatascience.com/linear-regression-using-gradient-descent-97a6c8700931)\n",
        "\n",
        "* This [video](https://www.youtube.com/embed/yFPLyDwVifc) from Andrew Ng's Machine Learning course at Stanford may be useful\n",
        "\n"
      ]
    },
    {
      "metadata": {
        "id": "kfIE29IeMpmD",
        "colab_type": "text"
      },
      "cell_type": "markdown",
      "source": [
        "### Derivation\n",
        "\n",
        "The nature of the gradient descent method is to iteratively update our best guesses for each parameter by calculating the gradients (or partial derivatives) of the system at each iteration for each parameter. Then we use the gradients to adjust the direction and rate of travel through the parameter space.\n",
        "\n",
        "\n",
        "In the following derivation we'll define $y_i$ as the observed value at $x_i$ and $\\hat{y}_i$ as the predicted value at $x_i$\n",
        "\n",
        "\n",
        "Our linear equation for prediction is: $$\\hat{y}_i = mx_i + b$$\n",
        "\n",
        "\n",
        "For our Error (or Loss, or Cost) function we'll use the Root Mean Square Error (RMSE), which is the standard deviation of the residuals (prediction errors). This isn't the only possible Error function and depending on the application, several others are used in machine learning.\n",
        "\n",
        "$$E =\\frac {1}{n}\\sum(y_i - \\hat{y}_i)^2$$\n",
        "\n",
        "To calculate the gradients, we'll need to take the partial derivatives with respect to each of the parameters we'll be adjusting, in this case $m$ (the slope) and $b$ (the intercept). Let's walk through the derivation.\n",
        "\n",
        "Substituting for $\\hat{y}_i$, we get\n",
        "$$E =\\frac {1}{n}\\sum \\big(y_i - (mx_i + b)\\big)^2$$\n",
        "\n",
        "Expanding, we get\n",
        "$$E =\\frac {1}{n}\\sum\\big(y_i - (mx_i + b)\\big)\\big(y_i - (mx_i + b)\\big)$$\n",
        "\n",
        "and  FOILing we get\n",
        "$$E =\\frac {1}{n}\\sum y_i^2 - 2y_i(mx_i + b) + (mx_i+b)^2$$\n",
        "\n",
        "and just for clarity let's multiply the whole thing out\n",
        "$$E =\\frac {1}{n}\\sum y_i^2 - 2mx_iy_i - 2by_i +m^2x_i^2 + 2bmx_i+b^2$$\n",
        "\n",
        "Then to get the gradients with respect to $m$ and $b$ we take the partial derivatives w.r.t. each, remembering that constants differentiate to 0\n",
        "\n",
        "$$\\frac{\\partial E}{\\partial m} = \\frac {1}{n}\\sum 0 - 2x_iy_i - 0 + 2mx_i^2 + 2bx_i + 0$$\n",
        "\n",
        "Pulling out a factor of $-2x_i$, we get\n",
        "\n",
        "$$\\frac{\\partial E}{\\partial m} = \\frac {1}{n}\\sum -2x_i(y_i - mx_i - b)$$\n",
        "\n",
        "and finally rearranging and using a simpler functional notation, we get\n",
        "$$D_m = -\\frac {2}{n}\\sum x_i\\big(y_i-(mx_i +b)\\big)$$\n",
        "\n",
        "which could also be written\n",
        "$$D_m = -\\frac {2}{n}\\sum x_i\\big(y_i-\\hat y_i\\big)$$\n",
        "\n",
        "As for $b$, when we take the partial derivative we get\n",
        "$$\\frac{\\partial E}{\\partial b} =\\frac {1}{n}\\sum 0 - 0 - 2y_i + 0 + 2mx_i+2b$$\n",
        "\n",
        "\n",
        "Pulling out a factor of $-2$ and rearranging as before we get\n",
        "$$D_b = -\\frac{2}{n}\\sum \\big(y_i - (mx_i + b)\\big)$$\n",
        "\n",
        "which could also be written\n",
        "$$D_b = -\\frac {2}{n}\\sum \\big(y_i-\\hat y_i\\big)$$\n",
        "\n",
        "\n",
        "Now we can use these gradients to update our guesses using the following equations, where $L$ is the *learning rate*. Again, this is just one possible way to update our guesses, and other more sophisticated ways are often used in machine learning.\n",
        "\n",
        "$$m = m - L \\cdot Dm $$\n",
        "$$b = b - L \\cdot Db $$\n",
        "\n",
        "\n",
        "\n"
      ]
    },
    {
      "metadata": {
        "id": "vr3pgoRW6KnB",
        "colab_type": "text"
      },
      "cell_type": "markdown",
      "source": [
        "### Implementation"
      ]
    },
    {
      "metadata": {
        "id": "WpVIcmNztk4p",
        "colab_type": "code",
        "colab": {},
        "cellView": "code"
      },
      "cell_type": "code",
      "source": [
        "## Linear Regression by gradient descent using least squares error\n",
        "\n",
        "# let's define a function that implements gradient descent for linear regression\n",
        "# using the error criterion E = (1/n)*sum((y_i - yhat_i)^2)\n",
        "\n",
        "def linear_regression_lse(x_i, y_i, m=0, b=0, L=1e-6, epochs=1000, plotevery=100):\n",
        "  grid = widgets.Grid(1, 1) #setup colab grid output\n",
        "  n = float(len(y_i)) #calculate length of input data\n",
        "  Esave = np.full(epochs, np.nan) #initialize an array of 'epochs' length with NaNs\n",
        "  for i in range(epochs): #perform loop 'epochs' times\n",
        "      yhat_i = m * x_i + b #calculate predictions using current guesses\n",
        "      E = (1/n)*np.sum((y_i - yhat_i)**2) #calculate the cost function for display\n",
        "      Esave[i] = math.log(E) #save the logarithm of the cost function\n",
        "\n",
        "      # now we update our guesses\n",
        "      # note that we always update the values simultaneously rather than sequentially\n",
        "      Dm = (-2/n) * np.sum(x_i * (y_i - (m * x_i + b))) #calculate the gradient of (derivative w.r.t.) the slope\n",
        "      Db = (-2/n) * np.sum(y_i - (m * x_i + b)) #calculate the gradient of (derivative w.r.t.) the intercept\n",
        "      m = m - L * Dm # update the slope\n",
        "      b = b - L * Db # update the intercept\n",
        "      \n",
        "      # do some plotting so we can see how we're doing\n",
        "      if(i%plotevery == 0 or i+1 == epochs or i==0): #plot every 'plotevery' iterations\n",
        "        with grid.output_to(0, 0): #tell colab to plot to a certain grid cell\n",
        "          grid.clear_cell() #clear the grid cell to plot to\n",
        "          plt.figure(figsize=(12,6)) #plot a new figure with width=12 height=6\n",
        "          plt.subplot(1, 2, 1) # slot first figure into index 1 of a 1-row 2-column grid\n",
        "          plt.scatter(x_i,y_i,color=\"red\",label='y_i') #plot the observed points\n",
        "          plt.plot(x_i,yhat_i,color='black',label = 'yhat_i') #plot the prediction line\n",
        "          plt.legend() #plot the legend\n",
        "          plt.xlabel(\"Distance Traveled\") #plot x label\n",
        "          plt.ylabel(\"Elapsed Time\") #plot y label\n",
        "          plt.title(\"step=\" + str(i) + \"   log(cost)=%.5f\" % Esave[i] + \"   y = %.2fx + %.2f\" % (m, b)) # plot title\n",
        "          plt.subplot(1, 2, 2) # slot second figure into index 2 of a 1-row 2-column grid\n",
        "          plt.scatter(range(len(Esave)),Esave) #plot the costs\n",
        "          plt.xlabel(\"iterations\")\n",
        "          plt.ylabel(\"log(E)\")\n",
        "          try: #try this...\n",
        "            plt.ylim(Esave[i],Esave[i-round(i/1.11)]) #scale the y axis to fit the last 90% of the points\n",
        "          except: #but if it doesn't work, do this...\n",
        "            plt.ylim(0,max(Esave)) #scale the y axis to all of the points\n",
        "\n",
        "            #           time.sleep(0.5) #sleep for half a second if it's updating too fast\n",
        "\n",
        "        # when we're done with all the iterations, return the requested values\n",
        "  return m, b, E\n"
      ],
      "execution_count": 0,
      "outputs": []
    },
    {
      "metadata": {
        "id": "N2w3vJQKiqqH",
        "colab_type": "code",
        "colab": {
          "base_uri": "https://localhost:8080/",
          "height": 442
        },
        "outputId": "5726253b-f069-48cf-bf79-c0bfa459760b"
      },
      "cell_type": "code",
      "source": [
        "# widgets are some Colab-specific tools\n",
        "# https://colab.research.google.com/notebooks/widgets.ipynb\n",
        "from google.colab import widgets\n",
        "import math # the math library contains useful functions like math.log()\n",
        "\n",
        "lg = linear_regression_lse(x_train, y_train, L=1e-6, epochs=100, plotevery=5)\n",
        "print(\"y = %.2fx + %.2f\" % (lg[0], lg[1]))\n",
        "\n",
        "y_pred = lg[0]*x_test + lg[1]\n",
        "print('R2 Score:',r2_score(y_test,y_pred))\n"
      ],
      "execution_count": 447,
      "outputs": [
        {
          "output_type": "display_data",
          "data": {
            "text/html": [
              "<style>\n",
              "       table#id1582, #id1582 > tbody > tr > th, #id1582 > tbody > tr > td {\n",
              "         border: 1px solid lightgray;\n",
              "         border-collapse:collapse;\n",
              "         \n",
              "        }</style>"
            ],
            "text/plain": [
              "<IPython.core.display.HTML object>"
            ]
          },
          "metadata": {
            "tags": [
              "outputarea_id1582"
            ]
          }
        },
        {
          "output_type": "display_data",
          "data": {
            "text/html": [
              "<table id=id1582><tr><td id=id1582-0-0></td></tr></table>"
            ],
            "text/plain": [
              "<IPython.core.display.HTML object>"
            ]
          },
          "metadata": {
            "tags": [
              "outputarea_id1582"
            ]
          }
        },
        {
          "output_type": "display_data",
          "data": {
            "application/javascript": [
              "window[\"a8404080-661e-11e9-aa0a-0242ac1c0002\"] = google.colab.output.getActiveOutputArea();\n",
              "//# sourceURL=js_a269bf6ad3"
            ],
            "text/plain": [
              "<IPython.core.display.Javascript object>"
            ]
          },
          "metadata": {
            "tags": [
              "id1582-0-0",
              "outputarea_id1582"
            ]
          }
        },
        {
          "output_type": "display_data",
          "data": {
            "application/javascript": [
              "window[\"a8407d34-661e-11e9-aa0a-0242ac1c0002\"] = document.querySelector(\"#id1582-0-0\");\n",
              "//# sourceURL=js_b5f5ece686"
            ],
            "text/plain": [
              "<IPython.core.display.Javascript object>"
            ]
          },
          "metadata": {
            "tags": [
              "id1582-0-0",
              "outputarea_id1582"
            ]
          }
        },
        {
          "output_type": "display_data",
          "data": {
            "application/javascript": [
              "window[\"a840d504-661e-11e9-aa0a-0242ac1c0002\"] = google.colab.output.setActiveOutputArea(window[\"a8407d34-661e-11e9-aa0a-0242ac1c0002\"]);\n",
              "//# sourceURL=js_ae9f09a4a7"
            ],
            "text/plain": [
              "<IPython.core.display.Javascript object>"
            ]
          },
          "metadata": {
            "tags": [
              "id1582-0-0",
              "outputarea_id1582"
            ]
          }
        },
        {
          "output_type": "display_data",
          "data": {
            "application/javascript": [
              "window[\"a8936de6-661e-11e9-aa0a-0242ac1c0002\"] = google.colab.output.setActiveOutputArea(window[\"a8404080-661e-11e9-aa0a-0242ac1c0002\"]);\n",
              "//# sourceURL=js_fe8dc1cbd9"
            ],
            "text/plain": [
              "<IPython.core.display.Javascript object>"
            ]
          },
          "metadata": {
            "tags": [
              "id1582-0-0",
              "outputarea_id1582"
            ]
          }
        },
        {
          "output_type": "display_data",
          "data": {
            "application/javascript": [
              "window[\"a89729a4-661e-11e9-aa0a-0242ac1c0002\"] = google.colab.output.getActiveOutputArea();\n",
              "//# sourceURL=js_78039a3d22"
            ],
            "text/plain": [
              "<IPython.core.display.Javascript object>"
            ]
          },
          "metadata": {
            "tags": [
              "id1582-0-0",
              "outputarea_id1582"
            ]
          }
        },
        {
          "output_type": "display_data",
          "data": {
            "application/javascript": [
              "window[\"a897dfc0-661e-11e9-aa0a-0242ac1c0002\"] = document.querySelector(\"#id1582-0-0\");\n",
              "//# sourceURL=js_814f98016f"
            ],
            "text/plain": [
              "<IPython.core.display.Javascript object>"
            ]
          },
          "metadata": {
            "tags": [
              "id1582-0-0",
              "outputarea_id1582"
            ]
          }
        },
        {
          "output_type": "display_data",
          "data": {
            "application/javascript": [
              "window[\"a8985c02-661e-11e9-aa0a-0242ac1c0002\"] = google.colab.output.setActiveOutputArea(window[\"a897dfc0-661e-11e9-aa0a-0242ac1c0002\"]);\n",
              "//# sourceURL=js_556869cb07"
            ],
            "text/plain": [
              "<IPython.core.display.Javascript object>"
            ]
          },
          "metadata": {
            "tags": [
              "id1582-0-0",
              "outputarea_id1582"
            ]
          }
        },
        {
          "output_type": "display_data",
          "data": {
            "application/javascript": [
              "window[\"a902d000-661e-11e9-aa0a-0242ac1c0002\"] = google.colab.output.setActiveOutputArea(window[\"a89729a4-661e-11e9-aa0a-0242ac1c0002\"]);\n",
              "//# sourceURL=js_3f1a75ac8c"
            ],
            "text/plain": [
              "<IPython.core.display.Javascript object>"
            ]
          },
          "metadata": {
            "tags": [
              "id1582-0-0",
              "outputarea_id1582"
            ]
          }
        },
        {
          "output_type": "display_data",
          "data": {
            "application/javascript": [
              "window[\"a90498e0-661e-11e9-aa0a-0242ac1c0002\"] = google.colab.output.getActiveOutputArea();\n",
              "//# sourceURL=js_a9a2ccec21"
            ],
            "text/plain": [
              "<IPython.core.display.Javascript object>"
            ]
          },
          "metadata": {
            "tags": [
              "id1582-0-0",
              "outputarea_id1582"
            ]
          }
        },
        {
          "output_type": "display_data",
          "data": {
            "application/javascript": [
              "window[\"a904d8a0-661e-11e9-aa0a-0242ac1c0002\"] = document.querySelector(\"#id1582-0-0\");\n",
              "//# sourceURL=js_16bb9cc18b"
            ],
            "text/plain": [
              "<IPython.core.display.Javascript object>"
            ]
          },
          "metadata": {
            "tags": [
              "id1582-0-0",
              "outputarea_id1582"
            ]
          }
        },
        {
          "output_type": "display_data",
          "data": {
            "application/javascript": [
              "window[\"a9050596-661e-11e9-aa0a-0242ac1c0002\"] = google.colab.output.setActiveOutputArea(window[\"a904d8a0-661e-11e9-aa0a-0242ac1c0002\"]);\n",
              "//# sourceURL=js_7820b9da92"
            ],
            "text/plain": [
              "<IPython.core.display.Javascript object>"
            ]
          },
          "metadata": {
            "tags": [
              "id1582-0-0",
              "outputarea_id1582"
            ]
          }
        },
        {
          "output_type": "display_data",
          "data": {
            "application/javascript": [
              "window[\"a9446fa6-661e-11e9-aa0a-0242ac1c0002\"] = google.colab.output.setActiveOutputArea(window[\"a90498e0-661e-11e9-aa0a-0242ac1c0002\"]);\n",
              "//# sourceURL=js_ccb9418a42"
            ],
            "text/plain": [
              "<IPython.core.display.Javascript object>"
            ]
          },
          "metadata": {
            "tags": [
              "id1582-0-0",
              "outputarea_id1582"
            ]
          }
        },
        {
          "output_type": "display_data",
          "data": {
            "application/javascript": [
              "window[\"a945a4d4-661e-11e9-aa0a-0242ac1c0002\"] = google.colab.output.getActiveOutputArea();\n",
              "//# sourceURL=js_72712d01ea"
            ],
            "text/plain": [
              "<IPython.core.display.Javascript object>"
            ]
          },
          "metadata": {
            "tags": [
              "id1582-0-0",
              "outputarea_id1582"
            ]
          }
        },
        {
          "output_type": "display_data",
          "data": {
            "application/javascript": [
              "window[\"a945e570-661e-11e9-aa0a-0242ac1c0002\"] = document.querySelector(\"#id1582-0-0\");\n",
              "//# sourceURL=js_c6d6ad600f"
            ],
            "text/plain": [
              "<IPython.core.display.Javascript object>"
            ]
          },
          "metadata": {
            "tags": [
              "id1582-0-0",
              "outputarea_id1582"
            ]
          }
        },
        {
          "output_type": "display_data",
          "data": {
            "application/javascript": [
              "window[\"a946163a-661e-11e9-aa0a-0242ac1c0002\"] = google.colab.output.setActiveOutputArea(window[\"a945e570-661e-11e9-aa0a-0242ac1c0002\"]);\n",
              "//# sourceURL=js_3845489206"
            ],
            "text/plain": [
              "<IPython.core.display.Javascript object>"
            ]
          },
          "metadata": {
            "tags": [
              "id1582-0-0",
              "outputarea_id1582"
            ]
          }
        },
        {
          "output_type": "display_data",
          "data": {
            "application/javascript": [
              "window[\"a98679fa-661e-11e9-aa0a-0242ac1c0002\"] = google.colab.output.setActiveOutputArea(window[\"a945a4d4-661e-11e9-aa0a-0242ac1c0002\"]);\n",
              "//# sourceURL=js_62686ab770"
            ],
            "text/plain": [
              "<IPython.core.display.Javascript object>"
            ]
          },
          "metadata": {
            "tags": [
              "id1582-0-0",
              "outputarea_id1582"
            ]
          }
        },
        {
          "output_type": "display_data",
          "data": {
            "application/javascript": [
              "window[\"a987b0b8-661e-11e9-aa0a-0242ac1c0002\"] = google.colab.output.getActiveOutputArea();\n",
              "//# sourceURL=js_d1f8fdb423"
            ],
            "text/plain": [
              "<IPython.core.display.Javascript object>"
            ]
          },
          "metadata": {
            "tags": [
              "id1582-0-0",
              "outputarea_id1582"
            ]
          }
        },
        {
          "output_type": "display_data",
          "data": {
            "application/javascript": [
              "window[\"a987ec86-661e-11e9-aa0a-0242ac1c0002\"] = document.querySelector(\"#id1582-0-0\");\n",
              "//# sourceURL=js_0f0557fc80"
            ],
            "text/plain": [
              "<IPython.core.display.Javascript object>"
            ]
          },
          "metadata": {
            "tags": [
              "id1582-0-0",
              "outputarea_id1582"
            ]
          }
        },
        {
          "output_type": "display_data",
          "data": {
            "application/javascript": [
              "window[\"a9882066-661e-11e9-aa0a-0242ac1c0002\"] = google.colab.output.setActiveOutputArea(window[\"a987ec86-661e-11e9-aa0a-0242ac1c0002\"]);\n",
              "//# sourceURL=js_30967f2857"
            ],
            "text/plain": [
              "<IPython.core.display.Javascript object>"
            ]
          },
          "metadata": {
            "tags": [
              "id1582-0-0",
              "outputarea_id1582"
            ]
          }
        },
        {
          "output_type": "display_data",
          "data": {
            "application/javascript": [
              "window[\"a9d9f7e2-661e-11e9-aa0a-0242ac1c0002\"] = google.colab.output.setActiveOutputArea(window[\"a987b0b8-661e-11e9-aa0a-0242ac1c0002\"]);\n",
              "//# sourceURL=js_f398b6e15b"
            ],
            "text/plain": [
              "<IPython.core.display.Javascript object>"
            ]
          },
          "metadata": {
            "tags": [
              "id1582-0-0",
              "outputarea_id1582"
            ]
          }
        },
        {
          "output_type": "display_data",
          "data": {
            "application/javascript": [
              "window[\"a9dc9236-661e-11e9-aa0a-0242ac1c0002\"] = google.colab.output.getActiveOutputArea();\n",
              "//# sourceURL=js_d63bb9823c"
            ],
            "text/plain": [
              "<IPython.core.display.Javascript object>"
            ]
          },
          "metadata": {
            "tags": [
              "id1582-0-0",
              "outputarea_id1582"
            ]
          }
        },
        {
          "output_type": "display_data",
          "data": {
            "application/javascript": [
              "window[\"a9dcff32-661e-11e9-aa0a-0242ac1c0002\"] = document.querySelector(\"#id1582-0-0\");\n",
              "//# sourceURL=js_fc993c0488"
            ],
            "text/plain": [
              "<IPython.core.display.Javascript object>"
            ]
          },
          "metadata": {
            "tags": [
              "id1582-0-0",
              "outputarea_id1582"
            ]
          }
        },
        {
          "output_type": "display_data",
          "data": {
            "application/javascript": [
              "window[\"a9dd6044-661e-11e9-aa0a-0242ac1c0002\"] = google.colab.output.setActiveOutputArea(window[\"a9dcff32-661e-11e9-aa0a-0242ac1c0002\"]);\n",
              "//# sourceURL=js_01dccf5762"
            ],
            "text/plain": [
              "<IPython.core.display.Javascript object>"
            ]
          },
          "metadata": {
            "tags": [
              "id1582-0-0",
              "outputarea_id1582"
            ]
          }
        },
        {
          "output_type": "display_data",
          "data": {
            "application/javascript": [
              "window[\"aa2a62ae-661e-11e9-aa0a-0242ac1c0002\"] = google.colab.output.setActiveOutputArea(window[\"a9dc9236-661e-11e9-aa0a-0242ac1c0002\"]);\n",
              "//# sourceURL=js_eee46f7aa7"
            ],
            "text/plain": [
              "<IPython.core.display.Javascript object>"
            ]
          },
          "metadata": {
            "tags": [
              "id1582-0-0",
              "outputarea_id1582"
            ]
          }
        },
        {
          "output_type": "display_data",
          "data": {
            "application/javascript": [
              "window[\"aa2c87fa-661e-11e9-aa0a-0242ac1c0002\"] = google.colab.output.getActiveOutputArea();\n",
              "//# sourceURL=js_dcbcf9e092"
            ],
            "text/plain": [
              "<IPython.core.display.Javascript object>"
            ]
          },
          "metadata": {
            "tags": [
              "id1582-0-0",
              "outputarea_id1582"
            ]
          }
        },
        {
          "output_type": "display_data",
          "data": {
            "application/javascript": [
              "window[\"aa2cee16-661e-11e9-aa0a-0242ac1c0002\"] = document.querySelector(\"#id1582-0-0\");\n",
              "//# sourceURL=js_07d200e0dd"
            ],
            "text/plain": [
              "<IPython.core.display.Javascript object>"
            ]
          },
          "metadata": {
            "tags": [
              "id1582-0-0",
              "outputarea_id1582"
            ]
          }
        },
        {
          "output_type": "display_data",
          "data": {
            "application/javascript": [
              "window[\"aa2d2f84-661e-11e9-aa0a-0242ac1c0002\"] = google.colab.output.setActiveOutputArea(window[\"aa2cee16-661e-11e9-aa0a-0242ac1c0002\"]);\n",
              "//# sourceURL=js_aa19c01911"
            ],
            "text/plain": [
              "<IPython.core.display.Javascript object>"
            ]
          },
          "metadata": {
            "tags": [
              "id1582-0-0",
              "outputarea_id1582"
            ]
          }
        },
        {
          "output_type": "display_data",
          "data": {
            "application/javascript": [
              "window[\"aa7a24f6-661e-11e9-aa0a-0242ac1c0002\"] = google.colab.output.setActiveOutputArea(window[\"aa2c87fa-661e-11e9-aa0a-0242ac1c0002\"]);\n",
              "//# sourceURL=js_1f5572e8df"
            ],
            "text/plain": [
              "<IPython.core.display.Javascript object>"
            ]
          },
          "metadata": {
            "tags": [
              "id1582-0-0",
              "outputarea_id1582"
            ]
          }
        },
        {
          "output_type": "display_data",
          "data": {
            "application/javascript": [
              "window[\"aa7be444-661e-11e9-aa0a-0242ac1c0002\"] = google.colab.output.getActiveOutputArea();\n",
              "//# sourceURL=js_0ef688bb95"
            ],
            "text/plain": [
              "<IPython.core.display.Javascript object>"
            ]
          },
          "metadata": {
            "tags": [
              "id1582-0-0",
              "outputarea_id1582"
            ]
          }
        },
        {
          "output_type": "display_data",
          "data": {
            "application/javascript": [
              "window[\"aa7c24b8-661e-11e9-aa0a-0242ac1c0002\"] = document.querySelector(\"#id1582-0-0\");\n",
              "//# sourceURL=js_dd5920b408"
            ],
            "text/plain": [
              "<IPython.core.display.Javascript object>"
            ]
          },
          "metadata": {
            "tags": [
              "id1582-0-0",
              "outputarea_id1582"
            ]
          }
        },
        {
          "output_type": "display_data",
          "data": {
            "application/javascript": [
              "window[\"aa7c6162-661e-11e9-aa0a-0242ac1c0002\"] = google.colab.output.setActiveOutputArea(window[\"aa7c24b8-661e-11e9-aa0a-0242ac1c0002\"]);\n",
              "//# sourceURL=js_f1de8175a1"
            ],
            "text/plain": [
              "<IPython.core.display.Javascript object>"
            ]
          },
          "metadata": {
            "tags": [
              "id1582-0-0",
              "outputarea_id1582"
            ]
          }
        },
        {
          "output_type": "display_data",
          "data": {
            "application/javascript": [
              "window[\"aacae2ec-661e-11e9-aa0a-0242ac1c0002\"] = google.colab.output.setActiveOutputArea(window[\"aa7be444-661e-11e9-aa0a-0242ac1c0002\"]);\n",
              "//# sourceURL=js_9a29f92dac"
            ],
            "text/plain": [
              "<IPython.core.display.Javascript object>"
            ]
          },
          "metadata": {
            "tags": [
              "id1582-0-0",
              "outputarea_id1582"
            ]
          }
        },
        {
          "output_type": "display_data",
          "data": {
            "application/javascript": [
              "window[\"aaccae56-661e-11e9-aa0a-0242ac1c0002\"] = google.colab.output.getActiveOutputArea();\n",
              "//# sourceURL=js_adec8d17b5"
            ],
            "text/plain": [
              "<IPython.core.display.Javascript object>"
            ]
          },
          "metadata": {
            "tags": [
              "id1582-0-0",
              "outputarea_id1582"
            ]
          }
        },
        {
          "output_type": "display_data",
          "data": {
            "application/javascript": [
              "window[\"aaccf140-661e-11e9-aa0a-0242ac1c0002\"] = document.querySelector(\"#id1582-0-0\");\n",
              "//# sourceURL=js_bacc67d8ad"
            ],
            "text/plain": [
              "<IPython.core.display.Javascript object>"
            ]
          },
          "metadata": {
            "tags": [
              "id1582-0-0",
              "outputarea_id1582"
            ]
          }
        },
        {
          "output_type": "display_data",
          "data": {
            "application/javascript": [
              "window[\"aacd3380-661e-11e9-aa0a-0242ac1c0002\"] = google.colab.output.setActiveOutputArea(window[\"aaccf140-661e-11e9-aa0a-0242ac1c0002\"]);\n",
              "//# sourceURL=js_93172d25f3"
            ],
            "text/plain": [
              "<IPython.core.display.Javascript object>"
            ]
          },
          "metadata": {
            "tags": [
              "id1582-0-0",
              "outputarea_id1582"
            ]
          }
        },
        {
          "output_type": "display_data",
          "data": {
            "application/javascript": [
              "window[\"ab1d106c-661e-11e9-aa0a-0242ac1c0002\"] = google.colab.output.setActiveOutputArea(window[\"aaccae56-661e-11e9-aa0a-0242ac1c0002\"]);\n",
              "//# sourceURL=js_7dfce65ee2"
            ],
            "text/plain": [
              "<IPython.core.display.Javascript object>"
            ]
          },
          "metadata": {
            "tags": [
              "id1582-0-0",
              "outputarea_id1582"
            ]
          }
        },
        {
          "output_type": "display_data",
          "data": {
            "application/javascript": [
              "window[\"ab20309e-661e-11e9-aa0a-0242ac1c0002\"] = google.colab.output.getActiveOutputArea();\n",
              "//# sourceURL=js_ca67b4ccd3"
            ],
            "text/plain": [
              "<IPython.core.display.Javascript object>"
            ]
          },
          "metadata": {
            "tags": [
              "id1582-0-0",
              "outputarea_id1582"
            ]
          }
        },
        {
          "output_type": "display_data",
          "data": {
            "application/javascript": [
              "window[\"ab20e03e-661e-11e9-aa0a-0242ac1c0002\"] = document.querySelector(\"#id1582-0-0\");\n",
              "//# sourceURL=js_e761ada47d"
            ],
            "text/plain": [
              "<IPython.core.display.Javascript object>"
            ]
          },
          "metadata": {
            "tags": [
              "id1582-0-0",
              "outputarea_id1582"
            ]
          }
        },
        {
          "output_type": "display_data",
          "data": {
            "application/javascript": [
              "window[\"ab215208-661e-11e9-aa0a-0242ac1c0002\"] = google.colab.output.setActiveOutputArea(window[\"ab20e03e-661e-11e9-aa0a-0242ac1c0002\"]);\n",
              "//# sourceURL=js_32c787964b"
            ],
            "text/plain": [
              "<IPython.core.display.Javascript object>"
            ]
          },
          "metadata": {
            "tags": [
              "id1582-0-0",
              "outputarea_id1582"
            ]
          }
        },
        {
          "output_type": "display_data",
          "data": {
            "application/javascript": [
              "window[\"ab6c51e0-661e-11e9-aa0a-0242ac1c0002\"] = google.colab.output.setActiveOutputArea(window[\"ab20309e-661e-11e9-aa0a-0242ac1c0002\"]);\n",
              "//# sourceURL=js_67df03c5ea"
            ],
            "text/plain": [
              "<IPython.core.display.Javascript object>"
            ]
          },
          "metadata": {
            "tags": [
              "id1582-0-0",
              "outputarea_id1582"
            ]
          }
        },
        {
          "output_type": "display_data",
          "data": {
            "application/javascript": [
              "window[\"ab6f58a4-661e-11e9-aa0a-0242ac1c0002\"] = google.colab.output.getActiveOutputArea();\n",
              "//# sourceURL=js_02e14cfcd7"
            ],
            "text/plain": [
              "<IPython.core.display.Javascript object>"
            ]
          },
          "metadata": {
            "tags": [
              "id1582-0-0",
              "outputarea_id1582"
            ]
          }
        },
        {
          "output_type": "display_data",
          "data": {
            "application/javascript": [
              "window[\"ab6fb948-661e-11e9-aa0a-0242ac1c0002\"] = document.querySelector(\"#id1582-0-0\");\n",
              "//# sourceURL=js_857eea36d3"
            ],
            "text/plain": [
              "<IPython.core.display.Javascript object>"
            ]
          },
          "metadata": {
            "tags": [
              "id1582-0-0",
              "outputarea_id1582"
            ]
          }
        },
        {
          "output_type": "display_data",
          "data": {
            "application/javascript": [
              "window[\"ab6ffe12-661e-11e9-aa0a-0242ac1c0002\"] = google.colab.output.setActiveOutputArea(window[\"ab6fb948-661e-11e9-aa0a-0242ac1c0002\"]);\n",
              "//# sourceURL=js_9770e6e6b3"
            ],
            "text/plain": [
              "<IPython.core.display.Javascript object>"
            ]
          },
          "metadata": {
            "tags": [
              "id1582-0-0",
              "outputarea_id1582"
            ]
          }
        },
        {
          "output_type": "display_data",
          "data": {
            "application/javascript": [
              "window[\"abbed172-661e-11e9-aa0a-0242ac1c0002\"] = google.colab.output.setActiveOutputArea(window[\"ab6f58a4-661e-11e9-aa0a-0242ac1c0002\"]);\n",
              "//# sourceURL=js_dee3bdbb34"
            ],
            "text/plain": [
              "<IPython.core.display.Javascript object>"
            ]
          },
          "metadata": {
            "tags": [
              "id1582-0-0",
              "outputarea_id1582"
            ]
          }
        },
        {
          "output_type": "display_data",
          "data": {
            "application/javascript": [
              "window[\"abc0644c-661e-11e9-aa0a-0242ac1c0002\"] = google.colab.output.getActiveOutputArea();\n",
              "//# sourceURL=js_963a807f58"
            ],
            "text/plain": [
              "<IPython.core.display.Javascript object>"
            ]
          },
          "metadata": {
            "tags": [
              "id1582-0-0",
              "outputarea_id1582"
            ]
          }
        },
        {
          "output_type": "display_data",
          "data": {
            "application/javascript": [
              "window[\"abc0a93e-661e-11e9-aa0a-0242ac1c0002\"] = document.querySelector(\"#id1582-0-0\");\n",
              "//# sourceURL=js_3fd09d5584"
            ],
            "text/plain": [
              "<IPython.core.display.Javascript object>"
            ]
          },
          "metadata": {
            "tags": [
              "id1582-0-0",
              "outputarea_id1582"
            ]
          }
        },
        {
          "output_type": "display_data",
          "data": {
            "application/javascript": [
              "window[\"abc1b310-661e-11e9-aa0a-0242ac1c0002\"] = google.colab.output.setActiveOutputArea(window[\"abc0a93e-661e-11e9-aa0a-0242ac1c0002\"]);\n",
              "//# sourceURL=js_71fd400f92"
            ],
            "text/plain": [
              "<IPython.core.display.Javascript object>"
            ]
          },
          "metadata": {
            "tags": [
              "id1582-0-0",
              "outputarea_id1582"
            ]
          }
        },
        {
          "output_type": "display_data",
          "data": {
            "application/javascript": [
              "window[\"ac12996a-661e-11e9-aa0a-0242ac1c0002\"] = google.colab.output.setActiveOutputArea(window[\"abc0644c-661e-11e9-aa0a-0242ac1c0002\"]);\n",
              "//# sourceURL=js_1a7a9f17d3"
            ],
            "text/plain": [
              "<IPython.core.display.Javascript object>"
            ]
          },
          "metadata": {
            "tags": [
              "id1582-0-0",
              "outputarea_id1582"
            ]
          }
        },
        {
          "output_type": "display_data",
          "data": {
            "application/javascript": [
              "window[\"ac163304-661e-11e9-aa0a-0242ac1c0002\"] = google.colab.output.getActiveOutputArea();\n",
              "//# sourceURL=js_05faa7316d"
            ],
            "text/plain": [
              "<IPython.core.display.Javascript object>"
            ]
          },
          "metadata": {
            "tags": [
              "id1582-0-0",
              "outputarea_id1582"
            ]
          }
        },
        {
          "output_type": "display_data",
          "data": {
            "application/javascript": [
              "window[\"ac16be82-661e-11e9-aa0a-0242ac1c0002\"] = document.querySelector(\"#id1582-0-0\");\n",
              "//# sourceURL=js_55fee2352f"
            ],
            "text/plain": [
              "<IPython.core.display.Javascript object>"
            ]
          },
          "metadata": {
            "tags": [
              "id1582-0-0",
              "outputarea_id1582"
            ]
          }
        },
        {
          "output_type": "display_data",
          "data": {
            "application/javascript": [
              "window[\"ac1749f6-661e-11e9-aa0a-0242ac1c0002\"] = google.colab.output.setActiveOutputArea(window[\"ac16be82-661e-11e9-aa0a-0242ac1c0002\"]);\n",
              "//# sourceURL=js_10b318213b"
            ],
            "text/plain": [
              "<IPython.core.display.Javascript object>"
            ]
          },
          "metadata": {
            "tags": [
              "id1582-0-0",
              "outputarea_id1582"
            ]
          }
        },
        {
          "output_type": "display_data",
          "data": {
            "application/javascript": [
              "window[\"ac85b328-661e-11e9-aa0a-0242ac1c0002\"] = google.colab.output.setActiveOutputArea(window[\"ac163304-661e-11e9-aa0a-0242ac1c0002\"]);\n",
              "//# sourceURL=js_0206cd354f"
            ],
            "text/plain": [
              "<IPython.core.display.Javascript object>"
            ]
          },
          "metadata": {
            "tags": [
              "id1582-0-0",
              "outputarea_id1582"
            ]
          }
        },
        {
          "output_type": "display_data",
          "data": {
            "application/javascript": [
              "window[\"ac886e56-661e-11e9-aa0a-0242ac1c0002\"] = google.colab.output.getActiveOutputArea();\n",
              "//# sourceURL=js_a145217d51"
            ],
            "text/plain": [
              "<IPython.core.display.Javascript object>"
            ]
          },
          "metadata": {
            "tags": [
              "id1582-0-0",
              "outputarea_id1582"
            ]
          }
        },
        {
          "output_type": "display_data",
          "data": {
            "application/javascript": [
              "window[\"ac88e0e8-661e-11e9-aa0a-0242ac1c0002\"] = document.querySelector(\"#id1582-0-0\");\n",
              "//# sourceURL=js_e78cf21adb"
            ],
            "text/plain": [
              "<IPython.core.display.Javascript object>"
            ]
          },
          "metadata": {
            "tags": [
              "id1582-0-0",
              "outputarea_id1582"
            ]
          }
        },
        {
          "output_type": "display_data",
          "data": {
            "application/javascript": [
              "window[\"ac89401a-661e-11e9-aa0a-0242ac1c0002\"] = google.colab.output.setActiveOutputArea(window[\"ac88e0e8-661e-11e9-aa0a-0242ac1c0002\"]);\n",
              "//# sourceURL=js_600d9aa954"
            ],
            "text/plain": [
              "<IPython.core.display.Javascript object>"
            ]
          },
          "metadata": {
            "tags": [
              "id1582-0-0",
              "outputarea_id1582"
            ]
          }
        },
        {
          "output_type": "display_data",
          "data": {
            "application/javascript": [
              "window[\"acd6ef90-661e-11e9-aa0a-0242ac1c0002\"] = google.colab.output.setActiveOutputArea(window[\"ac886e56-661e-11e9-aa0a-0242ac1c0002\"]);\n",
              "//# sourceURL=js_853446ad87"
            ],
            "text/plain": [
              "<IPython.core.display.Javascript object>"
            ]
          },
          "metadata": {
            "tags": [
              "id1582-0-0",
              "outputarea_id1582"
            ]
          }
        },
        {
          "output_type": "display_data",
          "data": {
            "application/javascript": [
              "window[\"acda377c-661e-11e9-aa0a-0242ac1c0002\"] = google.colab.output.getActiveOutputArea();\n",
              "//# sourceURL=js_e218f36db1"
            ],
            "text/plain": [
              "<IPython.core.display.Javascript object>"
            ]
          },
          "metadata": {
            "tags": [
              "id1582-0-0",
              "outputarea_id1582"
            ]
          }
        },
        {
          "output_type": "display_data",
          "data": {
            "application/javascript": [
              "window[\"acda8470-661e-11e9-aa0a-0242ac1c0002\"] = document.querySelector(\"#id1582-0-0\");\n",
              "//# sourceURL=js_2d32afef50"
            ],
            "text/plain": [
              "<IPython.core.display.Javascript object>"
            ]
          },
          "metadata": {
            "tags": [
              "id1582-0-0",
              "outputarea_id1582"
            ]
          }
        },
        {
          "output_type": "display_data",
          "data": {
            "application/javascript": [
              "window[\"acdaca84-661e-11e9-aa0a-0242ac1c0002\"] = google.colab.output.setActiveOutputArea(window[\"acda8470-661e-11e9-aa0a-0242ac1c0002\"]);\n",
              "//# sourceURL=js_a42ebd2b71"
            ],
            "text/plain": [
              "<IPython.core.display.Javascript object>"
            ]
          },
          "metadata": {
            "tags": [
              "id1582-0-0",
              "outputarea_id1582"
            ]
          }
        },
        {
          "output_type": "display_data",
          "data": {
            "application/javascript": [
              "window[\"ad28d076-661e-11e9-aa0a-0242ac1c0002\"] = google.colab.output.setActiveOutputArea(window[\"acda377c-661e-11e9-aa0a-0242ac1c0002\"]);\n",
              "//# sourceURL=js_1d163f451c"
            ],
            "text/plain": [
              "<IPython.core.display.Javascript object>"
            ]
          },
          "metadata": {
            "tags": [
              "id1582-0-0",
              "outputarea_id1582"
            ]
          }
        },
        {
          "output_type": "display_data",
          "data": {
            "application/javascript": [
              "window[\"ad2b9054-661e-11e9-aa0a-0242ac1c0002\"] = google.colab.output.getActiveOutputArea();\n",
              "//# sourceURL=js_32e5f0c828"
            ],
            "text/plain": [
              "<IPython.core.display.Javascript object>"
            ]
          },
          "metadata": {
            "tags": [
              "id1582-0-0",
              "outputarea_id1582"
            ]
          }
        },
        {
          "output_type": "display_data",
          "data": {
            "application/javascript": [
              "window[\"ad2bd5be-661e-11e9-aa0a-0242ac1c0002\"] = document.querySelector(\"#id1582-0-0\");\n",
              "//# sourceURL=js_6d9e604514"
            ],
            "text/plain": [
              "<IPython.core.display.Javascript object>"
            ]
          },
          "metadata": {
            "tags": [
              "id1582-0-0",
              "outputarea_id1582"
            ]
          }
        },
        {
          "output_type": "display_data",
          "data": {
            "application/javascript": [
              "window[\"ad2c1416-661e-11e9-aa0a-0242ac1c0002\"] = google.colab.output.setActiveOutputArea(window[\"ad2bd5be-661e-11e9-aa0a-0242ac1c0002\"]);\n",
              "//# sourceURL=js_bca8c0061f"
            ],
            "text/plain": [
              "<IPython.core.display.Javascript object>"
            ]
          },
          "metadata": {
            "tags": [
              "id1582-0-0",
              "outputarea_id1582"
            ]
          }
        },
        {
          "output_type": "display_data",
          "data": {
            "application/javascript": [
              "window[\"ad7a9bc2-661e-11e9-aa0a-0242ac1c0002\"] = google.colab.output.setActiveOutputArea(window[\"ad2b9054-661e-11e9-aa0a-0242ac1c0002\"]);\n",
              "//# sourceURL=js_e135fc6a6c"
            ],
            "text/plain": [
              "<IPython.core.display.Javascript object>"
            ]
          },
          "metadata": {
            "tags": [
              "id1582-0-0",
              "outputarea_id1582"
            ]
          }
        },
        {
          "output_type": "display_data",
          "data": {
            "application/javascript": [
              "window[\"ad7c6dda-661e-11e9-aa0a-0242ac1c0002\"] = google.colab.output.getActiveOutputArea();\n",
              "//# sourceURL=js_ec93b077e0"
            ],
            "text/plain": [
              "<IPython.core.display.Javascript object>"
            ]
          },
          "metadata": {
            "tags": [
              "id1582-0-0",
              "outputarea_id1582"
            ]
          }
        },
        {
          "output_type": "display_data",
          "data": {
            "application/javascript": [
              "window[\"ad7caf0c-661e-11e9-aa0a-0242ac1c0002\"] = document.querySelector(\"#id1582-0-0\");\n",
              "//# sourceURL=js_e21fe9521a"
            ],
            "text/plain": [
              "<IPython.core.display.Javascript object>"
            ]
          },
          "metadata": {
            "tags": [
              "id1582-0-0",
              "outputarea_id1582"
            ]
          }
        },
        {
          "output_type": "display_data",
          "data": {
            "application/javascript": [
              "window[\"ad7cec6a-661e-11e9-aa0a-0242ac1c0002\"] = google.colab.output.setActiveOutputArea(window[\"ad7caf0c-661e-11e9-aa0a-0242ac1c0002\"]);\n",
              "//# sourceURL=js_52463cfef4"
            ],
            "text/plain": [
              "<IPython.core.display.Javascript object>"
            ]
          },
          "metadata": {
            "tags": [
              "id1582-0-0",
              "outputarea_id1582"
            ]
          }
        },
        {
          "output_type": "display_data",
          "data": {
            "application/javascript": [
              "window[\"adcf6c6a-661e-11e9-aa0a-0242ac1c0002\"] = google.colab.output.setActiveOutputArea(window[\"ad7c6dda-661e-11e9-aa0a-0242ac1c0002\"]);\n",
              "//# sourceURL=js_82d2c1b8f0"
            ],
            "text/plain": [
              "<IPython.core.display.Javascript object>"
            ]
          },
          "metadata": {
            "tags": [
              "id1582-0-0",
              "outputarea_id1582"
            ]
          }
        },
        {
          "output_type": "display_data",
          "data": {
            "application/javascript": [
              "window[\"add14ae4-661e-11e9-aa0a-0242ac1c0002\"] = google.colab.output.getActiveOutputArea();\n",
              "//# sourceURL=js_0a615ebbb5"
            ],
            "text/plain": [
              "<IPython.core.display.Javascript object>"
            ]
          },
          "metadata": {
            "tags": [
              "id1582-0-0",
              "outputarea_id1582"
            ]
          }
        },
        {
          "output_type": "display_data",
          "data": {
            "application/javascript": [
              "window[\"add1954e-661e-11e9-aa0a-0242ac1c0002\"] = document.querySelector(\"#id1582-0-0\");\n",
              "//# sourceURL=js_eeadc1be4d"
            ],
            "text/plain": [
              "<IPython.core.display.Javascript object>"
            ]
          },
          "metadata": {
            "tags": [
              "id1582-0-0",
              "outputarea_id1582"
            ]
          }
        },
        {
          "output_type": "display_data",
          "data": {
            "application/javascript": [
              "window[\"add1de8c-661e-11e9-aa0a-0242ac1c0002\"] = google.colab.output.setActiveOutputArea(window[\"add1954e-661e-11e9-aa0a-0242ac1c0002\"]);\n",
              "//# sourceURL=js_95e02e6e21"
            ],
            "text/plain": [
              "<IPython.core.display.Javascript object>"
            ]
          },
          "metadata": {
            "tags": [
              "id1582-0-0",
              "outputarea_id1582"
            ]
          }
        },
        {
          "output_type": "display_data",
          "data": {
            "application/javascript": [
              "window[\"ae1fd9ca-661e-11e9-aa0a-0242ac1c0002\"] = google.colab.output.setActiveOutputArea(window[\"add14ae4-661e-11e9-aa0a-0242ac1c0002\"]);\n",
              "//# sourceURL=js_3164268ffb"
            ],
            "text/plain": [
              "<IPython.core.display.Javascript object>"
            ]
          },
          "metadata": {
            "tags": [
              "id1582-0-0",
              "outputarea_id1582"
            ]
          }
        },
        {
          "output_type": "display_data",
          "data": {
            "application/javascript": [
              "window[\"ae21b664-661e-11e9-aa0a-0242ac1c0002\"] = google.colab.output.getActiveOutputArea();\n",
              "//# sourceURL=js_1b9468201c"
            ],
            "text/plain": [
              "<IPython.core.display.Javascript object>"
            ]
          },
          "metadata": {
            "tags": [
              "id1582-0-0",
              "outputarea_id1582"
            ]
          }
        },
        {
          "output_type": "display_data",
          "data": {
            "application/javascript": [
              "window[\"ae21faca-661e-11e9-aa0a-0242ac1c0002\"] = document.querySelector(\"#id1582-0-0\");\n",
              "//# sourceURL=js_1aa8e2acdf"
            ],
            "text/plain": [
              "<IPython.core.display.Javascript object>"
            ]
          },
          "metadata": {
            "tags": [
              "id1582-0-0",
              "outputarea_id1582"
            ]
          }
        },
        {
          "output_type": "display_data",
          "data": {
            "application/javascript": [
              "window[\"ae223b66-661e-11e9-aa0a-0242ac1c0002\"] = google.colab.output.setActiveOutputArea(window[\"ae21faca-661e-11e9-aa0a-0242ac1c0002\"]);\n",
              "//# sourceURL=js_f0049bb073"
            ],
            "text/plain": [
              "<IPython.core.display.Javascript object>"
            ]
          },
          "metadata": {
            "tags": [
              "id1582-0-0",
              "outputarea_id1582"
            ]
          }
        },
        {
          "output_type": "display_data",
          "data": {
            "application/javascript": [
              "window[\"ae76988c-661e-11e9-aa0a-0242ac1c0002\"] = google.colab.output.setActiveOutputArea(window[\"ae21b664-661e-11e9-aa0a-0242ac1c0002\"]);\n",
              "//# sourceURL=js_aa954b55bc"
            ],
            "text/plain": [
              "<IPython.core.display.Javascript object>"
            ]
          },
          "metadata": {
            "tags": [
              "id1582-0-0",
              "outputarea_id1582"
            ]
          }
        },
        {
          "output_type": "display_data",
          "data": {
            "application/javascript": [
              "window[\"ae796c88-661e-11e9-aa0a-0242ac1c0002\"] = google.colab.output.getActiveOutputArea();\n",
              "//# sourceURL=js_1e8614cc2e"
            ],
            "text/plain": [
              "<IPython.core.display.Javascript object>"
            ]
          },
          "metadata": {
            "tags": [
              "id1582-0-0",
              "outputarea_id1582"
            ]
          }
        },
        {
          "output_type": "display_data",
          "data": {
            "application/javascript": [
              "window[\"ae79cd40-661e-11e9-aa0a-0242ac1c0002\"] = document.querySelector(\"#id1582-0-0\");\n",
              "//# sourceURL=js_d1008b260b"
            ],
            "text/plain": [
              "<IPython.core.display.Javascript object>"
            ]
          },
          "metadata": {
            "tags": [
              "id1582-0-0",
              "outputarea_id1582"
            ]
          }
        },
        {
          "output_type": "display_data",
          "data": {
            "application/javascript": [
              "window[\"ae7a1cc8-661e-11e9-aa0a-0242ac1c0002\"] = google.colab.output.setActiveOutputArea(window[\"ae79cd40-661e-11e9-aa0a-0242ac1c0002\"]);\n",
              "//# sourceURL=js_34d60abb84"
            ],
            "text/plain": [
              "<IPython.core.display.Javascript object>"
            ]
          },
          "metadata": {
            "tags": [
              "id1582-0-0",
              "outputarea_id1582"
            ]
          }
        },
        {
          "output_type": "display_data",
          "data": {
            "application/javascript": [
              "window[\"aec8c6a2-661e-11e9-aa0a-0242ac1c0002\"] = google.colab.output.setActiveOutputArea(window[\"ae796c88-661e-11e9-aa0a-0242ac1c0002\"]);\n",
              "//# sourceURL=js_ebf1bf262d"
            ],
            "text/plain": [
              "<IPython.core.display.Javascript object>"
            ]
          },
          "metadata": {
            "tags": [
              "id1582-0-0",
              "outputarea_id1582"
            ]
          }
        },
        {
          "output_type": "display_data",
          "data": {
            "application/javascript": [
              "window[\"aecbda04-661e-11e9-aa0a-0242ac1c0002\"] = google.colab.output.getActiveOutputArea();\n",
              "//# sourceURL=js_37d0cfef8a"
            ],
            "text/plain": [
              "<IPython.core.display.Javascript object>"
            ]
          },
          "metadata": {
            "tags": [
              "id1582-0-0",
              "outputarea_id1582"
            ]
          }
        },
        {
          "output_type": "display_data",
          "data": {
            "application/javascript": [
              "window[\"aecc3ca6-661e-11e9-aa0a-0242ac1c0002\"] = document.querySelector(\"#id1582-0-0\");\n",
              "//# sourceURL=js_acdf4117b1"
            ],
            "text/plain": [
              "<IPython.core.display.Javascript object>"
            ]
          },
          "metadata": {
            "tags": [
              "id1582-0-0",
              "outputarea_id1582"
            ]
          }
        },
        {
          "output_type": "display_data",
          "data": {
            "application/javascript": [
              "window[\"aeccbcda-661e-11e9-aa0a-0242ac1c0002\"] = google.colab.output.setActiveOutputArea(window[\"aecc3ca6-661e-11e9-aa0a-0242ac1c0002\"]);\n",
              "//# sourceURL=js_2e938ecfcc"
            ],
            "text/plain": [
              "<IPython.core.display.Javascript object>"
            ]
          },
          "metadata": {
            "tags": [
              "id1582-0-0",
              "outputarea_id1582"
            ]
          }
        },
        {
          "output_type": "display_data",
          "data": {
            "image/png": "[encoded data removed]",
            "text/plain": [
              "<Figure size 864x432 with 2 Axes>"
            ]
          },
          "metadata": {
            "tags": [
              "id1582-0-0",
              "outputarea_id1582",
              "user_output"
            ]
          }
        },
        {
          "output_type": "display_data",
          "data": {
            "application/javascript": [
              "window[\"af1f8294-661e-11e9-aa0a-0242ac1c0002\"] = google.colab.output.setActiveOutputArea(window[\"aecbda04-661e-11e9-aa0a-0242ac1c0002\"]);\n",
              "//# sourceURL=js_1f4679aba7"
            ],
            "text/plain": [
              "<IPython.core.display.Javascript object>"
            ]
          },
          "metadata": {
            "tags": [
              "id1582-0-0",
              "outputarea_id1582"
            ]
          }
        },
        {
          "output_type": "stream",
          "text": [
            "y = 0.25x + -0.00\n",
            "R2 Score: 0.9287153586894055\n"
          ],
          "name": "stdout"
        }
      ]
    },
    {
      "metadata": {
        "id": "CmspfEVMdUQc",
        "colab_type": "text"
      },
      "cell_type": "markdown",
      "source": [
        "**Questions**:\n",
        "* How does the R2 score compare to the other methods?\n",
        "* What might we do to get a better fit?\n"
      ]
    },
    {
      "metadata": {
        "id": "lColI4mdekGJ",
        "colab_type": "text"
      },
      "cell_type": "markdown",
      "source": [
        "Here is some further reading material\n",
        "* [Ordinary Least Square Method](https://mubaris.com/posts/linear-regression/)\n",
        "* [Learning Python Regression Analysis](https://medium.com/@dhwajraj/python-regression-analysis-part-3-ordinary-least-squares-d419322c8da2)\n",
        "* [Linear Regression with NumPy](https://www.cs.toronto.edu/~frossard/post/linear_regression/)\n"
      ]
    },
    {
      "metadata": {
        "id": "VT_68z0Y6WtW",
        "colab_type": "text"
      },
      "cell_type": "markdown",
      "source": [
        "## Conclusion\n",
        "\n",
        "Well done, we learned a lot in this lesson!\n",
        "\n",
        "* You used pandas, numpy, matplotlib, and sklearn, all of which are common packages that we will see over and over again in ML\n",
        "* You read data from a CSV file into a pandas dataframe\n",
        "* You calculated the mean, variance, and covariance of some data\n",
        "* You generated new features from existing features\n",
        "* You converted dates and times\n",
        "* You generated plots using scatter() and plot_date()\n",
        "* You generated a dictionary and used replace() to make substitutions in it\n",
        "* You split your data into train and test sets using sklearn\n",
        "* You ran a linear regression in sklearn\n",
        "* You implemented a gradient descent algorithm\n",
        "* You validated your models using the R2 score\n",
        "* You made dynamic plots in Colab"
      ]
    },
    {
      "metadata": {
        "id": "c07n963s7p_w",
        "colab_type": "text"
      },
      "cell_type": "markdown",
      "source": [
        "# Exercises"
      ]
    },
    {
      "metadata": {
        "id": "t6HcgdN1hq3w",
        "colab_type": "text"
      },
      "cell_type": "markdown",
      "source": [
        "## Exercise 1\n",
        "\n",
        "Apply the sklearn LinearRegression() method to a different subset of the Iditarod data by predicting the number of dogs dropped as a function of the distance traveled.\n",
        "\n",
        "You'll need to:\n",
        "* split the data into Train and Test sets\n",
        "* fit a linear model\n",
        "* make predictions on y_test given x_test\n",
        "* validate your model using the R2 score on the test data\n",
        "\n",
        "I'll get you started:"
      ]
    },
    {
      "metadata": {
        "id": "5nwgh_0Phe7e",
        "colab_type": "code",
        "colab": {
          "base_uri": "https://localhost:8080/",
          "height": 718
        },
        "outputId": "c80721ff-f55a-4b1e-d1a9-c3dac56389cd"
      },
      "cell_type": "code",
      "source": [
        "import sklearn #import the scikit-learn package\n",
        "from sklearn.model_selection import train_test_split #import the train_test_split function\n",
        "from sklearn.linear_model import LinearRegression # import the LinearRegression module from sklearn\n",
        "from sklearn.metrics import r2_score # import the r2_score module from sklearn\n",
        "\n",
        "x = iditarod[\"Distance_traveled\"]\n",
        "y = iditarod[\"Dogs_dropped\"]\n"
      ],
      "execution_count": 451,
      "outputs": [
        {
          "output_type": "error",
          "ename": "KeyError",
          "evalue": "ignored",
          "traceback": [
            "\u001b[0;31m---------------------------------------------------------------------------\u001b[0m",
            "\u001b[0;31mKeyError\u001b[0m                                  Traceback (most recent call last)",
            "\u001b[0;32m/usr/local/lib/python3.6/dist-packages/pandas/core/indexes/base.py\u001b[0m in \u001b[0;36mget_loc\u001b[0;34m(self, key, method, tolerance)\u001b[0m\n\u001b[1;32m   2656\u001b[0m             \u001b[0;32mtry\u001b[0m\u001b[0;34m:\u001b[0m\u001b[0;34m\u001b[0m\u001b[0;34m\u001b[0m\u001b[0m\n\u001b[0;32m-> 2657\u001b[0;31m                 \u001b[0;32mreturn\u001b[0m \u001b[0mself\u001b[0m\u001b[0;34m.\u001b[0m\u001b[0m_engine\u001b[0m\u001b[0;34m.\u001b[0m\u001b[0mget_loc\u001b[0m\u001b[0;34m(\u001b[0m\u001b[0mkey\u001b[0m\u001b[0;34m)\u001b[0m\u001b[0;34m\u001b[0m\u001b[0;34m\u001b[0m\u001b[0m\n\u001b[0m\u001b[1;32m   2658\u001b[0m             \u001b[0;32mexcept\u001b[0m \u001b[0mKeyError\u001b[0m\u001b[0;34m:\u001b[0m\u001b[0;34m\u001b[0m\u001b[0;34m\u001b[0m\u001b[0m\n",
            "\u001b[0;32mpandas/_libs/index.pyx\u001b[0m in \u001b[0;36mpandas._libs.index.IndexEngine.get_loc\u001b[0;34m()\u001b[0m\n",
            "\u001b[0;32mpandas/_libs/index.pyx\u001b[0m in \u001b[0;36mpandas._libs.index.IndexEngine.get_loc\u001b[0;34m()\u001b[0m\n",
            "\u001b[0;32mpandas/_libs/hashtable_class_helper.pxi\u001b[0m in \u001b[0;36mpandas._libs.hashtable.PyObjectHashTable.get_item\u001b[0;34m()\u001b[0m\n",
            "\u001b[0;32mpandas/_libs/hashtable_class_helper.pxi\u001b[0m in \u001b[0;36mpandas._libs.hashtable.PyObjectHashTable.get_item\u001b[0;34m()\u001b[0m\n",
            "\u001b[0;31mKeyError\u001b[0m: 'Distance_traveled'",
            "\nDuring handling of the above exception, another exception occurred:\n",
            "\u001b[0;31mKeyError\u001b[0m                                  Traceback (most recent call last)",
            "\u001b[0;32m<ipython-input-451-c6cf9503c25a>\u001b[0m in \u001b[0;36m<module>\u001b[0;34m()\u001b[0m\n\u001b[1;32m      4\u001b[0m \u001b[0;32mfrom\u001b[0m \u001b[0msklearn\u001b[0m\u001b[0;34m.\u001b[0m\u001b[0mmetrics\u001b[0m \u001b[0;32mimport\u001b[0m \u001b[0mr2_score\u001b[0m \u001b[0;31m# import the r2_score module from sklearn\u001b[0m\u001b[0;34m\u001b[0m\u001b[0;34m\u001b[0m\u001b[0m\n\u001b[1;32m      5\u001b[0m \u001b[0;34m\u001b[0m\u001b[0m\n\u001b[0;32m----> 6\u001b[0;31m \u001b[0mx\u001b[0m \u001b[0;34m=\u001b[0m \u001b[0miditarod\u001b[0m\u001b[0;34m[\u001b[0m\u001b[0;34m\"Distance_traveled\"\u001b[0m\u001b[0;34m]\u001b[0m\u001b[0;34m\u001b[0m\u001b[0;34m\u001b[0m\u001b[0m\n\u001b[0m\u001b[1;32m      7\u001b[0m \u001b[0my\u001b[0m \u001b[0;34m=\u001b[0m \u001b[0miditarod\u001b[0m\u001b[0;34m[\u001b[0m\u001b[0;34m\"Dogs_dropped\"\u001b[0m\u001b[0;34m]\u001b[0m\u001b[0;34m\u001b[0m\u001b[0;34m\u001b[0m\u001b[0m\n",
            "\u001b[0;32m/usr/local/lib/python3.6/dist-packages/pandas/core/frame.py\u001b[0m in \u001b[0;36m__getitem__\u001b[0;34m(self, key)\u001b[0m\n\u001b[1;32m   2925\u001b[0m             \u001b[0;32mif\u001b[0m \u001b[0mself\u001b[0m\u001b[0;34m.\u001b[0m\u001b[0mcolumns\u001b[0m\u001b[0;34m.\u001b[0m\u001b[0mnlevels\u001b[0m \u001b[0;34m>\u001b[0m \u001b[0;36m1\u001b[0m\u001b[0;34m:\u001b[0m\u001b[0;34m\u001b[0m\u001b[0;34m\u001b[0m\u001b[0m\n\u001b[1;32m   2926\u001b[0m                 \u001b[0;32mreturn\u001b[0m \u001b[0mself\u001b[0m\u001b[0;34m.\u001b[0m\u001b[0m_getitem_multilevel\u001b[0m\u001b[0;34m(\u001b[0m\u001b[0mkey\u001b[0m\u001b[0;34m)\u001b[0m\u001b[0;34m\u001b[0m\u001b[0;34m\u001b[0m\u001b[0m\n\u001b[0;32m-> 2927\u001b[0;31m             \u001b[0mindexer\u001b[0m \u001b[0;34m=\u001b[0m \u001b[0mself\u001b[0m\u001b[0;34m.\u001b[0m\u001b[0mcolumns\u001b[0m\u001b[0;34m.\u001b[0m\u001b[0mget_loc\u001b[0m\u001b[0;34m(\u001b[0m\u001b[0mkey\u001b[0m\u001b[0;34m)\u001b[0m\u001b[0;34m\u001b[0m\u001b[0;34m\u001b[0m\u001b[0m\n\u001b[0m\u001b[1;32m   2928\u001b[0m             \u001b[0;32mif\u001b[0m \u001b[0mis_integer\u001b[0m\u001b[0;34m(\u001b[0m\u001b[0mindexer\u001b[0m\u001b[0;34m)\u001b[0m\u001b[0;34m:\u001b[0m\u001b[0;34m\u001b[0m\u001b[0;34m\u001b[0m\u001b[0m\n\u001b[1;32m   2929\u001b[0m                 \u001b[0mindexer\u001b[0m \u001b[0;34m=\u001b[0m \u001b[0;34m[\u001b[0m\u001b[0mindexer\u001b[0m\u001b[0;34m]\u001b[0m\u001b[0;34m\u001b[0m\u001b[0;34m\u001b[0m\u001b[0m\n",
            "\u001b[0;32m/usr/local/lib/python3.6/dist-packages/pandas/core/indexes/base.py\u001b[0m in \u001b[0;36mget_loc\u001b[0;34m(self, key, method, tolerance)\u001b[0m\n\u001b[1;32m   2657\u001b[0m                 \u001b[0;32mreturn\u001b[0m \u001b[0mself\u001b[0m\u001b[0;34m.\u001b[0m\u001b[0m_engine\u001b[0m\u001b[0;34m.\u001b[0m\u001b[0mget_loc\u001b[0m\u001b[0;34m(\u001b[0m\u001b[0mkey\u001b[0m\u001b[0;34m)\u001b[0m\u001b[0;34m\u001b[0m\u001b[0;34m\u001b[0m\u001b[0m\n\u001b[1;32m   2658\u001b[0m             \u001b[0;32mexcept\u001b[0m \u001b[0mKeyError\u001b[0m\u001b[0;34m:\u001b[0m\u001b[0;34m\u001b[0m\u001b[0;34m\u001b[0m\u001b[0m\n\u001b[0;32m-> 2659\u001b[0;31m                 \u001b[0;32mreturn\u001b[0m \u001b[0mself\u001b[0m\u001b[0;34m.\u001b[0m\u001b[0m_engine\u001b[0m\u001b[0;34m.\u001b[0m\u001b[0mget_loc\u001b[0m\u001b[0;34m(\u001b[0m\u001b[0mself\u001b[0m\u001b[0;34m.\u001b[0m\u001b[0m_maybe_cast_indexer\u001b[0m\u001b[0;34m(\u001b[0m\u001b[0mkey\u001b[0m\u001b[0;34m)\u001b[0m\u001b[0;34m)\u001b[0m\u001b[0;34m\u001b[0m\u001b[0;34m\u001b[0m\u001b[0m\n\u001b[0m\u001b[1;32m   2660\u001b[0m         \u001b[0mindexer\u001b[0m \u001b[0;34m=\u001b[0m \u001b[0mself\u001b[0m\u001b[0;34m.\u001b[0m\u001b[0mget_indexer\u001b[0m\u001b[0;34m(\u001b[0m\u001b[0;34m[\u001b[0m\u001b[0mkey\u001b[0m\u001b[0;34m]\u001b[0m\u001b[0;34m,\u001b[0m \u001b[0mmethod\u001b[0m\u001b[0;34m=\u001b[0m\u001b[0mmethod\u001b[0m\u001b[0;34m,\u001b[0m \u001b[0mtolerance\u001b[0m\u001b[0;34m=\u001b[0m\u001b[0mtolerance\u001b[0m\u001b[0;34m)\u001b[0m\u001b[0;34m\u001b[0m\u001b[0;34m\u001b[0m\u001b[0m\n\u001b[1;32m   2661\u001b[0m         \u001b[0;32mif\u001b[0m \u001b[0mindexer\u001b[0m\u001b[0;34m.\u001b[0m\u001b[0mndim\u001b[0m \u001b[0;34m>\u001b[0m \u001b[0;36m1\u001b[0m \u001b[0;32mor\u001b[0m \u001b[0mindexer\u001b[0m\u001b[0;34m.\u001b[0m\u001b[0msize\u001b[0m \u001b[0;34m>\u001b[0m \u001b[0;36m1\u001b[0m\u001b[0;34m:\u001b[0m\u001b[0;34m\u001b[0m\u001b[0;34m\u001b[0m\u001b[0m\n",
            "\u001b[0;32mpandas/_libs/index.pyx\u001b[0m in \u001b[0;36mpandas._libs.index.IndexEngine.get_loc\u001b[0;34m()\u001b[0m\n",
            "\u001b[0;32mpandas/_libs/index.pyx\u001b[0m in \u001b[0;36mpandas._libs.index.IndexEngine.get_loc\u001b[0;34m()\u001b[0m\n",
            "\u001b[0;32mpandas/_libs/hashtable_class_helper.pxi\u001b[0m in \u001b[0;36mpandas._libs.hashtable.PyObjectHashTable.get_item\u001b[0;34m()\u001b[0m\n",
            "\u001b[0;32mpandas/_libs/hashtable_class_helper.pxi\u001b[0m in \u001b[0;36mpandas._libs.hashtable.PyObjectHashTable.get_item\u001b[0;34m()\u001b[0m\n",
            "\u001b[0;31mKeyError\u001b[0m: 'Distance_traveled'"
          ]
        }
      ]
    },
    {
      "metadata": {
        "id": "GXlfP8FqhnVv",
        "colab_type": "text"
      },
      "cell_type": "markdown",
      "source": [
        "## Exercise 2\n",
        "\n",
        "sklearn has several different linear regressors, including some that are more robust to outliers than is the Least Squares method.  Instead of TheilSenRegressor"
      ]
    }
  ]
}