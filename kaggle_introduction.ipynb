{
  "nbformat": 4,
  "nbformat_minor": 0,
  "metadata": {
    "colab": {
      "name": "kaggle_introduction.ipynb",
      "version": "0.3.2",
      "provenance": [],
      "include_colab_link": true
    },
    "kernelspec": {
      "name": "python3",
      "display_name": "Python 3"
    }
  },
  "cells": [
    {
      "cell_type": "markdown",
      "metadata": {
        "id": "view-in-github",
        "colab_type": "text"
      },
      "source": [
        "<a href=\"https://colab.research.google.com/github/mlites/mlites2019/blob/master/kaggle_introduction.ipynb\" target=\"_parent\"><img src=\"https://colab.research.google.com/assets/colab-badge.svg\" alt=\"Open In Colab\"/></a>"
      ]
    },
    {
      "metadata": {
        "id": "EeLteROCDzi7",
        "colab_type": "text"
      },
      "cell_type": "markdown",
      "source": [
        "Link to your Google Drive to enable import of data at ```/content/gdrive```\n",
        "\n",
        "\n"
      ]
    },
    {
      "metadata": {
        "id": "0JalKi1VB8mj",
        "colab_type": "code",
        "outputId": "ce6d9548-f3ba-49ea-abc9-9c032bee2b64",
        "colab": {
          "base_uri": "https://localhost:8080/",
          "height": 71
        }
      },
      "cell_type": "code",
      "source": [
        "from google.colab import drive\n",
        "drive.mount('/content/gdrive')\n",
        "\n",
        "# install Pillow\n",
        "!pip install Pillow==5.3.0"
      ],
      "execution_count": 0,
      "outputs": [
        {
          "output_type": "stream",
          "text": [
            "Drive already mounted at /content/gdrive; to attempt to forcibly remount, call drive.mount(\"/content/gdrive\", force_remount=True).\n",
            "Requirement already satisfied: Pillow==5.3.0 in /usr/local/lib/python3.6/dist-packages (5.3.0)\n"
          ],
          "name": "stdout"
        }
      ]
    },
    {
      "metadata": {
        "id": "Kyyun7qbqZq6",
        "colab_type": "text"
      },
      "cell_type": "markdown",
      "source": [
        "[Setting up Kaggle in Colab](https://towardsdatascience.com/setting-up-kaggle-in-google-colab-ebb281b61463)\n",
        "\n",
        "1. Sign up for Kaggle if you're not already a member\n",
        "2. Go to _My Account_\n",
        "3. Go to _Create New API Token_\n",
        "4. That will download a file called **kaggle.json**\n",
        "5. Find the file, open it, and find something like this:\n",
        "\n",
        "    {“username”:”YOUR-USER-NAME”,”key”:”SOME-VERY-LONG-STRING”}\n",
        "\n",
        "6. Insert those in the cell below and then run the cell\n",
        "    \n",
        "\n"
      ]
    },
    {
      "metadata": {
        "id": "kcu2pIGhpxQb",
        "colab_type": "code",
        "colab": {
          "base_uri": "https://localhost:8080/",
          "height": 51
        },
        "outputId": "f0f7d6bc-c2c0-4679-dadc-4004f2996f3e"
      },
      "cell_type": "code",
      "source": [
        "#import kaggle package\n",
        "import kaggle\n",
        "\n",
        "!mkdir .kaggle\n",
        "!mkdir /content/kaggle\n",
        "\n",
        "import json\n",
        "token = {\"username\":\"rec3141\",\"key\":\"29d453516af66ecbce3917bf83570628\"}\n",
        "with open('/content/.kaggle/kaggle.json', 'w') as file:\n",
        "    json.dump(token, file)\n",
        "\n",
        "!chmod 600 /root/.kaggle/kaggle.json\n",
        "!cp /content/.kaggle/kaggle.json ~/.kaggle/kaggle.json\n",
        "!chmod 600 /content/.kaggle/kaggle.json\n",
        "\n",
        "!kaggle config set -n path -v/content/kaggle\n",
        "\n"
      ],
      "execution_count": 38,
      "outputs": [
        {
          "output_type": "stream",
          "text": [
            "mkdir: cannot create directory ‘.kaggle’: File exists\n",
            "- path is now set to: /content/kaggle\n"
          ],
          "name": "stdout"
        }
      ]
    },
    {
      "metadata": {
        "id": "UpCVmBMkt8dV",
        "colab_type": "text"
      },
      "cell_type": "markdown",
      "source": [
        "Find Kaggle datasets of interest\n",
        "\n",
        "Kaggle package API details\n",
        "\n",
        "https://github.com/Kaggle/kaggle-api#datasets\n",
        "\n",
        "only the first 20 results are shown, additional pages can be shown with the --page flag"
      ]
    },
    {
      "metadata": {
        "id": "T_7sVX75sYnh",
        "colab_type": "code",
        "colab": {
          "base_uri": "https://localhost:8080/",
          "height": 1142
        },
        "outputId": "edc44370-64e2-437a-fa9b-fab30cbc8125"
      },
      "cell_type": "code",
      "source": [
        "!kaggle datasets list --tags oceans #find datasets tagged with 'oceans'\n",
        "!kaggle datasets list --user noaa #find datasets by user 'NOAA'\n",
        "!kaggle datasets list --search environment --page 2 #find page 2 of datasets using search term 'environment'\n",
        "!kaggle datasets list --search alaska"
      ],
      "execution_count": 32,
      "outputs": [
        {
          "output_type": "stream",
          "text": [
            "ref                                                           title                                            size  lastUpdated          downloadCount  \n",
            "------------------------------------------------------------  ----------------------------------------------  -----  -------------------  -------------  \n",
            "noaa/noaa-icoads                                              NOAA ICOADS                                     171GB  2018-03-13 17:37:47              0  \n",
            "noaa/deep-sea-corals                                          Deep Sea Corals                                  10MB  2017-08-28 17:11:03            408  \n",
            "uciml/el-nino-dataset                                         El Nino Dataset                                   3MB  2016-11-06 21:02:18           1004  \n",
            "teajay/global-shark-attacks                                   Global Shark Attacks                            548KB  2018-07-04 17:59:54           4517  \n",
            "noaa/seismic-waves                                            Tsunami Causes and Waves                        654KB  2017-02-03 04:15:19           1404  \n",
            "unt/disputed-territories                                      Disputed Territories and Wars, 1816-2001         95KB  2017-02-02 01:46:23            141  \n",
            "antgoldbloom/2016-kitefoil-race-results                       2016 and 2017 Kitefoil Race Results              87KB  2017-10-09 02:34:42            184  \n",
            "oewyn000/humpback-whale-fluke-keypoints                       Humpback Whale Fluke Keypoints                  168MB  2019-01-27 02:32:51             96  \n",
            "polinalemenkova/bathymetry-of-the-mariana-trench-25-profiles  Bathymetry of the Mariana Trench (25 profiles)   20KB  2018-12-09 04:30:50              4  \n",
            "sauuyer/alvin-dives                                           Alvin Dives                                     235KB  2018-05-04 16:11:43             17  \n",
            "ref                                                    title                                              size  lastUpdated          downloadCount  \n",
            "-----------------------------------------------------  ------------------------------------------------  -----  -------------------  -------------  \n",
            "noaa/gsod                                              NOAA GSOD                                          26GB  2019-03-20 23:17:46              0  \n",
            "noaa/ghcn-d                                            Daily Global Historical Climatology Network        99GB  2019-03-20 23:16:32              0  \n",
            "noaa/goes16                                            NOAA GOES-16                                       24GB  2019-03-20 23:20:37              0  \n",
            "noaa/noaa-global-surface-summary-of-the-day            NOAA Global Surface Summary of the Day              3GB  2019-04-10 09:09:27            393  \n",
            "noaa/noaa-icoads                                       NOAA ICOADS                                       171GB  2018-03-13 17:37:47              0  \n",
            "noaa/noaa-global-historical-climatology-network-daily  NOAA Global Historical Climatology Network Daily   14GB  2019-04-09 18:20:27            291  \n",
            "noaa/noaa-precipitation-15-minute                      NOAA Precipitation 15 Minute                      192MB  2019-04-10 15:06:12            275  \n",
            "noaa/deep-sea-corals                                   Deep Sea Corals                                    10MB  2017-08-28 17:11:03            408  \n",
            "noaa/severe-weather-data-inventory                     Severe Weather Data Inventory                     182MB  2016-10-24 15:34:45            959  \n",
            "noaa/hurricane-database                                Hurricanes and Typhoons, 1851-2014                928KB  2017-01-20 18:15:43           2535  \n",
            "noaa/seismic-waves                                     Tsunami Causes and Waves                          654KB  2017-02-03 04:15:19           1404  \n",
            "noaa/global-historical-climatology-network             Global Historical Climatology Network               4MB  2016-10-24 15:23:05           1354  \n",
            "noaa/noaa-u-s-climatic-normals                         NOAA U.S. Climatic Normals                         10GB  2019-04-08 14:21:12             44  \n",
            "noaa/noaa-severe-weather-data-inventory                NOAA Severe Weather Data Inventory                 18GB  2019-04-07 12:27:11             94  \n",
            "ref                                                           title                                             size  lastUpdated          downloadCount  \n",
            "------------------------------------------------------------  -----------------------------------------------  -----  -------------------  -------------  \n",
            "buntyshah/food-environment-atlas-data                         Food Environment Atlas Data                        5MB  2018-07-23 10:48:52             37  \n",
            "marshald/london-boroughs                                      London Borough Demographics                       10KB  2017-06-04 13:45:03            340  \n",
            "freedomhouse/press-freedom                                    Freedom of the Press, 2001-2015                   11KB  2017-02-03 23:30:16            306  \n",
            "usdot/nhtsa-traffic-fatalities                                US Traffic Fatality Records                      585MB  2019-03-20 23:21:02              0  \n",
            "olistbr/brazilian-ecommerce                                   Brazilian E-Commerce Public Dataset by Olist      42MB  2018-11-29 12:22:57          10348  \n",
            "ilknuricke/neurohackinginrimages                              Structural MRI Datasets (T1, T2, FLAIR etc.)     190MB  2017-01-04 20:01:18           2686  \n",
            "census/2013-american-community-survey                         2013 American Community Survey                   888MB  2017-05-01 19:10:03           3872  \n",
            "pitasr/scheduling-in-cloud-computing                          Scheduling in Cloud computing                     49KB  2017-06-11 22:07:18            306  \n",
            "regivm/kernel                                                 Manoeuvring Kaggle Kernel and Data Environment     7KB  2018-08-30 08:03:32              0  \n",
            "sohier/calcofi                                                CalCOFI                                           50MB  2017-08-23 19:24:53           2423  \n",
            "usda/a-year-of-pumpkin-prices                                 A Year of Pumpkin Prices                          16KB  2017-10-24 17:45:33           1458  \n",
            "sampadab17/network-intrusion-detection                        Network Intrusion Detection                      750KB  2018-10-09 09:39:37            223  \n",
            "lamdadev/state-wise-tree-cover-india                          State wise tree cover India                       971B  2016-11-10 17:25:47            147  \n",
            "residentmario/database-of-battles                             Historical Military Battles                      129KB  2017-09-13 20:39:07            667  \n",
            "fschwartzer/tmd-dataset-5-seconds-sliding-window              TMD Dataset - 5 seconds sliding window             3MB  2019-02-05 18:08:10            130  \n",
            "edumagalhaes/quality-prediction-in-a-mining-process           Quality Prediction in a Mining Process            51MB  2017-12-06 21:16:37           1003  \n",
            "sohier/mussel-watch                                           Mussel Watch                                      11MB  2017-09-18 16:19:51            887  \n",
            "ihmstefanini/industrial-safety-and-health-analytics-database  Industrial Safety and Health Analytics Database  160KB  2018-04-12 16:51:07            623  \n",
            "sasanj/virtual-reality-driving-simulator-dataset              Virtual Reality Driving Simulator Dataset          9MB  2017-08-16 14:06:11            157  \n",
            "wcukierski/2016-march-ml-mania                                2016 March ML Mania Predictions                   26MB  2017-11-15 22:36:48           1645  \n",
            "ref                                                title                                             size  lastUpdated          downloadCount  \n",
            "-------------------------------------------------  -----------------------------------------------  -----  -------------------  -------------  \n",
            "mcdonalds/nutrition-facts                          Nutrition Facts for McDonald's Menu                7KB  2017-03-03 13:30:58          11172  \n",
            "iditarod/iditarod-race                             2017 Iditarod Trail Sled Dog Race                 22KB  2017-03-22 15:04:59            165  \n",
            "noriuk/us-educational-finances                     U.S. Educational Finances                         83MB  2018-08-29 23:47:18           1840  \n",
            "rtatman/188-million-us-wildfires                   1.88 Million US Wildfires                        175MB  2017-09-13 22:41:53           3530  \n",
            "openaddresses/openaddresses-us-west                OpenAddresses - U.S. West                        816MB  2017-08-02 22:49:23            368  \n",
            "jamestollefson/alaskaairfields                     Alaska Airport Data                              266KB  2017-04-20 23:33:32            221  \n",
            "noriuk/us-education-datasets-unification-project   U.S. Education Datasets: Unification Project      85MB  2019-03-02 18:41:52           3201  \n",
            "cms/cms-american-indian-alaska-native-aian-health  CMS American Indian/Alaska Native (AIAN) Health  206KB  2019-04-11 03:13:04              8  \n",
            "jboysen/spy-plane-finder                           Spy Plane Finder                                  25MB  2017-08-11 19:13:10            282  \n",
            "hassenmorad/us-state-baby-names                    US State Baby Names                               41MB  2018-09-14 18:25:40             30  \n",
            "theriley106/university-statistics                  University Statistics                             33KB  2018-01-21 23:03:55            549  \n",
            "madaha/people-without-internet                     People without internet                           60KB  2018-01-11 16:20:48            273  \n",
            "johnrvg/election1216                               Election 2016                                    630KB  2018-04-11 16:33:34            103  \n"
          ],
          "name": "stdout"
        }
      ]
    },
    {
      "metadata": {
        "id": "Tn5iOpLEv9H8",
        "colab_type": "text"
      },
      "cell_type": "markdown",
      "source": [
        "Now find the specific files you want and download them\n",
        "\n",
        "Let's see what files are available for the 2017 Iditarod dataset"
      ]
    },
    {
      "metadata": {
        "id": "vCWpgYW8wACG",
        "colab_type": "code",
        "colab": {
          "base_uri": "https://localhost:8080/",
          "height": 68
        },
        "outputId": "49f4d7ff-7bb0-4a58-d9c4-e1a192c55265"
      },
      "cell_type": "code",
      "source": [
        "!kaggle datasets files iditarod/iditarod-race"
      ],
      "execution_count": 42,
      "outputs": [
        {
          "output_type": "stream",
          "text": [
            "name         size  creationDate         \n",
            "----------  -----  -------------------  \n",
            "report.csv  139KB  2017-03-22 15:03:30  \n"
          ],
          "name": "stdout"
        }
      ]
    },
    {
      "metadata": {
        "id": "8oFjm_yzwonh",
        "colab_type": "text"
      },
      "cell_type": "markdown",
      "source": [
        "Let's download all the files, they'll show up in /content/kaggle/datasets"
      ]
    },
    {
      "metadata": {
        "id": "ktpZKadxwqg9",
        "colab_type": "code",
        "colab": {
          "base_uri": "https://localhost:8080/",
          "height": 68
        },
        "outputId": "9d3ea789-d835-442c-fd0c-05e9e2d517da"
      },
      "cell_type": "code",
      "source": [
        "!kaggle datasets download iditarod/iditarod-race"
      ],
      "execution_count": 43,
      "outputs": [
        {
          "output_type": "stream",
          "text": [
            "Downloading iditarod-race.zip to /content/kaggle/datasets/iditarod/iditarod-race\n",
            "\r  0% 0.00/21.5k [00:00<?, ?B/s]\n",
            "\r100% 21.5k/21.5k [00:00<00:00, 18.8MB/s]\n"
          ],
          "name": "stdout"
        }
      ]
    },
    {
      "metadata": {
        "id": "ZMIlCZctyq7A",
        "colab_type": "code",
        "colab": {
          "base_uri": "https://localhost:8080/",
          "height": 51
        },
        "outputId": "e11e32e5-e6fa-46cd-caf7-05963194cc84"
      },
      "cell_type": "code",
      "source": [
        "#unzip the files\n",
        "!unzip /content/kaggle/datasets/iditarod/iditarod-race/iditarod-race.zip -d /content/kaggle/datasets/iditarod/iditarod-race/\n"
      ],
      "execution_count": 46,
      "outputs": [
        {
          "output_type": "stream",
          "text": [
            "Archive:  /content/kaggle/datasets/iditarod/iditarod-race/iditarod-race.zip\n",
            "  inflating: /content/kaggle/datasets/iditarod/iditarod-race/report.csv  \n"
          ],
          "name": "stdout"
        }
      ]
    },
    {
      "metadata": {
        "id": "syUDb3mdzmPp",
        "colab_type": "code",
        "colab": {
          "base_uri": "https://localhost:8080/",
          "height": 34
        },
        "outputId": "d1d57522-93eb-4bed-fd41-ea9bbdcdd7f8"
      },
      "cell_type": "code",
      "source": [
        "#take a quick look\n",
        "\n",
        "import pandas as pd\n",
        "d = pd.read_csv('/content/kaggle/datasets/iditarod/iditarod-race/report.csv')\n",
        "d.shape\n"
      ],
      "execution_count": 57,
      "outputs": [
        {
          "output_type": "execute_result",
          "data": {
            "text/plain": [
              "(1146, 17)"
            ]
          },
          "metadata": {
            "tags": []
          },
          "execution_count": 57
        }
      ]
    },
    {
      "metadata": {
        "id": "J3dNlrGI2BdC",
        "colab_type": "code",
        "colab": {
          "base_uri": "https://localhost:8080/",
          "height": 326
        },
        "outputId": "f52092e3-4e0c-4240-a635-04d830696bef"
      },
      "cell_type": "code",
      "source": [
        "d.head()"
      ],
      "execution_count": 56,
      "outputs": [
        {
          "output_type": "execute_result",
          "data": {
            "text/html": [
              "<div>\n",
              "<style scoped>\n",
              "    .dataframe tbody tr th:only-of-type {\n",
              "        vertical-align: middle;\n",
              "    }\n",
              "\n",
              "    .dataframe tbody tr th {\n",
              "        vertical-align: top;\n",
              "    }\n",
              "\n",
              "    .dataframe thead th {\n",
              "        text-align: right;\n",
              "    }\n",
              "</style>\n",
              "<table border=\"1\" class=\"dataframe\">\n",
              "  <thead>\n",
              "    <tr style=\"text-align: right;\">\n",
              "      <th></th>\n",
              "      <th>Number</th>\n",
              "      <th>Name</th>\n",
              "      <th>Status</th>\n",
              "      <th>Country</th>\n",
              "      <th>Checkpoint</th>\n",
              "      <th>Latitude</th>\n",
              "      <th>Longitude</th>\n",
              "      <th>Distance</th>\n",
              "      <th>Time</th>\n",
              "      <th>Speed</th>\n",
              "      <th>Arrival Date</th>\n",
              "      <th>Arrival Time</th>\n",
              "      <th>Arrival Dogs</th>\n",
              "      <th>Elapsed Time</th>\n",
              "      <th>Departure Date</th>\n",
              "      <th>Departure Time</th>\n",
              "      <th>Departure Dogs</th>\n",
              "    </tr>\n",
              "  </thead>\n",
              "  <tbody>\n",
              "    <tr>\n",
              "      <th>0</th>\n",
              "      <td>2</td>\n",
              "      <td>Ryan Redington</td>\n",
              "      <td>Veteran</td>\n",
              "      <td>United States</td>\n",
              "      <td>Fairbanks</td>\n",
              "      <td>64.8321</td>\n",
              "      <td>-147.813</td>\n",
              "      <td>NaN</td>\n",
              "      <td>0.0</td>\n",
              "      <td>NaN</td>\n",
              "      <td>NaN</td>\n",
              "      <td>NaN</td>\n",
              "      <td>NaN</td>\n",
              "      <td>0.0</td>\n",
              "      <td>03/06/2017</td>\n",
              "      <td>11:00:00</td>\n",
              "      <td>16.0</td>\n",
              "    </tr>\n",
              "    <tr>\n",
              "      <th>1</th>\n",
              "      <td>3</td>\n",
              "      <td>Otto Balogh</td>\n",
              "      <td>Rookie</td>\n",
              "      <td>Hungary</td>\n",
              "      <td>Fairbanks</td>\n",
              "      <td>64.8321</td>\n",
              "      <td>-147.813</td>\n",
              "      <td>NaN</td>\n",
              "      <td>0.0</td>\n",
              "      <td>NaN</td>\n",
              "      <td>NaN</td>\n",
              "      <td>NaN</td>\n",
              "      <td>NaN</td>\n",
              "      <td>NaN</td>\n",
              "      <td>NaN</td>\n",
              "      <td>NaN</td>\n",
              "      <td>NaN</td>\n",
              "    </tr>\n",
              "    <tr>\n",
              "      <th>2</th>\n",
              "      <td>4</td>\n",
              "      <td>Misha Wiljes</td>\n",
              "      <td>Rookie</td>\n",
              "      <td>Czech Republic</td>\n",
              "      <td>Fairbanks</td>\n",
              "      <td>64.8321</td>\n",
              "      <td>-147.813</td>\n",
              "      <td>NaN</td>\n",
              "      <td>0.0</td>\n",
              "      <td>NaN</td>\n",
              "      <td>NaN</td>\n",
              "      <td>NaN</td>\n",
              "      <td>NaN</td>\n",
              "      <td>0.0</td>\n",
              "      <td>03/06/2017</td>\n",
              "      <td>11:04:00</td>\n",
              "      <td>15.0</td>\n",
              "    </tr>\n",
              "    <tr>\n",
              "      <th>3</th>\n",
              "      <td>5</td>\n",
              "      <td>Cody Strathe</td>\n",
              "      <td>Veteran</td>\n",
              "      <td>United States</td>\n",
              "      <td>Fairbanks</td>\n",
              "      <td>64.8321</td>\n",
              "      <td>-147.813</td>\n",
              "      <td>NaN</td>\n",
              "      <td>0.0</td>\n",
              "      <td>NaN</td>\n",
              "      <td>NaN</td>\n",
              "      <td>NaN</td>\n",
              "      <td>NaN</td>\n",
              "      <td>0.0</td>\n",
              "      <td>03/06/2017</td>\n",
              "      <td>11:06:00</td>\n",
              "      <td>16.0</td>\n",
              "    </tr>\n",
              "    <tr>\n",
              "      <th>4</th>\n",
              "      <td>6</td>\n",
              "      <td>Linwood Fiedler</td>\n",
              "      <td>Veteran</td>\n",
              "      <td>United States</td>\n",
              "      <td>Fairbanks</td>\n",
              "      <td>64.8321</td>\n",
              "      <td>-147.813</td>\n",
              "      <td>NaN</td>\n",
              "      <td>0.0</td>\n",
              "      <td>NaN</td>\n",
              "      <td>NaN</td>\n",
              "      <td>NaN</td>\n",
              "      <td>NaN</td>\n",
              "      <td>0.0</td>\n",
              "      <td>03/06/2017</td>\n",
              "      <td>11:08:00</td>\n",
              "      <td>16.0</td>\n",
              "    </tr>\n",
              "  </tbody>\n",
              "</table>\n",
              "</div>"
            ],
            "text/plain": [
              "   Number             Name   Status         Country Checkpoint  Latitude  \\\n",
              "0       2   Ryan Redington  Veteran   United States  Fairbanks   64.8321   \n",
              "1       3      Otto Balogh   Rookie         Hungary  Fairbanks   64.8321   \n",
              "2       4     Misha Wiljes   Rookie  Czech Republic  Fairbanks   64.8321   \n",
              "3       5     Cody Strathe  Veteran   United States  Fairbanks   64.8321   \n",
              "4       6  Linwood Fiedler  Veteran   United States  Fairbanks   64.8321   \n",
              "\n",
              "   Longitude  Distance  Time  Speed Arrival Date Arrival Time  Arrival Dogs  \\\n",
              "0   -147.813       NaN   0.0    NaN          NaN          NaN           NaN   \n",
              "1   -147.813       NaN   0.0    NaN          NaN          NaN           NaN   \n",
              "2   -147.813       NaN   0.0    NaN          NaN          NaN           NaN   \n",
              "3   -147.813       NaN   0.0    NaN          NaN          NaN           NaN   \n",
              "4   -147.813       NaN   0.0    NaN          NaN          NaN           NaN   \n",
              "\n",
              "   Elapsed Time Departure Date Departure Time  Departure Dogs  \n",
              "0           0.0     03/06/2017       11:00:00            16.0  \n",
              "1           NaN            NaN            NaN             NaN  \n",
              "2           0.0     03/06/2017       11:04:00            15.0  \n",
              "3           0.0     03/06/2017       11:06:00            16.0  \n",
              "4           0.0     03/06/2017       11:08:00            16.0  "
            ]
          },
          "metadata": {
            "tags": []
          },
          "execution_count": 56
        }
      ]
    },
    {
      "metadata": {
        "id": "HiHbvcqXEGDT",
        "colab_type": "text"
      },
      "cell_type": "markdown",
      "source": [
        "Import PyTorch, NumPy, MatPlotLib, and Pandas"
      ]
    },
    {
      "metadata": {
        "id": "fCgaFO54DpiQ",
        "colab_type": "code",
        "outputId": "7f20afb3-993b-4f0a-b6fc-ade8379419fb",
        "colab": {
          "base_uri": "https://localhost:8080/",
          "height": 51
        }
      },
      "cell_type": "code",
      "source": [
        "import torch\n",
        "import numpy as np\n",
        "import matplotlib.pyplot as plt\n",
        "import pandas as pd\n",
        "\n",
        "import PIL\n",
        "print(PIL.PILLOW_VERSION)\n",
        "print(\"done\")\n"
      ],
      "execution_count": 0,
      "outputs": [
        {
          "output_type": "stream",
          "text": [
            "5.3.0\n",
            "done\n"
          ],
          "name": "stdout"
        }
      ]
    },
    {
      "metadata": {
        "id": "8PUhLbBnEJZG",
        "colab_type": "text"
      },
      "cell_type": "markdown",
      "source": [
        ""
      ]
    }
  ]
}
