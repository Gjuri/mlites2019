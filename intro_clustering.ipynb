{
  "nbformat": 4,
  "nbformat_minor": 0,
  "metadata": {
    "colab": {
      "name": "intro_clustering.ipynb",
      "version": "0.3.2",
      "provenance": [],
      "include_colab_link": true
    },
    "kernelspec": {
      "name": "python3",
      "display_name": "Python 3"
    }
  },
  "cells": [
    {
      "cell_type": "markdown",
      "metadata": {
        "id": "view-in-github",
        "colab_type": "text"
      },
      "source": [
        "<a href=\"https://colab.research.google.com/github/mlites/mlites2019/blob/master/intro_clustering.ipynb\" target=\"_parent\"><img src=\"https://colab.research.google.com/assets/colab-badge.svg\" alt=\"Open In Colab\"/></a>"
      ]
    },
    {
      "metadata": {
        "id": "Rz1faBGsv-eN",
        "colab_type": "text"
      },
      "cell_type": "markdown",
      "source": [
        "# Introduction to Clustering\n",
        "\n",
        "Hello! This lesson will introduce you to Clustering using a number of Unsupervised Machine Learning algorithms including k-means, DBSCAN, Spectral Clustering, and Gaussian Mixture Modeling.\n",
        "\n",
        "Along the way, we'll learn about feature scaling, feature selection, expectation maximization, and other tools in the machine learning toolbox.\n",
        "\n",
        "If you haven't already, make sure to run [kaggle_introduction.ipynb](https://colab.research.google.com/github/mlites/mlites2019/blob/master/kaggle_introduction.ipynb) to download the necessary datasets and set up the environment."
      ]
    },
    {
      "metadata": {
        "id": "IzFuvInX8Zvo",
        "colab_type": "text"
      },
      "cell_type": "markdown",
      "source": [
        "## Genomic Dataset Background\n",
        "\n",
        "The dataset we'll use for this lesson is based on the Kaggle dataset [Decontamination of Microbial Genomes](https://www.kaggle.com/rec3141/biol342-genome-data). The dataset is the result of 3 years of student work in the General Microbiology course at the University of Alaska Fairbanks. In each year, students cultured a microorganism from the environment and subjected it to DNA sequencing.\n",
        "\n",
        "For various reasons, some of the cultures were impure, containing 2, 3, or more microorganisms. The goal of our unsupervised machine learning clustering is to separate out (i.e. label) the fragments of DNA belonging to each of the microorganisms.\n",
        "\n",
        "The dataset is organized by anonymized student ids (\"samples\") and DNA fragments, which are also known as contigs (for \"contiguous sequences\"). These contigs have been assembled from raw DNA reads using an *assembler* called SPAdes after various quality control steps. The contigs are named sequentially by student id and order by decreasing length, e.g. student0_1, student0_2, student0_3, etc. More detailed information about the dataset can be found [here](https://www.kaggle.com/rec3141/biol342-genome-data).\n",
        "\n",
        "The dataset consists of 5 files, although for now we'll focus just on the 1st file.\n",
        "\n",
        "1. biol342_cov_len_gc.tsv\n",
        "    * contains the sequencing coverage, length, and G+C content of each contig\n",
        "2. biol342_depths.tsv\n",
        "    * containing the sequencing depth of each contig in each sample\n",
        "3. biol342_paired.tsv\n",
        "    * contains the number of raw reads spanning each pair of contigs\n",
        "4. biol342_tax.tsv\n",
        "    * contains taxonomic labels based on comparison to a large database\n",
        "5. biol342_tnf.tsv\n",
        "    * contains the tetranucleotide frequencies of each contig\n"
      ]
    },
    {
      "metadata": {
        "id": "qxEAQfFR_p_A",
        "colab_type": "text"
      },
      "cell_type": "markdown",
      "source": [
        "## Visualizing the data\n",
        "\n",
        "It's always a good idea to start off by looking at some of the data.\n",
        "\n",
        "Let's read it into a pandas dataframe\n",
        "\n"
      ]
    },
    {
      "metadata": {
        "id": "axIphhcmAeI_",
        "colab_type": "code",
        "colab": {
          "base_uri": "https://localhost:8080/",
          "height": 204
        },
        "outputId": "a0148776-f4b5-41d9-eab5-50258f01926d"
      },
      "cell_type": "code",
      "source": [
        "import pandas as pd\n",
        "#note the use of the sep=\"\\t\" option to tell pandas that the data is tab-separated\n",
        "clg = pd.read_csv(\"biol342_cov_len_gc.tsv\",sep='\\t') \n",
        "\n",
        "# note that .cov() is a pandas dataframe function to calculate the pairwise covariance of columns\n",
        "clg.cov()\n",
        "\n",
        "# so it's best if we rename the 'cov' column to 'coverage'\n",
        "clg.rename(columns={'cov':'coverage'},inplace=True)\n",
        "\n",
        "clg.head()"
      ],
      "execution_count": 14,
      "outputs": [
        {
          "output_type": "execute_result",
          "data": {
            "text/html": [
              "<div>\n",
              "<style scoped>\n",
              "    .dataframe tbody tr th:only-of-type {\n",
              "        vertical-align: middle;\n",
              "    }\n",
              "\n",
              "    .dataframe tbody tr th {\n",
              "        vertical-align: top;\n",
              "    }\n",
              "\n",
              "    .dataframe thead th {\n",
              "        text-align: right;\n",
              "    }\n",
              "</style>\n",
              "<table border=\"1\" class=\"dataframe\">\n",
              "  <thead>\n",
              "    <tr style=\"text-align: right;\">\n",
              "      <th></th>\n",
              "      <th>contig</th>\n",
              "      <th>student</th>\n",
              "      <th>coverage</th>\n",
              "      <th>len</th>\n",
              "      <th>gc</th>\n",
              "    </tr>\n",
              "  </thead>\n",
              "  <tbody>\n",
              "    <tr>\n",
              "      <th>0</th>\n",
              "      <td>student0_1</td>\n",
              "      <td>student0</td>\n",
              "      <td>29.0114</td>\n",
              "      <td>255873</td>\n",
              "      <td>0.4995</td>\n",
              "    </tr>\n",
              "    <tr>\n",
              "      <th>1</th>\n",
              "      <td>student0_2</td>\n",
              "      <td>student0</td>\n",
              "      <td>31.5053</td>\n",
              "      <td>190425</td>\n",
              "      <td>0.5151</td>\n",
              "    </tr>\n",
              "    <tr>\n",
              "      <th>2</th>\n",
              "      <td>student0_3</td>\n",
              "      <td>student0</td>\n",
              "      <td>39.5121</td>\n",
              "      <td>149891</td>\n",
              "      <td>0.5077</td>\n",
              "    </tr>\n",
              "    <tr>\n",
              "      <th>3</th>\n",
              "      <td>student0_4</td>\n",
              "      <td>student0</td>\n",
              "      <td>37.9206</td>\n",
              "      <td>135958</td>\n",
              "      <td>0.5212</td>\n",
              "    </tr>\n",
              "    <tr>\n",
              "      <th>4</th>\n",
              "      <td>student0_5</td>\n",
              "      <td>student0</td>\n",
              "      <td>34.0143</td>\n",
              "      <td>121845</td>\n",
              "      <td>0.5204</td>\n",
              "    </tr>\n",
              "  </tbody>\n",
              "</table>\n",
              "</div>"
            ],
            "text/plain": [
              "       contig   student  coverage     len      gc\n",
              "0  student0_1  student0   29.0114  255873  0.4995\n",
              "1  student0_2  student0   31.5053  190425  0.5151\n",
              "2  student0_3  student0   39.5121  149891  0.5077\n",
              "3  student0_4  student0   37.9206  135958  0.5212\n",
              "4  student0_5  student0   34.0143  121845  0.5204"
            ]
          },
          "metadata": {
            "tags": []
          },
          "execution_count": 14
        }
      ]
    },
    {
      "metadata": {
        "id": "3Fd9FgA6dvFl",
        "colab_type": "text"
      },
      "cell_type": "markdown",
      "source": [
        "What kind of data do we have?\n",
        "\n",
        "The main data types for pandas dataframes are:\n",
        "* int64 - whole numbers\n",
        "* float - decimals\n",
        "* object - most general type, mixed numbers and letters\n",
        "* category - assigned labels such as [small, medium, large]\n",
        "* datetime"
      ]
    },
    {
      "metadata": {
        "id": "-nSMuZ42d0H7",
        "colab_type": "code",
        "colab": {
          "base_uri": "https://localhost:8080/",
          "height": 187
        },
        "outputId": "e10c18be-2a70-41fb-e4f7-606e0053ee28"
      },
      "cell_type": "code",
      "source": [
        "clg.info()"
      ],
      "execution_count": 16,
      "outputs": [
        {
          "output_type": "stream",
          "text": [
            "<class 'pandas.core.frame.DataFrame'>\n",
            "RangeIndex: 142380 entries, 0 to 142379\n",
            "Data columns (total 5 columns):\n",
            "contig      142380 non-null object\n",
            "student     142380 non-null object\n",
            "coverage    142380 non-null float64\n",
            "len         142380 non-null int64\n",
            "gc          142380 non-null float64\n",
            "dtypes: float64(2), int64(1), object(2)\n",
            "memory usage: 5.4+ MB\n"
          ],
          "name": "stdout"
        }
      ]
    },
    {
      "metadata": {
        "id": "pKT8AKfJRs3i",
        "colab_type": "text"
      },
      "cell_type": "markdown",
      "source": [
        "Let's first take a broad look at the distributions of the data using pandas describe() function."
      ]
    },
    {
      "metadata": {
        "id": "UFBm8uhrcLPj",
        "colab_type": "code",
        "colab": {
          "base_uri": "https://localhost:8080/",
          "height": 297
        },
        "outputId": "74edc51f-965f-45c3-cea3-7aff584cb42d"
      },
      "cell_type": "code",
      "source": [
        "clg.describe()"
      ],
      "execution_count": 11,
      "outputs": [
        {
          "output_type": "execute_result",
          "data": {
            "text/html": [
              "<div>\n",
              "<style scoped>\n",
              "    .dataframe tbody tr th:only-of-type {\n",
              "        vertical-align: middle;\n",
              "    }\n",
              "\n",
              "    .dataframe tbody tr th {\n",
              "        vertical-align: top;\n",
              "    }\n",
              "\n",
              "    .dataframe thead th {\n",
              "        text-align: right;\n",
              "    }\n",
              "</style>\n",
              "<table border=\"1\" class=\"dataframe\">\n",
              "  <thead>\n",
              "    <tr style=\"text-align: right;\">\n",
              "      <th></th>\n",
              "      <th>coverage</th>\n",
              "      <th>len</th>\n",
              "      <th>gc</th>\n",
              "      <th>log_coverage</th>\n",
              "      <th>log_len</th>\n",
              "    </tr>\n",
              "  </thead>\n",
              "  <tbody>\n",
              "    <tr>\n",
              "      <th>count</th>\n",
              "      <td>142380.000000</td>\n",
              "      <td>1.423800e+05</td>\n",
              "      <td>142380.000000</td>\n",
              "      <td>142380.000000</td>\n",
              "      <td>142380.000000</td>\n",
              "    </tr>\n",
              "    <tr>\n",
              "      <th>mean</th>\n",
              "      <td>7.596764</td>\n",
              "      <td>4.278103e+03</td>\n",
              "      <td>0.531938</td>\n",
              "      <td>1.354275</td>\n",
              "      <td>3.028094</td>\n",
              "    </tr>\n",
              "    <tr>\n",
              "      <th>std</th>\n",
              "      <td>36.686146</td>\n",
              "      <td>2.396245e+04</td>\n",
              "      <td>0.136685</td>\n",
              "      <td>0.927005</td>\n",
              "      <td>0.519024</td>\n",
              "    </tr>\n",
              "    <tr>\n",
              "      <th>min</th>\n",
              "      <td>0.000000</td>\n",
              "      <td>1.280000e+02</td>\n",
              "      <td>0.000000</td>\n",
              "      <td>0.000000</td>\n",
              "      <td>2.107210</td>\n",
              "    </tr>\n",
              "    <tr>\n",
              "      <th>25%</th>\n",
              "      <td>1.258200</td>\n",
              "      <td>5.110000e+02</td>\n",
              "      <td>0.418200</td>\n",
              "      <td>0.814568</td>\n",
              "      <td>2.708421</td>\n",
              "    </tr>\n",
              "    <tr>\n",
              "      <th>50%</th>\n",
              "      <td>1.995800</td>\n",
              "      <td>7.480000e+02</td>\n",
              "      <td>0.537300</td>\n",
              "      <td>1.097211</td>\n",
              "      <td>2.873902</td>\n",
              "    </tr>\n",
              "    <tr>\n",
              "      <th>75%</th>\n",
              "      <td>3.864225</td>\n",
              "      <td>1.560000e+03</td>\n",
              "      <td>0.630100</td>\n",
              "      <td>1.581907</td>\n",
              "      <td>3.193125</td>\n",
              "    </tr>\n",
              "    <tr>\n",
              "      <th>max</th>\n",
              "      <td>2647.348100</td>\n",
              "      <td>2.231226e+06</td>\n",
              "      <td>1.000000</td>\n",
              "      <td>7.881691</td>\n",
              "      <td>6.348544</td>\n",
              "    </tr>\n",
              "  </tbody>\n",
              "</table>\n",
              "</div>"
            ],
            "text/plain": [
              "            coverage           len             gc   log_coverage  \\\n",
              "count  142380.000000  1.423800e+05  142380.000000  142380.000000   \n",
              "mean        7.596764  4.278103e+03       0.531938       1.354275   \n",
              "std        36.686146  2.396245e+04       0.136685       0.927005   \n",
              "min         0.000000  1.280000e+02       0.000000       0.000000   \n",
              "25%         1.258200  5.110000e+02       0.418200       0.814568   \n",
              "50%         1.995800  7.480000e+02       0.537300       1.097211   \n",
              "75%         3.864225  1.560000e+03       0.630100       1.581907   \n",
              "max      2647.348100  2.231226e+06       1.000000       7.881691   \n",
              "\n",
              "             log_len  \n",
              "count  142380.000000  \n",
              "mean        3.028094  \n",
              "std         0.519024  \n",
              "min         2.107210  \n",
              "25%         2.708421  \n",
              "50%         2.873902  \n",
              "75%         3.193125  \n",
              "max         6.348544  "
            ]
          },
          "metadata": {
            "tags": []
          },
          "execution_count": 11
        }
      ]
    },
    {
      "metadata": {
        "id": "8vPzYFX8cQp-",
        "colab_type": "text"
      },
      "cell_type": "markdown",
      "source": [
        "Next look at the distributions using the hist() function in matplotlib to make a histogram."
      ]
    },
    {
      "metadata": {
        "id": "VTCm4MIWEXLS",
        "colab_type": "code",
        "colab": {
          "base_uri": "https://localhost:8080/",
          "height": 297
        },
        "outputId": "2c215a8d-6aa8-4b98-d3e3-8794d804c0ba"
      },
      "cell_type": "code",
      "source": [
        "import matplotlib.pyplot as plt\n",
        "\n",
        "plt.figure(figsize=(12,4))\n",
        "\n",
        "plt.subplot(1,3,1)\n",
        "hist_cov = plt.hist(clg.coverage, 100)\n",
        "plt.title(\"coverage\")\n",
        "\n",
        "plt.subplot(1,3,2)\n",
        "hist_len = plt.hist(clg.len, 100)\n",
        "plt.title(\"length\")\n",
        "\n",
        "plt.subplot(1,3,3)\n",
        "hist_gc = plt.hist(clg.gc, 100)\n",
        "plt.title(\"G+C content\")\n",
        "\n",
        "plt.tight_layout()\n",
        "plt.show()"
      ],
      "execution_count": 5,
      "outputs": [
        {
          "output_type": "display_data",
          "data": {
            "image/png": "[encoded data removed]",
            "text/plain": [
              "<Figure size 864x288 with 3 Axes>"
            ]
          },
          "metadata": {
            "tags": []
          }
        }
      ]
    },
    {
      "metadata": {
        "id": "v-EZGX9BSA8b",
        "colab_type": "text"
      },
      "cell_type": "markdown",
      "source": [
        "It looks like the coverage and length data have very long right tails. In cases like this it is often useful to transform the data.\n",
        "\n",
        "One simple transform is to use the logarithms instead. Let's try that and re-plot the data."
      ]
    },
    {
      "metadata": {
        "id": "Dx9VGHZwTFlM",
        "colab_type": "code",
        "colab": {
          "base_uri": "https://localhost:8080/",
          "height": 297
        },
        "outputId": "a02ca75d-c01b-43db-dff5-d6f67e759fa8"
      },
      "cell_type": "code",
      "source": [
        "import math\n",
        "import numpy as np\n",
        "\n",
        "# add new log-transformed features to the dataset\n",
        "# need to use np.log rather than math.log when working with numpy arrays\n",
        "# also using np.log1p because some of the coverages are zeros and log(0) is indefinite\n",
        "clg[\"log_coverage\"] = np.log1p(clg[\"coverage\"]) \n",
        "clg[\"log_len\"] = np.log10(clg[\"len\"])\n",
        "\n",
        "plt.figure(figsize=(12,4))\n",
        "\n",
        "plt.subplot(1,3,1)\n",
        "hist_cov = plt.hist(clg.log_coverage, 100)\n",
        "plt.title(\"log coverage\")\n",
        "\n",
        "plt.subplot(1,3,2)\n",
        "hist_len = plt.hist(clg.log_len, 100)\n",
        "plt.title(\"log length\")\n",
        "\n",
        "plt.subplot(1,3,3)\n",
        "hist_gc = plt.hist(clg.gc, 100)\n",
        "plt.title(\"G+C content\")\n",
        "\n",
        "plt.tight_layout()\n",
        "plt.show()"
      ],
      "execution_count": 23,
      "outputs": [
        {
          "output_type": "display_data",
          "data": {
            "image/png": "[encoded data removed]",
            "text/plain": [
              "<Figure size 864x288 with 3 Axes>"
            ]
          },
          "metadata": {
            "tags": []
          }
        }
      ]
    },
    {
      "metadata": {
        "id": "Py_gD0v2WK3i",
        "colab_type": "text"
      },
      "cell_type": "markdown",
      "source": [
        "That looks much better, but we can also try another transform called the Box-Cox power transform, which can be called from sklearn.\n",
        "\n",
        "https://scikit-learn.org/stable/modules/preprocessing.html"
      ]
    },
    {
      "metadata": {
        "id": "7bEFWQyIWdj1",
        "colab_type": "code",
        "colab": {}
      },
      "cell_type": "code",
      "source": [
        "import sklearn\n",
        "from sklearn.preprocessing import PowerTransformer\n",
        "\n",
        "# add new Box-Cox transformed features to the dataset\n",
        "# need to pass pandas columns to sklearn as an array like this: [clg[\"coverage\"]]\n",
        "pt = PowerTransformer()\n",
        "pt.fit([clg[\"coverage\"].values])\n",
        "clg[\"boxcox_coverage\"] = pt.transform([clg[\"coverage\"]])\n",
        "\n",
        "clg[\"boxcox_len\"] = PowerTransformer().fit([clg[\"len\"]]).transform([clg[\"len\"]])\n",
        "\n",
        "plt.figure(figsize=(12,4))\n",
        "\n",
        "plt.subplot(1,3,1)\n",
        "hist_cov = plt.hist(clg.boxcox_coverage, 100)\n",
        "plt.title(\"Box-Cox coverage\")\n",
        "\n",
        "plt.subplot(1,3,2)\n",
        "hist_len = plt.hist(clg.boxcox_len, 100)\n",
        "plt.title(\"Box-Cox length\")\n",
        "\n",
        "plt.subplot(1,3,3)\n",
        "hist_gc = plt.hist(clg.gc, 100)\n",
        "plt.title(\"G+C content\")\n",
        "\n",
        "plt.tight_layout()\n",
        "plt.show()"
      ],
      "execution_count": 0,
      "outputs": []
    },
    {
      "metadata": {
        "id": "bOfir7l6BEKQ",
        "colab_type": "text"
      },
      "cell_type": "markdown",
      "source": [
        "Now let's take a subset of data from a single student.\n",
        "\n",
        "Here's a few different way to do the same task, which is called *subsetting* or *slicing* the array.\n"
      ]
    },
    {
      "metadata": {
        "id": "sLTcsIQQBHTS",
        "colab_type": "code",
        "colab": {
          "base_uri": "https://localhost:8080/",
          "height": 731
        },
        "outputId": "1f37fa86-cdee-4e62-8dd9-7ab313a9a3f5"
      },
      "cell_type": "code",
      "source": [
        "print(\"select rows where index 'student' equals 'student0' using dot notation\")\n",
        "stu = clg[clg.student==\"student0\"]\n",
        "print(stu.head())\n",
        "\n",
        "print(\"select rows where index 'student' equals 'student0' using index notation\")\n",
        "stu = clg[clg['student']==\"student0\"]\n",
        "print(stu.head())\n",
        "\n",
        "print(\"generate a boolean which is True when index 'student' equals 'student0'\")\n",
        "pick_stu = clg['student']==\"student0\"\n",
        "stu = clg[pick_stu]\n",
        "print(stu.head())\n",
        "\n",
        "print(\"use matching via the isin() function\")\n",
        "pick_stu = ['student0']\n",
        "stu = clg[clg.student.isin(pick_stu)]\n",
        "print(stu.head())\n",
        "\n",
        "print(\"selecting on multiple conditions\")\n",
        "pick_stu = ['student0']\n",
        "stu = clg[clg.student.isin(pick_stu) & (clg.gc > 0.5)] #the parantheses around the second comparison are required\n",
        "print(stu.head())\n",
        "\n",
        "print(\"selecting the inverse\")\n",
        "pick_stu = ['student0']\n",
        "stu = clg[~clg.student.isin(pick_stu)]\n",
        "print(stu.head())\n",
        "\n"
      ],
      "execution_count": 21,
      "outputs": [
        {
          "output_type": "stream",
          "text": [
            "select rows where index 'student' equals 'student0' using dot notation\n",
            "       contig   student  coverage     len      gc\n",
            "0  student0_1  student0   29.0114  255873  0.4995\n",
            "1  student0_2  student0   31.5053  190425  0.5151\n",
            "2  student0_3  student0   39.5121  149891  0.5077\n",
            "3  student0_4  student0   37.9206  135958  0.5212\n",
            "4  student0_5  student0   34.0143  121845  0.5204\n",
            "select rows where index 'student' equals 'student0' using index notation\n",
            "       contig   student  coverage     len      gc\n",
            "0  student0_1  student0   29.0114  255873  0.4995\n",
            "1  student0_2  student0   31.5053  190425  0.5151\n",
            "2  student0_3  student0   39.5121  149891  0.5077\n",
            "3  student0_4  student0   37.9206  135958  0.5212\n",
            "4  student0_5  student0   34.0143  121845  0.5204\n",
            "generate a boolean which is True when index 'student' equals 'student0'\n",
            "       contig   student  coverage     len      gc\n",
            "0  student0_1  student0   29.0114  255873  0.4995\n",
            "1  student0_2  student0   31.5053  190425  0.5151\n",
            "2  student0_3  student0   39.5121  149891  0.5077\n",
            "3  student0_4  student0   37.9206  135958  0.5212\n",
            "4  student0_5  student0   34.0143  121845  0.5204\n",
            "use matching via the isin() function\n",
            "       contig   student  coverage     len      gc\n",
            "0  student0_1  student0   29.0114  255873  0.4995\n",
            "1  student0_2  student0   31.5053  190425  0.5151\n",
            "2  student0_3  student0   39.5121  149891  0.5077\n",
            "3  student0_4  student0   37.9206  135958  0.5212\n",
            "4  student0_5  student0   34.0143  121845  0.5204\n",
            "selecting on multiple conditions\n",
            "       contig   student  coverage     len      gc\n",
            "1  student0_2  student0   31.5053  190425  0.5151\n",
            "2  student0_3  student0   39.5121  149891  0.5077\n",
            "3  student0_4  student0   37.9206  135958  0.5212\n",
            "4  student0_5  student0   34.0143  121845  0.5204\n",
            "5  student0_6  student0   30.4397  117759  0.5067\n",
            "selecting the inverse\n",
            "          contig   student  coverage     len      gc\n",
            "3265  student1_1  student1   72.4899  438181  0.3090\n",
            "3266  student1_2  student1   88.8412  412276  0.3188\n",
            "3267  student1_3  student1   75.2792  225214  0.3125\n",
            "3268  student1_4  student1   65.1923  175073  0.3082\n",
            "3269  student1_5  student1   60.8767  153798  0.3027\n"
          ],
          "name": "stdout"
        }
      ]
    },
    {
      "metadata": {
        "id": "GTXiJSmREYbG",
        "colab_type": "text"
      },
      "cell_type": "markdown",
      "source": [
        "And now we'll go ahead and plot all of the samples dynamically using the log transformed data"
      ]
    },
    {
      "metadata": {
        "id": "CBlIPX4pEhrS",
        "colab_type": "code",
        "colab": {
          "base_uri": "https://localhost:8080/",
          "height": 517
        },
        "outputId": "acf6da67-3a3e-4c82-c20b-cdad2bcbb8da"
      },
      "cell_type": "code",
      "source": [
        "from google.colab import widgets\n",
        "import matplotlib.pyplot as plt\n",
        "import time\n",
        "\n",
        "grid = widgets.Grid(1, 1)\n",
        "students = clg.student.unique()\n",
        "for sid in students:\n",
        "  stu = clg[clg.student==sid]\n",
        "  with grid.output_to(0, 0):\n",
        "    grid.clear_cell()\n",
        "    plt.figure(figsize=(8,8))\n",
        "    # plot cov ~ len\n",
        "    plt.subplot(2, 2, 1)\n",
        "    plt.scatter(stu.log_coverage,stu.log_len,color=\"blue\", s=1) # choose columns by dot notation\n",
        "    plt.legend() #plot the legend\n",
        "    plt.xlabel(\"log contig coverage\") #plot x label\n",
        "    plt.ylabel(\"log10 contig length (bp)\") #plot y label\n",
        "\n",
        "    # plot cov ~ gc\n",
        "    plt.subplot(2, 2, 2)\n",
        "    plt.title(sid)\n",
        "\n",
        "    # plot cov ~ gc\n",
        "    plt.subplot(2, 2, 3)\n",
        "    plt.scatter(stu[\"log_coverage\"],stu[\"gc\"],color=\"blue\", s=1) # choose columns by index notation\n",
        "    plt.legend() #plot the legend\n",
        "    plt.xlabel(\"log contig coverage\") #plot x label\n",
        "    plt.ylabel(\"contig G+C\") #plot y label\n",
        "\n",
        "    # plot len ~ gc\n",
        "    plt.subplot(2, 2, 4)\n",
        "    plt.scatter(stu[\"log_len\"],stu.gc,color=\"blue\", s=1) # or choose columns by a mixture\n",
        "    plt.legend() #plot the legend\n",
        "    plt.xlabel(\"log contig length (bp)\") #plot x label\n",
        "    plt.ylabel(\"contig G+C\") #plot y label\n",
        "    \n",
        "    plt.show()\n",
        "    time.sleep(1)\n",
        "      "
      ],
      "execution_count": 24,
      "outputs": [
        {
          "output_type": "display_data",
          "data": {
            "text/html": [
              "<style>\n",
              "       table#id4, #id4 > tbody > tr > th, #id4 > tbody > tr > td {\n",
              "         border: 1px solid lightgray;\n",
              "         border-collapse:collapse;\n",
              "         \n",
              "        }</style>"
            ],
            "text/plain": [
              "<IPython.core.display.HTML object>"
            ]
          },
          "metadata": {
            "tags": [
              "outputarea_id4"
            ]
          }
        },
        {
          "output_type": "display_data",
          "data": {
            "text/html": [
              "<table id=id4><tr><td id=id4-0-0></td></tr></table>"
            ],
            "text/plain": [
              "<IPython.core.display.HTML object>"
            ]
          },
          "metadata": {
            "tags": [
              "outputarea_id4"
            ]
          }
        },
        {
          "output_type": "display_data",
          "data": {
            "application/javascript": [
              "window[\"22e2cde8-6648-11e9-94aa-0242ac1c0002\"] = google.colab.output.getActiveOutputArea();\n",
              "//# sourceURL=js_635797fd3e"
            ],
            "text/plain": [
              "<IPython.core.display.Javascript object>"
            ]
          },
          "metadata": {
            "tags": [
              "id4-0-0",
              "outputarea_id4"
            ]
          }
        },
        {
          "output_type": "display_data",
          "data": {
            "application/javascript": [
              "window[\"22e33f58-6648-11e9-94aa-0242ac1c0002\"] = document.querySelector(\"#id4-0-0\");\n",
              "//# sourceURL=js_f81bc4d126"
            ],
            "text/plain": [
              "<IPython.core.display.Javascript object>"
            ]
          },
          "metadata": {
            "tags": [
              "id4-0-0",
              "outputarea_id4"
            ]
          }
        },
        {
          "output_type": "display_data",
          "data": {
            "application/javascript": [
              "window[\"22e3a7ea-6648-11e9-94aa-0242ac1c0002\"] = google.colab.output.setActiveOutputArea(window[\"22e33f58-6648-11e9-94aa-0242ac1c0002\"]);\n",
              "//# sourceURL=js_d49c5217f8"
            ],
            "text/plain": [
              "<IPython.core.display.Javascript object>"
            ]
          },
          "metadata": {
            "tags": [
              "id4-0-0",
              "outputarea_id4"
            ]
          }
        },
        {
          "output_type": "display_data",
          "data": {
            "application/javascript": [
              "window[\"23fe914e-6648-11e9-94aa-0242ac1c0002\"] = google.colab.output.setActiveOutputArea(window[\"22e2cde8-6648-11e9-94aa-0242ac1c0002\"]);\n",
              "//# sourceURL=js_3b048c4cdd"
            ],
            "text/plain": [
              "<IPython.core.display.Javascript object>"
            ]
          },
          "metadata": {
            "tags": [
              "id4-0-0",
              "outputarea_id4"
            ]
          }
        },
        {
          "output_type": "display_data",
          "data": {
            "application/javascript": [
              "window[\"240349d2-6648-11e9-94aa-0242ac1c0002\"] = google.colab.output.getActiveOutputArea();\n",
              "//# sourceURL=js_dbd4892aa9"
            ],
            "text/plain": [
              "<IPython.core.display.Javascript object>"
            ]
          },
          "metadata": {
            "tags": [
              "id4-0-0",
              "outputarea_id4"
            ]
          }
        },
        {
          "output_type": "display_data",
          "data": {
            "application/javascript": [
              "window[\"2403e374-6648-11e9-94aa-0242ac1c0002\"] = document.querySelector(\"#id4-0-0\");\n",
              "//# sourceURL=js_f5fab279fc"
            ],
            "text/plain": [
              "<IPython.core.display.Javascript object>"
            ]
          },
          "metadata": {
            "tags": [
              "id4-0-0",
              "outputarea_id4"
            ]
          }
        },
        {
          "output_type": "display_data",
          "data": {
            "application/javascript": [
              "window[\"2404578c-6648-11e9-94aa-0242ac1c0002\"] = google.colab.output.setActiveOutputArea(window[\"2403e374-6648-11e9-94aa-0242ac1c0002\"]);\n",
              "//# sourceURL=js_a763512ba0"
            ],
            "text/plain": [
              "<IPython.core.display.Javascript object>"
            ]
          },
          "metadata": {
            "tags": [
              "id4-0-0",
              "outputarea_id4"
            ]
          }
        },
        {
          "output_type": "display_data",
          "data": {
            "application/javascript": [
              "window[\"2506845c-6648-11e9-94aa-0242ac1c0002\"] = google.colab.output.setActiveOutputArea(window[\"240349d2-6648-11e9-94aa-0242ac1c0002\"]);\n",
              "//# sourceURL=js_eed83b99cf"
            ],
            "text/plain": [
              "<IPython.core.display.Javascript object>"
            ]
          },
          "metadata": {
            "tags": [
              "id4-0-0",
              "outputarea_id4"
            ]
          }
        },
        {
          "output_type": "display_data",
          "data": {
            "application/javascript": [
              "window[\"250a64be-6648-11e9-94aa-0242ac1c0002\"] = google.colab.output.getActiveOutputArea();\n",
              "//# sourceURL=js_5ac6e0e095"
            ],
            "text/plain": [
              "<IPython.core.display.Javascript object>"
            ]
          },
          "metadata": {
            "tags": [
              "id4-0-0",
              "outputarea_id4"
            ]
          }
        },
        {
          "output_type": "display_data",
          "data": {
            "application/javascript": [
              "window[\"250ad0d4-6648-11e9-94aa-0242ac1c0002\"] = document.querySelector(\"#id4-0-0\");\n",
              "//# sourceURL=js_1f9f5862cc"
            ],
            "text/plain": [
              "<IPython.core.display.Javascript object>"
            ]
          },
          "metadata": {
            "tags": [
              "id4-0-0",
              "outputarea_id4"
            ]
          }
        },
        {
          "output_type": "display_data",
          "data": {
            "application/javascript": [
              "window[\"250b27f0-6648-11e9-94aa-0242ac1c0002\"] = google.colab.output.setActiveOutputArea(window[\"250ad0d4-6648-11e9-94aa-0242ac1c0002\"]);\n",
              "//# sourceURL=js_b3c5859570"
            ],
            "text/plain": [
              "<IPython.core.display.Javascript object>"
            ]
          },
          "metadata": {
            "tags": [
              "id4-0-0",
              "outputarea_id4"
            ]
          }
        },
        {
          "output_type": "display_data",
          "data": {
            "application/javascript": [
              "window[\"260b5648-6648-11e9-94aa-0242ac1c0002\"] = google.colab.output.setActiveOutputArea(window[\"250a64be-6648-11e9-94aa-0242ac1c0002\"]);\n",
              "//# sourceURL=js_f658705476"
            ],
            "text/plain": [
              "<IPython.core.display.Javascript object>"
            ]
          },
          "metadata": {
            "tags": [
              "id4-0-0",
              "outputarea_id4"
            ]
          }
        },
        {
          "output_type": "display_data",
          "data": {
            "application/javascript": [
              "window[\"260f9fb4-6648-11e9-94aa-0242ac1c0002\"] = google.colab.output.getActiveOutputArea();\n",
              "//# sourceURL=js_686ce1f0e8"
            ],
            "text/plain": [
              "<IPython.core.display.Javascript object>"
            ]
          },
          "metadata": {
            "tags": [
              "id4-0-0",
              "outputarea_id4"
            ]
          }
        },
        {
          "output_type": "display_data",
          "data": {
            "application/javascript": [
              "window[\"26102a60-6648-11e9-94aa-0242ac1c0002\"] = document.querySelector(\"#id4-0-0\");\n",
              "//# sourceURL=js_5baacdb0cc"
            ],
            "text/plain": [
              "<IPython.core.display.Javascript object>"
            ]
          },
          "metadata": {
            "tags": [
              "id4-0-0",
              "outputarea_id4"
            ]
          }
        },
        {
          "output_type": "display_data",
          "data": {
            "application/javascript": [
              "window[\"26109da6-6648-11e9-94aa-0242ac1c0002\"] = google.colab.output.setActiveOutputArea(window[\"26102a60-6648-11e9-94aa-0242ac1c0002\"]);\n",
              "//# sourceURL=js_57c2b97b56"
            ],
            "text/plain": [
              "<IPython.core.display.Javascript object>"
            ]
          },
          "metadata": {
            "tags": [
              "id4-0-0",
              "outputarea_id4"
            ]
          }
        },
        {
          "output_type": "display_data",
          "data": {
            "application/javascript": [
              "window[\"27103e00-6648-11e9-94aa-0242ac1c0002\"] = google.colab.output.setActiveOutputArea(window[\"260f9fb4-6648-11e9-94aa-0242ac1c0002\"]);\n",
              "//# sourceURL=js_62b5db59fa"
            ],
            "text/plain": [
              "<IPython.core.display.Javascript object>"
            ]
          },
          "metadata": {
            "tags": [
              "id4-0-0",
              "outputarea_id4"
            ]
          }
        },
        {
          "output_type": "display_data",
          "data": {
            "application/javascript": [
              "window[\"271541f2-6648-11e9-94aa-0242ac1c0002\"] = google.colab.output.getActiveOutputArea();\n",
              "//# sourceURL=js_218891005f"
            ],
            "text/plain": [
              "<IPython.core.display.Javascript object>"
            ]
          },
          "metadata": {
            "tags": [
              "id4-0-0",
              "outputarea_id4"
            ]
          }
        },
        {
          "output_type": "display_data",
          "data": {
            "application/javascript": [
              "window[\"2715e116-6648-11e9-94aa-0242ac1c0002\"] = document.querySelector(\"#id4-0-0\");\n",
              "//# sourceURL=js_d5a2168b8d"
            ],
            "text/plain": [
              "<IPython.core.display.Javascript object>"
            ]
          },
          "metadata": {
            "tags": [
              "id4-0-0",
              "outputarea_id4"
            ]
          }
        },
        {
          "output_type": "display_data",
          "data": {
            "application/javascript": [
              "window[\"2716791e-6648-11e9-94aa-0242ac1c0002\"] = google.colab.output.setActiveOutputArea(window[\"2715e116-6648-11e9-94aa-0242ac1c0002\"]);\n",
              "//# sourceURL=js_ea3bf725b9"
            ],
            "text/plain": [
              "<IPython.core.display.Javascript object>"
            ]
          },
          "metadata": {
            "tags": [
              "id4-0-0",
              "outputarea_id4"
            ]
          }
        },
        {
          "output_type": "display_data",
          "data": {
            "application/javascript": [
              "window[\"2818df5a-6648-11e9-94aa-0242ac1c0002\"] = google.colab.output.setActiveOutputArea(window[\"271541f2-6648-11e9-94aa-0242ac1c0002\"]);\n",
              "//# sourceURL=js_01ed4744e8"
            ],
            "text/plain": [
              "<IPython.core.display.Javascript object>"
            ]
          },
          "metadata": {
            "tags": [
              "id4-0-0",
              "outputarea_id4"
            ]
          }
        },
        {
          "output_type": "display_data",
          "data": {
            "application/javascript": [
              "window[\"281d4e32-6648-11e9-94aa-0242ac1c0002\"] = google.colab.output.getActiveOutputArea();\n",
              "//# sourceURL=js_1b32a28bd2"
            ],
            "text/plain": [
              "<IPython.core.display.Javascript object>"
            ]
          },
          "metadata": {
            "tags": [
              "id4-0-0",
              "outputarea_id4"
            ]
          }
        },
        {
          "output_type": "display_data",
          "data": {
            "application/javascript": [
              "window[\"281dac24-6648-11e9-94aa-0242ac1c0002\"] = document.querySelector(\"#id4-0-0\");\n",
              "//# sourceURL=js_8e2d76026d"
            ],
            "text/plain": [
              "<IPython.core.display.Javascript object>"
            ]
          },
          "metadata": {
            "tags": [
              "id4-0-0",
              "outputarea_id4"
            ]
          }
        },
        {
          "output_type": "display_data",
          "data": {
            "application/javascript": [
              "window[\"281e139e-6648-11e9-94aa-0242ac1c0002\"] = google.colab.output.setActiveOutputArea(window[\"281dac24-6648-11e9-94aa-0242ac1c0002\"]);\n",
              "//# sourceURL=js_dd36889c0d"
            ],
            "text/plain": [
              "<IPython.core.display.Javascript object>"
            ]
          },
          "metadata": {
            "tags": [
              "id4-0-0",
              "outputarea_id4"
            ]
          }
        },
        {
          "output_type": "display_data",
          "data": {
            "application/javascript": [
              "window[\"293c53b2-6648-11e9-94aa-0242ac1c0002\"] = google.colab.output.setActiveOutputArea(window[\"281d4e32-6648-11e9-94aa-0242ac1c0002\"]);\n",
              "//# sourceURL=js_e4b6ca3129"
            ],
            "text/plain": [
              "<IPython.core.display.Javascript object>"
            ]
          },
          "metadata": {
            "tags": [
              "id4-0-0",
              "outputarea_id4"
            ]
          }
        },
        {
          "output_type": "display_data",
          "data": {
            "application/javascript": [
              "window[\"2940de96-6648-11e9-94aa-0242ac1c0002\"] = google.colab.output.getActiveOutputArea();\n",
              "//# sourceURL=js_750f7ea261"
            ],
            "text/plain": [
              "<IPython.core.display.Javascript object>"
            ]
          },
          "metadata": {
            "tags": [
              "id4-0-0",
              "outputarea_id4"
            ]
          }
        },
        {
          "output_type": "display_data",
          "data": {
            "application/javascript": [
              "window[\"29416ec4-6648-11e9-94aa-0242ac1c0002\"] = document.querySelector(\"#id4-0-0\");\n",
              "//# sourceURL=js_f95afb2eeb"
            ],
            "text/plain": [
              "<IPython.core.display.Javascript object>"
            ]
          },
          "metadata": {
            "tags": [
              "id4-0-0",
              "outputarea_id4"
            ]
          }
        },
        {
          "output_type": "display_data",
          "data": {
            "application/javascript": [
              "window[\"2941fea2-6648-11e9-94aa-0242ac1c0002\"] = google.colab.output.setActiveOutputArea(window[\"29416ec4-6648-11e9-94aa-0242ac1c0002\"]);\n",
              "//# sourceURL=js_264e6bea6e"
            ],
            "text/plain": [
              "<IPython.core.display.Javascript object>"
            ]
          },
          "metadata": {
            "tags": [
              "id4-0-0",
              "outputarea_id4"
            ]
          }
        },
        {
          "output_type": "display_data",
          "data": {
            "application/javascript": [
              "window[\"2a4edd74-6648-11e9-94aa-0242ac1c0002\"] = google.colab.output.setActiveOutputArea(window[\"2940de96-6648-11e9-94aa-0242ac1c0002\"]);\n",
              "//# sourceURL=js_8c16fa5924"
            ],
            "text/plain": [
              "<IPython.core.display.Javascript object>"
            ]
          },
          "metadata": {
            "tags": [
              "id4-0-0",
              "outputarea_id4"
            ]
          }
        },
        {
          "output_type": "display_data",
          "data": {
            "application/javascript": [
              "window[\"2a52ddc0-6648-11e9-94aa-0242ac1c0002\"] = google.colab.output.getActiveOutputArea();\n",
              "//# sourceURL=js_c4678c7a84"
            ],
            "text/plain": [
              "<IPython.core.display.Javascript object>"
            ]
          },
          "metadata": {
            "tags": [
              "id4-0-0",
              "outputarea_id4"
            ]
          }
        },
        {
          "output_type": "display_data",
          "data": {
            "application/javascript": [
              "window[\"2a533234-6648-11e9-94aa-0242ac1c0002\"] = document.querySelector(\"#id4-0-0\");\n",
              "//# sourceURL=js_23c9bbfab3"
            ],
            "text/plain": [
              "<IPython.core.display.Javascript object>"
            ]
          },
          "metadata": {
            "tags": [
              "id4-0-0",
              "outputarea_id4"
            ]
          }
        },
        {
          "output_type": "display_data",
          "data": {
            "application/javascript": [
              "window[\"2a5397ec-6648-11e9-94aa-0242ac1c0002\"] = google.colab.output.setActiveOutputArea(window[\"2a533234-6648-11e9-94aa-0242ac1c0002\"]);\n",
              "//# sourceURL=js_1e85528c39"
            ],
            "text/plain": [
              "<IPython.core.display.Javascript object>"
            ]
          },
          "metadata": {
            "tags": [
              "id4-0-0",
              "outputarea_id4"
            ]
          }
        },
        {
          "output_type": "display_data",
          "data": {
            "application/javascript": [
              "window[\"2b968402-6648-11e9-94aa-0242ac1c0002\"] = google.colab.output.setActiveOutputArea(window[\"2a52ddc0-6648-11e9-94aa-0242ac1c0002\"]);\n",
              "//# sourceURL=js_76d3387116"
            ],
            "text/plain": [
              "<IPython.core.display.Javascript object>"
            ]
          },
          "metadata": {
            "tags": [
              "id4-0-0",
              "outputarea_id4"
            ]
          }
        },
        {
          "output_type": "display_data",
          "data": {
            "application/javascript": [
              "window[\"2b9b202a-6648-11e9-94aa-0242ac1c0002\"] = google.colab.output.getActiveOutputArea();\n",
              "//# sourceURL=js_f66f0f3b64"
            ],
            "text/plain": [
              "<IPython.core.display.Javascript object>"
            ]
          },
          "metadata": {
            "tags": [
              "id4-0-0",
              "outputarea_id4"
            ]
          }
        },
        {
          "output_type": "display_data",
          "data": {
            "application/javascript": [
              "window[\"2b9b7cd2-6648-11e9-94aa-0242ac1c0002\"] = document.querySelector(\"#id4-0-0\");\n",
              "//# sourceURL=js_0e613a18c8"
            ],
            "text/plain": [
              "<IPython.core.display.Javascript object>"
            ]
          },
          "metadata": {
            "tags": [
              "id4-0-0",
              "outputarea_id4"
            ]
          }
        },
        {
          "output_type": "display_data",
          "data": {
            "application/javascript": [
              "window[\"2b9c03e6-6648-11e9-94aa-0242ac1c0002\"] = google.colab.output.setActiveOutputArea(window[\"2b9b7cd2-6648-11e9-94aa-0242ac1c0002\"]);\n",
              "//# sourceURL=js_4cb11e4536"
            ],
            "text/plain": [
              "<IPython.core.display.Javascript object>"
            ]
          },
          "metadata": {
            "tags": [
              "id4-0-0",
              "outputarea_id4"
            ]
          }
        },
        {
          "output_type": "display_data",
          "data": {
            "application/javascript": [
              "window[\"2ca27acc-6648-11e9-94aa-0242ac1c0002\"] = google.colab.output.setActiveOutputArea(window[\"2b9b202a-6648-11e9-94aa-0242ac1c0002\"]);\n",
              "//# sourceURL=js_a39d691feb"
            ],
            "text/plain": [
              "<IPython.core.display.Javascript object>"
            ]
          },
          "metadata": {
            "tags": [
              "id4-0-0",
              "outputarea_id4"
            ]
          }
        },
        {
          "output_type": "display_data",
          "data": {
            "application/javascript": [
              "window[\"2ca6aa48-6648-11e9-94aa-0242ac1c0002\"] = google.colab.output.getActiveOutputArea();\n",
              "//# sourceURL=js_b3382b0426"
            ],
            "text/plain": [
              "<IPython.core.display.Javascript object>"
            ]
          },
          "metadata": {
            "tags": [
              "id4-0-0",
              "outputarea_id4"
            ]
          }
        },
        {
          "output_type": "display_data",
          "data": {
            "application/javascript": [
              "window[\"2ca70d76-6648-11e9-94aa-0242ac1c0002\"] = document.querySelector(\"#id4-0-0\");\n",
              "//# sourceURL=js_033b725056"
            ],
            "text/plain": [
              "<IPython.core.display.Javascript object>"
            ]
          },
          "metadata": {
            "tags": [
              "id4-0-0",
              "outputarea_id4"
            ]
          }
        },
        {
          "output_type": "display_data",
          "data": {
            "application/javascript": [
              "window[\"2ca759ca-6648-11e9-94aa-0242ac1c0002\"] = google.colab.output.setActiveOutputArea(window[\"2ca70d76-6648-11e9-94aa-0242ac1c0002\"]);\n",
              "//# sourceURL=js_ea10db47ec"
            ],
            "text/plain": [
              "<IPython.core.display.Javascript object>"
            ]
          },
          "metadata": {
            "tags": [
              "id4-0-0",
              "outputarea_id4"
            ]
          }
        },
        {
          "output_type": "display_data",
          "data": {
            "application/javascript": [
              "window[\"2db2147c-6648-11e9-94aa-0242ac1c0002\"] = google.colab.output.setActiveOutputArea(window[\"2ca6aa48-6648-11e9-94aa-0242ac1c0002\"]);\n",
              "//# sourceURL=js_9c5694d85b"
            ],
            "text/plain": [
              "<IPython.core.display.Javascript object>"
            ]
          },
          "metadata": {
            "tags": [
              "id4-0-0",
              "outputarea_id4"
            ]
          }
        },
        {
          "output_type": "display_data",
          "data": {
            "application/javascript": [
              "window[\"2db5e70a-6648-11e9-94aa-0242ac1c0002\"] = google.colab.output.getActiveOutputArea();\n",
              "//# sourceURL=js_cc5fab470a"
            ],
            "text/plain": [
              "<IPython.core.display.Javascript object>"
            ]
          },
          "metadata": {
            "tags": [
              "id4-0-0",
              "outputarea_id4"
            ]
          }
        },
        {
          "output_type": "display_data",
          "data": {
            "application/javascript": [
              "window[\"2db649e8-6648-11e9-94aa-0242ac1c0002\"] = document.querySelector(\"#id4-0-0\");\n",
              "//# sourceURL=js_f7ea1e5a5f"
            ],
            "text/plain": [
              "<IPython.core.display.Javascript object>"
            ]
          },
          "metadata": {
            "tags": [
              "id4-0-0",
              "outputarea_id4"
            ]
          }
        },
        {
          "output_type": "display_data",
          "data": {
            "application/javascript": [
              "window[\"2db6a14a-6648-11e9-94aa-0242ac1c0002\"] = google.colab.output.setActiveOutputArea(window[\"2db649e8-6648-11e9-94aa-0242ac1c0002\"]);\n",
              "//# sourceURL=js_20bd52d583"
            ],
            "text/plain": [
              "<IPython.core.display.Javascript object>"
            ]
          },
          "metadata": {
            "tags": [
              "id4-0-0",
              "outputarea_id4"
            ]
          }
        },
        {
          "output_type": "display_data",
          "data": {
            "application/javascript": [
              "window[\"2eca9654-6648-11e9-94aa-0242ac1c0002\"] = google.colab.output.setActiveOutputArea(window[\"2db5e70a-6648-11e9-94aa-0242ac1c0002\"]);\n",
              "//# sourceURL=js_7f7453ffc0"
            ],
            "text/plain": [
              "<IPython.core.display.Javascript object>"
            ]
          },
          "metadata": {
            "tags": [
              "id4-0-0",
              "outputarea_id4"
            ]
          }
        },
        {
          "output_type": "display_data",
          "data": {
            "application/javascript": [
              "window[\"2ece6cfc-6648-11e9-94aa-0242ac1c0002\"] = google.colab.output.getActiveOutputArea();\n",
              "//# sourceURL=js_eaea6a160a"
            ],
            "text/plain": [
              "<IPython.core.display.Javascript object>"
            ]
          },
          "metadata": {
            "tags": [
              "id4-0-0",
              "outputarea_id4"
            ]
          }
        },
        {
          "output_type": "display_data",
          "data": {
            "application/javascript": [
              "window[\"2ecec986-6648-11e9-94aa-0242ac1c0002\"] = document.querySelector(\"#id4-0-0\");\n",
              "//# sourceURL=js_f9b5737b29"
            ],
            "text/plain": [
              "<IPython.core.display.Javascript object>"
            ]
          },
          "metadata": {
            "tags": [
              "id4-0-0",
              "outputarea_id4"
            ]
          }
        },
        {
          "output_type": "display_data",
          "data": {
            "application/javascript": [
              "window[\"2ecf2728-6648-11e9-94aa-0242ac1c0002\"] = google.colab.output.setActiveOutputArea(window[\"2ecec986-6648-11e9-94aa-0242ac1c0002\"]);\n",
              "//# sourceURL=js_c5817913a4"
            ],
            "text/plain": [
              "<IPython.core.display.Javascript object>"
            ]
          },
          "metadata": {
            "tags": [
              "id4-0-0",
              "outputarea_id4"
            ]
          }
        },
        {
          "output_type": "display_data",
          "data": {
            "application/javascript": [
              "window[\"2fd39e1a-6648-11e9-94aa-0242ac1c0002\"] = google.colab.output.setActiveOutputArea(window[\"2ece6cfc-6648-11e9-94aa-0242ac1c0002\"]);\n",
              "//# sourceURL=js_e01852f2e9"
            ],
            "text/plain": [
              "<IPython.core.display.Javascript object>"
            ]
          },
          "metadata": {
            "tags": [
              "id4-0-0",
              "outputarea_id4"
            ]
          }
        },
        {
          "output_type": "display_data",
          "data": {
            "application/javascript": [
              "window[\"2fd7c972-6648-11e9-94aa-0242ac1c0002\"] = google.colab.output.getActiveOutputArea();\n",
              "//# sourceURL=js_110462517e"
            ],
            "text/plain": [
              "<IPython.core.display.Javascript object>"
            ]
          },
          "metadata": {
            "tags": [
              "id4-0-0",
              "outputarea_id4"
            ]
          }
        },
        {
          "output_type": "display_data",
          "data": {
            "application/javascript": [
              "window[\"2fd82e26-6648-11e9-94aa-0242ac1c0002\"] = document.querySelector(\"#id4-0-0\");\n",
              "//# sourceURL=js_90944f9b0c"
            ],
            "text/plain": [
              "<IPython.core.display.Javascript object>"
            ]
          },
          "metadata": {
            "tags": [
              "id4-0-0",
              "outputarea_id4"
            ]
          }
        },
        {
          "output_type": "display_data",
          "data": {
            "application/javascript": [
              "window[\"2fd87e76-6648-11e9-94aa-0242ac1c0002\"] = google.colab.output.setActiveOutputArea(window[\"2fd82e26-6648-11e9-94aa-0242ac1c0002\"]);\n",
              "//# sourceURL=js_2101109dff"
            ],
            "text/plain": [
              "<IPython.core.display.Javascript object>"
            ]
          },
          "metadata": {
            "tags": [
              "id4-0-0",
              "outputarea_id4"
            ]
          }
        },
        {
          "output_type": "display_data",
          "data": {
            "application/javascript": [
              "window[\"30f0f824-6648-11e9-94aa-0242ac1c0002\"] = google.colab.output.setActiveOutputArea(window[\"2fd7c972-6648-11e9-94aa-0242ac1c0002\"]);\n",
              "//# sourceURL=js_5b6ed0976b"
            ],
            "text/plain": [
              "<IPython.core.display.Javascript object>"
            ]
          },
          "metadata": {
            "tags": [
              "id4-0-0",
              "outputarea_id4"
            ]
          }
        },
        {
          "output_type": "display_data",
          "data": {
            "application/javascript": [
              "window[\"30f557d4-6648-11e9-94aa-0242ac1c0002\"] = google.colab.output.getActiveOutputArea();\n",
              "//# sourceURL=js_ca55e3dbc5"
            ],
            "text/plain": [
              "<IPython.core.display.Javascript object>"
            ]
          },
          "metadata": {
            "tags": [
              "id4-0-0",
              "outputarea_id4"
            ]
          }
        },
        {
          "output_type": "display_data",
          "data": {
            "application/javascript": [
              "window[\"30f5c08e-6648-11e9-94aa-0242ac1c0002\"] = document.querySelector(\"#id4-0-0\");\n",
              "//# sourceURL=js_b6ee04d986"
            ],
            "text/plain": [
              "<IPython.core.display.Javascript object>"
            ]
          },
          "metadata": {
            "tags": [
              "id4-0-0",
              "outputarea_id4"
            ]
          }
        },
        {
          "output_type": "display_data",
          "data": {
            "application/javascript": [
              "window[\"30f6347e-6648-11e9-94aa-0242ac1c0002\"] = google.colab.output.setActiveOutputArea(window[\"30f5c08e-6648-11e9-94aa-0242ac1c0002\"]);\n",
              "//# sourceURL=js_da8ed10e37"
            ],
            "text/plain": [
              "<IPython.core.display.Javascript object>"
            ]
          },
          "metadata": {
            "tags": [
              "id4-0-0",
              "outputarea_id4"
            ]
          }
        },
        {
          "output_type": "display_data",
          "data": {
            "application/javascript": [
              "window[\"31f6c168-6648-11e9-94aa-0242ac1c0002\"] = google.colab.output.setActiveOutputArea(window[\"30f557d4-6648-11e9-94aa-0242ac1c0002\"]);\n",
              "//# sourceURL=js_dcbf4a134f"
            ],
            "text/plain": [
              "<IPython.core.display.Javascript object>"
            ]
          },
          "metadata": {
            "tags": [
              "id4-0-0",
              "outputarea_id4"
            ]
          }
        },
        {
          "output_type": "display_data",
          "data": {
            "application/javascript": [
              "window[\"31fb5034-6648-11e9-94aa-0242ac1c0002\"] = google.colab.output.getActiveOutputArea();\n",
              "//# sourceURL=js_a2cef942c0"
            ],
            "text/plain": [
              "<IPython.core.display.Javascript object>"
            ]
          },
          "metadata": {
            "tags": [
              "id4-0-0",
              "outputarea_id4"
            ]
          }
        },
        {
          "output_type": "display_data",
          "data": {
            "application/javascript": [
              "window[\"31fba5c0-6648-11e9-94aa-0242ac1c0002\"] = document.querySelector(\"#id4-0-0\");\n",
              "//# sourceURL=js_e24e2758c7"
            ],
            "text/plain": [
              "<IPython.core.display.Javascript object>"
            ]
          },
          "metadata": {
            "tags": [
              "id4-0-0",
              "outputarea_id4"
            ]
          }
        },
        {
          "output_type": "display_data",
          "data": {
            "application/javascript": [
              "window[\"31fc086c-6648-11e9-94aa-0242ac1c0002\"] = google.colab.output.setActiveOutputArea(window[\"31fba5c0-6648-11e9-94aa-0242ac1c0002\"]);\n",
              "//# sourceURL=js_4252524889"
            ],
            "text/plain": [
              "<IPython.core.display.Javascript object>"
            ]
          },
          "metadata": {
            "tags": [
              "id4-0-0",
              "outputarea_id4"
            ]
          }
        },
        {
          "output_type": "display_data",
          "data": {
            "application/javascript": [
              "window[\"33656644-6648-11e9-94aa-0242ac1c0002\"] = google.colab.output.setActiveOutputArea(window[\"31fb5034-6648-11e9-94aa-0242ac1c0002\"]);\n",
              "//# sourceURL=js_a82a5fbd6d"
            ],
            "text/plain": [
              "<IPython.core.display.Javascript object>"
            ]
          },
          "metadata": {
            "tags": [
              "id4-0-0",
              "outputarea_id4"
            ]
          }
        },
        {
          "output_type": "display_data",
          "data": {
            "application/javascript": [
              "window[\"33697252-6648-11e9-94aa-0242ac1c0002\"] = google.colab.output.getActiveOutputArea();\n",
              "//# sourceURL=js_cb4c220157"
            ],
            "text/plain": [
              "<IPython.core.display.Javascript object>"
            ]
          },
          "metadata": {
            "tags": [
              "id4-0-0",
              "outputarea_id4"
            ]
          }
        },
        {
          "output_type": "display_data",
          "data": {
            "application/javascript": [
              "window[\"3369c112-6648-11e9-94aa-0242ac1c0002\"] = document.querySelector(\"#id4-0-0\");\n",
              "//# sourceURL=js_28d0b613c5"
            ],
            "text/plain": [
              "<IPython.core.display.Javascript object>"
            ]
          },
          "metadata": {
            "tags": [
              "id4-0-0",
              "outputarea_id4"
            ]
          }
        },
        {
          "output_type": "display_data",
          "data": {
            "application/javascript": [
              "window[\"336a0ea6-6648-11e9-94aa-0242ac1c0002\"] = google.colab.output.setActiveOutputArea(window[\"3369c112-6648-11e9-94aa-0242ac1c0002\"]);\n",
              "//# sourceURL=js_cc75fba81d"
            ],
            "text/plain": [
              "<IPython.core.display.Javascript object>"
            ]
          },
          "metadata": {
            "tags": [
              "id4-0-0",
              "outputarea_id4"
            ]
          }
        },
        {
          "output_type": "display_data",
          "data": {
            "application/javascript": [
              "window[\"34716998-6648-11e9-94aa-0242ac1c0002\"] = google.colab.output.setActiveOutputArea(window[\"33697252-6648-11e9-94aa-0242ac1c0002\"]);\n",
              "//# sourceURL=js_c49641fe70"
            ],
            "text/plain": [
              "<IPython.core.display.Javascript object>"
            ]
          },
          "metadata": {
            "tags": [
              "id4-0-0",
              "outputarea_id4"
            ]
          }
        },
        {
          "output_type": "display_data",
          "data": {
            "application/javascript": [
              "window[\"34760818-6648-11e9-94aa-0242ac1c0002\"] = google.colab.output.getActiveOutputArea();\n",
              "//# sourceURL=js_c3a4728b87"
            ],
            "text/plain": [
              "<IPython.core.display.Javascript object>"
            ]
          },
          "metadata": {
            "tags": [
              "id4-0-0",
              "outputarea_id4"
            ]
          }
        },
        {
          "output_type": "display_data",
          "data": {
            "application/javascript": [
              "window[\"3476c708-6648-11e9-94aa-0242ac1c0002\"] = document.querySelector(\"#id4-0-0\");\n",
              "//# sourceURL=js_7667d9f2fa"
            ],
            "text/plain": [
              "<IPython.core.display.Javascript object>"
            ]
          },
          "metadata": {
            "tags": [
              "id4-0-0",
              "outputarea_id4"
            ]
          }
        },
        {
          "output_type": "display_data",
          "data": {
            "application/javascript": [
              "window[\"34775ab0-6648-11e9-94aa-0242ac1c0002\"] = google.colab.output.setActiveOutputArea(window[\"3476c708-6648-11e9-94aa-0242ac1c0002\"]);\n",
              "//# sourceURL=js_0229b377a0"
            ],
            "text/plain": [
              "<IPython.core.display.Javascript object>"
            ]
          },
          "metadata": {
            "tags": [
              "id4-0-0",
              "outputarea_id4"
            ]
          }
        },
        {
          "output_type": "display_data",
          "data": {
            "application/javascript": [
              "window[\"358a7040-6648-11e9-94aa-0242ac1c0002\"] = google.colab.output.setActiveOutputArea(window[\"34760818-6648-11e9-94aa-0242ac1c0002\"]);\n",
              "//# sourceURL=js_f7eb7656bc"
            ],
            "text/plain": [
              "<IPython.core.display.Javascript object>"
            ]
          },
          "metadata": {
            "tags": [
              "id4-0-0",
              "outputarea_id4"
            ]
          }
        },
        {
          "output_type": "display_data",
          "data": {
            "application/javascript": [
              "window[\"358f79a0-6648-11e9-94aa-0242ac1c0002\"] = google.colab.output.getActiveOutputArea();\n",
              "//# sourceURL=js_70e364d4e0"
            ],
            "text/plain": [
              "<IPython.core.display.Javascript object>"
            ]
          },
          "metadata": {
            "tags": [
              "id4-0-0",
              "outputarea_id4"
            ]
          }
        },
        {
          "output_type": "display_data",
          "data": {
            "application/javascript": [
              "window[\"35900f46-6648-11e9-94aa-0242ac1c0002\"] = document.querySelector(\"#id4-0-0\");\n",
              "//# sourceURL=js_e58d6cb953"
            ],
            "text/plain": [
              "<IPython.core.display.Javascript object>"
            ]
          },
          "metadata": {
            "tags": [
              "id4-0-0",
              "outputarea_id4"
            ]
          }
        },
        {
          "output_type": "display_data",
          "data": {
            "application/javascript": [
              "window[\"3590a5d2-6648-11e9-94aa-0242ac1c0002\"] = google.colab.output.setActiveOutputArea(window[\"35900f46-6648-11e9-94aa-0242ac1c0002\"]);\n",
              "//# sourceURL=js_8f2beabcca"
            ],
            "text/plain": [
              "<IPython.core.display.Javascript object>"
            ]
          },
          "metadata": {
            "tags": [
              "id4-0-0",
              "outputarea_id4"
            ]
          }
        },
        {
          "output_type": "display_data",
          "data": {
            "application/javascript": [
              "window[\"368e1eb0-6648-11e9-94aa-0242ac1c0002\"] = google.colab.output.setActiveOutputArea(window[\"358f79a0-6648-11e9-94aa-0242ac1c0002\"]);\n",
              "//# sourceURL=js_6972c7072e"
            ],
            "text/plain": [
              "<IPython.core.display.Javascript object>"
            ]
          },
          "metadata": {
            "tags": [
              "id4-0-0",
              "outputarea_id4"
            ]
          }
        },
        {
          "output_type": "display_data",
          "data": {
            "application/javascript": [
              "window[\"369282ac-6648-11e9-94aa-0242ac1c0002\"] = google.colab.output.getActiveOutputArea();\n",
              "//# sourceURL=js_be16a09b5b"
            ],
            "text/plain": [
              "<IPython.core.display.Javascript object>"
            ]
          },
          "metadata": {
            "tags": [
              "id4-0-0",
              "outputarea_id4"
            ]
          }
        },
        {
          "output_type": "display_data",
          "data": {
            "application/javascript": [
              "window[\"3692dad6-6648-11e9-94aa-0242ac1c0002\"] = document.querySelector(\"#id4-0-0\");\n",
              "//# sourceURL=js_a236b3fde7"
            ],
            "text/plain": [
              "<IPython.core.display.Javascript object>"
            ]
          },
          "metadata": {
            "tags": [
              "id4-0-0",
              "outputarea_id4"
            ]
          }
        },
        {
          "output_type": "display_data",
          "data": {
            "application/javascript": [
              "window[\"36934200-6648-11e9-94aa-0242ac1c0002\"] = google.colab.output.setActiveOutputArea(window[\"3692dad6-6648-11e9-94aa-0242ac1c0002\"]);\n",
              "//# sourceURL=js_704521b513"
            ],
            "text/plain": [
              "<IPython.core.display.Javascript object>"
            ]
          },
          "metadata": {
            "tags": [
              "id4-0-0",
              "outputarea_id4"
            ]
          }
        },
        {
          "output_type": "display_data",
          "data": {
            "application/javascript": [
              "window[\"37974584-6648-11e9-94aa-0242ac1c0002\"] = google.colab.output.setActiveOutputArea(window[\"369282ac-6648-11e9-94aa-0242ac1c0002\"]);\n",
              "//# sourceURL=js_c9a8810140"
            ],
            "text/plain": [
              "<IPython.core.display.Javascript object>"
            ]
          },
          "metadata": {
            "tags": [
              "id4-0-0",
              "outputarea_id4"
            ]
          }
        },
        {
          "output_type": "display_data",
          "data": {
            "application/javascript": [
              "window[\"379b8c66-6648-11e9-94aa-0242ac1c0002\"] = google.colab.output.getActiveOutputArea();\n",
              "//# sourceURL=js_05cdf3a2f3"
            ],
            "text/plain": [
              "<IPython.core.display.Javascript object>"
            ]
          },
          "metadata": {
            "tags": [
              "id4-0-0",
              "outputarea_id4"
            ]
          }
        },
        {
          "output_type": "display_data",
          "data": {
            "application/javascript": [
              "window[\"379bef1c-6648-11e9-94aa-0242ac1c0002\"] = document.querySelector(\"#id4-0-0\");\n",
              "//# sourceURL=js_f04e4ed2a5"
            ],
            "text/plain": [
              "<IPython.core.display.Javascript object>"
            ]
          },
          "metadata": {
            "tags": [
              "id4-0-0",
              "outputarea_id4"
            ]
          }
        },
        {
          "output_type": "display_data",
          "data": {
            "application/javascript": [
              "window[\"379c5006-6648-11e9-94aa-0242ac1c0002\"] = google.colab.output.setActiveOutputArea(window[\"379bef1c-6648-11e9-94aa-0242ac1c0002\"]);\n",
              "//# sourceURL=js_b304c87512"
            ],
            "text/plain": [
              "<IPython.core.display.Javascript object>"
            ]
          },
          "metadata": {
            "tags": [
              "id4-0-0",
              "outputarea_id4"
            ]
          }
        },
        {
          "output_type": "display_data",
          "data": {
            "application/javascript": [
              "window[\"389a459e-6648-11e9-94aa-0242ac1c0002\"] = google.colab.output.setActiveOutputArea(window[\"379b8c66-6648-11e9-94aa-0242ac1c0002\"]);\n",
              "//# sourceURL=js_29c9a1d52c"
            ],
            "text/plain": [
              "<IPython.core.display.Javascript object>"
            ]
          },
          "metadata": {
            "tags": [
              "id4-0-0",
              "outputarea_id4"
            ]
          }
        },
        {
          "output_type": "display_data",
          "data": {
            "application/javascript": [
              "window[\"389da86a-6648-11e9-94aa-0242ac1c0002\"] = google.colab.output.getActiveOutputArea();\n",
              "//# sourceURL=js_ac2864d483"
            ],
            "text/plain": [
              "<IPython.core.display.Javascript object>"
            ]
          },
          "metadata": {
            "tags": [
              "id4-0-0",
              "outputarea_id4"
            ]
          }
        },
        {
          "output_type": "display_data",
          "data": {
            "application/javascript": [
              "window[\"389e0f76-6648-11e9-94aa-0242ac1c0002\"] = document.querySelector(\"#id4-0-0\");\n",
              "//# sourceURL=js_4abe170cb4"
            ],
            "text/plain": [
              "<IPython.core.display.Javascript object>"
            ]
          },
          "metadata": {
            "tags": [
              "id4-0-0",
              "outputarea_id4"
            ]
          }
        },
        {
          "output_type": "display_data",
          "data": {
            "application/javascript": [
              "window[\"389e64da-6648-11e9-94aa-0242ac1c0002\"] = google.colab.output.setActiveOutputArea(window[\"389e0f76-6648-11e9-94aa-0242ac1c0002\"]);\n",
              "//# sourceURL=js_1d6abe6c7f"
            ],
            "text/plain": [
              "<IPython.core.display.Javascript object>"
            ]
          },
          "metadata": {
            "tags": [
              "id4-0-0",
              "outputarea_id4"
            ]
          }
        },
        {
          "output_type": "display_data",
          "data": {
            "application/javascript": [
              "window[\"399f7e50-6648-11e9-94aa-0242ac1c0002\"] = google.colab.output.setActiveOutputArea(window[\"389da86a-6648-11e9-94aa-0242ac1c0002\"]);\n",
              "//# sourceURL=js_b81c11dcbe"
            ],
            "text/plain": [
              "<IPython.core.display.Javascript object>"
            ]
          },
          "metadata": {
            "tags": [
              "id4-0-0",
              "outputarea_id4"
            ]
          }
        },
        {
          "output_type": "display_data",
          "data": {
            "application/javascript": [
              "window[\"39a35fb6-6648-11e9-94aa-0242ac1c0002\"] = google.colab.output.getActiveOutputArea();\n",
              "//# sourceURL=js_d57fd6987b"
            ],
            "text/plain": [
              "<IPython.core.display.Javascript object>"
            ]
          },
          "metadata": {
            "tags": [
              "id4-0-0",
              "outputarea_id4"
            ]
          }
        },
        {
          "output_type": "display_data",
          "data": {
            "application/javascript": [
              "window[\"39a3b3e4-6648-11e9-94aa-0242ac1c0002\"] = document.querySelector(\"#id4-0-0\");\n",
              "//# sourceURL=js_e4321864bd"
            ],
            "text/plain": [
              "<IPython.core.display.Javascript object>"
            ]
          },
          "metadata": {
            "tags": [
              "id4-0-0",
              "outputarea_id4"
            ]
          }
        },
        {
          "output_type": "display_data",
          "data": {
            "application/javascript": [
              "window[\"39a401f0-6648-11e9-94aa-0242ac1c0002\"] = google.colab.output.setActiveOutputArea(window[\"39a3b3e4-6648-11e9-94aa-0242ac1c0002\"]);\n",
              "//# sourceURL=js_0b7bc1acb9"
            ],
            "text/plain": [
              "<IPython.core.display.Javascript object>"
            ]
          },
          "metadata": {
            "tags": [
              "id4-0-0",
              "outputarea_id4"
            ]
          }
        },
        {
          "output_type": "display_data",
          "data": {
            "application/javascript": [
              "window[\"3abf0c42-6648-11e9-94aa-0242ac1c0002\"] = google.colab.output.setActiveOutputArea(window[\"39a35fb6-6648-11e9-94aa-0242ac1c0002\"]);\n",
              "//# sourceURL=js_6a813a8702"
            ],
            "text/plain": [
              "<IPython.core.display.Javascript object>"
            ]
          },
          "metadata": {
            "tags": [
              "id4-0-0",
              "outputarea_id4"
            ]
          }
        },
        {
          "output_type": "display_data",
          "data": {
            "application/javascript": [
              "window[\"3ac31d14-6648-11e9-94aa-0242ac1c0002\"] = google.colab.output.getActiveOutputArea();\n",
              "//# sourceURL=js_7dbf3dc23a"
            ],
            "text/plain": [
              "<IPython.core.display.Javascript object>"
            ]
          },
          "metadata": {
            "tags": [
              "id4-0-0",
              "outputarea_id4"
            ]
          }
        },
        {
          "output_type": "display_data",
          "data": {
            "application/javascript": [
              "window[\"3ac37a7a-6648-11e9-94aa-0242ac1c0002\"] = document.querySelector(\"#id4-0-0\");\n",
              "//# sourceURL=js_0343bb83d3"
            ],
            "text/plain": [
              "<IPython.core.display.Javascript object>"
            ]
          },
          "metadata": {
            "tags": [
              "id4-0-0",
              "outputarea_id4"
            ]
          }
        },
        {
          "output_type": "display_data",
          "data": {
            "application/javascript": [
              "window[\"3ac3eb36-6648-11e9-94aa-0242ac1c0002\"] = google.colab.output.setActiveOutputArea(window[\"3ac37a7a-6648-11e9-94aa-0242ac1c0002\"]);\n",
              "//# sourceURL=js_feadaf22f8"
            ],
            "text/plain": [
              "<IPython.core.display.Javascript object>"
            ]
          },
          "metadata": {
            "tags": [
              "id4-0-0",
              "outputarea_id4"
            ]
          }
        },
        {
          "output_type": "display_data",
          "data": {
            "application/javascript": [
              "window[\"3bc63f48-6648-11e9-94aa-0242ac1c0002\"] = google.colab.output.setActiveOutputArea(window[\"3ac31d14-6648-11e9-94aa-0242ac1c0002\"]);\n",
              "//# sourceURL=js_955dffc434"
            ],
            "text/plain": [
              "<IPython.core.display.Javascript object>"
            ]
          },
          "metadata": {
            "tags": [
              "id4-0-0",
              "outputarea_id4"
            ]
          }
        },
        {
          "output_type": "display_data",
          "data": {
            "application/javascript": [
              "window[\"3bca8a8a-6648-11e9-94aa-0242ac1c0002\"] = google.colab.output.getActiveOutputArea();\n",
              "//# sourceURL=js_00a8719b5f"
            ],
            "text/plain": [
              "<IPython.core.display.Javascript object>"
            ]
          },
          "metadata": {
            "tags": [
              "id4-0-0",
              "outputarea_id4"
            ]
          }
        },
        {
          "output_type": "display_data",
          "data": {
            "application/javascript": [
              "window[\"3bcaeaf2-6648-11e9-94aa-0242ac1c0002\"] = document.querySelector(\"#id4-0-0\");\n",
              "//# sourceURL=js_68c0ca55c0"
            ],
            "text/plain": [
              "<IPython.core.display.Javascript object>"
            ]
          },
          "metadata": {
            "tags": [
              "id4-0-0",
              "outputarea_id4"
            ]
          }
        },
        {
          "output_type": "display_data",
          "data": {
            "application/javascript": [
              "window[\"3bcb44b6-6648-11e9-94aa-0242ac1c0002\"] = google.colab.output.setActiveOutputArea(window[\"3bcaeaf2-6648-11e9-94aa-0242ac1c0002\"]);\n",
              "//# sourceURL=js_fc5a05d578"
            ],
            "text/plain": [
              "<IPython.core.display.Javascript object>"
            ]
          },
          "metadata": {
            "tags": [
              "id4-0-0",
              "outputarea_id4"
            ]
          }
        },
        {
          "output_type": "display_data",
          "data": {
            "application/javascript": [
              "window[\"3cd47e9a-6648-11e9-94aa-0242ac1c0002\"] = google.colab.output.setActiveOutputArea(window[\"3bca8a8a-6648-11e9-94aa-0242ac1c0002\"]);\n",
              "//# sourceURL=js_b0b554b2d1"
            ],
            "text/plain": [
              "<IPython.core.display.Javascript object>"
            ]
          },
          "metadata": {
            "tags": [
              "id4-0-0",
              "outputarea_id4"
            ]
          }
        },
        {
          "output_type": "display_data",
          "data": {
            "application/javascript": [
              "window[\"3cd8d512-6648-11e9-94aa-0242ac1c0002\"] = google.colab.output.getActiveOutputArea();\n",
              "//# sourceURL=js_a548ef3978"
            ],
            "text/plain": [
              "<IPython.core.display.Javascript object>"
            ]
          },
          "metadata": {
            "tags": [
              "id4-0-0",
              "outputarea_id4"
            ]
          }
        },
        {
          "output_type": "display_data",
          "data": {
            "application/javascript": [
              "window[\"3cd94240-6648-11e9-94aa-0242ac1c0002\"] = document.querySelector(\"#id4-0-0\");\n",
              "//# sourceURL=js_4ae0fae7ed"
            ],
            "text/plain": [
              "<IPython.core.display.Javascript object>"
            ]
          },
          "metadata": {
            "tags": [
              "id4-0-0",
              "outputarea_id4"
            ]
          }
        },
        {
          "output_type": "display_data",
          "data": {
            "application/javascript": [
              "window[\"3cd997cc-6648-11e9-94aa-0242ac1c0002\"] = google.colab.output.setActiveOutputArea(window[\"3cd94240-6648-11e9-94aa-0242ac1c0002\"]);\n",
              "//# sourceURL=js_4812494632"
            ],
            "text/plain": [
              "<IPython.core.display.Javascript object>"
            ]
          },
          "metadata": {
            "tags": [
              "id4-0-0",
              "outputarea_id4"
            ]
          }
        },
        {
          "output_type": "display_data",
          "data": {
            "application/javascript": [
              "window[\"3deeaf94-6648-11e9-94aa-0242ac1c0002\"] = google.colab.output.setActiveOutputArea(window[\"3cd8d512-6648-11e9-94aa-0242ac1c0002\"]);\n",
              "//# sourceURL=js_ef51ad2bac"
            ],
            "text/plain": [
              "<IPython.core.display.Javascript object>"
            ]
          },
          "metadata": {
            "tags": [
              "id4-0-0",
              "outputarea_id4"
            ]
          }
        },
        {
          "output_type": "display_data",
          "data": {
            "application/javascript": [
              "window[\"3df272d2-6648-11e9-94aa-0242ac1c0002\"] = google.colab.output.getActiveOutputArea();\n",
              "//# sourceURL=js_bea72b5e00"
            ],
            "text/plain": [
              "<IPython.core.display.Javascript object>"
            ]
          },
          "metadata": {
            "tags": [
              "id4-0-0",
              "outputarea_id4"
            ]
          }
        },
        {
          "output_type": "display_data",
          "data": {
            "application/javascript": [
              "window[\"3df2d344-6648-11e9-94aa-0242ac1c0002\"] = document.querySelector(\"#id4-0-0\");\n",
              "//# sourceURL=js_841fea9d71"
            ],
            "text/plain": [
              "<IPython.core.display.Javascript object>"
            ]
          },
          "metadata": {
            "tags": [
              "id4-0-0",
              "outputarea_id4"
            ]
          }
        },
        {
          "output_type": "display_data",
          "data": {
            "application/javascript": [
              "window[\"3df32aa6-6648-11e9-94aa-0242ac1c0002\"] = google.colab.output.setActiveOutputArea(window[\"3df2d344-6648-11e9-94aa-0242ac1c0002\"]);\n",
              "//# sourceURL=js_eafa8bed9f"
            ],
            "text/plain": [
              "<IPython.core.display.Javascript object>"
            ]
          },
          "metadata": {
            "tags": [
              "id4-0-0",
              "outputarea_id4"
            ]
          }
        },
        {
          "output_type": "display_data",
          "data": {
            "application/javascript": [
              "window[\"3ef93544-6648-11e9-94aa-0242ac1c0002\"] = google.colab.output.setActiveOutputArea(window[\"3df272d2-6648-11e9-94aa-0242ac1c0002\"]);\n",
              "//# sourceURL=js_e507b1c65b"
            ],
            "text/plain": [
              "<IPython.core.display.Javascript object>"
            ]
          },
          "metadata": {
            "tags": [
              "id4-0-0",
              "outputarea_id4"
            ]
          }
        },
        {
          "output_type": "display_data",
          "data": {
            "application/javascript": [
              "window[\"3efd9ea4-6648-11e9-94aa-0242ac1c0002\"] = google.colab.output.getActiveOutputArea();\n",
              "//# sourceURL=js_ea222e6cf7"
            ],
            "text/plain": [
              "<IPython.core.display.Javascript object>"
            ]
          },
          "metadata": {
            "tags": [
              "id4-0-0",
              "outputarea_id4"
            ]
          }
        },
        {
          "output_type": "display_data",
          "data": {
            "application/javascript": [
              "window[\"3efe5f74-6648-11e9-94aa-0242ac1c0002\"] = document.querySelector(\"#id4-0-0\");\n",
              "//# sourceURL=js_b9d5eb66a1"
            ],
            "text/plain": [
              "<IPython.core.display.Javascript object>"
            ]
          },
          "metadata": {
            "tags": [
              "id4-0-0",
              "outputarea_id4"
            ]
          }
        },
        {
          "output_type": "display_data",
          "data": {
            "application/javascript": [
              "window[\"3efed86e-6648-11e9-94aa-0242ac1c0002\"] = google.colab.output.setActiveOutputArea(window[\"3efe5f74-6648-11e9-94aa-0242ac1c0002\"]);\n",
              "//# sourceURL=js_7a0a677fa6"
            ],
            "text/plain": [
              "<IPython.core.display.Javascript object>"
            ]
          },
          "metadata": {
            "tags": [
              "id4-0-0",
              "outputarea_id4"
            ]
          }
        },
        {
          "output_type": "display_data",
          "data": {
            "application/javascript": [
              "window[\"4004bfee-6648-11e9-94aa-0242ac1c0002\"] = google.colab.output.setActiveOutputArea(window[\"3efd9ea4-6648-11e9-94aa-0242ac1c0002\"]);\n",
              "//# sourceURL=js_ec4b3194a7"
            ],
            "text/plain": [
              "<IPython.core.display.Javascript object>"
            ]
          },
          "metadata": {
            "tags": [
              "id4-0-0",
              "outputarea_id4"
            ]
          }
        },
        {
          "output_type": "display_data",
          "data": {
            "application/javascript": [
              "window[\"4009c3d6-6648-11e9-94aa-0242ac1c0002\"] = google.colab.output.getActiveOutputArea();\n",
              "//# sourceURL=js_a2ee301434"
            ],
            "text/plain": [
              "<IPython.core.display.Javascript object>"
            ]
          },
          "metadata": {
            "tags": [
              "id4-0-0",
              "outputarea_id4"
            ]
          }
        },
        {
          "output_type": "display_data",
          "data": {
            "application/javascript": [
              "window[\"400a66d8-6648-11e9-94aa-0242ac1c0002\"] = document.querySelector(\"#id4-0-0\");\n",
              "//# sourceURL=js_c254270168"
            ],
            "text/plain": [
              "<IPython.core.display.Javascript object>"
            ]
          },
          "metadata": {
            "tags": [
              "id4-0-0",
              "outputarea_id4"
            ]
          }
        },
        {
          "output_type": "display_data",
          "data": {
            "application/javascript": [
              "window[\"400ada0a-6648-11e9-94aa-0242ac1c0002\"] = google.colab.output.setActiveOutputArea(window[\"400a66d8-6648-11e9-94aa-0242ac1c0002\"]);\n",
              "//# sourceURL=js_a0b42fc27f"
            ],
            "text/plain": [
              "<IPython.core.display.Javascript object>"
            ]
          },
          "metadata": {
            "tags": [
              "id4-0-0",
              "outputarea_id4"
            ]
          }
        },
        {
          "output_type": "display_data",
          "data": {
            "application/javascript": [
              "window[\"4121f75c-6648-11e9-94aa-0242ac1c0002\"] = google.colab.output.setActiveOutputArea(window[\"4009c3d6-6648-11e9-94aa-0242ac1c0002\"]);\n",
              "//# sourceURL=js_aa87ebdca6"
            ],
            "text/plain": [
              "<IPython.core.display.Javascript object>"
            ]
          },
          "metadata": {
            "tags": [
              "id4-0-0",
              "outputarea_id4"
            ]
          }
        },
        {
          "output_type": "display_data",
          "data": {
            "application/javascript": [
              "window[\"41266b2a-6648-11e9-94aa-0242ac1c0002\"] = google.colab.output.getActiveOutputArea();\n",
              "//# sourceURL=js_35ac788029"
            ],
            "text/plain": [
              "<IPython.core.display.Javascript object>"
            ]
          },
          "metadata": {
            "tags": [
              "id4-0-0",
              "outputarea_id4"
            ]
          }
        },
        {
          "output_type": "display_data",
          "data": {
            "application/javascript": [
              "window[\"4126d02e-6648-11e9-94aa-0242ac1c0002\"] = document.querySelector(\"#id4-0-0\");\n",
              "//# sourceURL=js_39eb55fc2b"
            ],
            "text/plain": [
              "<IPython.core.display.Javascript object>"
            ]
          },
          "metadata": {
            "tags": [
              "id4-0-0",
              "outputarea_id4"
            ]
          }
        },
        {
          "output_type": "display_data",
          "data": {
            "application/javascript": [
              "window[\"412727fe-6648-11e9-94aa-0242ac1c0002\"] = google.colab.output.setActiveOutputArea(window[\"4126d02e-6648-11e9-94aa-0242ac1c0002\"]);\n",
              "//# sourceURL=js_acc2c977fa"
            ],
            "text/plain": [
              "<IPython.core.display.Javascript object>"
            ]
          },
          "metadata": {
            "tags": [
              "id4-0-0",
              "outputarea_id4"
            ]
          }
        },
        {
          "output_type": "display_data",
          "data": {
            "application/javascript": [
              "window[\"423a38b6-6648-11e9-94aa-0242ac1c0002\"] = google.colab.output.setActiveOutputArea(window[\"41266b2a-6648-11e9-94aa-0242ac1c0002\"]);\n",
              "//# sourceURL=js_10eebfb61a"
            ],
            "text/plain": [
              "<IPython.core.display.Javascript object>"
            ]
          },
          "metadata": {
            "tags": [
              "id4-0-0",
              "outputarea_id4"
            ]
          }
        },
        {
          "output_type": "display_data",
          "data": {
            "application/javascript": [
              "window[\"423e4adc-6648-11e9-94aa-0242ac1c0002\"] = google.colab.output.getActiveOutputArea();\n",
              "//# sourceURL=js_4ce26474d4"
            ],
            "text/plain": [
              "<IPython.core.display.Javascript object>"
            ]
          },
          "metadata": {
            "tags": [
              "id4-0-0",
              "outputarea_id4"
            ]
          }
        },
        {
          "output_type": "display_data",
          "data": {
            "application/javascript": [
              "window[\"423ea7de-6648-11e9-94aa-0242ac1c0002\"] = document.querySelector(\"#id4-0-0\");\n",
              "//# sourceURL=js_04cb42e128"
            ],
            "text/plain": [
              "<IPython.core.display.Javascript object>"
            ]
          },
          "metadata": {
            "tags": [
              "id4-0-0",
              "outputarea_id4"
            ]
          }
        },
        {
          "output_type": "display_data",
          "data": {
            "application/javascript": [
              "window[\"423ef3e2-6648-11e9-94aa-0242ac1c0002\"] = google.colab.output.setActiveOutputArea(window[\"423ea7de-6648-11e9-94aa-0242ac1c0002\"]);\n",
              "//# sourceURL=js_3f1a13e160"
            ],
            "text/plain": [
              "<IPython.core.display.Javascript object>"
            ]
          },
          "metadata": {
            "tags": [
              "id4-0-0",
              "outputarea_id4"
            ]
          }
        },
        {
          "output_type": "display_data",
          "data": {
            "application/javascript": [
              "window[\"434657d0-6648-11e9-94aa-0242ac1c0002\"] = google.colab.output.setActiveOutputArea(window[\"423e4adc-6648-11e9-94aa-0242ac1c0002\"]);\n",
              "//# sourceURL=js_79650a3cde"
            ],
            "text/plain": [
              "<IPython.core.display.Javascript object>"
            ]
          },
          "metadata": {
            "tags": [
              "id4-0-0",
              "outputarea_id4"
            ]
          }
        },
        {
          "output_type": "display_data",
          "data": {
            "application/javascript": [
              "window[\"434a3ee0-6648-11e9-94aa-0242ac1c0002\"] = google.colab.output.getActiveOutputArea();\n",
              "//# sourceURL=js_6544c02c44"
            ],
            "text/plain": [
              "<IPython.core.display.Javascript object>"
            ]
          },
          "metadata": {
            "tags": [
              "id4-0-0",
              "outputarea_id4"
            ]
          }
        },
        {
          "output_type": "display_data",
          "data": {
            "application/javascript": [
              "window[\"434a9c64-6648-11e9-94aa-0242ac1c0002\"] = document.querySelector(\"#id4-0-0\");\n",
              "//# sourceURL=js_adddbab02d"
            ],
            "text/plain": [
              "<IPython.core.display.Javascript object>"
            ]
          },
          "metadata": {
            "tags": [
              "id4-0-0",
              "outputarea_id4"
            ]
          }
        },
        {
          "output_type": "display_data",
          "data": {
            "application/javascript": [
              "window[\"434af1b4-6648-11e9-94aa-0242ac1c0002\"] = google.colab.output.setActiveOutputArea(window[\"434a9c64-6648-11e9-94aa-0242ac1c0002\"]);\n",
              "//# sourceURL=js_d2e864afb2"
            ],
            "text/plain": [
              "<IPython.core.display.Javascript object>"
            ]
          },
          "metadata": {
            "tags": [
              "id4-0-0",
              "outputarea_id4"
            ]
          }
        },
        {
          "output_type": "display_data",
          "data": {
            "application/javascript": [
              "window[\"444d9d6e-6648-11e9-94aa-0242ac1c0002\"] = google.colab.output.setActiveOutputArea(window[\"434a3ee0-6648-11e9-94aa-0242ac1c0002\"]);\n",
              "//# sourceURL=js_e09071a2eb"
            ],
            "text/plain": [
              "<IPython.core.display.Javascript object>"
            ]
          },
          "metadata": {
            "tags": [
              "id4-0-0",
              "outputarea_id4"
            ]
          }
        },
        {
          "output_type": "display_data",
          "data": {
            "application/javascript": [
              "window[\"44520b2e-6648-11e9-94aa-0242ac1c0002\"] = google.colab.output.getActiveOutputArea();\n",
              "//# sourceURL=js_19e8a67264"
            ],
            "text/plain": [
              "<IPython.core.display.Javascript object>"
            ]
          },
          "metadata": {
            "tags": [
              "id4-0-0",
              "outputarea_id4"
            ]
          }
        },
        {
          "output_type": "display_data",
          "data": {
            "application/javascript": [
              "window[\"44525b92-6648-11e9-94aa-0242ac1c0002\"] = document.querySelector(\"#id4-0-0\");\n",
              "//# sourceURL=js_59fe8e37b9"
            ],
            "text/plain": [
              "<IPython.core.display.Javascript object>"
            ]
          },
          "metadata": {
            "tags": [
              "id4-0-0",
              "outputarea_id4"
            ]
          }
        },
        {
          "output_type": "display_data",
          "data": {
            "application/javascript": [
              "window[\"4452a142-6648-11e9-94aa-0242ac1c0002\"] = google.colab.output.setActiveOutputArea(window[\"44525b92-6648-11e9-94aa-0242ac1c0002\"]);\n",
              "//# sourceURL=js_2066fb65b7"
            ],
            "text/plain": [
              "<IPython.core.display.Javascript object>"
            ]
          },
          "metadata": {
            "tags": [
              "id4-0-0",
              "outputarea_id4"
            ]
          }
        },
        {
          "output_type": "display_data",
          "data": {
            "application/javascript": [
              "window[\"45531a18-6648-11e9-94aa-0242ac1c0002\"] = google.colab.output.setActiveOutputArea(window[\"44520b2e-6648-11e9-94aa-0242ac1c0002\"]);\n",
              "//# sourceURL=js_f4c6651d2c"
            ],
            "text/plain": [
              "<IPython.core.display.Javascript object>"
            ]
          },
          "metadata": {
            "tags": [
              "id4-0-0",
              "outputarea_id4"
            ]
          }
        },
        {
          "output_type": "display_data",
          "data": {
            "application/javascript": [
              "window[\"45576fc8-6648-11e9-94aa-0242ac1c0002\"] = google.colab.output.getActiveOutputArea();\n",
              "//# sourceURL=js_d4d4fd035d"
            ],
            "text/plain": [
              "<IPython.core.display.Javascript object>"
            ]
          },
          "metadata": {
            "tags": [
              "id4-0-0",
              "outputarea_id4"
            ]
          }
        },
        {
          "output_type": "display_data",
          "data": {
            "application/javascript": [
              "window[\"4557cbee-6648-11e9-94aa-0242ac1c0002\"] = document.querySelector(\"#id4-0-0\");\n",
              "//# sourceURL=js_bb91421d5c"
            ],
            "text/plain": [
              "<IPython.core.display.Javascript object>"
            ]
          },
          "metadata": {
            "tags": [
              "id4-0-0",
              "outputarea_id4"
            ]
          }
        },
        {
          "output_type": "display_data",
          "data": {
            "application/javascript": [
              "window[\"455834c6-6648-11e9-94aa-0242ac1c0002\"] = google.colab.output.setActiveOutputArea(window[\"4557cbee-6648-11e9-94aa-0242ac1c0002\"]);\n",
              "//# sourceURL=js_91140eadbe"
            ],
            "text/plain": [
              "<IPython.core.display.Javascript object>"
            ]
          },
          "metadata": {
            "tags": [
              "id4-0-0",
              "outputarea_id4"
            ]
          }
        },
        {
          "output_type": "display_data",
          "data": {
            "application/javascript": [
              "window[\"466cd6f0-6648-11e9-94aa-0242ac1c0002\"] = google.colab.output.setActiveOutputArea(window[\"45576fc8-6648-11e9-94aa-0242ac1c0002\"]);\n",
              "//# sourceURL=js_cb3fcf8b77"
            ],
            "text/plain": [
              "<IPython.core.display.Javascript object>"
            ]
          },
          "metadata": {
            "tags": [
              "id4-0-0",
              "outputarea_id4"
            ]
          }
        },
        {
          "output_type": "display_data",
          "data": {
            "application/javascript": [
              "window[\"4671381c-6648-11e9-94aa-0242ac1c0002\"] = google.colab.output.getActiveOutputArea();\n",
              "//# sourceURL=js_4ba20e3b81"
            ],
            "text/plain": [
              "<IPython.core.display.Javascript object>"
            ]
          },
          "metadata": {
            "tags": [
              "id4-0-0",
              "outputarea_id4"
            ]
          }
        },
        {
          "output_type": "display_data",
          "data": {
            "application/javascript": [
              "window[\"46719776-6648-11e9-94aa-0242ac1c0002\"] = document.querySelector(\"#id4-0-0\");\n",
              "//# sourceURL=js_82b30f7a5e"
            ],
            "text/plain": [
              "<IPython.core.display.Javascript object>"
            ]
          },
          "metadata": {
            "tags": [
              "id4-0-0",
              "outputarea_id4"
            ]
          }
        },
        {
          "output_type": "display_data",
          "data": {
            "application/javascript": [
              "window[\"4671e820-6648-11e9-94aa-0242ac1c0002\"] = google.colab.output.setActiveOutputArea(window[\"46719776-6648-11e9-94aa-0242ac1c0002\"]);\n",
              "//# sourceURL=js_261f7ca707"
            ],
            "text/plain": [
              "<IPython.core.display.Javascript object>"
            ]
          },
          "metadata": {
            "tags": [
              "id4-0-0",
              "outputarea_id4"
            ]
          }
        },
        {
          "output_type": "display_data",
          "data": {
            "application/javascript": [
              "window[\"4772986e-6648-11e9-94aa-0242ac1c0002\"] = google.colab.output.setActiveOutputArea(window[\"4671381c-6648-11e9-94aa-0242ac1c0002\"]);\n",
              "//# sourceURL=js_31b9f7098a"
            ],
            "text/plain": [
              "<IPython.core.display.Javascript object>"
            ]
          },
          "metadata": {
            "tags": [
              "id4-0-0",
              "outputarea_id4"
            ]
          }
        },
        {
          "output_type": "display_data",
          "data": {
            "application/javascript": [
              "window[\"4777c258-6648-11e9-94aa-0242ac1c0002\"] = google.colab.output.getActiveOutputArea();\n",
              "//# sourceURL=js_430d8f1f34"
            ],
            "text/plain": [
              "<IPython.core.display.Javascript object>"
            ]
          },
          "metadata": {
            "tags": [
              "id4-0-0",
              "outputarea_id4"
            ]
          }
        },
        {
          "output_type": "display_data",
          "data": {
            "application/javascript": [
              "window[\"47786b0e-6648-11e9-94aa-0242ac1c0002\"] = document.querySelector(\"#id4-0-0\");\n",
              "//# sourceURL=js_6ff1cd1102"
            ],
            "text/plain": [
              "<IPython.core.display.Javascript object>"
            ]
          },
          "metadata": {
            "tags": [
              "id4-0-0",
              "outputarea_id4"
            ]
          }
        },
        {
          "output_type": "display_data",
          "data": {
            "application/javascript": [
              "window[\"4779041a-6648-11e9-94aa-0242ac1c0002\"] = google.colab.output.setActiveOutputArea(window[\"47786b0e-6648-11e9-94aa-0242ac1c0002\"]);\n",
              "//# sourceURL=js_41bda8be7e"
            ],
            "text/plain": [
              "<IPython.core.display.Javascript object>"
            ]
          },
          "metadata": {
            "tags": [
              "id4-0-0",
              "outputarea_id4"
            ]
          }
        },
        {
          "output_type": "display_data",
          "data": {
            "application/javascript": [
              "window[\"487be260-6648-11e9-94aa-0242ac1c0002\"] = google.colab.output.setActiveOutputArea(window[\"4777c258-6648-11e9-94aa-0242ac1c0002\"]);\n",
              "//# sourceURL=js_1eaa3970f3"
            ],
            "text/plain": [
              "<IPython.core.display.Javascript object>"
            ]
          },
          "metadata": {
            "tags": [
              "id4-0-0",
              "outputarea_id4"
            ]
          }
        },
        {
          "output_type": "display_data",
          "data": {
            "application/javascript": [
              "window[\"488037ca-6648-11e9-94aa-0242ac1c0002\"] = google.colab.output.getActiveOutputArea();\n",
              "//# sourceURL=js_f11eb485be"
            ],
            "text/plain": [
              "<IPython.core.display.Javascript object>"
            ]
          },
          "metadata": {
            "tags": [
              "id4-0-0",
              "outputarea_id4"
            ]
          }
        },
        {
          "output_type": "display_data",
          "data": {
            "application/javascript": [
              "window[\"4880980a-6648-11e9-94aa-0242ac1c0002\"] = document.querySelector(\"#id4-0-0\");\n",
              "//# sourceURL=js_0d931307bf"
            ],
            "text/plain": [
              "<IPython.core.display.Javascript object>"
            ]
          },
          "metadata": {
            "tags": [
              "id4-0-0",
              "outputarea_id4"
            ]
          }
        },
        {
          "output_type": "display_data",
          "data": {
            "application/javascript": [
              "window[\"4880f534-6648-11e9-94aa-0242ac1c0002\"] = google.colab.output.setActiveOutputArea(window[\"4880980a-6648-11e9-94aa-0242ac1c0002\"]);\n",
              "//# sourceURL=js_9608874d9a"
            ],
            "text/plain": [
              "<IPython.core.display.Javascript object>"
            ]
          },
          "metadata": {
            "tags": [
              "id4-0-0",
              "outputarea_id4"
            ]
          }
        },
        {
          "output_type": "display_data",
          "data": {
            "application/javascript": [
              "window[\"498b4b50-6648-11e9-94aa-0242ac1c0002\"] = google.colab.output.setActiveOutputArea(window[\"488037ca-6648-11e9-94aa-0242ac1c0002\"]);\n",
              "//# sourceURL=js_9ed191a855"
            ],
            "text/plain": [
              "<IPython.core.display.Javascript object>"
            ]
          },
          "metadata": {
            "tags": [
              "id4-0-0",
              "outputarea_id4"
            ]
          }
        },
        {
          "output_type": "display_data",
          "data": {
            "application/javascript": [
              "window[\"498f5f06-6648-11e9-94aa-0242ac1c0002\"] = google.colab.output.getActiveOutputArea();\n",
              "//# sourceURL=js_a49c167f60"
            ],
            "text/plain": [
              "<IPython.core.display.Javascript object>"
            ]
          },
          "metadata": {
            "tags": [
              "id4-0-0",
              "outputarea_id4"
            ]
          }
        },
        {
          "output_type": "display_data",
          "data": {
            "application/javascript": [
              "window[\"498fbffa-6648-11e9-94aa-0242ac1c0002\"] = document.querySelector(\"#id4-0-0\");\n",
              "//# sourceURL=js_a546632409"
            ],
            "text/plain": [
              "<IPython.core.display.Javascript object>"
            ]
          },
          "metadata": {
            "tags": [
              "id4-0-0",
              "outputarea_id4"
            ]
          }
        },
        {
          "output_type": "display_data",
          "data": {
            "application/javascript": [
              "window[\"499018b0-6648-11e9-94aa-0242ac1c0002\"] = google.colab.output.setActiveOutputArea(window[\"498fbffa-6648-11e9-94aa-0242ac1c0002\"]);\n",
              "//# sourceURL=js_3c98308c26"
            ],
            "text/plain": [
              "<IPython.core.display.Javascript object>"
            ]
          },
          "metadata": {
            "tags": [
              "id4-0-0",
              "outputarea_id4"
            ]
          }
        },
        {
          "output_type": "display_data",
          "data": {
            "application/javascript": [
              "window[\"4a91ec8e-6648-11e9-94aa-0242ac1c0002\"] = google.colab.output.setActiveOutputArea(window[\"498f5f06-6648-11e9-94aa-0242ac1c0002\"]);\n",
              "//# sourceURL=js_d711665a23"
            ],
            "text/plain": [
              "<IPython.core.display.Javascript object>"
            ]
          },
          "metadata": {
            "tags": [
              "id4-0-0",
              "outputarea_id4"
            ]
          }
        },
        {
          "output_type": "display_data",
          "data": {
            "application/javascript": [
              "window[\"4a9571d8-6648-11e9-94aa-0242ac1c0002\"] = google.colab.output.getActiveOutputArea();\n",
              "//# sourceURL=js_c5842fc323"
            ],
            "text/plain": [
              "<IPython.core.display.Javascript object>"
            ]
          },
          "metadata": {
            "tags": [
              "id4-0-0",
              "outputarea_id4"
            ]
          }
        },
        {
          "output_type": "display_data",
          "data": {
            "application/javascript": [
              "window[\"4a95cf52-6648-11e9-94aa-0242ac1c0002\"] = document.querySelector(\"#id4-0-0\");\n",
              "//# sourceURL=js_c3d2cef225"
            ],
            "text/plain": [
              "<IPython.core.display.Javascript object>"
            ]
          },
          "metadata": {
            "tags": [
              "id4-0-0",
              "outputarea_id4"
            ]
          }
        },
        {
          "output_type": "display_data",
          "data": {
            "application/javascript": [
              "window[\"4a961c64-6648-11e9-94aa-0242ac1c0002\"] = google.colab.output.setActiveOutputArea(window[\"4a95cf52-6648-11e9-94aa-0242ac1c0002\"]);\n",
              "//# sourceURL=js_eb40102532"
            ],
            "text/plain": [
              "<IPython.core.display.Javascript object>"
            ]
          },
          "metadata": {
            "tags": [
              "id4-0-0",
              "outputarea_id4"
            ]
          }
        },
        {
          "output_type": "display_data",
          "data": {
            "application/javascript": [
              "window[\"4b9b4db4-6648-11e9-94aa-0242ac1c0002\"] = google.colab.output.setActiveOutputArea(window[\"4a9571d8-6648-11e9-94aa-0242ac1c0002\"]);\n",
              "//# sourceURL=js_e9e4a7518f"
            ],
            "text/plain": [
              "<IPython.core.display.Javascript object>"
            ]
          },
          "metadata": {
            "tags": [
              "id4-0-0",
              "outputarea_id4"
            ]
          }
        },
        {
          "output_type": "display_data",
          "data": {
            "application/javascript": [
              "window[\"4b9f1750-6648-11e9-94aa-0242ac1c0002\"] = google.colab.output.getActiveOutputArea();\n",
              "//# sourceURL=js_6240100b43"
            ],
            "text/plain": [
              "<IPython.core.display.Javascript object>"
            ]
          },
          "metadata": {
            "tags": [
              "id4-0-0",
              "outputarea_id4"
            ]
          }
        },
        {
          "output_type": "display_data",
          "data": {
            "application/javascript": [
              "window[\"4b9f5a30-6648-11e9-94aa-0242ac1c0002\"] = document.querySelector(\"#id4-0-0\");\n",
              "//# sourceURL=js_04b32d8cae"
            ],
            "text/plain": [
              "<IPython.core.display.Javascript object>"
            ]
          },
          "metadata": {
            "tags": [
              "id4-0-0",
              "outputarea_id4"
            ]
          }
        },
        {
          "output_type": "display_data",
          "data": {
            "application/javascript": [
              "window[\"4b9fa6fc-6648-11e9-94aa-0242ac1c0002\"] = google.colab.output.setActiveOutputArea(window[\"4b9f5a30-6648-11e9-94aa-0242ac1c0002\"]);\n",
              "//# sourceURL=js_f647fd591e"
            ],
            "text/plain": [
              "<IPython.core.display.Javascript object>"
            ]
          },
          "metadata": {
            "tags": [
              "id4-0-0",
              "outputarea_id4"
            ]
          }
        },
        {
          "output_type": "display_data",
          "data": {
            "application/javascript": [
              "window[\"4cba48f8-6648-11e9-94aa-0242ac1c0002\"] = google.colab.output.setActiveOutputArea(window[\"4b9f1750-6648-11e9-94aa-0242ac1c0002\"]);\n",
              "//# sourceURL=js_d43c359e7f"
            ],
            "text/plain": [
              "<IPython.core.display.Javascript object>"
            ]
          },
          "metadata": {
            "tags": [
              "id4-0-0",
              "outputarea_id4"
            ]
          }
        },
        {
          "output_type": "display_data",
          "data": {
            "application/javascript": [
              "window[\"4cbe7a7c-6648-11e9-94aa-0242ac1c0002\"] = google.colab.output.getActiveOutputArea();\n",
              "//# sourceURL=js_7aaa585841"
            ],
            "text/plain": [
              "<IPython.core.display.Javascript object>"
            ]
          },
          "metadata": {
            "tags": [
              "id4-0-0",
              "outputarea_id4"
            ]
          }
        },
        {
          "output_type": "display_data",
          "data": {
            "application/javascript": [
              "window[\"4cbece8c-6648-11e9-94aa-0242ac1c0002\"] = document.querySelector(\"#id4-0-0\");\n",
              "//# sourceURL=js_b14b1b68de"
            ],
            "text/plain": [
              "<IPython.core.display.Javascript object>"
            ]
          },
          "metadata": {
            "tags": [
              "id4-0-0",
              "outputarea_id4"
            ]
          }
        },
        {
          "output_type": "display_data",
          "data": {
            "application/javascript": [
              "window[\"4cbf292c-6648-11e9-94aa-0242ac1c0002\"] = google.colab.output.setActiveOutputArea(window[\"4cbece8c-6648-11e9-94aa-0242ac1c0002\"]);\n",
              "//# sourceURL=js_2d89e6e109"
            ],
            "text/plain": [
              "<IPython.core.display.Javascript object>"
            ]
          },
          "metadata": {
            "tags": [
              "id4-0-0",
              "outputarea_id4"
            ]
          }
        },
        {
          "output_type": "display_data",
          "data": {
            "application/javascript": [
              "window[\"4dbeff1e-6648-11e9-94aa-0242ac1c0002\"] = google.colab.output.setActiveOutputArea(window[\"4cbe7a7c-6648-11e9-94aa-0242ac1c0002\"]);\n",
              "//# sourceURL=js_2838bbca72"
            ],
            "text/plain": [
              "<IPython.core.display.Javascript object>"
            ]
          },
          "metadata": {
            "tags": [
              "id4-0-0",
              "outputarea_id4"
            ]
          }
        },
        {
          "output_type": "display_data",
          "data": {
            "application/javascript": [
              "window[\"4dc37850-6648-11e9-94aa-0242ac1c0002\"] = google.colab.output.getActiveOutputArea();\n",
              "//# sourceURL=js_c5f2001d15"
            ],
            "text/plain": [
              "<IPython.core.display.Javascript object>"
            ]
          },
          "metadata": {
            "tags": [
              "id4-0-0",
              "outputarea_id4"
            ]
          }
        },
        {
          "output_type": "display_data",
          "data": {
            "application/javascript": [
              "window[\"4dc40248-6648-11e9-94aa-0242ac1c0002\"] = document.querySelector(\"#id4-0-0\");\n",
              "//# sourceURL=js_3f1fb4c68b"
            ],
            "text/plain": [
              "<IPython.core.display.Javascript object>"
            ]
          },
          "metadata": {
            "tags": [
              "id4-0-0",
              "outputarea_id4"
            ]
          }
        },
        {
          "output_type": "display_data",
          "data": {
            "application/javascript": [
              "window[\"4dc48d80-6648-11e9-94aa-0242ac1c0002\"] = google.colab.output.setActiveOutputArea(window[\"4dc40248-6648-11e9-94aa-0242ac1c0002\"]);\n",
              "//# sourceURL=js_d83eedced4"
            ],
            "text/plain": [
              "<IPython.core.display.Javascript object>"
            ]
          },
          "metadata": {
            "tags": [
              "id4-0-0",
              "outputarea_id4"
            ]
          }
        },
        {
          "output_type": "display_data",
          "data": {
            "application/javascript": [
              "window[\"4ec3b922-6648-11e9-94aa-0242ac1c0002\"] = google.colab.output.setActiveOutputArea(window[\"4dc37850-6648-11e9-94aa-0242ac1c0002\"]);\n",
              "//# sourceURL=js_0bad1b8e71"
            ],
            "text/plain": [
              "<IPython.core.display.Javascript object>"
            ]
          },
          "metadata": {
            "tags": [
              "id4-0-0",
              "outputarea_id4"
            ]
          }
        },
        {
          "output_type": "display_data",
          "data": {
            "application/javascript": [
              "window[\"4ec84028-6648-11e9-94aa-0242ac1c0002\"] = google.colab.output.getActiveOutputArea();\n",
              "//# sourceURL=js_1650653a49"
            ],
            "text/plain": [
              "<IPython.core.display.Javascript object>"
            ]
          },
          "metadata": {
            "tags": [
              "id4-0-0",
              "outputarea_id4"
            ]
          }
        },
        {
          "output_type": "display_data",
          "data": {
            "application/javascript": [
              "window[\"4ec895c8-6648-11e9-94aa-0242ac1c0002\"] = document.querySelector(\"#id4-0-0\");\n",
              "//# sourceURL=js_f587de3081"
            ],
            "text/plain": [
              "<IPython.core.display.Javascript object>"
            ]
          },
          "metadata": {
            "tags": [
              "id4-0-0",
              "outputarea_id4"
            ]
          }
        },
        {
          "output_type": "display_data",
          "data": {
            "application/javascript": [
              "window[\"4ec8ee7e-6648-11e9-94aa-0242ac1c0002\"] = google.colab.output.setActiveOutputArea(window[\"4ec895c8-6648-11e9-94aa-0242ac1c0002\"]);\n",
              "//# sourceURL=js_949769765f"
            ],
            "text/plain": [
              "<IPython.core.display.Javascript object>"
            ]
          },
          "metadata": {
            "tags": [
              "id4-0-0",
              "outputarea_id4"
            ]
          }
        },
        {
          "output_type": "display_data",
          "data": {
            "application/javascript": [
              "window[\"4fceee72-6648-11e9-94aa-0242ac1c0002\"] = google.colab.output.setActiveOutputArea(window[\"4ec84028-6648-11e9-94aa-0242ac1c0002\"]);\n",
              "//# sourceURL=js_a3d746575a"
            ],
            "text/plain": [
              "<IPython.core.display.Javascript object>"
            ]
          },
          "metadata": {
            "tags": [
              "id4-0-0",
              "outputarea_id4"
            ]
          }
        },
        {
          "output_type": "display_data",
          "data": {
            "application/javascript": [
              "window[\"4fd310b0-6648-11e9-94aa-0242ac1c0002\"] = google.colab.output.getActiveOutputArea();\n",
              "//# sourceURL=js_adf27ecd4b"
            ],
            "text/plain": [
              "<IPython.core.display.Javascript object>"
            ]
          },
          "metadata": {
            "tags": [
              "id4-0-0",
              "outputarea_id4"
            ]
          }
        },
        {
          "output_type": "display_data",
          "data": {
            "application/javascript": [
              "window[\"4fd3557a-6648-11e9-94aa-0242ac1c0002\"] = document.querySelector(\"#id4-0-0\");\n",
              "//# sourceURL=js_df2ddf7744"
            ],
            "text/plain": [
              "<IPython.core.display.Javascript object>"
            ]
          },
          "metadata": {
            "tags": [
              "id4-0-0",
              "outputarea_id4"
            ]
          }
        },
        {
          "output_type": "display_data",
          "data": {
            "application/javascript": [
              "window[\"4fd3bed4-6648-11e9-94aa-0242ac1c0002\"] = google.colab.output.setActiveOutputArea(window[\"4fd3557a-6648-11e9-94aa-0242ac1c0002\"]);\n",
              "//# sourceURL=js_c132ccadbd"
            ],
            "text/plain": [
              "<IPython.core.display.Javascript object>"
            ]
          },
          "metadata": {
            "tags": [
              "id4-0-0",
              "outputarea_id4"
            ]
          }
        },
        {
          "output_type": "display_data",
          "data": {
            "application/javascript": [
              "window[\"50f15fec-6648-11e9-94aa-0242ac1c0002\"] = google.colab.output.setActiveOutputArea(window[\"4fd310b0-6648-11e9-94aa-0242ac1c0002\"]);\n",
              "//# sourceURL=js_24373d5837"
            ],
            "text/plain": [
              "<IPython.core.display.Javascript object>"
            ]
          },
          "metadata": {
            "tags": [
              "id4-0-0",
              "outputarea_id4"
            ]
          }
        },
        {
          "output_type": "display_data",
          "data": {
            "application/javascript": [
              "window[\"50f606fa-6648-11e9-94aa-0242ac1c0002\"] = google.colab.output.getActiveOutputArea();\n",
              "//# sourceURL=js_bae0696627"
            ],
            "text/plain": [
              "<IPython.core.display.Javascript object>"
            ]
          },
          "metadata": {
            "tags": [
              "id4-0-0",
              "outputarea_id4"
            ]
          }
        },
        {
          "output_type": "display_data",
          "data": {
            "application/javascript": [
              "window[\"50f6919c-6648-11e9-94aa-0242ac1c0002\"] = document.querySelector(\"#id4-0-0\");\n",
              "//# sourceURL=js_694d00a56f"
            ],
            "text/plain": [
              "<IPython.core.display.Javascript object>"
            ]
          },
          "metadata": {
            "tags": [
              "id4-0-0",
              "outputarea_id4"
            ]
          }
        },
        {
          "output_type": "display_data",
          "data": {
            "application/javascript": [
              "window[\"50f7772e-6648-11e9-94aa-0242ac1c0002\"] = google.colab.output.setActiveOutputArea(window[\"50f6919c-6648-11e9-94aa-0242ac1c0002\"]);\n",
              "//# sourceURL=js_b037b52e2f"
            ],
            "text/plain": [
              "<IPython.core.display.Javascript object>"
            ]
          },
          "metadata": {
            "tags": [
              "id4-0-0",
              "outputarea_id4"
            ]
          }
        },
        {
          "output_type": "display_data",
          "data": {
            "application/javascript": [
              "window[\"520c5cce-6648-11e9-94aa-0242ac1c0002\"] = google.colab.output.setActiveOutputArea(window[\"50f606fa-6648-11e9-94aa-0242ac1c0002\"]);\n",
              "//# sourceURL=js_f1eb72dcad"
            ],
            "text/plain": [
              "<IPython.core.display.Javascript object>"
            ]
          },
          "metadata": {
            "tags": [
              "id4-0-0",
              "outputarea_id4"
            ]
          }
        },
        {
          "output_type": "display_data",
          "data": {
            "application/javascript": [
              "window[\"5210a1da-6648-11e9-94aa-0242ac1c0002\"] = google.colab.output.getActiveOutputArea();\n",
              "//# sourceURL=js_19042aafe7"
            ],
            "text/plain": [
              "<IPython.core.display.Javascript object>"
            ]
          },
          "metadata": {
            "tags": [
              "id4-0-0",
              "outputarea_id4"
            ]
          }
        },
        {
          "output_type": "display_data",
          "data": {
            "application/javascript": [
              "window[\"5210fca2-6648-11e9-94aa-0242ac1c0002\"] = document.querySelector(\"#id4-0-0\");\n",
              "//# sourceURL=js_69007bfb35"
            ],
            "text/plain": [
              "<IPython.core.display.Javascript object>"
            ]
          },
          "metadata": {
            "tags": [
              "id4-0-0",
              "outputarea_id4"
            ]
          }
        },
        {
          "output_type": "display_data",
          "data": {
            "application/javascript": [
              "window[\"52115328-6648-11e9-94aa-0242ac1c0002\"] = google.colab.output.setActiveOutputArea(window[\"5210fca2-6648-11e9-94aa-0242ac1c0002\"]);\n",
              "//# sourceURL=js_cda7161d08"
            ],
            "text/plain": [
              "<IPython.core.display.Javascript object>"
            ]
          },
          "metadata": {
            "tags": [
              "id4-0-0",
              "outputarea_id4"
            ]
          }
        },
        {
          "output_type": "display_data",
          "data": {
            "application/javascript": [
              "window[\"5312089e-6648-11e9-94aa-0242ac1c0002\"] = google.colab.output.setActiveOutputArea(window[\"5210a1da-6648-11e9-94aa-0242ac1c0002\"]);\n",
              "//# sourceURL=js_f1e2f4857f"
            ],
            "text/plain": [
              "<IPython.core.display.Javascript object>"
            ]
          },
          "metadata": {
            "tags": [
              "id4-0-0",
              "outputarea_id4"
            ]
          }
        },
        {
          "output_type": "display_data",
          "data": {
            "application/javascript": [
              "window[\"5315e8a6-6648-11e9-94aa-0242ac1c0002\"] = google.colab.output.getActiveOutputArea();\n",
              "//# sourceURL=js_380135aa13"
            ],
            "text/plain": [
              "<IPython.core.display.Javascript object>"
            ]
          },
          "metadata": {
            "tags": [
              "id4-0-0",
              "outputarea_id4"
            ]
          }
        },
        {
          "output_type": "display_data",
          "data": {
            "application/javascript": [
              "window[\"53164454-6648-11e9-94aa-0242ac1c0002\"] = document.querySelector(\"#id4-0-0\");\n",
              "//# sourceURL=js_1e69a385a2"
            ],
            "text/plain": [
              "<IPython.core.display.Javascript object>"
            ]
          },
          "metadata": {
            "tags": [
              "id4-0-0",
              "outputarea_id4"
            ]
          }
        },
        {
          "output_type": "display_data",
          "data": {
            "application/javascript": [
              "window[\"53169dc8-6648-11e9-94aa-0242ac1c0002\"] = google.colab.output.setActiveOutputArea(window[\"53164454-6648-11e9-94aa-0242ac1c0002\"]);\n",
              "//# sourceURL=js_81984b39fe"
            ],
            "text/plain": [
              "<IPython.core.display.Javascript object>"
            ]
          },
          "metadata": {
            "tags": [
              "id4-0-0",
              "outputarea_id4"
            ]
          }
        },
        {
          "output_type": "display_data",
          "data": {
            "application/javascript": [
              "window[\"54169cb4-6648-11e9-94aa-0242ac1c0002\"] = google.colab.output.setActiveOutputArea(window[\"5315e8a6-6648-11e9-94aa-0242ac1c0002\"]);\n",
              "//# sourceURL=js_884a9075bd"
            ],
            "text/plain": [
              "<IPython.core.display.Javascript object>"
            ]
          },
          "metadata": {
            "tags": [
              "id4-0-0",
              "outputarea_id4"
            ]
          }
        },
        {
          "output_type": "display_data",
          "data": {
            "application/javascript": [
              "window[\"541aa9d0-6648-11e9-94aa-0242ac1c0002\"] = google.colab.output.getActiveOutputArea();\n",
              "//# sourceURL=js_ea743a2784"
            ],
            "text/plain": [
              "<IPython.core.display.Javascript object>"
            ]
          },
          "metadata": {
            "tags": [
              "id4-0-0",
              "outputarea_id4"
            ]
          }
        },
        {
          "output_type": "display_data",
          "data": {
            "application/javascript": [
              "window[\"541b05e2-6648-11e9-94aa-0242ac1c0002\"] = document.querySelector(\"#id4-0-0\");\n",
              "//# sourceURL=js_992eef436b"
            ],
            "text/plain": [
              "<IPython.core.display.Javascript object>"
            ]
          },
          "metadata": {
            "tags": [
              "id4-0-0",
              "outputarea_id4"
            ]
          }
        },
        {
          "output_type": "display_data",
          "data": {
            "application/javascript": [
              "window[\"541b7ac2-6648-11e9-94aa-0242ac1c0002\"] = google.colab.output.setActiveOutputArea(window[\"541b05e2-6648-11e9-94aa-0242ac1c0002\"]);\n",
              "//# sourceURL=js_b2da5e8bdf"
            ],
            "text/plain": [
              "<IPython.core.display.Javascript object>"
            ]
          },
          "metadata": {
            "tags": [
              "id4-0-0",
              "outputarea_id4"
            ]
          }
        },
        {
          "output_type": "display_data",
          "data": {
            "application/javascript": [
              "window[\"551e921a-6648-11e9-94aa-0242ac1c0002\"] = google.colab.output.setActiveOutputArea(window[\"541aa9d0-6648-11e9-94aa-0242ac1c0002\"]);\n",
              "//# sourceURL=js_b4114bc7db"
            ],
            "text/plain": [
              "<IPython.core.display.Javascript object>"
            ]
          },
          "metadata": {
            "tags": [
              "id4-0-0",
              "outputarea_id4"
            ]
          }
        },
        {
          "output_type": "display_data",
          "data": {
            "application/javascript": [
              "window[\"552290b8-6648-11e9-94aa-0242ac1c0002\"] = google.colab.output.getActiveOutputArea();\n",
              "//# sourceURL=js_a6e7811e3e"
            ],
            "text/plain": [
              "<IPython.core.display.Javascript object>"
            ]
          },
          "metadata": {
            "tags": [
              "id4-0-0",
              "outputarea_id4"
            ]
          }
        },
        {
          "output_type": "display_data",
          "data": {
            "application/javascript": [
              "window[\"5522ec20-6648-11e9-94aa-0242ac1c0002\"] = document.querySelector(\"#id4-0-0\");\n",
              "//# sourceURL=js_ee8640ba34"
            ],
            "text/plain": [
              "<IPython.core.display.Javascript object>"
            ]
          },
          "metadata": {
            "tags": [
              "id4-0-0",
              "outputarea_id4"
            ]
          }
        },
        {
          "output_type": "display_data",
          "data": {
            "application/javascript": [
              "window[\"55234904-6648-11e9-94aa-0242ac1c0002\"] = google.colab.output.setActiveOutputArea(window[\"5522ec20-6648-11e9-94aa-0242ac1c0002\"]);\n",
              "//# sourceURL=js_cf8111c8fb"
            ],
            "text/plain": [
              "<IPython.core.display.Javascript object>"
            ]
          },
          "metadata": {
            "tags": [
              "id4-0-0",
              "outputarea_id4"
            ]
          }
        },
        {
          "output_type": "display_data",
          "data": {
            "application/javascript": [
              "window[\"562405d2-6648-11e9-94aa-0242ac1c0002\"] = google.colab.output.setActiveOutputArea(window[\"552290b8-6648-11e9-94aa-0242ac1c0002\"]);\n",
              "//# sourceURL=js_084f102d13"
            ],
            "text/plain": [
              "<IPython.core.display.Javascript object>"
            ]
          },
          "metadata": {
            "tags": [
              "id4-0-0",
              "outputarea_id4"
            ]
          }
        },
        {
          "output_type": "display_data",
          "data": {
            "application/javascript": [
              "window[\"56287b62-6648-11e9-94aa-0242ac1c0002\"] = google.colab.output.getActiveOutputArea();\n",
              "//# sourceURL=js_ec1cbd0ace"
            ],
            "text/plain": [
              "<IPython.core.display.Javascript object>"
            ]
          },
          "metadata": {
            "tags": [
              "id4-0-0",
              "outputarea_id4"
            ]
          }
        },
        {
          "output_type": "display_data",
          "data": {
            "application/javascript": [
              "window[\"5628c0fe-6648-11e9-94aa-0242ac1c0002\"] = document.querySelector(\"#id4-0-0\");\n",
              "//# sourceURL=js_ac85ca42e6"
            ],
            "text/plain": [
              "<IPython.core.display.Javascript object>"
            ]
          },
          "metadata": {
            "tags": [
              "id4-0-0",
              "outputarea_id4"
            ]
          }
        },
        {
          "output_type": "display_data",
          "data": {
            "application/javascript": [
              "window[\"562915b8-6648-11e9-94aa-0242ac1c0002\"] = google.colab.output.setActiveOutputArea(window[\"5628c0fe-6648-11e9-94aa-0242ac1c0002\"]);\n",
              "//# sourceURL=js_1012c45bfa"
            ],
            "text/plain": [
              "<IPython.core.display.Javascript object>"
            ]
          },
          "metadata": {
            "tags": [
              "id4-0-0",
              "outputarea_id4"
            ]
          }
        },
        {
          "output_type": "display_data",
          "data": {
            "application/javascript": [
              "window[\"5734301e-6648-11e9-94aa-0242ac1c0002\"] = google.colab.output.setActiveOutputArea(window[\"56287b62-6648-11e9-94aa-0242ac1c0002\"]);\n",
              "//# sourceURL=js_d5e9a82012"
            ],
            "text/plain": [
              "<IPython.core.display.Javascript object>"
            ]
          },
          "metadata": {
            "tags": [
              "id4-0-0",
              "outputarea_id4"
            ]
          }
        },
        {
          "output_type": "display_data",
          "data": {
            "application/javascript": [
              "window[\"5738b256-6648-11e9-94aa-0242ac1c0002\"] = google.colab.output.getActiveOutputArea();\n",
              "//# sourceURL=js_148220346e"
            ],
            "text/plain": [
              "<IPython.core.display.Javascript object>"
            ]
          },
          "metadata": {
            "tags": [
              "id4-0-0",
              "outputarea_id4"
            ]
          }
        },
        {
          "output_type": "display_data",
          "data": {
            "application/javascript": [
              "window[\"57398a82-6648-11e9-94aa-0242ac1c0002\"] = document.querySelector(\"#id4-0-0\");\n",
              "//# sourceURL=js_dbc31ccc4c"
            ],
            "text/plain": [
              "<IPython.core.display.Javascript object>"
            ]
          },
          "metadata": {
            "tags": [
              "id4-0-0",
              "outputarea_id4"
            ]
          }
        },
        {
          "output_type": "display_data",
          "data": {
            "application/javascript": [
              "window[\"5739d0aa-6648-11e9-94aa-0242ac1c0002\"] = google.colab.output.setActiveOutputArea(window[\"57398a82-6648-11e9-94aa-0242ac1c0002\"]);\n",
              "//# sourceURL=js_3f00f652c1"
            ],
            "text/plain": [
              "<IPython.core.display.Javascript object>"
            ]
          },
          "metadata": {
            "tags": [
              "id4-0-0",
              "outputarea_id4"
            ]
          }
        },
        {
          "output_type": "display_data",
          "data": {
            "application/javascript": [
              "window[\"585daace-6648-11e9-94aa-0242ac1c0002\"] = google.colab.output.setActiveOutputArea(window[\"5738b256-6648-11e9-94aa-0242ac1c0002\"]);\n",
              "//# sourceURL=js_7399c063df"
            ],
            "text/plain": [
              "<IPython.core.display.Javascript object>"
            ]
          },
          "metadata": {
            "tags": [
              "id4-0-0",
              "outputarea_id4"
            ]
          }
        },
        {
          "output_type": "display_data",
          "data": {
            "application/javascript": [
              "window[\"5862e23c-6648-11e9-94aa-0242ac1c0002\"] = google.colab.output.getActiveOutputArea();\n",
              "//# sourceURL=js_7aa573defd"
            ],
            "text/plain": [
              "<IPython.core.display.Javascript object>"
            ]
          },
          "metadata": {
            "tags": [
              "id4-0-0",
              "outputarea_id4"
            ]
          }
        },
        {
          "output_type": "display_data",
          "data": {
            "application/javascript": [
              "window[\"58636e64-6648-11e9-94aa-0242ac1c0002\"] = document.querySelector(\"#id4-0-0\");\n",
              "//# sourceURL=js_79891932ac"
            ],
            "text/plain": [
              "<IPython.core.display.Javascript object>"
            ]
          },
          "metadata": {
            "tags": [
              "id4-0-0",
              "outputarea_id4"
            ]
          }
        },
        {
          "output_type": "display_data",
          "data": {
            "application/javascript": [
              "window[\"5863ec5e-6648-11e9-94aa-0242ac1c0002\"] = google.colab.output.setActiveOutputArea(window[\"58636e64-6648-11e9-94aa-0242ac1c0002\"]);\n",
              "//# sourceURL=js_547107b602"
            ],
            "text/plain": [
              "<IPython.core.display.Javascript object>"
            ]
          },
          "metadata": {
            "tags": [
              "id4-0-0",
              "outputarea_id4"
            ]
          }
        },
        {
          "output_type": "display_data",
          "data": {
            "application/javascript": [
              "window[\"5979f0ac-6648-11e9-94aa-0242ac1c0002\"] = google.colab.output.setActiveOutputArea(window[\"5862e23c-6648-11e9-94aa-0242ac1c0002\"]);\n",
              "//# sourceURL=js_8d206e37ca"
            ],
            "text/plain": [
              "<IPython.core.display.Javascript object>"
            ]
          },
          "metadata": {
            "tags": [
              "id4-0-0",
              "outputarea_id4"
            ]
          }
        },
        {
          "output_type": "display_data",
          "data": {
            "application/javascript": [
              "window[\"597e83ba-6648-11e9-94aa-0242ac1c0002\"] = google.colab.output.getActiveOutputArea();\n",
              "//# sourceURL=js_0d4e33c51d"
            ],
            "text/plain": [
              "<IPython.core.display.Javascript object>"
            ]
          },
          "metadata": {
            "tags": [
              "id4-0-0",
              "outputarea_id4"
            ]
          }
        },
        {
          "output_type": "display_data",
          "data": {
            "application/javascript": [
              "window[\"597ee4e0-6648-11e9-94aa-0242ac1c0002\"] = document.querySelector(\"#id4-0-0\");\n",
              "//# sourceURL=js_c07304ba2f"
            ],
            "text/plain": [
              "<IPython.core.display.Javascript object>"
            ]
          },
          "metadata": {
            "tags": [
              "id4-0-0",
              "outputarea_id4"
            ]
          }
        },
        {
          "output_type": "display_data",
          "data": {
            "application/javascript": [
              "window[\"597f38b4-6648-11e9-94aa-0242ac1c0002\"] = google.colab.output.setActiveOutputArea(window[\"597ee4e0-6648-11e9-94aa-0242ac1c0002\"]);\n",
              "//# sourceURL=js_d4fbba7ee5"
            ],
            "text/plain": [
              "<IPython.core.display.Javascript object>"
            ]
          },
          "metadata": {
            "tags": [
              "id4-0-0",
              "outputarea_id4"
            ]
          }
        },
        {
          "output_type": "display_data",
          "data": {
            "application/javascript": [
              "window[\"5a7ee354-6648-11e9-94aa-0242ac1c0002\"] = google.colab.output.setActiveOutputArea(window[\"597e83ba-6648-11e9-94aa-0242ac1c0002\"]);\n",
              "//# sourceURL=js_a3aafe8dbd"
            ],
            "text/plain": [
              "<IPython.core.display.Javascript object>"
            ]
          },
          "metadata": {
            "tags": [
              "id4-0-0",
              "outputarea_id4"
            ]
          }
        },
        {
          "output_type": "display_data",
          "data": {
            "application/javascript": [
              "window[\"5a8353b2-6648-11e9-94aa-0242ac1c0002\"] = google.colab.output.getActiveOutputArea();\n",
              "//# sourceURL=js_1e2952a26c"
            ],
            "text/plain": [
              "<IPython.core.display.Javascript object>"
            ]
          },
          "metadata": {
            "tags": [
              "id4-0-0",
              "outputarea_id4"
            ]
          }
        },
        {
          "output_type": "display_data",
          "data": {
            "application/javascript": [
              "window[\"5a83b38e-6648-11e9-94aa-0242ac1c0002\"] = document.querySelector(\"#id4-0-0\");\n",
              "//# sourceURL=js_0b6e0f0955"
            ],
            "text/plain": [
              "<IPython.core.display.Javascript object>"
            ]
          },
          "metadata": {
            "tags": [
              "id4-0-0",
              "outputarea_id4"
            ]
          }
        },
        {
          "output_type": "display_data",
          "data": {
            "application/javascript": [
              "window[\"5a840dd4-6648-11e9-94aa-0242ac1c0002\"] = google.colab.output.setActiveOutputArea(window[\"5a83b38e-6648-11e9-94aa-0242ac1c0002\"]);\n",
              "//# sourceURL=js_ff71ca61d2"
            ],
            "text/plain": [
              "<IPython.core.display.Javascript object>"
            ]
          },
          "metadata": {
            "tags": [
              "id4-0-0",
              "outputarea_id4"
            ]
          }
        },
        {
          "output_type": "display_data",
          "data": {
            "application/javascript": [
              "window[\"5b84e42e-6648-11e9-94aa-0242ac1c0002\"] = google.colab.output.setActiveOutputArea(window[\"5a8353b2-6648-11e9-94aa-0242ac1c0002\"]);\n",
              "//# sourceURL=js_8ea1b7346c"
            ],
            "text/plain": [
              "<IPython.core.display.Javascript object>"
            ]
          },
          "metadata": {
            "tags": [
              "id4-0-0",
              "outputarea_id4"
            ]
          }
        },
        {
          "output_type": "display_data",
          "data": {
            "application/javascript": [
              "window[\"5b88df66-6648-11e9-94aa-0242ac1c0002\"] = google.colab.output.getActiveOutputArea();\n",
              "//# sourceURL=js_340b56cd3f"
            ],
            "text/plain": [
              "<IPython.core.display.Javascript object>"
            ]
          },
          "metadata": {
            "tags": [
              "id4-0-0",
              "outputarea_id4"
            ]
          }
        },
        {
          "output_type": "display_data",
          "data": {
            "application/javascript": [
              "window[\"5b893ad8-6648-11e9-94aa-0242ac1c0002\"] = document.querySelector(\"#id4-0-0\");\n",
              "//# sourceURL=js_4f0a2a0b13"
            ],
            "text/plain": [
              "<IPython.core.display.Javascript object>"
            ]
          },
          "metadata": {
            "tags": [
              "id4-0-0",
              "outputarea_id4"
            ]
          }
        },
        {
          "output_type": "display_data",
          "data": {
            "application/javascript": [
              "window[\"5b89974e-6648-11e9-94aa-0242ac1c0002\"] = google.colab.output.setActiveOutputArea(window[\"5b893ad8-6648-11e9-94aa-0242ac1c0002\"]);\n",
              "//# sourceURL=js_ff4bc209f6"
            ],
            "text/plain": [
              "<IPython.core.display.Javascript object>"
            ]
          },
          "metadata": {
            "tags": [
              "id4-0-0",
              "outputarea_id4"
            ]
          }
        },
        {
          "output_type": "display_data",
          "data": {
            "application/javascript": [
              "window[\"5c8cdde0-6648-11e9-94aa-0242ac1c0002\"] = google.colab.output.setActiveOutputArea(window[\"5b88df66-6648-11e9-94aa-0242ac1c0002\"]);\n",
              "//# sourceURL=js_d28f5f3530"
            ],
            "text/plain": [
              "<IPython.core.display.Javascript object>"
            ]
          },
          "metadata": {
            "tags": [
              "id4-0-0",
              "outputarea_id4"
            ]
          }
        },
        {
          "output_type": "display_data",
          "data": {
            "application/javascript": [
              "window[\"5c910e1a-6648-11e9-94aa-0242ac1c0002\"] = google.colab.output.getActiveOutputArea();\n",
              "//# sourceURL=js_053d42114e"
            ],
            "text/plain": [
              "<IPython.core.display.Javascript object>"
            ]
          },
          "metadata": {
            "tags": [
              "id4-0-0",
              "outputarea_id4"
            ]
          }
        },
        {
          "output_type": "display_data",
          "data": {
            "application/javascript": [
              "window[\"5c917242-6648-11e9-94aa-0242ac1c0002\"] = document.querySelector(\"#id4-0-0\");\n",
              "//# sourceURL=js_4c8ff6d375"
            ],
            "text/plain": [
              "<IPython.core.display.Javascript object>"
            ]
          },
          "metadata": {
            "tags": [
              "id4-0-0",
              "outputarea_id4"
            ]
          }
        },
        {
          "output_type": "display_data",
          "data": {
            "application/javascript": [
              "window[\"5c91c616-6648-11e9-94aa-0242ac1c0002\"] = google.colab.output.setActiveOutputArea(window[\"5c917242-6648-11e9-94aa-0242ac1c0002\"]);\n",
              "//# sourceURL=js_c79539183c"
            ],
            "text/plain": [
              "<IPython.core.display.Javascript object>"
            ]
          },
          "metadata": {
            "tags": [
              "id4-0-0",
              "outputarea_id4"
            ]
          }
        },
        {
          "output_type": "display_data",
          "data": {
            "application/javascript": [
              "window[\"5dba8bcc-6648-11e9-94aa-0242ac1c0002\"] = google.colab.output.setActiveOutputArea(window[\"5c910e1a-6648-11e9-94aa-0242ac1c0002\"]);\n",
              "//# sourceURL=js_b25534b285"
            ],
            "text/plain": [
              "<IPython.core.display.Javascript object>"
            ]
          },
          "metadata": {
            "tags": [
              "id4-0-0",
              "outputarea_id4"
            ]
          }
        },
        {
          "output_type": "display_data",
          "data": {
            "application/javascript": [
              "window[\"5dc11550-6648-11e9-94aa-0242ac1c0002\"] = google.colab.output.getActiveOutputArea();\n",
              "//# sourceURL=js_914c327a72"
            ],
            "text/plain": [
              "<IPython.core.display.Javascript object>"
            ]
          },
          "metadata": {
            "tags": [
              "id4-0-0",
              "outputarea_id4"
            ]
          }
        },
        {
          "output_type": "display_data",
          "data": {
            "application/javascript": [
              "window[\"5dc17d4c-6648-11e9-94aa-0242ac1c0002\"] = document.querySelector(\"#id4-0-0\");\n",
              "//# sourceURL=js_1ac36472e9"
            ],
            "text/plain": [
              "<IPython.core.display.Javascript object>"
            ]
          },
          "metadata": {
            "tags": [
              "id4-0-0",
              "outputarea_id4"
            ]
          }
        },
        {
          "output_type": "display_data",
          "data": {
            "application/javascript": [
              "window[\"5dc22bac-6648-11e9-94aa-0242ac1c0002\"] = google.colab.output.setActiveOutputArea(window[\"5dc17d4c-6648-11e9-94aa-0242ac1c0002\"]);\n",
              "//# sourceURL=js_9ce7547e12"
            ],
            "text/plain": [
              "<IPython.core.display.Javascript object>"
            ]
          },
          "metadata": {
            "tags": [
              "id4-0-0",
              "outputarea_id4"
            ]
          }
        },
        {
          "output_type": "display_data",
          "data": {
            "application/javascript": [
              "window[\"5ec27d7c-6648-11e9-94aa-0242ac1c0002\"] = google.colab.output.setActiveOutputArea(window[\"5dc11550-6648-11e9-94aa-0242ac1c0002\"]);\n",
              "//# sourceURL=js_663b06e0c4"
            ],
            "text/plain": [
              "<IPython.core.display.Javascript object>"
            ]
          },
          "metadata": {
            "tags": [
              "id4-0-0",
              "outputarea_id4"
            ]
          }
        },
        {
          "output_type": "display_data",
          "data": {
            "application/javascript": [
              "window[\"5ec7aee6-6648-11e9-94aa-0242ac1c0002\"] = google.colab.output.getActiveOutputArea();\n",
              "//# sourceURL=js_4dd00245f6"
            ],
            "text/plain": [
              "<IPython.core.display.Javascript object>"
            ]
          },
          "metadata": {
            "tags": [
              "id4-0-0",
              "outputarea_id4"
            ]
          }
        },
        {
          "output_type": "display_data",
          "data": {
            "application/javascript": [
              "window[\"5ec82146-6648-11e9-94aa-0242ac1c0002\"] = document.querySelector(\"#id4-0-0\");\n",
              "//# sourceURL=js_ad2e6201b1"
            ],
            "text/plain": [
              "<IPython.core.display.Javascript object>"
            ]
          },
          "metadata": {
            "tags": [
              "id4-0-0",
              "outputarea_id4"
            ]
          }
        },
        {
          "output_type": "display_data",
          "data": {
            "application/javascript": [
              "window[\"5ec8bda4-6648-11e9-94aa-0242ac1c0002\"] = google.colab.output.setActiveOutputArea(window[\"5ec82146-6648-11e9-94aa-0242ac1c0002\"]);\n",
              "//# sourceURL=js_5766440703"
            ],
            "text/plain": [
              "<IPython.core.display.Javascript object>"
            ]
          },
          "metadata": {
            "tags": [
              "id4-0-0",
              "outputarea_id4"
            ]
          }
        },
        {
          "output_type": "display_data",
          "data": {
            "application/javascript": [
              "window[\"5fdaf234-6648-11e9-94aa-0242ac1c0002\"] = google.colab.output.setActiveOutputArea(window[\"5ec7aee6-6648-11e9-94aa-0242ac1c0002\"]);\n",
              "//# sourceURL=js_e49f139443"
            ],
            "text/plain": [
              "<IPython.core.display.Javascript object>"
            ]
          },
          "metadata": {
            "tags": [
              "id4-0-0",
              "outputarea_id4"
            ]
          }
        },
        {
          "output_type": "display_data",
          "data": {
            "application/javascript": [
              "window[\"5fdfd632-6648-11e9-94aa-0242ac1c0002\"] = google.colab.output.getActiveOutputArea();\n",
              "//# sourceURL=js_d46cd54742"
            ],
            "text/plain": [
              "<IPython.core.display.Javascript object>"
            ]
          },
          "metadata": {
            "tags": [
              "id4-0-0",
              "outputarea_id4"
            ]
          }
        },
        {
          "output_type": "display_data",
          "data": {
            "application/javascript": [
              "window[\"5fe09112-6648-11e9-94aa-0242ac1c0002\"] = document.querySelector(\"#id4-0-0\");\n",
              "//# sourceURL=js_5cfc12929d"
            ],
            "text/plain": [
              "<IPython.core.display.Javascript object>"
            ]
          },
          "metadata": {
            "tags": [
              "id4-0-0",
              "outputarea_id4"
            ]
          }
        },
        {
          "output_type": "display_data",
          "data": {
            "application/javascript": [
              "window[\"5fe14620-6648-11e9-94aa-0242ac1c0002\"] = google.colab.output.setActiveOutputArea(window[\"5fe09112-6648-11e9-94aa-0242ac1c0002\"]);\n",
              "//# sourceURL=js_ac5d63d986"
            ],
            "text/plain": [
              "<IPython.core.display.Javascript object>"
            ]
          },
          "metadata": {
            "tags": [
              "id4-0-0",
              "outputarea_id4"
            ]
          }
        },
        {
          "output_type": "display_data",
          "data": {
            "application/javascript": [
              "window[\"60e43b04-6648-11e9-94aa-0242ac1c0002\"] = google.colab.output.setActiveOutputArea(window[\"5fdfd632-6648-11e9-94aa-0242ac1c0002\"]);\n",
              "//# sourceURL=js_f9b0dad908"
            ],
            "text/plain": [
              "<IPython.core.display.Javascript object>"
            ]
          },
          "metadata": {
            "tags": [
              "id4-0-0",
              "outputarea_id4"
            ]
          }
        },
        {
          "output_type": "display_data",
          "data": {
            "application/javascript": [
              "window[\"60e8208e-6648-11e9-94aa-0242ac1c0002\"] = google.colab.output.getActiveOutputArea();\n",
              "//# sourceURL=js_0e5c88a685"
            ],
            "text/plain": [
              "<IPython.core.display.Javascript object>"
            ]
          },
          "metadata": {
            "tags": [
              "id4-0-0",
              "outputarea_id4"
            ]
          }
        },
        {
          "output_type": "display_data",
          "data": {
            "application/javascript": [
              "window[\"60e88d76-6648-11e9-94aa-0242ac1c0002\"] = document.querySelector(\"#id4-0-0\");\n",
              "//# sourceURL=js_52739da035"
            ],
            "text/plain": [
              "<IPython.core.display.Javascript object>"
            ]
          },
          "metadata": {
            "tags": [
              "id4-0-0",
              "outputarea_id4"
            ]
          }
        },
        {
          "output_type": "display_data",
          "data": {
            "application/javascript": [
              "window[\"60e8ca3e-6648-11e9-94aa-0242ac1c0002\"] = google.colab.output.setActiveOutputArea(window[\"60e88d76-6648-11e9-94aa-0242ac1c0002\"]);\n",
              "//# sourceURL=js_d3aa307fb9"
            ],
            "text/plain": [
              "<IPython.core.display.Javascript object>"
            ]
          },
          "metadata": {
            "tags": [
              "id4-0-0",
              "outputarea_id4"
            ]
          }
        },
        {
          "output_type": "display_data",
          "data": {
            "application/javascript": [
              "window[\"61e8d82a-6648-11e9-94aa-0242ac1c0002\"] = google.colab.output.setActiveOutputArea(window[\"60e8208e-6648-11e9-94aa-0242ac1c0002\"]);\n",
              "//# sourceURL=js_3f612f008f"
            ],
            "text/plain": [
              "<IPython.core.display.Javascript object>"
            ]
          },
          "metadata": {
            "tags": [
              "id4-0-0",
              "outputarea_id4"
            ]
          }
        },
        {
          "output_type": "display_data",
          "data": {
            "application/javascript": [
              "window[\"61ed355a-6648-11e9-94aa-0242ac1c0002\"] = google.colab.output.getActiveOutputArea();\n",
              "//# sourceURL=js_dff89d7ffb"
            ],
            "text/plain": [
              "<IPython.core.display.Javascript object>"
            ]
          },
          "metadata": {
            "tags": [
              "id4-0-0",
              "outputarea_id4"
            ]
          }
        },
        {
          "output_type": "display_data",
          "data": {
            "application/javascript": [
              "window[\"61edce0c-6648-11e9-94aa-0242ac1c0002\"] = document.querySelector(\"#id4-0-0\");\n",
              "//# sourceURL=js_1944217225"
            ],
            "text/plain": [
              "<IPython.core.display.Javascript object>"
            ]
          },
          "metadata": {
            "tags": [
              "id4-0-0",
              "outputarea_id4"
            ]
          }
        },
        {
          "output_type": "display_data",
          "data": {
            "application/javascript": [
              "window[\"61ee9ca6-6648-11e9-94aa-0242ac1c0002\"] = google.colab.output.setActiveOutputArea(window[\"61edce0c-6648-11e9-94aa-0242ac1c0002\"]);\n",
              "//# sourceURL=js_7e479d94c8"
            ],
            "text/plain": [
              "<IPython.core.display.Javascript object>"
            ]
          },
          "metadata": {
            "tags": [
              "id4-0-0",
              "outputarea_id4"
            ]
          }
        },
        {
          "output_type": "display_data",
          "data": {
            "application/javascript": [
              "window[\"62f0c584-6648-11e9-94aa-0242ac1c0002\"] = google.colab.output.setActiveOutputArea(window[\"61ed355a-6648-11e9-94aa-0242ac1c0002\"]);\n",
              "//# sourceURL=js_c07c4db482"
            ],
            "text/plain": [
              "<IPython.core.display.Javascript object>"
            ]
          },
          "metadata": {
            "tags": [
              "id4-0-0",
              "outputarea_id4"
            ]
          }
        },
        {
          "output_type": "display_data",
          "data": {
            "application/javascript": [
              "window[\"62f4fc58-6648-11e9-94aa-0242ac1c0002\"] = google.colab.output.getActiveOutputArea();\n",
              "//# sourceURL=js_47f8e29020"
            ],
            "text/plain": [
              "<IPython.core.display.Javascript object>"
            ]
          },
          "metadata": {
            "tags": [
              "id4-0-0",
              "outputarea_id4"
            ]
          }
        },
        {
          "output_type": "display_data",
          "data": {
            "application/javascript": [
              "window[\"62f55a18-6648-11e9-94aa-0242ac1c0002\"] = document.querySelector(\"#id4-0-0\");\n",
              "//# sourceURL=js_70f9842649"
            ],
            "text/plain": [
              "<IPython.core.display.Javascript object>"
            ]
          },
          "metadata": {
            "tags": [
              "id4-0-0",
              "outputarea_id4"
            ]
          }
        },
        {
          "output_type": "display_data",
          "data": {
            "application/javascript": [
              "window[\"62f5aa36-6648-11e9-94aa-0242ac1c0002\"] = google.colab.output.setActiveOutputArea(window[\"62f55a18-6648-11e9-94aa-0242ac1c0002\"]);\n",
              "//# sourceURL=js_401499056b"
            ],
            "text/plain": [
              "<IPython.core.display.Javascript object>"
            ]
          },
          "metadata": {
            "tags": [
              "id4-0-0",
              "outputarea_id4"
            ]
          }
        },
        {
          "output_type": "display_data",
          "data": {
            "application/javascript": [
              "window[\"6407f316-6648-11e9-94aa-0242ac1c0002\"] = google.colab.output.setActiveOutputArea(window[\"62f4fc58-6648-11e9-94aa-0242ac1c0002\"]);\n",
              "//# sourceURL=js_a4597849d0"
            ],
            "text/plain": [
              "<IPython.core.display.Javascript object>"
            ]
          },
          "metadata": {
            "tags": [
              "id4-0-0",
              "outputarea_id4"
            ]
          }
        },
        {
          "output_type": "display_data",
          "data": {
            "application/javascript": [
              "window[\"640c2f80-6648-11e9-94aa-0242ac1c0002\"] = google.colab.output.getActiveOutputArea();\n",
              "//# sourceURL=js_2239be39fd"
            ],
            "text/plain": [
              "<IPython.core.display.Javascript object>"
            ]
          },
          "metadata": {
            "tags": [
              "id4-0-0",
              "outputarea_id4"
            ]
          }
        },
        {
          "output_type": "display_data",
          "data": {
            "application/javascript": [
              "window[\"640c78d2-6648-11e9-94aa-0242ac1c0002\"] = document.querySelector(\"#id4-0-0\");\n",
              "//# sourceURL=js_344eadaae2"
            ],
            "text/plain": [
              "<IPython.core.display.Javascript object>"
            ]
          },
          "metadata": {
            "tags": [
              "id4-0-0",
              "outputarea_id4"
            ]
          }
        },
        {
          "output_type": "display_data",
          "data": {
            "application/javascript": [
              "window[\"640cb694-6648-11e9-94aa-0242ac1c0002\"] = google.colab.output.setActiveOutputArea(window[\"640c78d2-6648-11e9-94aa-0242ac1c0002\"]);\n",
              "//# sourceURL=js_b428c31614"
            ],
            "text/plain": [
              "<IPython.core.display.Javascript object>"
            ]
          },
          "metadata": {
            "tags": [
              "id4-0-0",
              "outputarea_id4"
            ]
          }
        },
        {
          "output_type": "display_data",
          "data": {
            "application/javascript": [
              "window[\"65115bb2-6648-11e9-94aa-0242ac1c0002\"] = google.colab.output.setActiveOutputArea(window[\"640c2f80-6648-11e9-94aa-0242ac1c0002\"]);\n",
              "//# sourceURL=js_1268920c54"
            ],
            "text/plain": [
              "<IPython.core.display.Javascript object>"
            ]
          },
          "metadata": {
            "tags": [
              "id4-0-0",
              "outputarea_id4"
            ]
          }
        },
        {
          "output_type": "display_data",
          "data": {
            "application/javascript": [
              "window[\"65169528-6648-11e9-94aa-0242ac1c0002\"] = google.colab.output.getActiveOutputArea();\n",
              "//# sourceURL=js_3cdd7635a5"
            ],
            "text/plain": [
              "<IPython.core.display.Javascript object>"
            ]
          },
          "metadata": {
            "tags": [
              "id4-0-0",
              "outputarea_id4"
            ]
          }
        },
        {
          "output_type": "display_data",
          "data": {
            "application/javascript": [
              "window[\"65172dee-6648-11e9-94aa-0242ac1c0002\"] = document.querySelector(\"#id4-0-0\");\n",
              "//# sourceURL=js_bb935641b1"
            ],
            "text/plain": [
              "<IPython.core.display.Javascript object>"
            ]
          },
          "metadata": {
            "tags": [
              "id4-0-0",
              "outputarea_id4"
            ]
          }
        },
        {
          "output_type": "display_data",
          "data": {
            "application/javascript": [
              "window[\"6518b1dc-6648-11e9-94aa-0242ac1c0002\"] = google.colab.output.setActiveOutputArea(window[\"65172dee-6648-11e9-94aa-0242ac1c0002\"]);\n",
              "//# sourceURL=js_cb802e1606"
            ],
            "text/plain": [
              "<IPython.core.display.Javascript object>"
            ]
          },
          "metadata": {
            "tags": [
              "id4-0-0",
              "outputarea_id4"
            ]
          }
        },
        {
          "output_type": "display_data",
          "data": {
            "application/javascript": [
              "window[\"6635bd30-6648-11e9-94aa-0242ac1c0002\"] = google.colab.output.setActiveOutputArea(window[\"65169528-6648-11e9-94aa-0242ac1c0002\"]);\n",
              "//# sourceURL=js_adf019d5d5"
            ],
            "text/plain": [
              "<IPython.core.display.Javascript object>"
            ]
          },
          "metadata": {
            "tags": [
              "id4-0-0",
              "outputarea_id4"
            ]
          }
        },
        {
          "output_type": "display_data",
          "data": {
            "application/javascript": [
              "window[\"6639faa8-6648-11e9-94aa-0242ac1c0002\"] = google.colab.output.getActiveOutputArea();\n",
              "//# sourceURL=js_0b7f8e1f28"
            ],
            "text/plain": [
              "<IPython.core.display.Javascript object>"
            ]
          },
          "metadata": {
            "tags": [
              "id4-0-0",
              "outputarea_id4"
            ]
          }
        },
        {
          "output_type": "display_data",
          "data": {
            "application/javascript": [
              "window[\"663a83f6-6648-11e9-94aa-0242ac1c0002\"] = document.querySelector(\"#id4-0-0\");\n",
              "//# sourceURL=js_59dd978eca"
            ],
            "text/plain": [
              "<IPython.core.display.Javascript object>"
            ]
          },
          "metadata": {
            "tags": [
              "id4-0-0",
              "outputarea_id4"
            ]
          }
        },
        {
          "output_type": "display_data",
          "data": {
            "application/javascript": [
              "window[\"663af098-6648-11e9-94aa-0242ac1c0002\"] = google.colab.output.setActiveOutputArea(window[\"663a83f6-6648-11e9-94aa-0242ac1c0002\"]);\n",
              "//# sourceURL=js_c9effb2faa"
            ],
            "text/plain": [
              "<IPython.core.display.Javascript object>"
            ]
          },
          "metadata": {
            "tags": [
              "id4-0-0",
              "outputarea_id4"
            ]
          }
        },
        {
          "output_type": "display_data",
          "data": {
            "application/javascript": [
              "window[\"673c5860-6648-11e9-94aa-0242ac1c0002\"] = google.colab.output.setActiveOutputArea(window[\"6639faa8-6648-11e9-94aa-0242ac1c0002\"]);\n",
              "//# sourceURL=js_df1eee72e2"
            ],
            "text/plain": [
              "<IPython.core.display.Javascript object>"
            ]
          },
          "metadata": {
            "tags": [
              "id4-0-0",
              "outputarea_id4"
            ]
          }
        },
        {
          "output_type": "display_data",
          "data": {
            "application/javascript": [
              "window[\"67407882-6648-11e9-94aa-0242ac1c0002\"] = google.colab.output.getActiveOutputArea();\n",
              "//# sourceURL=js_b37e935932"
            ],
            "text/plain": [
              "<IPython.core.display.Javascript object>"
            ]
          },
          "metadata": {
            "tags": [
              "id4-0-0",
              "outputarea_id4"
            ]
          }
        },
        {
          "output_type": "display_data",
          "data": {
            "application/javascript": [
              "window[\"6740d7e6-6648-11e9-94aa-0242ac1c0002\"] = document.querySelector(\"#id4-0-0\");\n",
              "//# sourceURL=js_4dbf763231"
            ],
            "text/plain": [
              "<IPython.core.display.Javascript object>"
            ]
          },
          "metadata": {
            "tags": [
              "id4-0-0",
              "outputarea_id4"
            ]
          }
        },
        {
          "output_type": "display_data",
          "data": {
            "application/javascript": [
              "window[\"67413560-6648-11e9-94aa-0242ac1c0002\"] = google.colab.output.setActiveOutputArea(window[\"6740d7e6-6648-11e9-94aa-0242ac1c0002\"]);\n",
              "//# sourceURL=js_51e9164732"
            ],
            "text/plain": [
              "<IPython.core.display.Javascript object>"
            ]
          },
          "metadata": {
            "tags": [
              "id4-0-0",
              "outputarea_id4"
            ]
          }
        },
        {
          "output_type": "display_data",
          "data": {
            "application/javascript": [
              "window[\"6844bae0-6648-11e9-94aa-0242ac1c0002\"] = google.colab.output.setActiveOutputArea(window[\"67407882-6648-11e9-94aa-0242ac1c0002\"]);\n",
              "//# sourceURL=js_69767da949"
            ],
            "text/plain": [
              "<IPython.core.display.Javascript object>"
            ]
          },
          "metadata": {
            "tags": [
              "id4-0-0",
              "outputarea_id4"
            ]
          }
        },
        {
          "output_type": "display_data",
          "data": {
            "application/javascript": [
              "window[\"6848fcfe-6648-11e9-94aa-0242ac1c0002\"] = google.colab.output.getActiveOutputArea();\n",
              "//# sourceURL=js_277bda59f2"
            ],
            "text/plain": [
              "<IPython.core.display.Javascript object>"
            ]
          },
          "metadata": {
            "tags": [
              "id4-0-0",
              "outputarea_id4"
            ]
          }
        },
        {
          "output_type": "display_data",
          "data": {
            "application/javascript": [
              "window[\"68495712-6648-11e9-94aa-0242ac1c0002\"] = document.querySelector(\"#id4-0-0\");\n",
              "//# sourceURL=js_8dec77cb8f"
            ],
            "text/plain": [
              "<IPython.core.display.Javascript object>"
            ]
          },
          "metadata": {
            "tags": [
              "id4-0-0",
              "outputarea_id4"
            ]
          }
        },
        {
          "output_type": "display_data",
          "data": {
            "application/javascript": [
              "window[\"6849b874-6648-11e9-94aa-0242ac1c0002\"] = google.colab.output.setActiveOutputArea(window[\"68495712-6648-11e9-94aa-0242ac1c0002\"]);\n",
              "//# sourceURL=js_e0093de7c7"
            ],
            "text/plain": [
              "<IPython.core.display.Javascript object>"
            ]
          },
          "metadata": {
            "tags": [
              "id4-0-0",
              "outputarea_id4"
            ]
          }
        },
        {
          "output_type": "display_data",
          "data": {
            "application/javascript": [
              "window[\"695c9240-6648-11e9-94aa-0242ac1c0002\"] = google.colab.output.setActiveOutputArea(window[\"6848fcfe-6648-11e9-94aa-0242ac1c0002\"]);\n",
              "//# sourceURL=js_3df6c4b5ff"
            ],
            "text/plain": [
              "<IPython.core.display.Javascript object>"
            ]
          },
          "metadata": {
            "tags": [
              "id4-0-0",
              "outputarea_id4"
            ]
          }
        },
        {
          "output_type": "display_data",
          "data": {
            "application/javascript": [
              "window[\"6960d7c4-6648-11e9-94aa-0242ac1c0002\"] = google.colab.output.getActiveOutputArea();\n",
              "//# sourceURL=js_87c48e0c06"
            ],
            "text/plain": [
              "<IPython.core.display.Javascript object>"
            ]
          },
          "metadata": {
            "tags": [
              "id4-0-0",
              "outputarea_id4"
            ]
          }
        },
        {
          "output_type": "display_data",
          "data": {
            "application/javascript": [
              "window[\"69613bce-6648-11e9-94aa-0242ac1c0002\"] = document.querySelector(\"#id4-0-0\");\n",
              "//# sourceURL=js_967f1d5294"
            ],
            "text/plain": [
              "<IPython.core.display.Javascript object>"
            ]
          },
          "metadata": {
            "tags": [
              "id4-0-0",
              "outputarea_id4"
            ]
          }
        },
        {
          "output_type": "display_data",
          "data": {
            "application/javascript": [
              "window[\"69618e1c-6648-11e9-94aa-0242ac1c0002\"] = google.colab.output.setActiveOutputArea(window[\"69613bce-6648-11e9-94aa-0242ac1c0002\"]);\n",
              "//# sourceURL=js_08392829ba"
            ],
            "text/plain": [
              "<IPython.core.display.Javascript object>"
            ]
          },
          "metadata": {
            "tags": [
              "id4-0-0",
              "outputarea_id4"
            ]
          }
        },
        {
          "output_type": "display_data",
          "data": {
            "application/javascript": [
              "window[\"6a673b54-6648-11e9-94aa-0242ac1c0002\"] = google.colab.output.setActiveOutputArea(window[\"6960d7c4-6648-11e9-94aa-0242ac1c0002\"]);\n",
              "//# sourceURL=js_b369a145ac"
            ],
            "text/plain": [
              "<IPython.core.display.Javascript object>"
            ]
          },
          "metadata": {
            "tags": [
              "id4-0-0",
              "outputarea_id4"
            ]
          }
        },
        {
          "output_type": "display_data",
          "data": {
            "application/javascript": [
              "window[\"6a6b5e1e-6648-11e9-94aa-0242ac1c0002\"] = google.colab.output.getActiveOutputArea();\n",
              "//# sourceURL=js_450af18c5d"
            ],
            "text/plain": [
              "<IPython.core.display.Javascript object>"
            ]
          },
          "metadata": {
            "tags": [
              "id4-0-0",
              "outputarea_id4"
            ]
          }
        },
        {
          "output_type": "display_data",
          "data": {
            "application/javascript": [
              "window[\"6a6bd13c-6648-11e9-94aa-0242ac1c0002\"] = document.querySelector(\"#id4-0-0\");\n",
              "//# sourceURL=js_aa88fbdff9"
            ],
            "text/plain": [
              "<IPython.core.display.Javascript object>"
            ]
          },
          "metadata": {
            "tags": [
              "id4-0-0",
              "outputarea_id4"
            ]
          }
        },
        {
          "output_type": "display_data",
          "data": {
            "application/javascript": [
              "window[\"6a6c3604-6648-11e9-94aa-0242ac1c0002\"] = google.colab.output.setActiveOutputArea(window[\"6a6bd13c-6648-11e9-94aa-0242ac1c0002\"]);\n",
              "//# sourceURL=js_8e9da07727"
            ],
            "text/plain": [
              "<IPython.core.display.Javascript object>"
            ]
          },
          "metadata": {
            "tags": [
              "id4-0-0",
              "outputarea_id4"
            ]
          }
        },
        {
          "output_type": "display_data",
          "data": {
            "application/javascript": [
              "window[\"6b6cdc5c-6648-11e9-94aa-0242ac1c0002\"] = google.colab.output.setActiveOutputArea(window[\"6a6b5e1e-6648-11e9-94aa-0242ac1c0002\"]);\n",
              "//# sourceURL=js_a12ce23a62"
            ],
            "text/plain": [
              "<IPython.core.display.Javascript object>"
            ]
          },
          "metadata": {
            "tags": [
              "id4-0-0",
              "outputarea_id4"
            ]
          }
        },
        {
          "output_type": "display_data",
          "data": {
            "application/javascript": [
              "window[\"6b71aa98-6648-11e9-94aa-0242ac1c0002\"] = google.colab.output.getActiveOutputArea();\n",
              "//# sourceURL=js_073d4e3737"
            ],
            "text/plain": [
              "<IPython.core.display.Javascript object>"
            ]
          },
          "metadata": {
            "tags": [
              "id4-0-0",
              "outputarea_id4"
            ]
          }
        },
        {
          "output_type": "display_data",
          "data": {
            "application/javascript": [
              "window[\"6b725588-6648-11e9-94aa-0242ac1c0002\"] = document.querySelector(\"#id4-0-0\");\n",
              "//# sourceURL=js_376148b8b1"
            ],
            "text/plain": [
              "<IPython.core.display.Javascript object>"
            ]
          },
          "metadata": {
            "tags": [
              "id4-0-0",
              "outputarea_id4"
            ]
          }
        },
        {
          "output_type": "display_data",
          "data": {
            "application/javascript": [
              "window[\"6b72fca4-6648-11e9-94aa-0242ac1c0002\"] = google.colab.output.setActiveOutputArea(window[\"6b725588-6648-11e9-94aa-0242ac1c0002\"]);\n",
              "//# sourceURL=js_ae95ecfa47"
            ],
            "text/plain": [
              "<IPython.core.display.Javascript object>"
            ]
          },
          "metadata": {
            "tags": [
              "id4-0-0",
              "outputarea_id4"
            ]
          }
        },
        {
          "output_type": "display_data",
          "data": {
            "application/javascript": [
              "window[\"6c7d25a2-6648-11e9-94aa-0242ac1c0002\"] = google.colab.output.setActiveOutputArea(window[\"6b71aa98-6648-11e9-94aa-0242ac1c0002\"]);\n",
              "//# sourceURL=js_06d549c8f2"
            ],
            "text/plain": [
              "<IPython.core.display.Javascript object>"
            ]
          },
          "metadata": {
            "tags": [
              "id4-0-0",
              "outputarea_id4"
            ]
          }
        },
        {
          "output_type": "display_data",
          "data": {
            "application/javascript": [
              "window[\"6c80ed5e-6648-11e9-94aa-0242ac1c0002\"] = google.colab.output.getActiveOutputArea();\n",
              "//# sourceURL=js_23ab6ce1dc"
            ],
            "text/plain": [
              "<IPython.core.display.Javascript object>"
            ]
          },
          "metadata": {
            "tags": [
              "id4-0-0",
              "outputarea_id4"
            ]
          }
        },
        {
          "output_type": "display_data",
          "data": {
            "application/javascript": [
              "window[\"6c81358e-6648-11e9-94aa-0242ac1c0002\"] = document.querySelector(\"#id4-0-0\");\n",
              "//# sourceURL=js_f8044790e4"
            ],
            "text/plain": [
              "<IPython.core.display.Javascript object>"
            ]
          },
          "metadata": {
            "tags": [
              "id4-0-0",
              "outputarea_id4"
            ]
          }
        },
        {
          "output_type": "display_data",
          "data": {
            "application/javascript": [
              "window[\"6c8177ba-6648-11e9-94aa-0242ac1c0002\"] = google.colab.output.setActiveOutputArea(window[\"6c81358e-6648-11e9-94aa-0242ac1c0002\"]);\n",
              "//# sourceURL=js_d18bb2002a"
            ],
            "text/plain": [
              "<IPython.core.display.Javascript object>"
            ]
          },
          "metadata": {
            "tags": [
              "id4-0-0",
              "outputarea_id4"
            ]
          }
        },
        {
          "output_type": "display_data",
          "data": {
            "application/javascript": [
              "window[\"6d82266e-6648-11e9-94aa-0242ac1c0002\"] = google.colab.output.setActiveOutputArea(window[\"6c80ed5e-6648-11e9-94aa-0242ac1c0002\"]);\n",
              "//# sourceURL=js_80d75c8d65"
            ],
            "text/plain": [
              "<IPython.core.display.Javascript object>"
            ]
          },
          "metadata": {
            "tags": [
              "id4-0-0",
              "outputarea_id4"
            ]
          }
        },
        {
          "output_type": "display_data",
          "data": {
            "application/javascript": [
              "window[\"6d86df4c-6648-11e9-94aa-0242ac1c0002\"] = google.colab.output.getActiveOutputArea();\n",
              "//# sourceURL=js_4314375bfb"
            ],
            "text/plain": [
              "<IPython.core.display.Javascript object>"
            ]
          },
          "metadata": {
            "tags": [
              "id4-0-0",
              "outputarea_id4"
            ]
          }
        },
        {
          "output_type": "display_data",
          "data": {
            "application/javascript": [
              "window[\"6d8720ec-6648-11e9-94aa-0242ac1c0002\"] = document.querySelector(\"#id4-0-0\");\n",
              "//# sourceURL=js_637f3870cf"
            ],
            "text/plain": [
              "<IPython.core.display.Javascript object>"
            ]
          },
          "metadata": {
            "tags": [
              "id4-0-0",
              "outputarea_id4"
            ]
          }
        },
        {
          "output_type": "display_data",
          "data": {
            "application/javascript": [
              "window[\"6d875c24-6648-11e9-94aa-0242ac1c0002\"] = google.colab.output.setActiveOutputArea(window[\"6d8720ec-6648-11e9-94aa-0242ac1c0002\"]);\n",
              "//# sourceURL=js_663d88f611"
            ],
            "text/plain": [
              "<IPython.core.display.Javascript object>"
            ]
          },
          "metadata": {
            "tags": [
              "id4-0-0",
              "outputarea_id4"
            ]
          }
        },
        {
          "output_type": "display_data",
          "data": {
            "application/javascript": [
              "window[\"6e99b12a-6648-11e9-94aa-0242ac1c0002\"] = google.colab.output.setActiveOutputArea(window[\"6d86df4c-6648-11e9-94aa-0242ac1c0002\"]);\n",
              "//# sourceURL=js_4730c9b437"
            ],
            "text/plain": [
              "<IPython.core.display.Javascript object>"
            ]
          },
          "metadata": {
            "tags": [
              "id4-0-0",
              "outputarea_id4"
            ]
          }
        },
        {
          "output_type": "display_data",
          "data": {
            "application/javascript": [
              "window[\"6e9dd2b4-6648-11e9-94aa-0242ac1c0002\"] = google.colab.output.getActiveOutputArea();\n",
              "//# sourceURL=js_18e14979d1"
            ],
            "text/plain": [
              "<IPython.core.display.Javascript object>"
            ]
          },
          "metadata": {
            "tags": [
              "id4-0-0",
              "outputarea_id4"
            ]
          }
        },
        {
          "output_type": "display_data",
          "data": {
            "application/javascript": [
              "window[\"6e9e34c0-6648-11e9-94aa-0242ac1c0002\"] = document.querySelector(\"#id4-0-0\");\n",
              "//# sourceURL=js_aca36de5bd"
            ],
            "text/plain": [
              "<IPython.core.display.Javascript object>"
            ]
          },
          "metadata": {
            "tags": [
              "id4-0-0",
              "outputarea_id4"
            ]
          }
        },
        {
          "output_type": "display_data",
          "data": {
            "application/javascript": [
              "window[\"6e9e9000-6648-11e9-94aa-0242ac1c0002\"] = google.colab.output.setActiveOutputArea(window[\"6e9e34c0-6648-11e9-94aa-0242ac1c0002\"]);\n",
              "//# sourceURL=js_19d806b1a0"
            ],
            "text/plain": [
              "<IPython.core.display.Javascript object>"
            ]
          },
          "metadata": {
            "tags": [
              "id4-0-0",
              "outputarea_id4"
            ]
          }
        },
        {
          "output_type": "display_data",
          "data": {
            "application/javascript": [
              "window[\"6fbeb334-6648-11e9-94aa-0242ac1c0002\"] = google.colab.output.setActiveOutputArea(window[\"6e9dd2b4-6648-11e9-94aa-0242ac1c0002\"]);\n",
              "//# sourceURL=js_52191f0a9f"
            ],
            "text/plain": [
              "<IPython.core.display.Javascript object>"
            ]
          },
          "metadata": {
            "tags": [
              "id4-0-0",
              "outputarea_id4"
            ]
          }
        },
        {
          "output_type": "display_data",
          "data": {
            "application/javascript": [
              "window[\"6fc3077c-6648-11e9-94aa-0242ac1c0002\"] = google.colab.output.getActiveOutputArea();\n",
              "//# sourceURL=js_f0547f3fe9"
            ],
            "text/plain": [
              "<IPython.core.display.Javascript object>"
            ]
          },
          "metadata": {
            "tags": [
              "id4-0-0",
              "outputarea_id4"
            ]
          }
        },
        {
          "output_type": "display_data",
          "data": {
            "application/javascript": [
              "window[\"6fc376c6-6648-11e9-94aa-0242ac1c0002\"] = document.querySelector(\"#id4-0-0\");\n",
              "//# sourceURL=js_caa882683e"
            ],
            "text/plain": [
              "<IPython.core.display.Javascript object>"
            ]
          },
          "metadata": {
            "tags": [
              "id4-0-0",
              "outputarea_id4"
            ]
          }
        },
        {
          "output_type": "display_data",
          "data": {
            "application/javascript": [
              "window[\"6fc3f722-6648-11e9-94aa-0242ac1c0002\"] = google.colab.output.setActiveOutputArea(window[\"6fc376c6-6648-11e9-94aa-0242ac1c0002\"]);\n",
              "//# sourceURL=js_4c52ec8c00"
            ],
            "text/plain": [
              "<IPython.core.display.Javascript object>"
            ]
          },
          "metadata": {
            "tags": [
              "id4-0-0",
              "outputarea_id4"
            ]
          }
        },
        {
          "output_type": "display_data",
          "data": {
            "application/javascript": [
              "window[\"70c18c3e-6648-11e9-94aa-0242ac1c0002\"] = google.colab.output.setActiveOutputArea(window[\"6fc3077c-6648-11e9-94aa-0242ac1c0002\"]);\n",
              "//# sourceURL=js_0809bbc8f7"
            ],
            "text/plain": [
              "<IPython.core.display.Javascript object>"
            ]
          },
          "metadata": {
            "tags": [
              "id4-0-0",
              "outputarea_id4"
            ]
          }
        },
        {
          "output_type": "display_data",
          "data": {
            "application/javascript": [
              "window[\"70c5d244-6648-11e9-94aa-0242ac1c0002\"] = google.colab.output.getActiveOutputArea();\n",
              "//# sourceURL=js_c43f38b917"
            ],
            "text/plain": [
              "<IPython.core.display.Javascript object>"
            ]
          },
          "metadata": {
            "tags": [
              "id4-0-0",
              "outputarea_id4"
            ]
          }
        },
        {
          "output_type": "display_data",
          "data": {
            "application/javascript": [
              "window[\"70c6370c-6648-11e9-94aa-0242ac1c0002\"] = document.querySelector(\"#id4-0-0\");\n",
              "//# sourceURL=js_96c9c01e3d"
            ],
            "text/plain": [
              "<IPython.core.display.Javascript object>"
            ]
          },
          "metadata": {
            "tags": [
              "id4-0-0",
              "outputarea_id4"
            ]
          }
        },
        {
          "output_type": "display_data",
          "data": {
            "application/javascript": [
              "window[\"70c695bc-6648-11e9-94aa-0242ac1c0002\"] = google.colab.output.setActiveOutputArea(window[\"70c6370c-6648-11e9-94aa-0242ac1c0002\"]);\n",
              "//# sourceURL=js_95d5c1f436"
            ],
            "text/plain": [
              "<IPython.core.display.Javascript object>"
            ]
          },
          "metadata": {
            "tags": [
              "id4-0-0",
              "outputarea_id4"
            ]
          }
        },
        {
          "output_type": "display_data",
          "data": {
            "application/javascript": [
              "window[\"71c875c0-6648-11e9-94aa-0242ac1c0002\"] = google.colab.output.setActiveOutputArea(window[\"70c5d244-6648-11e9-94aa-0242ac1c0002\"]);\n",
              "//# sourceURL=js_4d76bb1c65"
            ],
            "text/plain": [
              "<IPython.core.display.Javascript object>"
            ]
          },
          "metadata": {
            "tags": [
              "id4-0-0",
              "outputarea_id4"
            ]
          }
        },
        {
          "output_type": "display_data",
          "data": {
            "application/javascript": [
              "window[\"71cd57c0-6648-11e9-94aa-0242ac1c0002\"] = google.colab.output.getActiveOutputArea();\n",
              "//# sourceURL=js_9bdb4f273d"
            ],
            "text/plain": [
              "<IPython.core.display.Javascript object>"
            ]
          },
          "metadata": {
            "tags": [
              "id4-0-0",
              "outputarea_id4"
            ]
          }
        },
        {
          "output_type": "display_data",
          "data": {
            "application/javascript": [
              "window[\"71ce03f0-6648-11e9-94aa-0242ac1c0002\"] = document.querySelector(\"#id4-0-0\");\n",
              "//# sourceURL=js_d236cb8298"
            ],
            "text/plain": [
              "<IPython.core.display.Javascript object>"
            ]
          },
          "metadata": {
            "tags": [
              "id4-0-0",
              "outputarea_id4"
            ]
          }
        },
        {
          "output_type": "display_data",
          "data": {
            "application/javascript": [
              "window[\"71ce9d92-6648-11e9-94aa-0242ac1c0002\"] = google.colab.output.setActiveOutputArea(window[\"71ce03f0-6648-11e9-94aa-0242ac1c0002\"]);\n",
              "//# sourceURL=js_2bfe7c7dab"
            ],
            "text/plain": [
              "<IPython.core.display.Javascript object>"
            ]
          },
          "metadata": {
            "tags": [
              "id4-0-0",
              "outputarea_id4"
            ]
          }
        },
        {
          "output_type": "display_data",
          "data": {
            "application/javascript": [
              "window[\"72d74e82-6648-11e9-94aa-0242ac1c0002\"] = google.colab.output.setActiveOutputArea(window[\"71cd57c0-6648-11e9-94aa-0242ac1c0002\"]);\n",
              "//# sourceURL=js_bdadcea25e"
            ],
            "text/plain": [
              "<IPython.core.display.Javascript object>"
            ]
          },
          "metadata": {
            "tags": [
              "id4-0-0",
              "outputarea_id4"
            ]
          }
        },
        {
          "output_type": "display_data",
          "data": {
            "application/javascript": [
              "window[\"72dbd8da-6648-11e9-94aa-0242ac1c0002\"] = google.colab.output.getActiveOutputArea();\n",
              "//# sourceURL=js_5f32495e53"
            ],
            "text/plain": [
              "<IPython.core.display.Javascript object>"
            ]
          },
          "metadata": {
            "tags": [
              "id4-0-0",
              "outputarea_id4"
            ]
          }
        },
        {
          "output_type": "display_data",
          "data": {
            "application/javascript": [
              "window[\"72dc3a0a-6648-11e9-94aa-0242ac1c0002\"] = document.querySelector(\"#id4-0-0\");\n",
              "//# sourceURL=js_a20546e9d1"
            ],
            "text/plain": [
              "<IPython.core.display.Javascript object>"
            ]
          },
          "metadata": {
            "tags": [
              "id4-0-0",
              "outputarea_id4"
            ]
          }
        },
        {
          "output_type": "display_data",
          "data": {
            "application/javascript": [
              "window[\"72dcaa30-6648-11e9-94aa-0242ac1c0002\"] = google.colab.output.setActiveOutputArea(window[\"72dc3a0a-6648-11e9-94aa-0242ac1c0002\"]);\n",
              "//# sourceURL=js_99894f5a7e"
            ],
            "text/plain": [
              "<IPython.core.display.Javascript object>"
            ]
          },
          "metadata": {
            "tags": [
              "id4-0-0",
              "outputarea_id4"
            ]
          }
        },
        {
          "output_type": "display_data",
          "data": {
            "application/javascript": [
              "window[\"73f11668-6648-11e9-94aa-0242ac1c0002\"] = google.colab.output.setActiveOutputArea(window[\"72dbd8da-6648-11e9-94aa-0242ac1c0002\"]);\n",
              "//# sourceURL=js_d00cb12c36"
            ],
            "text/plain": [
              "<IPython.core.display.Javascript object>"
            ]
          },
          "metadata": {
            "tags": [
              "id4-0-0",
              "outputarea_id4"
            ]
          }
        },
        {
          "output_type": "display_data",
          "data": {
            "application/javascript": [
              "window[\"73f4f120-6648-11e9-94aa-0242ac1c0002\"] = google.colab.output.getActiveOutputArea();\n",
              "//# sourceURL=js_00e3372c01"
            ],
            "text/plain": [
              "<IPython.core.display.Javascript object>"
            ]
          },
          "metadata": {
            "tags": [
              "id4-0-0",
              "outputarea_id4"
            ]
          }
        },
        {
          "output_type": "display_data",
          "data": {
            "application/javascript": [
              "window[\"73f536ee-6648-11e9-94aa-0242ac1c0002\"] = document.querySelector(\"#id4-0-0\");\n",
              "//# sourceURL=js_857034eb63"
            ],
            "text/plain": [
              "<IPython.core.display.Javascript object>"
            ]
          },
          "metadata": {
            "tags": [
              "id4-0-0",
              "outputarea_id4"
            ]
          }
        },
        {
          "output_type": "display_data",
          "data": {
            "application/javascript": [
              "window[\"73f59260-6648-11e9-94aa-0242ac1c0002\"] = google.colab.output.setActiveOutputArea(window[\"73f536ee-6648-11e9-94aa-0242ac1c0002\"]);\n",
              "//# sourceURL=js_53a3671fab"
            ],
            "text/plain": [
              "<IPython.core.display.Javascript object>"
            ]
          },
          "metadata": {
            "tags": [
              "id4-0-0",
              "outputarea_id4"
            ]
          }
        },
        {
          "output_type": "display_data",
          "data": {
            "application/javascript": [
              "window[\"7506327c-6648-11e9-94aa-0242ac1c0002\"] = google.colab.output.setActiveOutputArea(window[\"73f4f120-6648-11e9-94aa-0242ac1c0002\"]);\n",
              "//# sourceURL=js_f0e7c888e6"
            ],
            "text/plain": [
              "<IPython.core.display.Javascript object>"
            ]
          },
          "metadata": {
            "tags": [
              "id4-0-0",
              "outputarea_id4"
            ]
          }
        },
        {
          "output_type": "display_data",
          "data": {
            "application/javascript": [
              "window[\"750a281e-6648-11e9-94aa-0242ac1c0002\"] = google.colab.output.getActiveOutputArea();\n",
              "//# sourceURL=js_bc64ec5d0c"
            ],
            "text/plain": [
              "<IPython.core.display.Javascript object>"
            ]
          },
          "metadata": {
            "tags": [
              "id4-0-0",
              "outputarea_id4"
            ]
          }
        },
        {
          "output_type": "display_data",
          "data": {
            "application/javascript": [
              "window[\"750aaed8-6648-11e9-94aa-0242ac1c0002\"] = document.querySelector(\"#id4-0-0\");\n",
              "//# sourceURL=js_3cf5d9a328"
            ],
            "text/plain": [
              "<IPython.core.display.Javascript object>"
            ]
          },
          "metadata": {
            "tags": [
              "id4-0-0",
              "outputarea_id4"
            ]
          }
        },
        {
          "output_type": "display_data",
          "data": {
            "application/javascript": [
              "window[\"750b3fba-6648-11e9-94aa-0242ac1c0002\"] = google.colab.output.setActiveOutputArea(window[\"750aaed8-6648-11e9-94aa-0242ac1c0002\"]);\n",
              "//# sourceURL=js_5785ff389f"
            ],
            "text/plain": [
              "<IPython.core.display.Javascript object>"
            ]
          },
          "metadata": {
            "tags": [
              "id4-0-0",
              "outputarea_id4"
            ]
          }
        },
        {
          "output_type": "display_data",
          "data": {
            "application/javascript": [
              "window[\"760aafb8-6648-11e9-94aa-0242ac1c0002\"] = google.colab.output.setActiveOutputArea(window[\"750a281e-6648-11e9-94aa-0242ac1c0002\"]);\n",
              "//# sourceURL=js_2e1115dace"
            ],
            "text/plain": [
              "<IPython.core.display.Javascript object>"
            ]
          },
          "metadata": {
            "tags": [
              "id4-0-0",
              "outputarea_id4"
            ]
          }
        },
        {
          "output_type": "display_data",
          "data": {
            "application/javascript": [
              "window[\"760f2fd4-6648-11e9-94aa-0242ac1c0002\"] = google.colab.output.getActiveOutputArea();\n",
              "//# sourceURL=js_5af4396571"
            ],
            "text/plain": [
              "<IPython.core.display.Javascript object>"
            ]
          },
          "metadata": {
            "tags": [
              "id4-0-0",
              "outputarea_id4"
            ]
          }
        },
        {
          "output_type": "display_data",
          "data": {
            "application/javascript": [
              "window[\"760fb3a0-6648-11e9-94aa-0242ac1c0002\"] = document.querySelector(\"#id4-0-0\");\n",
              "//# sourceURL=js_26867c4240"
            ],
            "text/plain": [
              "<IPython.core.display.Javascript object>"
            ]
          },
          "metadata": {
            "tags": [
              "id4-0-0",
              "outputarea_id4"
            ]
          }
        },
        {
          "output_type": "display_data",
          "data": {
            "application/javascript": [
              "window[\"760ffd42-6648-11e9-94aa-0242ac1c0002\"] = google.colab.output.setActiveOutputArea(window[\"760fb3a0-6648-11e9-94aa-0242ac1c0002\"]);\n",
              "//# sourceURL=js_3d83544c10"
            ],
            "text/plain": [
              "<IPython.core.display.Javascript object>"
            ]
          },
          "metadata": {
            "tags": [
              "id4-0-0",
              "outputarea_id4"
            ]
          }
        },
        {
          "output_type": "display_data",
          "data": {
            "application/javascript": [
              "window[\"7710e738-6648-11e9-94aa-0242ac1c0002\"] = google.colab.output.setActiveOutputArea(window[\"760f2fd4-6648-11e9-94aa-0242ac1c0002\"]);\n",
              "//# sourceURL=js_5e0036ae54"
            ],
            "text/plain": [
              "<IPython.core.display.Javascript object>"
            ]
          },
          "metadata": {
            "tags": [
              "id4-0-0",
              "outputarea_id4"
            ]
          }
        },
        {
          "output_type": "display_data",
          "data": {
            "application/javascript": [
              "window[\"7714d104-6648-11e9-94aa-0242ac1c0002\"] = google.colab.output.getActiveOutputArea();\n",
              "//# sourceURL=js_cc4a82c73d"
            ],
            "text/plain": [
              "<IPython.core.display.Javascript object>"
            ]
          },
          "metadata": {
            "tags": [
              "id4-0-0",
              "outputarea_id4"
            ]
          }
        },
        {
          "output_type": "display_data",
          "data": {
            "application/javascript": [
              "window[\"77152afa-6648-11e9-94aa-0242ac1c0002\"] = document.querySelector(\"#id4-0-0\");\n",
              "//# sourceURL=js_5be9941daf"
            ],
            "text/plain": [
              "<IPython.core.display.Javascript object>"
            ]
          },
          "metadata": {
            "tags": [
              "id4-0-0",
              "outputarea_id4"
            ]
          }
        },
        {
          "output_type": "display_data",
          "data": {
            "application/javascript": [
              "window[\"77158f0e-6648-11e9-94aa-0242ac1c0002\"] = google.colab.output.setActiveOutputArea(window[\"77152afa-6648-11e9-94aa-0242ac1c0002\"]);\n",
              "//# sourceURL=js_27678f313a"
            ],
            "text/plain": [
              "<IPython.core.display.Javascript object>"
            ]
          },
          "metadata": {
            "tags": [
              "id4-0-0",
              "outputarea_id4"
            ]
          }
        },
        {
          "output_type": "display_data",
          "data": {
            "application/javascript": [
              "window[\"7818abde-6648-11e9-94aa-0242ac1c0002\"] = google.colab.output.setActiveOutputArea(window[\"7714d104-6648-11e9-94aa-0242ac1c0002\"]);\n",
              "//# sourceURL=js_a3a9bf4555"
            ],
            "text/plain": [
              "<IPython.core.display.Javascript object>"
            ]
          },
          "metadata": {
            "tags": [
              "id4-0-0",
              "outputarea_id4"
            ]
          }
        },
        {
          "output_type": "display_data",
          "data": {
            "application/javascript": [
              "window[\"781d5184-6648-11e9-94aa-0242ac1c0002\"] = google.colab.output.getActiveOutputArea();\n",
              "//# sourceURL=js_2489404aff"
            ],
            "text/plain": [
              "<IPython.core.display.Javascript object>"
            ]
          },
          "metadata": {
            "tags": [
              "id4-0-0",
              "outputarea_id4"
            ]
          }
        },
        {
          "output_type": "display_data",
          "data": {
            "application/javascript": [
              "window[\"781da3d2-6648-11e9-94aa-0242ac1c0002\"] = document.querySelector(\"#id4-0-0\");\n",
              "//# sourceURL=js_83f468c712"
            ],
            "text/plain": [
              "<IPython.core.display.Javascript object>"
            ]
          },
          "metadata": {
            "tags": [
              "id4-0-0",
              "outputarea_id4"
            ]
          }
        },
        {
          "output_type": "display_data",
          "data": {
            "application/javascript": [
              "window[\"781dfecc-6648-11e9-94aa-0242ac1c0002\"] = google.colab.output.setActiveOutputArea(window[\"781da3d2-6648-11e9-94aa-0242ac1c0002\"]);\n",
              "//# sourceURL=js_e14e0f96da"
            ],
            "text/plain": [
              "<IPython.core.display.Javascript object>"
            ]
          },
          "metadata": {
            "tags": [
              "id4-0-0",
              "outputarea_id4"
            ]
          }
        },
        {
          "output_type": "display_data",
          "data": {
            "application/javascript": [
              "window[\"791c4f0e-6648-11e9-94aa-0242ac1c0002\"] = google.colab.output.setActiveOutputArea(window[\"781d5184-6648-11e9-94aa-0242ac1c0002\"]);\n",
              "//# sourceURL=js_2c039d61d9"
            ],
            "text/plain": [
              "<IPython.core.display.Javascript object>"
            ]
          },
          "metadata": {
            "tags": [
              "id4-0-0",
              "outputarea_id4"
            ]
          }
        },
        {
          "output_type": "display_data",
          "data": {
            "application/javascript": [
              "window[\"791fd44e-6648-11e9-94aa-0242ac1c0002\"] = google.colab.output.getActiveOutputArea();\n",
              "//# sourceURL=js_c2400930c3"
            ],
            "text/plain": [
              "<IPython.core.display.Javascript object>"
            ]
          },
          "metadata": {
            "tags": [
              "id4-0-0",
              "outputarea_id4"
            ]
          }
        },
        {
          "output_type": "display_data",
          "data": {
            "application/javascript": [
              "window[\"79202034-6648-11e9-94aa-0242ac1c0002\"] = document.querySelector(\"#id4-0-0\");\n",
              "//# sourceURL=js_ebc49ea7cf"
            ],
            "text/plain": [
              "<IPython.core.display.Javascript object>"
            ]
          },
          "metadata": {
            "tags": [
              "id4-0-0",
              "outputarea_id4"
            ]
          }
        },
        {
          "output_type": "display_data",
          "data": {
            "application/javascript": [
              "window[\"792066d4-6648-11e9-94aa-0242ac1c0002\"] = google.colab.output.setActiveOutputArea(window[\"79202034-6648-11e9-94aa-0242ac1c0002\"]);\n",
              "//# sourceURL=js_52536a97fc"
            ],
            "text/plain": [
              "<IPython.core.display.Javascript object>"
            ]
          },
          "metadata": {
            "tags": [
              "id4-0-0",
              "outputarea_id4"
            ]
          }
        },
        {
          "output_type": "display_data",
          "data": {
            "application/javascript": [
              "window[\"7a1fd5ec-6648-11e9-94aa-0242ac1c0002\"] = google.colab.output.setActiveOutputArea(window[\"791fd44e-6648-11e9-94aa-0242ac1c0002\"]);\n",
              "//# sourceURL=js_57b66d7694"
            ],
            "text/plain": [
              "<IPython.core.display.Javascript object>"
            ]
          },
          "metadata": {
            "tags": [
              "id4-0-0",
              "outputarea_id4"
            ]
          }
        },
        {
          "output_type": "display_data",
          "data": {
            "application/javascript": [
              "window[\"7a23e650-6648-11e9-94aa-0242ac1c0002\"] = google.colab.output.getActiveOutputArea();\n",
              "//# sourceURL=js_b91ce642e2"
            ],
            "text/plain": [
              "<IPython.core.display.Javascript object>"
            ]
          },
          "metadata": {
            "tags": [
              "id4-0-0",
              "outputarea_id4"
            ]
          }
        },
        {
          "output_type": "display_data",
          "data": {
            "application/javascript": [
              "window[\"7a245284-6648-11e9-94aa-0242ac1c0002\"] = document.querySelector(\"#id4-0-0\");\n",
              "//# sourceURL=js_fdf261d92c"
            ],
            "text/plain": [
              "<IPython.core.display.Javascript object>"
            ]
          },
          "metadata": {
            "tags": [
              "id4-0-0",
              "outputarea_id4"
            ]
          }
        },
        {
          "output_type": "display_data",
          "data": {
            "application/javascript": [
              "window[\"7a2491c2-6648-11e9-94aa-0242ac1c0002\"] = google.colab.output.setActiveOutputArea(window[\"7a245284-6648-11e9-94aa-0242ac1c0002\"]);\n",
              "//# sourceURL=js_57b7671bb5"
            ],
            "text/plain": [
              "<IPython.core.display.Javascript object>"
            ]
          },
          "metadata": {
            "tags": [
              "id4-0-0",
              "outputarea_id4"
            ]
          }
        },
        {
          "output_type": "display_data",
          "data": {
            "application/javascript": [
              "window[\"7b357464-6648-11e9-94aa-0242ac1c0002\"] = google.colab.output.setActiveOutputArea(window[\"7a23e650-6648-11e9-94aa-0242ac1c0002\"]);\n",
              "//# sourceURL=js_dbb08e3d07"
            ],
            "text/plain": [
              "<IPython.core.display.Javascript object>"
            ]
          },
          "metadata": {
            "tags": [
              "id4-0-0",
              "outputarea_id4"
            ]
          }
        },
        {
          "output_type": "display_data",
          "data": {
            "application/javascript": [
              "window[\"7b395912-6648-11e9-94aa-0242ac1c0002\"] = google.colab.output.getActiveOutputArea();\n",
              "//# sourceURL=js_8803978820"
            ],
            "text/plain": [
              "<IPython.core.display.Javascript object>"
            ]
          },
          "metadata": {
            "tags": [
              "id4-0-0",
              "outputarea_id4"
            ]
          }
        },
        {
          "output_type": "display_data",
          "data": {
            "application/javascript": [
              "window[\"7b39bb0a-6648-11e9-94aa-0242ac1c0002\"] = document.querySelector(\"#id4-0-0\");\n",
              "//# sourceURL=js_39763b830f"
            ],
            "text/plain": [
              "<IPython.core.display.Javascript object>"
            ]
          },
          "metadata": {
            "tags": [
              "id4-0-0",
              "outputarea_id4"
            ]
          }
        },
        {
          "output_type": "display_data",
          "data": {
            "application/javascript": [
              "window[\"7b3a0024-6648-11e9-94aa-0242ac1c0002\"] = google.colab.output.setActiveOutputArea(window[\"7b39bb0a-6648-11e9-94aa-0242ac1c0002\"]);\n",
              "//# sourceURL=js_7399316b30"
            ],
            "text/plain": [
              "<IPython.core.display.Javascript object>"
            ]
          },
          "metadata": {
            "tags": [
              "id4-0-0",
              "outputarea_id4"
            ]
          }
        },
        {
          "output_type": "display_data",
          "data": {
            "application/javascript": [
              "window[\"7c51b290-6648-11e9-94aa-0242ac1c0002\"] = google.colab.output.setActiveOutputArea(window[\"7b395912-6648-11e9-94aa-0242ac1c0002\"]);\n",
              "//# sourceURL=js_204637ed0f"
            ],
            "text/plain": [
              "<IPython.core.display.Javascript object>"
            ]
          },
          "metadata": {
            "tags": [
              "id4-0-0",
              "outputarea_id4"
            ]
          }
        },
        {
          "output_type": "display_data",
          "data": {
            "application/javascript": [
              "window[\"7c570e0c-6648-11e9-94aa-0242ac1c0002\"] = google.colab.output.getActiveOutputArea();\n",
              "//# sourceURL=js_66e9ea12fc"
            ],
            "text/plain": [
              "<IPython.core.display.Javascript object>"
            ]
          },
          "metadata": {
            "tags": [
              "id4-0-0",
              "outputarea_id4"
            ]
          }
        },
        {
          "output_type": "display_data",
          "data": {
            "application/javascript": [
              "window[\"7c575cf4-6648-11e9-94aa-0242ac1c0002\"] = document.querySelector(\"#id4-0-0\");\n",
              "//# sourceURL=js_08f8ed221d"
            ],
            "text/plain": [
              "<IPython.core.display.Javascript object>"
            ]
          },
          "metadata": {
            "tags": [
              "id4-0-0",
              "outputarea_id4"
            ]
          }
        },
        {
          "output_type": "display_data",
          "data": {
            "application/javascript": [
              "window[\"7c57af06-6648-11e9-94aa-0242ac1c0002\"] = google.colab.output.setActiveOutputArea(window[\"7c575cf4-6648-11e9-94aa-0242ac1c0002\"]);\n",
              "//# sourceURL=js_c640992571"
            ],
            "text/plain": [
              "<IPython.core.display.Javascript object>"
            ]
          },
          "metadata": {
            "tags": [
              "id4-0-0",
              "outputarea_id4"
            ]
          }
        },
        {
          "output_type": "display_data",
          "data": {
            "application/javascript": [
              "window[\"7d565826-6648-11e9-94aa-0242ac1c0002\"] = google.colab.output.setActiveOutputArea(window[\"7c570e0c-6648-11e9-94aa-0242ac1c0002\"]);\n",
              "//# sourceURL=js_10fb47cc74"
            ],
            "text/plain": [
              "<IPython.core.display.Javascript object>"
            ]
          },
          "metadata": {
            "tags": [
              "id4-0-0",
              "outputarea_id4"
            ]
          }
        },
        {
          "output_type": "display_data",
          "data": {
            "application/javascript": [
              "window[\"7d5a8554-6648-11e9-94aa-0242ac1c0002\"] = google.colab.output.getActiveOutputArea();\n",
              "//# sourceURL=js_f8f2466bfe"
            ],
            "text/plain": [
              "<IPython.core.display.Javascript object>"
            ]
          },
          "metadata": {
            "tags": [
              "id4-0-0",
              "outputarea_id4"
            ]
          }
        },
        {
          "output_type": "display_data",
          "data": {
            "application/javascript": [
              "window[\"7d5afee4-6648-11e9-94aa-0242ac1c0002\"] = document.querySelector(\"#id4-0-0\");\n",
              "//# sourceURL=js_f3d335a9be"
            ],
            "text/plain": [
              "<IPython.core.display.Javascript object>"
            ]
          },
          "metadata": {
            "tags": [
              "id4-0-0",
              "outputarea_id4"
            ]
          }
        },
        {
          "output_type": "display_data",
          "data": {
            "application/javascript": [
              "window[\"7d5b966a-6648-11e9-94aa-0242ac1c0002\"] = google.colab.output.setActiveOutputArea(window[\"7d5afee4-6648-11e9-94aa-0242ac1c0002\"]);\n",
              "//# sourceURL=js_f209c6f0f7"
            ],
            "text/plain": [
              "<IPython.core.display.Javascript object>"
            ]
          },
          "metadata": {
            "tags": [
              "id4-0-0",
              "outputarea_id4"
            ]
          }
        },
        {
          "output_type": "display_data",
          "data": {
            "application/javascript": [
              "window[\"7e590c5a-6648-11e9-94aa-0242ac1c0002\"] = google.colab.output.setActiveOutputArea(window[\"7d5a8554-6648-11e9-94aa-0242ac1c0002\"]);\n",
              "//# sourceURL=js_771e63e1bb"
            ],
            "text/plain": [
              "<IPython.core.display.Javascript object>"
            ]
          },
          "metadata": {
            "tags": [
              "id4-0-0",
              "outputarea_id4"
            ]
          }
        },
        {
          "output_type": "display_data",
          "data": {
            "application/javascript": [
              "window[\"7e5d42de-6648-11e9-94aa-0242ac1c0002\"] = google.colab.output.getActiveOutputArea();\n",
              "//# sourceURL=js_d5263e0b5a"
            ],
            "text/plain": [
              "<IPython.core.display.Javascript object>"
            ]
          },
          "metadata": {
            "tags": [
              "id4-0-0",
              "outputarea_id4"
            ]
          }
        },
        {
          "output_type": "display_data",
          "data": {
            "application/javascript": [
              "window[\"7e5da396-6648-11e9-94aa-0242ac1c0002\"] = document.querySelector(\"#id4-0-0\");\n",
              "//# sourceURL=js_4a22a07b5f"
            ],
            "text/plain": [
              "<IPython.core.display.Javascript object>"
            ]
          },
          "metadata": {
            "tags": [
              "id4-0-0",
              "outputarea_id4"
            ]
          }
        },
        {
          "output_type": "display_data",
          "data": {
            "application/javascript": [
              "window[\"7e5dfe7c-6648-11e9-94aa-0242ac1c0002\"] = google.colab.output.setActiveOutputArea(window[\"7e5da396-6648-11e9-94aa-0242ac1c0002\"]);\n",
              "//# sourceURL=js_8e0ec810f3"
            ],
            "text/plain": [
              "<IPython.core.display.Javascript object>"
            ]
          },
          "metadata": {
            "tags": [
              "id4-0-0",
              "outputarea_id4"
            ]
          }
        },
        {
          "output_type": "display_data",
          "data": {
            "application/javascript": [
              "window[\"7f5d2186-6648-11e9-94aa-0242ac1c0002\"] = google.colab.output.setActiveOutputArea(window[\"7e5d42de-6648-11e9-94aa-0242ac1c0002\"]);\n",
              "//# sourceURL=js_e08a32ef1a"
            ],
            "text/plain": [
              "<IPython.core.display.Javascript object>"
            ]
          },
          "metadata": {
            "tags": [
              "id4-0-0",
              "outputarea_id4"
            ]
          }
        },
        {
          "output_type": "display_data",
          "data": {
            "application/javascript": [
              "window[\"7f6147a2-6648-11e9-94aa-0242ac1c0002\"] = google.colab.output.getActiveOutputArea();\n",
              "//# sourceURL=js_5c25f63661"
            ],
            "text/plain": [
              "<IPython.core.display.Javascript object>"
            ]
          },
          "metadata": {
            "tags": [
              "id4-0-0",
              "outputarea_id4"
            ]
          }
        },
        {
          "output_type": "display_data",
          "data": {
            "application/javascript": [
              "window[\"7f61b796-6648-11e9-94aa-0242ac1c0002\"] = document.querySelector(\"#id4-0-0\");\n",
              "//# sourceURL=js_207e3fdf34"
            ],
            "text/plain": [
              "<IPython.core.display.Javascript object>"
            ]
          },
          "metadata": {
            "tags": [
              "id4-0-0",
              "outputarea_id4"
            ]
          }
        },
        {
          "output_type": "display_data",
          "data": {
            "application/javascript": [
              "window[\"7f621074-6648-11e9-94aa-0242ac1c0002\"] = google.colab.output.setActiveOutputArea(window[\"7f61b796-6648-11e9-94aa-0242ac1c0002\"]);\n",
              "//# sourceURL=js_d7abe91740"
            ],
            "text/plain": [
              "<IPython.core.display.Javascript object>"
            ]
          },
          "metadata": {
            "tags": [
              "id4-0-0",
              "outputarea_id4"
            ]
          }
        },
        {
          "output_type": "display_data",
          "data": {
            "application/javascript": [
              "window[\"807223be-6648-11e9-94aa-0242ac1c0002\"] = google.colab.output.setActiveOutputArea(window[\"7f6147a2-6648-11e9-94aa-0242ac1c0002\"]);\n",
              "//# sourceURL=js_92a320e9b6"
            ],
            "text/plain": [
              "<IPython.core.display.Javascript object>"
            ]
          },
          "metadata": {
            "tags": [
              "id4-0-0",
              "outputarea_id4"
            ]
          }
        },
        {
          "output_type": "display_data",
          "data": {
            "application/javascript": [
              "window[\"8075c1fe-6648-11e9-94aa-0242ac1c0002\"] = google.colab.output.getActiveOutputArea();\n",
              "//# sourceURL=js_3e1e9e400c"
            ],
            "text/plain": [
              "<IPython.core.display.Javascript object>"
            ]
          },
          "metadata": {
            "tags": [
              "id4-0-0",
              "outputarea_id4"
            ]
          }
        },
        {
          "output_type": "display_data",
          "data": {
            "application/javascript": [
              "window[\"807613f2-6648-11e9-94aa-0242ac1c0002\"] = document.querySelector(\"#id4-0-0\");\n",
              "//# sourceURL=js_9fade49175"
            ],
            "text/plain": [
              "<IPython.core.display.Javascript object>"
            ]
          },
          "metadata": {
            "tags": [
              "id4-0-0",
              "outputarea_id4"
            ]
          }
        },
        {
          "output_type": "display_data",
          "data": {
            "application/javascript": [
              "window[\"80766190-6648-11e9-94aa-0242ac1c0002\"] = google.colab.output.setActiveOutputArea(window[\"807613f2-6648-11e9-94aa-0242ac1c0002\"]);\n",
              "//# sourceURL=js_cd88f211cf"
            ],
            "text/plain": [
              "<IPython.core.display.Javascript object>"
            ]
          },
          "metadata": {
            "tags": [
              "id4-0-0",
              "outputarea_id4"
            ]
          }
        },
        {
          "output_type": "display_data",
          "data": {
            "application/javascript": [
              "window[\"8176de08-6648-11e9-94aa-0242ac1c0002\"] = google.colab.output.setActiveOutputArea(window[\"8075c1fe-6648-11e9-94aa-0242ac1c0002\"]);\n",
              "//# sourceURL=js_e24dde81fd"
            ],
            "text/plain": [
              "<IPython.core.display.Javascript object>"
            ]
          },
          "metadata": {
            "tags": [
              "id4-0-0",
              "outputarea_id4"
            ]
          }
        },
        {
          "output_type": "display_data",
          "data": {
            "application/javascript": [
              "window[\"817b186a-6648-11e9-94aa-0242ac1c0002\"] = google.colab.output.getActiveOutputArea();\n",
              "//# sourceURL=js_5a89815a9c"
            ],
            "text/plain": [
              "<IPython.core.display.Javascript object>"
            ]
          },
          "metadata": {
            "tags": [
              "id4-0-0",
              "outputarea_id4"
            ]
          }
        },
        {
          "output_type": "display_data",
          "data": {
            "application/javascript": [
              "window[\"817b9aa6-6648-11e9-94aa-0242ac1c0002\"] = document.querySelector(\"#id4-0-0\");\n",
              "//# sourceURL=js_488896363c"
            ],
            "text/plain": [
              "<IPython.core.display.Javascript object>"
            ]
          },
          "metadata": {
            "tags": [
              "id4-0-0",
              "outputarea_id4"
            ]
          }
        },
        {
          "output_type": "display_data",
          "data": {
            "application/javascript": [
              "window[\"817bfc12-6648-11e9-94aa-0242ac1c0002\"] = google.colab.output.setActiveOutputArea(window[\"817b9aa6-6648-11e9-94aa-0242ac1c0002\"]);\n",
              "//# sourceURL=js_4afb2b69ec"
            ],
            "text/plain": [
              "<IPython.core.display.Javascript object>"
            ]
          },
          "metadata": {
            "tags": [
              "id4-0-0",
              "outputarea_id4"
            ]
          }
        },
        {
          "output_type": "display_data",
          "data": {
            "application/javascript": [
              "window[\"827c74ca-6648-11e9-94aa-0242ac1c0002\"] = google.colab.output.setActiveOutputArea(window[\"817b186a-6648-11e9-94aa-0242ac1c0002\"]);\n",
              "//# sourceURL=js_51565147bd"
            ],
            "text/plain": [
              "<IPython.core.display.Javascript object>"
            ]
          },
          "metadata": {
            "tags": [
              "id4-0-0",
              "outputarea_id4"
            ]
          }
        },
        {
          "output_type": "display_data",
          "data": {
            "application/javascript": [
              "window[\"8280b684-6648-11e9-94aa-0242ac1c0002\"] = google.colab.output.getActiveOutputArea();\n",
              "//# sourceURL=js_3975a1e519"
            ],
            "text/plain": [
              "<IPython.core.display.Javascript object>"
            ]
          },
          "metadata": {
            "tags": [
              "id4-0-0",
              "outputarea_id4"
            ]
          }
        },
        {
          "output_type": "display_data",
          "data": {
            "application/javascript": [
              "window[\"828120ba-6648-11e9-94aa-0242ac1c0002\"] = document.querySelector(\"#id4-0-0\");\n",
              "//# sourceURL=js_dde9b17a75"
            ],
            "text/plain": [
              "<IPython.core.display.Javascript object>"
            ]
          },
          "metadata": {
            "tags": [
              "id4-0-0",
              "outputarea_id4"
            ]
          }
        },
        {
          "output_type": "display_data",
          "data": {
            "application/javascript": [
              "window[\"8281986a-6648-11e9-94aa-0242ac1c0002\"] = google.colab.output.setActiveOutputArea(window[\"828120ba-6648-11e9-94aa-0242ac1c0002\"]);\n",
              "//# sourceURL=js_ce6846b4ff"
            ],
            "text/plain": [
              "<IPython.core.display.Javascript object>"
            ]
          },
          "metadata": {
            "tags": [
              "id4-0-0",
              "outputarea_id4"
            ]
          }
        },
        {
          "output_type": "display_data",
          "data": {
            "application/javascript": [
              "window[\"84374eca-6648-11e9-94aa-0242ac1c0002\"] = google.colab.output.setActiveOutputArea(window[\"8280b684-6648-11e9-94aa-0242ac1c0002\"]);\n",
              "//# sourceURL=js_058ccad1a6"
            ],
            "text/plain": [
              "<IPython.core.display.Javascript object>"
            ]
          },
          "metadata": {
            "tags": [
              "id4-0-0",
              "outputarea_id4"
            ]
          }
        },
        {
          "output_type": "display_data",
          "data": {
            "application/javascript": [
              "window[\"843c5a82-6648-11e9-94aa-0242ac1c0002\"] = google.colab.output.getActiveOutputArea();\n",
              "//# sourceURL=js_b787bc34cd"
            ],
            "text/plain": [
              "<IPython.core.display.Javascript object>"
            ]
          },
          "metadata": {
            "tags": [
              "id4-0-0",
              "outputarea_id4"
            ]
          }
        },
        {
          "output_type": "display_data",
          "data": {
            "application/javascript": [
              "window[\"843d8f9c-6648-11e9-94aa-0242ac1c0002\"] = document.querySelector(\"#id4-0-0\");\n",
              "//# sourceURL=js_bea23d89f3"
            ],
            "text/plain": [
              "<IPython.core.display.Javascript object>"
            ]
          },
          "metadata": {
            "tags": [
              "id4-0-0",
              "outputarea_id4"
            ]
          }
        },
        {
          "output_type": "display_data",
          "data": {
            "application/javascript": [
              "window[\"843e36b8-6648-11e9-94aa-0242ac1c0002\"] = google.colab.output.setActiveOutputArea(window[\"843d8f9c-6648-11e9-94aa-0242ac1c0002\"]);\n",
              "//# sourceURL=js_88c6269689"
            ],
            "text/plain": [
              "<IPython.core.display.Javascript object>"
            ]
          },
          "metadata": {
            "tags": [
              "id4-0-0",
              "outputarea_id4"
            ]
          }
        },
        {
          "output_type": "display_data",
          "data": {
            "application/javascript": [
              "window[\"8540a88e-6648-11e9-94aa-0242ac1c0002\"] = google.colab.output.setActiveOutputArea(window[\"843c5a82-6648-11e9-94aa-0242ac1c0002\"]);\n",
              "//# sourceURL=js_4a601e582b"
            ],
            "text/plain": [
              "<IPython.core.display.Javascript object>"
            ]
          },
          "metadata": {
            "tags": [
              "id4-0-0",
              "outputarea_id4"
            ]
          }
        },
        {
          "output_type": "display_data",
          "data": {
            "application/javascript": [
              "window[\"8544ac5e-6648-11e9-94aa-0242ac1c0002\"] = google.colab.output.getActiveOutputArea();\n",
              "//# sourceURL=js_c17adaf9f3"
            ],
            "text/plain": [
              "<IPython.core.display.Javascript object>"
            ]
          },
          "metadata": {
            "tags": [
              "id4-0-0",
              "outputarea_id4"
            ]
          }
        },
        {
          "output_type": "display_data",
          "data": {
            "application/javascript": [
              "window[\"8544ffce-6648-11e9-94aa-0242ac1c0002\"] = document.querySelector(\"#id4-0-0\");\n",
              "//# sourceURL=js_480ad2a45a"
            ],
            "text/plain": [
              "<IPython.core.display.Javascript object>"
            ]
          },
          "metadata": {
            "tags": [
              "id4-0-0",
              "outputarea_id4"
            ]
          }
        },
        {
          "output_type": "display_data",
          "data": {
            "application/javascript": [
              "window[\"85454970-6648-11e9-94aa-0242ac1c0002\"] = google.colab.output.setActiveOutputArea(window[\"8544ffce-6648-11e9-94aa-0242ac1c0002\"]);\n",
              "//# sourceURL=js_d8b035a2e0"
            ],
            "text/plain": [
              "<IPython.core.display.Javascript object>"
            ]
          },
          "metadata": {
            "tags": [
              "id4-0-0",
              "outputarea_id4"
            ]
          }
        },
        {
          "output_type": "display_data",
          "data": {
            "application/javascript": [
              "window[\"864864f6-6648-11e9-94aa-0242ac1c0002\"] = google.colab.output.setActiveOutputArea(window[\"8544ac5e-6648-11e9-94aa-0242ac1c0002\"]);\n",
              "//# sourceURL=js_e7f1f62613"
            ],
            "text/plain": [
              "<IPython.core.display.Javascript object>"
            ]
          },
          "metadata": {
            "tags": [
              "id4-0-0",
              "outputarea_id4"
            ]
          }
        },
        {
          "output_type": "display_data",
          "data": {
            "application/javascript": [
              "window[\"864cad54-6648-11e9-94aa-0242ac1c0002\"] = google.colab.output.getActiveOutputArea();\n",
              "//# sourceURL=js_5093dec855"
            ],
            "text/plain": [
              "<IPython.core.display.Javascript object>"
            ]
          },
          "metadata": {
            "tags": [
              "id4-0-0",
              "outputarea_id4"
            ]
          }
        },
        {
          "output_type": "display_data",
          "data": {
            "application/javascript": [
              "window[\"864d674e-6648-11e9-94aa-0242ac1c0002\"] = document.querySelector(\"#id4-0-0\");\n",
              "//# sourceURL=js_c779fd5d1e"
            ],
            "text/plain": [
              "<IPython.core.display.Javascript object>"
            ]
          },
          "metadata": {
            "tags": [
              "id4-0-0",
              "outputarea_id4"
            ]
          }
        },
        {
          "output_type": "display_data",
          "data": {
            "application/javascript": [
              "window[\"864dd9f4-6648-11e9-94aa-0242ac1c0002\"] = google.colab.output.setActiveOutputArea(window[\"864d674e-6648-11e9-94aa-0242ac1c0002\"]);\n",
              "//# sourceURL=js_9e41c32911"
            ],
            "text/plain": [
              "<IPython.core.display.Javascript object>"
            ]
          },
          "metadata": {
            "tags": [
              "id4-0-0",
              "outputarea_id4"
            ]
          }
        },
        {
          "output_type": "display_data",
          "data": {
            "application/javascript": [
              "window[\"875e6a34-6648-11e9-94aa-0242ac1c0002\"] = google.colab.output.setActiveOutputArea(window[\"864cad54-6648-11e9-94aa-0242ac1c0002\"]);\n",
              "//# sourceURL=js_453557bf25"
            ],
            "text/plain": [
              "<IPython.core.display.Javascript object>"
            ]
          },
          "metadata": {
            "tags": [
              "id4-0-0",
              "outputarea_id4"
            ]
          }
        },
        {
          "output_type": "display_data",
          "data": {
            "application/javascript": [
              "window[\"87628574-6648-11e9-94aa-0242ac1c0002\"] = google.colab.output.getActiveOutputArea();\n",
              "//# sourceURL=js_cb7462b64e"
            ],
            "text/plain": [
              "<IPython.core.display.Javascript object>"
            ]
          },
          "metadata": {
            "tags": [
              "id4-0-0",
              "outputarea_id4"
            ]
          }
        },
        {
          "output_type": "display_data",
          "data": {
            "application/javascript": [
              "window[\"8762e8d4-6648-11e9-94aa-0242ac1c0002\"] = document.querySelector(\"#id4-0-0\");\n",
              "//# sourceURL=js_235f6565e4"
            ],
            "text/plain": [
              "<IPython.core.display.Javascript object>"
            ]
          },
          "metadata": {
            "tags": [
              "id4-0-0",
              "outputarea_id4"
            ]
          }
        },
        {
          "output_type": "display_data",
          "data": {
            "application/javascript": [
              "window[\"87634176-6648-11e9-94aa-0242ac1c0002\"] = google.colab.output.setActiveOutputArea(window[\"8762e8d4-6648-11e9-94aa-0242ac1c0002\"]);\n",
              "//# sourceURL=js_0b28221af0"
            ],
            "text/plain": [
              "<IPython.core.display.Javascript object>"
            ]
          },
          "metadata": {
            "tags": [
              "id4-0-0",
              "outputarea_id4"
            ]
          }
        },
        {
          "output_type": "display_data",
          "data": {
            "application/javascript": [
              "window[\"88678b4a-6648-11e9-94aa-0242ac1c0002\"] = google.colab.output.setActiveOutputArea(window[\"87628574-6648-11e9-94aa-0242ac1c0002\"]);\n",
              "//# sourceURL=js_a919ce4a0c"
            ],
            "text/plain": [
              "<IPython.core.display.Javascript object>"
            ]
          },
          "metadata": {
            "tags": [
              "id4-0-0",
              "outputarea_id4"
            ]
          }
        },
        {
          "output_type": "display_data",
          "data": {
            "application/javascript": [
              "window[\"886bae32-6648-11e9-94aa-0242ac1c0002\"] = google.colab.output.getActiveOutputArea();\n",
              "//# sourceURL=js_5cb8363211"
            ],
            "text/plain": [
              "<IPython.core.display.Javascript object>"
            ]
          },
          "metadata": {
            "tags": [
              "id4-0-0",
              "outputarea_id4"
            ]
          }
        },
        {
          "output_type": "display_data",
          "data": {
            "application/javascript": [
              "window[\"886c2b32-6648-11e9-94aa-0242ac1c0002\"] = document.querySelector(\"#id4-0-0\");\n",
              "//# sourceURL=js_9a779fd95c"
            ],
            "text/plain": [
              "<IPython.core.display.Javascript object>"
            ]
          },
          "metadata": {
            "tags": [
              "id4-0-0",
              "outputarea_id4"
            ]
          }
        },
        {
          "output_type": "display_data",
          "data": {
            "application/javascript": [
              "window[\"886c7ed4-6648-11e9-94aa-0242ac1c0002\"] = google.colab.output.setActiveOutputArea(window[\"886c2b32-6648-11e9-94aa-0242ac1c0002\"]);\n",
              "//# sourceURL=js_8e1dab207a"
            ],
            "text/plain": [
              "<IPython.core.display.Javascript object>"
            ]
          },
          "metadata": {
            "tags": [
              "id4-0-0",
              "outputarea_id4"
            ]
          }
        },
        {
          "output_type": "display_data",
          "data": {
            "application/javascript": [
              "window[\"896ee236-6648-11e9-94aa-0242ac1c0002\"] = google.colab.output.setActiveOutputArea(window[\"886bae32-6648-11e9-94aa-0242ac1c0002\"]);\n",
              "//# sourceURL=js_7dcf342043"
            ],
            "text/plain": [
              "<IPython.core.display.Javascript object>"
            ]
          },
          "metadata": {
            "tags": [
              "id4-0-0",
              "outputarea_id4"
            ]
          }
        },
        {
          "output_type": "display_data",
          "data": {
            "application/javascript": [
              "window[\"8972dcb0-6648-11e9-94aa-0242ac1c0002\"] = google.colab.output.getActiveOutputArea();\n",
              "//# sourceURL=js_de73a0aa24"
            ],
            "text/plain": [
              "<IPython.core.display.Javascript object>"
            ]
          },
          "metadata": {
            "tags": [
              "id4-0-0",
              "outputarea_id4"
            ]
          }
        },
        {
          "output_type": "display_data",
          "data": {
            "application/javascript": [
              "window[\"89733d4a-6648-11e9-94aa-0242ac1c0002\"] = document.querySelector(\"#id4-0-0\");\n",
              "//# sourceURL=js_36eb355172"
            ],
            "text/plain": [
              "<IPython.core.display.Javascript object>"
            ]
          },
          "metadata": {
            "tags": [
              "id4-0-0",
              "outputarea_id4"
            ]
          }
        },
        {
          "output_type": "display_data",
          "data": {
            "application/javascript": [
              "window[\"8973a118-6648-11e9-94aa-0242ac1c0002\"] = google.colab.output.setActiveOutputArea(window[\"89733d4a-6648-11e9-94aa-0242ac1c0002\"]);\n",
              "//# sourceURL=js_acaf137c79"
            ],
            "text/plain": [
              "<IPython.core.display.Javascript object>"
            ]
          },
          "metadata": {
            "tags": [
              "id4-0-0",
              "outputarea_id4"
            ]
          }
        },
        {
          "output_type": "display_data",
          "data": {
            "application/javascript": [
              "window[\"8a8bca44-6648-11e9-94aa-0242ac1c0002\"] = google.colab.output.setActiveOutputArea(window[\"8972dcb0-6648-11e9-94aa-0242ac1c0002\"]);\n",
              "//# sourceURL=js_f30bdc87df"
            ],
            "text/plain": [
              "<IPython.core.display.Javascript object>"
            ]
          },
          "metadata": {
            "tags": [
              "id4-0-0",
              "outputarea_id4"
            ]
          }
        },
        {
          "output_type": "display_data",
          "data": {
            "application/javascript": [
              "window[\"8a902832-6648-11e9-94aa-0242ac1c0002\"] = google.colab.output.getActiveOutputArea();\n",
              "//# sourceURL=js_c043f4e079"
            ],
            "text/plain": [
              "<IPython.core.display.Javascript object>"
            ]
          },
          "metadata": {
            "tags": [
              "id4-0-0",
              "outputarea_id4"
            ]
          }
        },
        {
          "output_type": "display_data",
          "data": {
            "application/javascript": [
              "window[\"8a909ff6-6648-11e9-94aa-0242ac1c0002\"] = document.querySelector(\"#id4-0-0\");\n",
              "//# sourceURL=js_2fa9995b04"
            ],
            "text/plain": [
              "<IPython.core.display.Javascript object>"
            ]
          },
          "metadata": {
            "tags": [
              "id4-0-0",
              "outputarea_id4"
            ]
          }
        },
        {
          "output_type": "display_data",
          "data": {
            "application/javascript": [
              "window[\"8a9104d2-6648-11e9-94aa-0242ac1c0002\"] = google.colab.output.setActiveOutputArea(window[\"8a909ff6-6648-11e9-94aa-0242ac1c0002\"]);\n",
              "//# sourceURL=js_e94e098f4b"
            ],
            "text/plain": [
              "<IPython.core.display.Javascript object>"
            ]
          },
          "metadata": {
            "tags": [
              "id4-0-0",
              "outputarea_id4"
            ]
          }
        },
        {
          "output_type": "display_data",
          "data": {
            "application/javascript": [
              "window[\"8b92f386-6648-11e9-94aa-0242ac1c0002\"] = google.colab.output.setActiveOutputArea(window[\"8a902832-6648-11e9-94aa-0242ac1c0002\"]);\n",
              "//# sourceURL=js_973a462a8a"
            ],
            "text/plain": [
              "<IPython.core.display.Javascript object>"
            ]
          },
          "metadata": {
            "tags": [
              "id4-0-0",
              "outputarea_id4"
            ]
          }
        },
        {
          "output_type": "display_data",
          "data": {
            "application/javascript": [
              "window[\"8b9757dc-6648-11e9-94aa-0242ac1c0002\"] = google.colab.output.getActiveOutputArea();\n",
              "//# sourceURL=js_0cd3d74808"
            ],
            "text/plain": [
              "<IPython.core.display.Javascript object>"
            ]
          },
          "metadata": {
            "tags": [
              "id4-0-0",
              "outputarea_id4"
            ]
          }
        },
        {
          "output_type": "display_data",
          "data": {
            "application/javascript": [
              "window[\"8b97c2bc-6648-11e9-94aa-0242ac1c0002\"] = document.querySelector(\"#id4-0-0\");\n",
              "//# sourceURL=js_1a98f4ee6c"
            ],
            "text/plain": [
              "<IPython.core.display.Javascript object>"
            ]
          },
          "metadata": {
            "tags": [
              "id4-0-0",
              "outputarea_id4"
            ]
          }
        },
        {
          "output_type": "display_data",
          "data": {
            "application/javascript": [
              "window[\"8b9832ec-6648-11e9-94aa-0242ac1c0002\"] = google.colab.output.setActiveOutputArea(window[\"8b97c2bc-6648-11e9-94aa-0242ac1c0002\"]);\n",
              "//# sourceURL=js_89328b09fa"
            ],
            "text/plain": [
              "<IPython.core.display.Javascript object>"
            ]
          },
          "metadata": {
            "tags": [
              "id4-0-0",
              "outputarea_id4"
            ]
          }
        },
        {
          "output_type": "display_data",
          "data": {
            "application/javascript": [
              "window[\"8cab03b2-6648-11e9-94aa-0242ac1c0002\"] = google.colab.output.setActiveOutputArea(window[\"8b9757dc-6648-11e9-94aa-0242ac1c0002\"]);\n",
              "//# sourceURL=js_338507cee6"
            ],
            "text/plain": [
              "<IPython.core.display.Javascript object>"
            ]
          },
          "metadata": {
            "tags": [
              "id4-0-0",
              "outputarea_id4"
            ]
          }
        },
        {
          "output_type": "display_data",
          "data": {
            "application/javascript": [
              "window[\"8caecc90-6648-11e9-94aa-0242ac1c0002\"] = google.colab.output.getActiveOutputArea();\n",
              "//# sourceURL=js_9ce651b939"
            ],
            "text/plain": [
              "<IPython.core.display.Javascript object>"
            ]
          },
          "metadata": {
            "tags": [
              "id4-0-0",
              "outputarea_id4"
            ]
          }
        },
        {
          "output_type": "display_data",
          "data": {
            "application/javascript": [
              "window[\"8caf2802-6648-11e9-94aa-0242ac1c0002\"] = document.querySelector(\"#id4-0-0\");\n",
              "//# sourceURL=js_512098dc65"
            ],
            "text/plain": [
              "<IPython.core.display.Javascript object>"
            ]
          },
          "metadata": {
            "tags": [
              "id4-0-0",
              "outputarea_id4"
            ]
          }
        },
        {
          "output_type": "display_data",
          "data": {
            "application/javascript": [
              "window[\"8caf8928-6648-11e9-94aa-0242ac1c0002\"] = google.colab.output.setActiveOutputArea(window[\"8caf2802-6648-11e9-94aa-0242ac1c0002\"]);\n",
              "//# sourceURL=js_91c14ebd38"
            ],
            "text/plain": [
              "<IPython.core.display.Javascript object>"
            ]
          },
          "metadata": {
            "tags": [
              "id4-0-0",
              "outputarea_id4"
            ]
          }
        },
        {
          "output_type": "display_data",
          "data": {
            "application/javascript": [
              "window[\"8daecc4e-6648-11e9-94aa-0242ac1c0002\"] = google.colab.output.setActiveOutputArea(window[\"8caecc90-6648-11e9-94aa-0242ac1c0002\"]);\n",
              "//# sourceURL=js_f4adb21eaa"
            ],
            "text/plain": [
              "<IPython.core.display.Javascript object>"
            ]
          },
          "metadata": {
            "tags": [
              "id4-0-0",
              "outputarea_id4"
            ]
          }
        },
        {
          "output_type": "display_data",
          "data": {
            "application/javascript": [
              "window[\"8db27b32-6648-11e9-94aa-0242ac1c0002\"] = google.colab.output.getActiveOutputArea();\n",
              "//# sourceURL=js_05ca21acaa"
            ],
            "text/plain": [
              "<IPython.core.display.Javascript object>"
            ]
          },
          "metadata": {
            "tags": [
              "id4-0-0",
              "outputarea_id4"
            ]
          }
        },
        {
          "output_type": "display_data",
          "data": {
            "application/javascript": [
              "window[\"8db2bcb4-6648-11e9-94aa-0242ac1c0002\"] = document.querySelector(\"#id4-0-0\");\n",
              "//# sourceURL=js_1506016361"
            ],
            "text/plain": [
              "<IPython.core.display.Javascript object>"
            ]
          },
          "metadata": {
            "tags": [
              "id4-0-0",
              "outputarea_id4"
            ]
          }
        },
        {
          "output_type": "display_data",
          "data": {
            "application/javascript": [
              "window[\"8db317b8-6648-11e9-94aa-0242ac1c0002\"] = google.colab.output.setActiveOutputArea(window[\"8db2bcb4-6648-11e9-94aa-0242ac1c0002\"]);\n",
              "//# sourceURL=js_70cec69dc1"
            ],
            "text/plain": [
              "<IPython.core.display.Javascript object>"
            ]
          },
          "metadata": {
            "tags": [
              "id4-0-0",
              "outputarea_id4"
            ]
          }
        },
        {
          "output_type": "display_data",
          "data": {
            "application/javascript": [
              "window[\"8eca867c-6648-11e9-94aa-0242ac1c0002\"] = google.colab.output.setActiveOutputArea(window[\"8db27b32-6648-11e9-94aa-0242ac1c0002\"]);\n",
              "//# sourceURL=js_32579e2a8f"
            ],
            "text/plain": [
              "<IPython.core.display.Javascript object>"
            ]
          },
          "metadata": {
            "tags": [
              "id4-0-0",
              "outputarea_id4"
            ]
          }
        },
        {
          "output_type": "display_data",
          "data": {
            "application/javascript": [
              "window[\"8ecf49b4-6648-11e9-94aa-0242ac1c0002\"] = google.colab.output.getActiveOutputArea();\n",
              "//# sourceURL=js_d1b429780e"
            ],
            "text/plain": [
              "<IPython.core.display.Javascript object>"
            ]
          },
          "metadata": {
            "tags": [
              "id4-0-0",
              "outputarea_id4"
            ]
          }
        },
        {
          "output_type": "display_data",
          "data": {
            "application/javascript": [
              "window[\"8ecfe590-6648-11e9-94aa-0242ac1c0002\"] = document.querySelector(\"#id4-0-0\");\n",
              "//# sourceURL=js_0384b19555"
            ],
            "text/plain": [
              "<IPython.core.display.Javascript object>"
            ]
          },
          "metadata": {
            "tags": [
              "id4-0-0",
              "outputarea_id4"
            ]
          }
        },
        {
          "output_type": "display_data",
          "data": {
            "application/javascript": [
              "window[\"8ed0495e-6648-11e9-94aa-0242ac1c0002\"] = google.colab.output.setActiveOutputArea(window[\"8ecfe590-6648-11e9-94aa-0242ac1c0002\"]);\n",
              "//# sourceURL=js_74b7d9b247"
            ],
            "text/plain": [
              "<IPython.core.display.Javascript object>"
            ]
          },
          "metadata": {
            "tags": [
              "id4-0-0",
              "outputarea_id4"
            ]
          }
        },
        {
          "output_type": "display_data",
          "data": {
            "application/javascript": [
              "window[\"8fd5b1d6-6648-11e9-94aa-0242ac1c0002\"] = google.colab.output.setActiveOutputArea(window[\"8ecf49b4-6648-11e9-94aa-0242ac1c0002\"]);\n",
              "//# sourceURL=js_19c0a23f95"
            ],
            "text/plain": [
              "<IPython.core.display.Javascript object>"
            ]
          },
          "metadata": {
            "tags": [
              "id4-0-0",
              "outputarea_id4"
            ]
          }
        },
        {
          "output_type": "display_data",
          "data": {
            "application/javascript": [
              "window[\"8fd967d6-6648-11e9-94aa-0242ac1c0002\"] = google.colab.output.getActiveOutputArea();\n",
              "//# sourceURL=js_317f6b36f3"
            ],
            "text/plain": [
              "<IPython.core.display.Javascript object>"
            ]
          },
          "metadata": {
            "tags": [
              "id4-0-0",
              "outputarea_id4"
            ]
          }
        },
        {
          "output_type": "display_data",
          "data": {
            "application/javascript": [
              "window[\"8fd9b484-6648-11e9-94aa-0242ac1c0002\"] = document.querySelector(\"#id4-0-0\");\n",
              "//# sourceURL=js_1c995593c5"
            ],
            "text/plain": [
              "<IPython.core.display.Javascript object>"
            ]
          },
          "metadata": {
            "tags": [
              "id4-0-0",
              "outputarea_id4"
            ]
          }
        },
        {
          "output_type": "display_data",
          "data": {
            "application/javascript": [
              "window[\"8fd9fc82-6648-11e9-94aa-0242ac1c0002\"] = google.colab.output.setActiveOutputArea(window[\"8fd9b484-6648-11e9-94aa-0242ac1c0002\"]);\n",
              "//# sourceURL=js_207f811dfb"
            ],
            "text/plain": [
              "<IPython.core.display.Javascript object>"
            ]
          },
          "metadata": {
            "tags": [
              "id4-0-0",
              "outputarea_id4"
            ]
          }
        },
        {
          "output_type": "display_data",
          "data": {
            "application/javascript": [
              "window[\"90d71908-6648-11e9-94aa-0242ac1c0002\"] = google.colab.output.setActiveOutputArea(window[\"8fd967d6-6648-11e9-94aa-0242ac1c0002\"]);\n",
              "//# sourceURL=js_d82f88ef21"
            ],
            "text/plain": [
              "<IPython.core.display.Javascript object>"
            ]
          },
          "metadata": {
            "tags": [
              "id4-0-0",
              "outputarea_id4"
            ]
          }
        },
        {
          "output_type": "display_data",
          "data": {
            "application/javascript": [
              "window[\"90daf758-6648-11e9-94aa-0242ac1c0002\"] = google.colab.output.getActiveOutputArea();\n",
              "//# sourceURL=js_b2c5459a0f"
            ],
            "text/plain": [
              "<IPython.core.display.Javascript object>"
            ]
          },
          "metadata": {
            "tags": [
              "id4-0-0",
              "outputarea_id4"
            ]
          }
        },
        {
          "output_type": "display_data",
          "data": {
            "application/javascript": [
              "window[\"90db7fd4-6648-11e9-94aa-0242ac1c0002\"] = document.querySelector(\"#id4-0-0\");\n",
              "//# sourceURL=js_d975d8a929"
            ],
            "text/plain": [
              "<IPython.core.display.Javascript object>"
            ]
          },
          "metadata": {
            "tags": [
              "id4-0-0",
              "outputarea_id4"
            ]
          }
        },
        {
          "output_type": "display_data",
          "data": {
            "application/javascript": [
              "window[\"90dbc9f8-6648-11e9-94aa-0242ac1c0002\"] = google.colab.output.setActiveOutputArea(window[\"90db7fd4-6648-11e9-94aa-0242ac1c0002\"]);\n",
              "//# sourceURL=js_a7e0055ac0"
            ],
            "text/plain": [
              "<IPython.core.display.Javascript object>"
            ]
          },
          "metadata": {
            "tags": [
              "id4-0-0",
              "outputarea_id4"
            ]
          }
        },
        {
          "output_type": "display_data",
          "data": {
            "application/javascript": [
              "window[\"91e706dc-6648-11e9-94aa-0242ac1c0002\"] = google.colab.output.setActiveOutputArea(window[\"90daf758-6648-11e9-94aa-0242ac1c0002\"]);\n",
              "//# sourceURL=js_1daf82cc48"
            ],
            "text/plain": [
              "<IPython.core.display.Javascript object>"
            ]
          },
          "metadata": {
            "tags": [
              "id4-0-0",
              "outputarea_id4"
            ]
          }
        },
        {
          "output_type": "display_data",
          "data": {
            "application/javascript": [
              "window[\"91ecf042-6648-11e9-94aa-0242ac1c0002\"] = google.colab.output.getActiveOutputArea();\n",
              "//# sourceURL=js_b22bed97eb"
            ],
            "text/plain": [
              "<IPython.core.display.Javascript object>"
            ]
          },
          "metadata": {
            "tags": [
              "id4-0-0",
              "outputarea_id4"
            ]
          }
        },
        {
          "output_type": "display_data",
          "data": {
            "application/javascript": [
              "window[\"91ed87f0-6648-11e9-94aa-0242ac1c0002\"] = document.querySelector(\"#id4-0-0\");\n",
              "//# sourceURL=js_dbf3418d04"
            ],
            "text/plain": [
              "<IPython.core.display.Javascript object>"
            ]
          },
          "metadata": {
            "tags": [
              "id4-0-0",
              "outputarea_id4"
            ]
          }
        },
        {
          "output_type": "display_data",
          "data": {
            "application/javascript": [
              "window[\"91ee1ba2-6648-11e9-94aa-0242ac1c0002\"] = google.colab.output.setActiveOutputArea(window[\"91ed87f0-6648-11e9-94aa-0242ac1c0002\"]);\n",
              "//# sourceURL=js_c7654e2841"
            ],
            "text/plain": [
              "<IPython.core.display.Javascript object>"
            ]
          },
          "metadata": {
            "tags": [
              "id4-0-0",
              "outputarea_id4"
            ]
          }
        },
        {
          "output_type": "display_data",
          "data": {
            "application/javascript": [
              "window[\"92ffec64-6648-11e9-94aa-0242ac1c0002\"] = google.colab.output.setActiveOutputArea(window[\"91ecf042-6648-11e9-94aa-0242ac1c0002\"]);\n",
              "//# sourceURL=js_80e7518cbe"
            ],
            "text/plain": [
              "<IPython.core.display.Javascript object>"
            ]
          },
          "metadata": {
            "tags": [
              "id4-0-0",
              "outputarea_id4"
            ]
          }
        },
        {
          "output_type": "display_data",
          "data": {
            "application/javascript": [
              "window[\"9303cd8e-6648-11e9-94aa-0242ac1c0002\"] = google.colab.output.getActiveOutputArea();\n",
              "//# sourceURL=js_a37567f6a5"
            ],
            "text/plain": [
              "<IPython.core.display.Javascript object>"
            ]
          },
          "metadata": {
            "tags": [
              "id4-0-0",
              "outputarea_id4"
            ]
          }
        },
        {
          "output_type": "display_data",
          "data": {
            "application/javascript": [
              "window[\"9304254a-6648-11e9-94aa-0242ac1c0002\"] = document.querySelector(\"#id4-0-0\");\n",
              "//# sourceURL=js_3fafb84761"
            ],
            "text/plain": [
              "<IPython.core.display.Javascript object>"
            ]
          },
          "metadata": {
            "tags": [
              "id4-0-0",
              "outputarea_id4"
            ]
          }
        },
        {
          "output_type": "display_data",
          "data": {
            "application/javascript": [
              "window[\"930473c4-6648-11e9-94aa-0242ac1c0002\"] = google.colab.output.setActiveOutputArea(window[\"9304254a-6648-11e9-94aa-0242ac1c0002\"]);\n",
              "//# sourceURL=js_3761d656bb"
            ],
            "text/plain": [
              "<IPython.core.display.Javascript object>"
            ]
          },
          "metadata": {
            "tags": [
              "id4-0-0",
              "outputarea_id4"
            ]
          }
        },
        {
          "output_type": "display_data",
          "data": {
            "application/javascript": [
              "window[\"94080dbc-6648-11e9-94aa-0242ac1c0002\"] = google.colab.output.setActiveOutputArea(window[\"9303cd8e-6648-11e9-94aa-0242ac1c0002\"]);\n",
              "//# sourceURL=js_537ee95834"
            ],
            "text/plain": [
              "<IPython.core.display.Javascript object>"
            ]
          },
          "metadata": {
            "tags": [
              "id4-0-0",
              "outputarea_id4"
            ]
          }
        },
        {
          "output_type": "display_data",
          "data": {
            "application/javascript": [
              "window[\"940dd8b4-6648-11e9-94aa-0242ac1c0002\"] = google.colab.output.getActiveOutputArea();\n",
              "//# sourceURL=js_405d75cff6"
            ],
            "text/plain": [
              "<IPython.core.display.Javascript object>"
            ]
          },
          "metadata": {
            "tags": [
              "id4-0-0",
              "outputarea_id4"
            ]
          }
        },
        {
          "output_type": "display_data",
          "data": {
            "application/javascript": [
              "window[\"940e43da-6648-11e9-94aa-0242ac1c0002\"] = document.querySelector(\"#id4-0-0\");\n",
              "//# sourceURL=js_0a1fe6b991"
            ],
            "text/plain": [
              "<IPython.core.display.Javascript object>"
            ]
          },
          "metadata": {
            "tags": [
              "id4-0-0",
              "outputarea_id4"
            ]
          }
        },
        {
          "output_type": "display_data",
          "data": {
            "application/javascript": [
              "window[\"940ea532-6648-11e9-94aa-0242ac1c0002\"] = google.colab.output.setActiveOutputArea(window[\"940e43da-6648-11e9-94aa-0242ac1c0002\"]);\n",
              "//# sourceURL=js_f4df89530d"
            ],
            "text/plain": [
              "<IPython.core.display.Javascript object>"
            ]
          },
          "metadata": {
            "tags": [
              "id4-0-0",
              "outputarea_id4"
            ]
          }
        },
        {
          "output_type": "display_data",
          "data": {
            "application/javascript": [
              "window[\"9511be2e-6648-11e9-94aa-0242ac1c0002\"] = google.colab.output.setActiveOutputArea(window[\"940dd8b4-6648-11e9-94aa-0242ac1c0002\"]);\n",
              "//# sourceURL=js_9554ef8718"
            ],
            "text/plain": [
              "<IPython.core.display.Javascript object>"
            ]
          },
          "metadata": {
            "tags": [
              "id4-0-0",
              "outputarea_id4"
            ]
          }
        },
        {
          "output_type": "display_data",
          "data": {
            "application/javascript": [
              "window[\"95162194-6648-11e9-94aa-0242ac1c0002\"] = google.colab.output.getActiveOutputArea();\n",
              "//# sourceURL=js_2173218266"
            ],
            "text/plain": [
              "<IPython.core.display.Javascript object>"
            ]
          },
          "metadata": {
            "tags": [
              "id4-0-0",
              "outputarea_id4"
            ]
          }
        },
        {
          "output_type": "display_data",
          "data": {
            "application/javascript": [
              "window[\"95166f8c-6648-11e9-94aa-0242ac1c0002\"] = document.querySelector(\"#id4-0-0\");\n",
              "//# sourceURL=js_c1e700fed8"
            ],
            "text/plain": [
              "<IPython.core.display.Javascript object>"
            ]
          },
          "metadata": {
            "tags": [
              "id4-0-0",
              "outputarea_id4"
            ]
          }
        },
        {
          "output_type": "display_data",
          "data": {
            "application/javascript": [
              "window[\"9516cc34-6648-11e9-94aa-0242ac1c0002\"] = google.colab.output.setActiveOutputArea(window[\"95166f8c-6648-11e9-94aa-0242ac1c0002\"]);\n",
              "//# sourceURL=js_27109d6bce"
            ],
            "text/plain": [
              "<IPython.core.display.Javascript object>"
            ]
          },
          "metadata": {
            "tags": [
              "id4-0-0",
              "outputarea_id4"
            ]
          }
        },
        {
          "output_type": "display_data",
          "data": {
            "application/javascript": [
              "window[\"96186ed0-6648-11e9-94aa-0242ac1c0002\"] = google.colab.output.setActiveOutputArea(window[\"95162194-6648-11e9-94aa-0242ac1c0002\"]);\n",
              "//# sourceURL=js_02acb3b315"
            ],
            "text/plain": [
              "<IPython.core.display.Javascript object>"
            ]
          },
          "metadata": {
            "tags": [
              "id4-0-0",
              "outputarea_id4"
            ]
          }
        },
        {
          "output_type": "display_data",
          "data": {
            "application/javascript": [
              "window[\"961cbd32-6648-11e9-94aa-0242ac1c0002\"] = google.colab.output.getActiveOutputArea();\n",
              "//# sourceURL=js_45c25344ef"
            ],
            "text/plain": [
              "<IPython.core.display.Javascript object>"
            ]
          },
          "metadata": {
            "tags": [
              "id4-0-0",
              "outputarea_id4"
            ]
          }
        },
        {
          "output_type": "display_data",
          "data": {
            "application/javascript": [
              "window[\"961d2a74-6648-11e9-94aa-0242ac1c0002\"] = document.querySelector(\"#id4-0-0\");\n",
              "//# sourceURL=js_f753201de8"
            ],
            "text/plain": [
              "<IPython.core.display.Javascript object>"
            ]
          },
          "metadata": {
            "tags": [
              "id4-0-0",
              "outputarea_id4"
            ]
          }
        },
        {
          "output_type": "display_data",
          "data": {
            "application/javascript": [
              "window[\"961d8d3e-6648-11e9-94aa-0242ac1c0002\"] = google.colab.output.setActiveOutputArea(window[\"961d2a74-6648-11e9-94aa-0242ac1c0002\"]);\n",
              "//# sourceURL=js_275a1d340b"
            ],
            "text/plain": [
              "<IPython.core.display.Javascript object>"
            ]
          },
          "metadata": {
            "tags": [
              "id4-0-0",
              "outputarea_id4"
            ]
          }
        },
        {
          "output_type": "display_data",
          "data": {
            "application/javascript": [
              "window[\"9720b814-6648-11e9-94aa-0242ac1c0002\"] = google.colab.output.setActiveOutputArea(window[\"961cbd32-6648-11e9-94aa-0242ac1c0002\"]);\n",
              "//# sourceURL=js_ae974b98ec"
            ],
            "text/plain": [
              "<IPython.core.display.Javascript object>"
            ]
          },
          "metadata": {
            "tags": [
              "id4-0-0",
              "outputarea_id4"
            ]
          }
        },
        {
          "output_type": "display_data",
          "data": {
            "application/javascript": [
              "window[\"972442a4-6648-11e9-94aa-0242ac1c0002\"] = google.colab.output.getActiveOutputArea();\n",
              "//# sourceURL=js_3b4490e942"
            ],
            "text/plain": [
              "<IPython.core.display.Javascript object>"
            ]
          },
          "metadata": {
            "tags": [
              "id4-0-0",
              "outputarea_id4"
            ]
          }
        },
        {
          "output_type": "display_data",
          "data": {
            "application/javascript": [
              "window[\"9724902e-6648-11e9-94aa-0242ac1c0002\"] = document.querySelector(\"#id4-0-0\");\n",
              "//# sourceURL=js_0e2c304d4d"
            ],
            "text/plain": [
              "<IPython.core.display.Javascript object>"
            ]
          },
          "metadata": {
            "tags": [
              "id4-0-0",
              "outputarea_id4"
            ]
          }
        },
        {
          "output_type": "display_data",
          "data": {
            "application/javascript": [
              "window[\"9724d124-6648-11e9-94aa-0242ac1c0002\"] = google.colab.output.setActiveOutputArea(window[\"9724902e-6648-11e9-94aa-0242ac1c0002\"]);\n",
              "//# sourceURL=js_e869108544"
            ],
            "text/plain": [
              "<IPython.core.display.Javascript object>"
            ]
          },
          "metadata": {
            "tags": [
              "id4-0-0",
              "outputarea_id4"
            ]
          }
        },
        {
          "output_type": "display_data",
          "data": {
            "application/javascript": [
              "window[\"9835fed0-6648-11e9-94aa-0242ac1c0002\"] = google.colab.output.setActiveOutputArea(window[\"972442a4-6648-11e9-94aa-0242ac1c0002\"]);\n",
              "//# sourceURL=js_668a8476e2"
            ],
            "text/plain": [
              "<IPython.core.display.Javascript object>"
            ]
          },
          "metadata": {
            "tags": [
              "id4-0-0",
              "outputarea_id4"
            ]
          }
        },
        {
          "output_type": "display_data",
          "data": {
            "application/javascript": [
              "window[\"983969b2-6648-11e9-94aa-0242ac1c0002\"] = google.colab.output.getActiveOutputArea();\n",
              "//# sourceURL=js_36a031e1bd"
            ],
            "text/plain": [
              "<IPython.core.display.Javascript object>"
            ]
          },
          "metadata": {
            "tags": [
              "id4-0-0",
              "outputarea_id4"
            ]
          }
        },
        {
          "output_type": "display_data",
          "data": {
            "application/javascript": [
              "window[\"9839bee4-6648-11e9-94aa-0242ac1c0002\"] = document.querySelector(\"#id4-0-0\");\n",
              "//# sourceURL=js_7c9b30aa6f"
            ],
            "text/plain": [
              "<IPython.core.display.Javascript object>"
            ]
          },
          "metadata": {
            "tags": [
              "id4-0-0",
              "outputarea_id4"
            ]
          }
        },
        {
          "output_type": "display_data",
          "data": {
            "application/javascript": [
              "window[\"983a0d54-6648-11e9-94aa-0242ac1c0002\"] = google.colab.output.setActiveOutputArea(window[\"9839bee4-6648-11e9-94aa-0242ac1c0002\"]);\n",
              "//# sourceURL=js_2147c0385f"
            ],
            "text/plain": [
              "<IPython.core.display.Javascript object>"
            ]
          },
          "metadata": {
            "tags": [
              "id4-0-0",
              "outputarea_id4"
            ]
          }
        },
        {
          "output_type": "display_data",
          "data": {
            "application/javascript": [
              "window[\"993e1772-6648-11e9-94aa-0242ac1c0002\"] = google.colab.output.setActiveOutputArea(window[\"983969b2-6648-11e9-94aa-0242ac1c0002\"]);\n",
              "//# sourceURL=js_c5ae305336"
            ],
            "text/plain": [
              "<IPython.core.display.Javascript object>"
            ]
          },
          "metadata": {
            "tags": [
              "id4-0-0",
              "outputarea_id4"
            ]
          }
        },
        {
          "output_type": "display_data",
          "data": {
            "application/javascript": [
              "window[\"9942a580-6648-11e9-94aa-0242ac1c0002\"] = google.colab.output.getActiveOutputArea();\n",
              "//# sourceURL=js_b0575ffd98"
            ],
            "text/plain": [
              "<IPython.core.display.Javascript object>"
            ]
          },
          "metadata": {
            "tags": [
              "id4-0-0",
              "outputarea_id4"
            ]
          }
        },
        {
          "output_type": "display_data",
          "data": {
            "application/javascript": [
              "window[\"99432e06-6648-11e9-94aa-0242ac1c0002\"] = document.querySelector(\"#id4-0-0\");\n",
              "//# sourceURL=js_32f73a207b"
            ],
            "text/plain": [
              "<IPython.core.display.Javascript object>"
            ]
          },
          "metadata": {
            "tags": [
              "id4-0-0",
              "outputarea_id4"
            ]
          }
        },
        {
          "output_type": "display_data",
          "data": {
            "application/javascript": [
              "window[\"99438928-6648-11e9-94aa-0242ac1c0002\"] = google.colab.output.setActiveOutputArea(window[\"99432e06-6648-11e9-94aa-0242ac1c0002\"]);\n",
              "//# sourceURL=js_aecd7b55b5"
            ],
            "text/plain": [
              "<IPython.core.display.Javascript object>"
            ]
          },
          "metadata": {
            "tags": [
              "id4-0-0",
              "outputarea_id4"
            ]
          }
        },
        {
          "output_type": "display_data",
          "data": {
            "application/javascript": [
              "window[\"9a434a0c-6648-11e9-94aa-0242ac1c0002\"] = google.colab.output.setActiveOutputArea(window[\"9942a580-6648-11e9-94aa-0242ac1c0002\"]);\n",
              "//# sourceURL=js_6c60c6e5a6"
            ],
            "text/plain": [
              "<IPython.core.display.Javascript object>"
            ]
          },
          "metadata": {
            "tags": [
              "id4-0-0",
              "outputarea_id4"
            ]
          }
        },
        {
          "output_type": "display_data",
          "data": {
            "application/javascript": [
              "window[\"9a47ffd4-6648-11e9-94aa-0242ac1c0002\"] = google.colab.output.getActiveOutputArea();\n",
              "//# sourceURL=js_814d384ae1"
            ],
            "text/plain": [
              "<IPython.core.display.Javascript object>"
            ]
          },
          "metadata": {
            "tags": [
              "id4-0-0",
              "outputarea_id4"
            ]
          }
        },
        {
          "output_type": "display_data",
          "data": {
            "application/javascript": [
              "window[\"9a489886-6648-11e9-94aa-0242ac1c0002\"] = document.querySelector(\"#id4-0-0\");\n",
              "//# sourceURL=js_b627604d94"
            ],
            "text/plain": [
              "<IPython.core.display.Javascript object>"
            ]
          },
          "metadata": {
            "tags": [
              "id4-0-0",
              "outputarea_id4"
            ]
          }
        },
        {
          "output_type": "display_data",
          "data": {
            "application/javascript": [
              "window[\"9a493278-6648-11e9-94aa-0242ac1c0002\"] = google.colab.output.setActiveOutputArea(window[\"9a489886-6648-11e9-94aa-0242ac1c0002\"]);\n",
              "//# sourceURL=js_9b4626ec73"
            ],
            "text/plain": [
              "<IPython.core.display.Javascript object>"
            ]
          },
          "metadata": {
            "tags": [
              "id4-0-0",
              "outputarea_id4"
            ]
          }
        },
        {
          "output_type": "display_data",
          "data": {
            "application/javascript": [
              "window[\"9b4f2ede-6648-11e9-94aa-0242ac1c0002\"] = google.colab.output.setActiveOutputArea(window[\"9a47ffd4-6648-11e9-94aa-0242ac1c0002\"]);\n",
              "//# sourceURL=js_05e7f763fd"
            ],
            "text/plain": [
              "<IPython.core.display.Javascript object>"
            ]
          },
          "metadata": {
            "tags": [
              "id4-0-0",
              "outputarea_id4"
            ]
          }
        },
        {
          "output_type": "display_data",
          "data": {
            "application/javascript": [
              "window[\"9b530590-6648-11e9-94aa-0242ac1c0002\"] = google.colab.output.getActiveOutputArea();\n",
              "//# sourceURL=js_351cfa0ffd"
            ],
            "text/plain": [
              "<IPython.core.display.Javascript object>"
            ]
          },
          "metadata": {
            "tags": [
              "id4-0-0",
              "outputarea_id4"
            ]
          }
        },
        {
          "output_type": "display_data",
          "data": {
            "application/javascript": [
              "window[\"9b535bbc-6648-11e9-94aa-0242ac1c0002\"] = document.querySelector(\"#id4-0-0\");\n",
              "//# sourceURL=js_4e6a84c865"
            ],
            "text/plain": [
              "<IPython.core.display.Javascript object>"
            ]
          },
          "metadata": {
            "tags": [
              "id4-0-0",
              "outputarea_id4"
            ]
          }
        },
        {
          "output_type": "display_data",
          "data": {
            "application/javascript": [
              "window[\"9b53af5e-6648-11e9-94aa-0242ac1c0002\"] = google.colab.output.setActiveOutputArea(window[\"9b535bbc-6648-11e9-94aa-0242ac1c0002\"]);\n",
              "//# sourceURL=js_554d6e6cf6"
            ],
            "text/plain": [
              "<IPython.core.display.Javascript object>"
            ]
          },
          "metadata": {
            "tags": [
              "id4-0-0",
              "outputarea_id4"
            ]
          }
        },
        {
          "output_type": "display_data",
          "data": {
            "application/javascript": [
              "window[\"9c532ba0-6648-11e9-94aa-0242ac1c0002\"] = google.colab.output.setActiveOutputArea(window[\"9b530590-6648-11e9-94aa-0242ac1c0002\"]);\n",
              "//# sourceURL=js_0d594374da"
            ],
            "text/plain": [
              "<IPython.core.display.Javascript object>"
            ]
          },
          "metadata": {
            "tags": [
              "id4-0-0",
              "outputarea_id4"
            ]
          }
        },
        {
          "output_type": "display_data",
          "data": {
            "application/javascript": [
              "window[\"9c56bacc-6648-11e9-94aa-0242ac1c0002\"] = google.colab.output.getActiveOutputArea();\n",
              "//# sourceURL=js_c20c97463a"
            ],
            "text/plain": [
              "<IPython.core.display.Javascript object>"
            ]
          },
          "metadata": {
            "tags": [
              "id4-0-0",
              "outputarea_id4"
            ]
          }
        },
        {
          "output_type": "display_data",
          "data": {
            "application/javascript": [
              "window[\"9c571062-6648-11e9-94aa-0242ac1c0002\"] = document.querySelector(\"#id4-0-0\");\n",
              "//# sourceURL=js_c08a3e8f1a"
            ],
            "text/plain": [
              "<IPython.core.display.Javascript object>"
            ]
          },
          "metadata": {
            "tags": [
              "id4-0-0",
              "outputarea_id4"
            ]
          }
        },
        {
          "output_type": "display_data",
          "data": {
            "application/javascript": [
              "window[\"9c576634-6648-11e9-94aa-0242ac1c0002\"] = google.colab.output.setActiveOutputArea(window[\"9c571062-6648-11e9-94aa-0242ac1c0002\"]);\n",
              "//# sourceURL=js_fb15566c06"
            ],
            "text/plain": [
              "<IPython.core.display.Javascript object>"
            ]
          },
          "metadata": {
            "tags": [
              "id4-0-0",
              "outputarea_id4"
            ]
          }
        },
        {
          "output_type": "display_data",
          "data": {
            "application/javascript": [
              "window[\"9d55b428-6648-11e9-94aa-0242ac1c0002\"] = google.colab.output.setActiveOutputArea(window[\"9c56bacc-6648-11e9-94aa-0242ac1c0002\"]);\n",
              "//# sourceURL=js_f34e836947"
            ],
            "text/plain": [
              "<IPython.core.display.Javascript object>"
            ]
          },
          "metadata": {
            "tags": [
              "id4-0-0",
              "outputarea_id4"
            ]
          }
        },
        {
          "output_type": "display_data",
          "data": {
            "application/javascript": [
              "window[\"9d59f236-6648-11e9-94aa-0242ac1c0002\"] = google.colab.output.getActiveOutputArea();\n",
              "//# sourceURL=js_792276c25f"
            ],
            "text/plain": [
              "<IPython.core.display.Javascript object>"
            ]
          },
          "metadata": {
            "tags": [
              "id4-0-0",
              "outputarea_id4"
            ]
          }
        },
        {
          "output_type": "display_data",
          "data": {
            "application/javascript": [
              "window[\"9d5a7aee-6648-11e9-94aa-0242ac1c0002\"] = document.querySelector(\"#id4-0-0\");\n",
              "//# sourceURL=js_9948ca3b81"
            ],
            "text/plain": [
              "<IPython.core.display.Javascript object>"
            ]
          },
          "metadata": {
            "tags": [
              "id4-0-0",
              "outputarea_id4"
            ]
          }
        },
        {
          "output_type": "display_data",
          "data": {
            "application/javascript": [
              "window[\"9d5b0126-6648-11e9-94aa-0242ac1c0002\"] = google.colab.output.setActiveOutputArea(window[\"9d5a7aee-6648-11e9-94aa-0242ac1c0002\"]);\n",
              "//# sourceURL=js_53f1d8489a"
            ],
            "text/plain": [
              "<IPython.core.display.Javascript object>"
            ]
          },
          "metadata": {
            "tags": [
              "id4-0-0",
              "outputarea_id4"
            ]
          }
        },
        {
          "output_type": "display_data",
          "data": {
            "application/javascript": [
              "window[\"9e6a3f1e-6648-11e9-94aa-0242ac1c0002\"] = google.colab.output.setActiveOutputArea(window[\"9d59f236-6648-11e9-94aa-0242ac1c0002\"]);\n",
              "//# sourceURL=js_b9aa3d8838"
            ],
            "text/plain": [
              "<IPython.core.display.Javascript object>"
            ]
          },
          "metadata": {
            "tags": [
              "id4-0-0",
              "outputarea_id4"
            ]
          }
        },
        {
          "output_type": "display_data",
          "data": {
            "application/javascript": [
              "window[\"9e6e3b46-6648-11e9-94aa-0242ac1c0002\"] = google.colab.output.getActiveOutputArea();\n",
              "//# sourceURL=js_1eb21d89b0"
            ],
            "text/plain": [
              "<IPython.core.display.Javascript object>"
            ]
          },
          "metadata": {
            "tags": [
              "id4-0-0",
              "outputarea_id4"
            ]
          }
        },
        {
          "output_type": "display_data",
          "data": {
            "application/javascript": [
              "window[\"9e6e94f6-6648-11e9-94aa-0242ac1c0002\"] = document.querySelector(\"#id4-0-0\");\n",
              "//# sourceURL=js_57dc552324"
            ],
            "text/plain": [
              "<IPython.core.display.Javascript object>"
            ]
          },
          "metadata": {
            "tags": [
              "id4-0-0",
              "outputarea_id4"
            ]
          }
        },
        {
          "output_type": "display_data",
          "data": {
            "application/javascript": [
              "window[\"9e6f0774-6648-11e9-94aa-0242ac1c0002\"] = google.colab.output.setActiveOutputArea(window[\"9e6e94f6-6648-11e9-94aa-0242ac1c0002\"]);\n",
              "//# sourceURL=js_8e008bc28f"
            ],
            "text/plain": [
              "<IPython.core.display.Javascript object>"
            ]
          },
          "metadata": {
            "tags": [
              "id4-0-0",
              "outputarea_id4"
            ]
          }
        },
        {
          "output_type": "display_data",
          "data": {
            "application/javascript": [
              "window[\"9f6e577e-6648-11e9-94aa-0242ac1c0002\"] = google.colab.output.setActiveOutputArea(window[\"9e6e3b46-6648-11e9-94aa-0242ac1c0002\"]);\n",
              "//# sourceURL=js_96534d4905"
            ],
            "text/plain": [
              "<IPython.core.display.Javascript object>"
            ]
          },
          "metadata": {
            "tags": [
              "id4-0-0",
              "outputarea_id4"
            ]
          }
        },
        {
          "output_type": "display_data",
          "data": {
            "application/javascript": [
              "window[\"9f7259a0-6648-11e9-94aa-0242ac1c0002\"] = google.colab.output.getActiveOutputArea();\n",
              "//# sourceURL=js_9622c83265"
            ],
            "text/plain": [
              "<IPython.core.display.Javascript object>"
            ]
          },
          "metadata": {
            "tags": [
              "id4-0-0",
              "outputarea_id4"
            ]
          }
        },
        {
          "output_type": "display_data",
          "data": {
            "application/javascript": [
              "window[\"9f72ad42-6648-11e9-94aa-0242ac1c0002\"] = document.querySelector(\"#id4-0-0\");\n",
              "//# sourceURL=js_2b895a5602"
            ],
            "text/plain": [
              "<IPython.core.display.Javascript object>"
            ]
          },
          "metadata": {
            "tags": [
              "id4-0-0",
              "outputarea_id4"
            ]
          }
        },
        {
          "output_type": "display_data",
          "data": {
            "application/javascript": [
              "window[\"9f72ffae-6648-11e9-94aa-0242ac1c0002\"] = google.colab.output.setActiveOutputArea(window[\"9f72ad42-6648-11e9-94aa-0242ac1c0002\"]);\n",
              "//# sourceURL=js_60159f7eaa"
            ],
            "text/plain": [
              "<IPython.core.display.Javascript object>"
            ]
          },
          "metadata": {
            "tags": [
              "id4-0-0",
              "outputarea_id4"
            ]
          }
        },
        {
          "output_type": "display_data",
          "data": {
            "application/javascript": [
              "window[\"a08066ca-6648-11e9-94aa-0242ac1c0002\"] = google.colab.output.setActiveOutputArea(window[\"9f7259a0-6648-11e9-94aa-0242ac1c0002\"]);\n",
              "//# sourceURL=js_af35429213"
            ],
            "text/plain": [
              "<IPython.core.display.Javascript object>"
            ]
          },
          "metadata": {
            "tags": [
              "id4-0-0",
              "outputarea_id4"
            ]
          }
        },
        {
          "output_type": "display_data",
          "data": {
            "application/javascript": [
              "window[\"a08481ec-6648-11e9-94aa-0242ac1c0002\"] = google.colab.output.getActiveOutputArea();\n",
              "//# sourceURL=js_73043b9ee0"
            ],
            "text/plain": [
              "<IPython.core.display.Javascript object>"
            ]
          },
          "metadata": {
            "tags": [
              "id4-0-0",
              "outputarea_id4"
            ]
          }
        },
        {
          "output_type": "display_data",
          "data": {
            "application/javascript": [
              "window[\"a084d610-6648-11e9-94aa-0242ac1c0002\"] = document.querySelector(\"#id4-0-0\");\n",
              "//# sourceURL=js_0665aab3fd"
            ],
            "text/plain": [
              "<IPython.core.display.Javascript object>"
            ]
          },
          "metadata": {
            "tags": [
              "id4-0-0",
              "outputarea_id4"
            ]
          }
        },
        {
          "output_type": "display_data",
          "data": {
            "application/javascript": [
              "window[\"a0853c40-6648-11e9-94aa-0242ac1c0002\"] = google.colab.output.setActiveOutputArea(window[\"a084d610-6648-11e9-94aa-0242ac1c0002\"]);\n",
              "//# sourceURL=js_a05b244d6f"
            ],
            "text/plain": [
              "<IPython.core.display.Javascript object>"
            ]
          },
          "metadata": {
            "tags": [
              "id4-0-0",
              "outputarea_id4"
            ]
          }
        },
        {
          "output_type": "display_data",
          "data": {
            "application/javascript": [
              "window[\"a185f45e-6648-11e9-94aa-0242ac1c0002\"] = google.colab.output.setActiveOutputArea(window[\"a08481ec-6648-11e9-94aa-0242ac1c0002\"]);\n",
              "//# sourceURL=js_254037352a"
            ],
            "text/plain": [
              "<IPython.core.display.Javascript object>"
            ]
          },
          "metadata": {
            "tags": [
              "id4-0-0",
              "outputarea_id4"
            ]
          }
        },
        {
          "output_type": "display_data",
          "data": {
            "application/javascript": [
              "window[\"a18a3f28-6648-11e9-94aa-0242ac1c0002\"] = google.colab.output.getActiveOutputArea();\n",
              "//# sourceURL=js_d8892a2554"
            ],
            "text/plain": [
              "<IPython.core.display.Javascript object>"
            ]
          },
          "metadata": {
            "tags": [
              "id4-0-0",
              "outputarea_id4"
            ]
          }
        },
        {
          "output_type": "display_data",
          "data": {
            "application/javascript": [
              "window[\"a18ab4b2-6648-11e9-94aa-0242ac1c0002\"] = document.querySelector(\"#id4-0-0\");\n",
              "//# sourceURL=js_1efbb531dd"
            ],
            "text/plain": [
              "<IPython.core.display.Javascript object>"
            ]
          },
          "metadata": {
            "tags": [
              "id4-0-0",
              "outputarea_id4"
            ]
          }
        },
        {
          "output_type": "display_data",
          "data": {
            "application/javascript": [
              "window[\"a18b0a3e-6648-11e9-94aa-0242ac1c0002\"] = google.colab.output.setActiveOutputArea(window[\"a18ab4b2-6648-11e9-94aa-0242ac1c0002\"]);\n",
              "//# sourceURL=js_aace51bdbc"
            ],
            "text/plain": [
              "<IPython.core.display.Javascript object>"
            ]
          },
          "metadata": {
            "tags": [
              "id4-0-0",
              "outputarea_id4"
            ]
          }
        },
        {
          "output_type": "display_data",
          "data": {
            "application/javascript": [
              "window[\"a28887f4-6648-11e9-94aa-0242ac1c0002\"] = google.colab.output.setActiveOutputArea(window[\"a18a3f28-6648-11e9-94aa-0242ac1c0002\"]);\n",
              "//# sourceURL=js_46a521bed1"
            ],
            "text/plain": [
              "<IPython.core.display.Javascript object>"
            ]
          },
          "metadata": {
            "tags": [
              "id4-0-0",
              "outputarea_id4"
            ]
          }
        },
        {
          "output_type": "display_data",
          "data": {
            "application/javascript": [
              "window[\"a28c466e-6648-11e9-94aa-0242ac1c0002\"] = google.colab.output.getActiveOutputArea();\n",
              "//# sourceURL=js_e52cc7a489"
            ],
            "text/plain": [
              "<IPython.core.display.Javascript object>"
            ]
          },
          "metadata": {
            "tags": [
              "id4-0-0",
              "outputarea_id4"
            ]
          }
        },
        {
          "output_type": "display_data",
          "data": {
            "application/javascript": [
              "window[\"a28c974a-6648-11e9-94aa-0242ac1c0002\"] = document.querySelector(\"#id4-0-0\");\n",
              "//# sourceURL=js_c28b87b4f0"
            ],
            "text/plain": [
              "<IPython.core.display.Javascript object>"
            ]
          },
          "metadata": {
            "tags": [
              "id4-0-0",
              "outputarea_id4"
            ]
          }
        },
        {
          "output_type": "display_data",
          "data": {
            "application/javascript": [
              "window[\"a28ce2b8-6648-11e9-94aa-0242ac1c0002\"] = google.colab.output.setActiveOutputArea(window[\"a28c974a-6648-11e9-94aa-0242ac1c0002\"]);\n",
              "//# sourceURL=js_ac9859e15f"
            ],
            "text/plain": [
              "<IPython.core.display.Javascript object>"
            ]
          },
          "metadata": {
            "tags": [
              "id4-0-0",
              "outputarea_id4"
            ]
          }
        },
        {
          "output_type": "display_data",
          "data": {
            "application/javascript": [
              "window[\"a3a4e88a-6648-11e9-94aa-0242ac1c0002\"] = google.colab.output.setActiveOutputArea(window[\"a28c466e-6648-11e9-94aa-0242ac1c0002\"]);\n",
              "//# sourceURL=js_d9e8115210"
            ],
            "text/plain": [
              "<IPython.core.display.Javascript object>"
            ]
          },
          "metadata": {
            "tags": [
              "id4-0-0",
              "outputarea_id4"
            ]
          }
        },
        {
          "output_type": "display_data",
          "data": {
            "application/javascript": [
              "window[\"a3a8a95c-6648-11e9-94aa-0242ac1c0002\"] = google.colab.output.getActiveOutputArea();\n",
              "//# sourceURL=js_5714ccae21"
            ],
            "text/plain": [
              "<IPython.core.display.Javascript object>"
            ]
          },
          "metadata": {
            "tags": [
              "id4-0-0",
              "outputarea_id4"
            ]
          }
        },
        {
          "output_type": "display_data",
          "data": {
            "application/javascript": [
              "window[\"a3a90352-6648-11e9-94aa-0242ac1c0002\"] = document.querySelector(\"#id4-0-0\");\n",
              "//# sourceURL=js_b1f3b65b30"
            ],
            "text/plain": [
              "<IPython.core.display.Javascript object>"
            ]
          },
          "metadata": {
            "tags": [
              "id4-0-0",
              "outputarea_id4"
            ]
          }
        },
        {
          "output_type": "display_data",
          "data": {
            "application/javascript": [
              "window[\"a3a963ba-6648-11e9-94aa-0242ac1c0002\"] = google.colab.output.setActiveOutputArea(window[\"a3a90352-6648-11e9-94aa-0242ac1c0002\"]);\n",
              "//# sourceURL=js_aa02b926d4"
            ],
            "text/plain": [
              "<IPython.core.display.Javascript object>"
            ]
          },
          "metadata": {
            "tags": [
              "id4-0-0",
              "outputarea_id4"
            ]
          }
        },
        {
          "output_type": "display_data",
          "data": {
            "application/javascript": [
              "window[\"a4a745de-6648-11e9-94aa-0242ac1c0002\"] = google.colab.output.setActiveOutputArea(window[\"a3a8a95c-6648-11e9-94aa-0242ac1c0002\"]);\n",
              "//# sourceURL=js_e5d6c701a9"
            ],
            "text/plain": [
              "<IPython.core.display.Javascript object>"
            ]
          },
          "metadata": {
            "tags": [
              "id4-0-0",
              "outputarea_id4"
            ]
          }
        },
        {
          "output_type": "display_data",
          "data": {
            "application/javascript": [
              "window[\"a4ab33e2-6648-11e9-94aa-0242ac1c0002\"] = google.colab.output.getActiveOutputArea();\n",
              "//# sourceURL=js_df113c6f0b"
            ],
            "text/plain": [
              "<IPython.core.display.Javascript object>"
            ]
          },
          "metadata": {
            "tags": [
              "id4-0-0",
              "outputarea_id4"
            ]
          }
        },
        {
          "output_type": "display_data",
          "data": {
            "application/javascript": [
              "window[\"a4ab85c2-6648-11e9-94aa-0242ac1c0002\"] = document.querySelector(\"#id4-0-0\");\n",
              "//# sourceURL=js_ee8fbfb27d"
            ],
            "text/plain": [
              "<IPython.core.display.Javascript object>"
            ]
          },
          "metadata": {
            "tags": [
              "id4-0-0",
              "outputarea_id4"
            ]
          }
        },
        {
          "output_type": "display_data",
          "data": {
            "application/javascript": [
              "window[\"a4abe45e-6648-11e9-94aa-0242ac1c0002\"] = google.colab.output.setActiveOutputArea(window[\"a4ab85c2-6648-11e9-94aa-0242ac1c0002\"]);\n",
              "//# sourceURL=js_e17f5183ae"
            ],
            "text/plain": [
              "<IPython.core.display.Javascript object>"
            ]
          },
          "metadata": {
            "tags": [
              "id4-0-0",
              "outputarea_id4"
            ]
          }
        },
        {
          "output_type": "display_data",
          "data": {
            "application/javascript": [
              "window[\"a5abaec0-6648-11e9-94aa-0242ac1c0002\"] = google.colab.output.setActiveOutputArea(window[\"a4ab33e2-6648-11e9-94aa-0242ac1c0002\"]);\n",
              "//# sourceURL=js_083bae4de7"
            ],
            "text/plain": [
              "<IPython.core.display.Javascript object>"
            ]
          },
          "metadata": {
            "tags": [
              "id4-0-0",
              "outputarea_id4"
            ]
          }
        },
        {
          "output_type": "display_data",
          "data": {
            "application/javascript": [
              "window[\"a5b001c8-6648-11e9-94aa-0242ac1c0002\"] = google.colab.output.getActiveOutputArea();\n",
              "//# sourceURL=js_4e25dd469a"
            ],
            "text/plain": [
              "<IPython.core.display.Javascript object>"
            ]
          },
          "metadata": {
            "tags": [
              "id4-0-0",
              "outputarea_id4"
            ]
          }
        },
        {
          "output_type": "display_data",
          "data": {
            "application/javascript": [
              "window[\"a5b070f4-6648-11e9-94aa-0242ac1c0002\"] = document.querySelector(\"#id4-0-0\");\n",
              "//# sourceURL=js_2e50ca51a2"
            ],
            "text/plain": [
              "<IPython.core.display.Javascript object>"
            ]
          },
          "metadata": {
            "tags": [
              "id4-0-0",
              "outputarea_id4"
            ]
          }
        },
        {
          "output_type": "display_data",
          "data": {
            "application/javascript": [
              "window[\"a5b0c27a-6648-11e9-94aa-0242ac1c0002\"] = google.colab.output.setActiveOutputArea(window[\"a5b070f4-6648-11e9-94aa-0242ac1c0002\"]);\n",
              "//# sourceURL=js_c8b5567b70"
            ],
            "text/plain": [
              "<IPython.core.display.Javascript object>"
            ]
          },
          "metadata": {
            "tags": [
              "id4-0-0",
              "outputarea_id4"
            ]
          }
        },
        {
          "output_type": "display_data",
          "data": {
            "application/javascript": [
              "window[\"a6b04f88-6648-11e9-94aa-0242ac1c0002\"] = google.colab.output.setActiveOutputArea(window[\"a5b001c8-6648-11e9-94aa-0242ac1c0002\"]);\n",
              "//# sourceURL=js_ff5d6a89ef"
            ],
            "text/plain": [
              "<IPython.core.display.Javascript object>"
            ]
          },
          "metadata": {
            "tags": [
              "id4-0-0",
              "outputarea_id4"
            ]
          }
        },
        {
          "output_type": "display_data",
          "data": {
            "application/javascript": [
              "window[\"a6b45e84-6648-11e9-94aa-0242ac1c0002\"] = google.colab.output.getActiveOutputArea();\n",
              "//# sourceURL=js_c4b4a6fd3e"
            ],
            "text/plain": [
              "<IPython.core.display.Javascript object>"
            ]
          },
          "metadata": {
            "tags": [
              "id4-0-0",
              "outputarea_id4"
            ]
          }
        },
        {
          "output_type": "display_data",
          "data": {
            "application/javascript": [
              "window[\"a6b4b8d4-6648-11e9-94aa-0242ac1c0002\"] = document.querySelector(\"#id4-0-0\");\n",
              "//# sourceURL=js_2627d95f52"
            ],
            "text/plain": [
              "<IPython.core.display.Javascript object>"
            ]
          },
          "metadata": {
            "tags": [
              "id4-0-0",
              "outputarea_id4"
            ]
          }
        },
        {
          "output_type": "display_data",
          "data": {
            "application/javascript": [
              "window[\"a6b51586-6648-11e9-94aa-0242ac1c0002\"] = google.colab.output.setActiveOutputArea(window[\"a6b4b8d4-6648-11e9-94aa-0242ac1c0002\"]);\n",
              "//# sourceURL=js_ac1059d840"
            ],
            "text/plain": [
              "<IPython.core.display.Javascript object>"
            ]
          },
          "metadata": {
            "tags": [
              "id4-0-0",
              "outputarea_id4"
            ]
          }
        },
        {
          "output_type": "display_data",
          "data": {
            "application/javascript": [
              "window[\"a7b4e150-6648-11e9-94aa-0242ac1c0002\"] = google.colab.output.setActiveOutputArea(window[\"a6b45e84-6648-11e9-94aa-0242ac1c0002\"]);\n",
              "//# sourceURL=js_932f4f343e"
            ],
            "text/plain": [
              "<IPython.core.display.Javascript object>"
            ]
          },
          "metadata": {
            "tags": [
              "id4-0-0",
              "outputarea_id4"
            ]
          }
        },
        {
          "output_type": "display_data",
          "data": {
            "application/javascript": [
              "window[\"a7b8fb6e-6648-11e9-94aa-0242ac1c0002\"] = google.colab.output.getActiveOutputArea();\n",
              "//# sourceURL=js_d5c1ff1060"
            ],
            "text/plain": [
              "<IPython.core.display.Javascript object>"
            ]
          },
          "metadata": {
            "tags": [
              "id4-0-0",
              "outputarea_id4"
            ]
          }
        },
        {
          "output_type": "display_data",
          "data": {
            "application/javascript": [
              "window[\"a7b9652c-6648-11e9-94aa-0242ac1c0002\"] = document.querySelector(\"#id4-0-0\");\n",
              "//# sourceURL=js_3e4753e5d5"
            ],
            "text/plain": [
              "<IPython.core.display.Javascript object>"
            ]
          },
          "metadata": {
            "tags": [
              "id4-0-0",
              "outputarea_id4"
            ]
          }
        },
        {
          "output_type": "display_data",
          "data": {
            "application/javascript": [
              "window[\"a7b9b5cc-6648-11e9-94aa-0242ac1c0002\"] = google.colab.output.setActiveOutputArea(window[\"a7b9652c-6648-11e9-94aa-0242ac1c0002\"]);\n",
              "//# sourceURL=js_56b5d721fe"
            ],
            "text/plain": [
              "<IPython.core.display.Javascript object>"
            ]
          },
          "metadata": {
            "tags": [
              "id4-0-0",
              "outputarea_id4"
            ]
          }
        },
        {
          "output_type": "display_data",
          "data": {
            "application/javascript": [
              "window[\"a8c0e364-6648-11e9-94aa-0242ac1c0002\"] = google.colab.output.setActiveOutputArea(window[\"a7b8fb6e-6648-11e9-94aa-0242ac1c0002\"]);\n",
              "//# sourceURL=js_8f245258fc"
            ],
            "text/plain": [
              "<IPython.core.display.Javascript object>"
            ]
          },
          "metadata": {
            "tags": [
              "id4-0-0",
              "outputarea_id4"
            ]
          }
        },
        {
          "output_type": "display_data",
          "data": {
            "application/javascript": [
              "window[\"a8c4f3fa-6648-11e9-94aa-0242ac1c0002\"] = google.colab.output.getActiveOutputArea();\n",
              "//# sourceURL=js_aa7c3f58f5"
            ],
            "text/plain": [
              "<IPython.core.display.Javascript object>"
            ]
          },
          "metadata": {
            "tags": [
              "id4-0-0",
              "outputarea_id4"
            ]
          }
        },
        {
          "output_type": "display_data",
          "data": {
            "application/javascript": [
              "window[\"a8c55796-6648-11e9-94aa-0242ac1c0002\"] = document.querySelector(\"#id4-0-0\");\n",
              "//# sourceURL=js_f1d704be7a"
            ],
            "text/plain": [
              "<IPython.core.display.Javascript object>"
            ]
          },
          "metadata": {
            "tags": [
              "id4-0-0",
              "outputarea_id4"
            ]
          }
        },
        {
          "output_type": "display_data",
          "data": {
            "application/javascript": [
              "window[\"a8c5b682-6648-11e9-94aa-0242ac1c0002\"] = google.colab.output.setActiveOutputArea(window[\"a8c55796-6648-11e9-94aa-0242ac1c0002\"]);\n",
              "//# sourceURL=js_717b832fa2"
            ],
            "text/plain": [
              "<IPython.core.display.Javascript object>"
            ]
          },
          "metadata": {
            "tags": [
              "id4-0-0",
              "outputarea_id4"
            ]
          }
        },
        {
          "output_type": "display_data",
          "data": {
            "application/javascript": [
              "window[\"a9da40c4-6648-11e9-94aa-0242ac1c0002\"] = google.colab.output.setActiveOutputArea(window[\"a8c4f3fa-6648-11e9-94aa-0242ac1c0002\"]);\n",
              "//# sourceURL=js_1de4f5f976"
            ],
            "text/plain": [
              "<IPython.core.display.Javascript object>"
            ]
          },
          "metadata": {
            "tags": [
              "id4-0-0",
              "outputarea_id4"
            ]
          }
        },
        {
          "output_type": "display_data",
          "data": {
            "application/javascript": [
              "window[\"a9de4944-6648-11e9-94aa-0242ac1c0002\"] = google.colab.output.getActiveOutputArea();\n",
              "//# sourceURL=js_48051317fc"
            ],
            "text/plain": [
              "<IPython.core.display.Javascript object>"
            ]
          },
          "metadata": {
            "tags": [
              "id4-0-0",
              "outputarea_id4"
            ]
          }
        },
        {
          "output_type": "display_data",
          "data": {
            "application/javascript": [
              "window[\"a9de914c-6648-11e9-94aa-0242ac1c0002\"] = document.querySelector(\"#id4-0-0\");\n",
              "//# sourceURL=js_d90254f26d"
            ],
            "text/plain": [
              "<IPython.core.display.Javascript object>"
            ]
          },
          "metadata": {
            "tags": [
              "id4-0-0",
              "outputarea_id4"
            ]
          }
        },
        {
          "output_type": "display_data",
          "data": {
            "application/javascript": [
              "window[\"a9deedfe-6648-11e9-94aa-0242ac1c0002\"] = google.colab.output.setActiveOutputArea(window[\"a9de914c-6648-11e9-94aa-0242ac1c0002\"]);\n",
              "//# sourceURL=js_232ee1a9bf"
            ],
            "text/plain": [
              "<IPython.core.display.Javascript object>"
            ]
          },
          "metadata": {
            "tags": [
              "id4-0-0",
              "outputarea_id4"
            ]
          }
        },
        {
          "output_type": "display_data",
          "data": {
            "application/javascript": [
              "window[\"aae16f1a-6648-11e9-94aa-0242ac1c0002\"] = google.colab.output.setActiveOutputArea(window[\"a9de4944-6648-11e9-94aa-0242ac1c0002\"]);\n",
              "//# sourceURL=js_d3f8fcbb4e"
            ],
            "text/plain": [
              "<IPython.core.display.Javascript object>"
            ]
          },
          "metadata": {
            "tags": [
              "id4-0-0",
              "outputarea_id4"
            ]
          }
        },
        {
          "output_type": "display_data",
          "data": {
            "application/javascript": [
              "window[\"aae54900-6648-11e9-94aa-0242ac1c0002\"] = google.colab.output.getActiveOutputArea();\n",
              "//# sourceURL=js_caf5811751"
            ],
            "text/plain": [
              "<IPython.core.display.Javascript object>"
            ]
          },
          "metadata": {
            "tags": [
              "id4-0-0",
              "outputarea_id4"
            ]
          }
        },
        {
          "output_type": "display_data",
          "data": {
            "application/javascript": [
              "window[\"aae596da-6648-11e9-94aa-0242ac1c0002\"] = document.querySelector(\"#id4-0-0\");\n",
              "//# sourceURL=js_63c0dabaa0"
            ],
            "text/plain": [
              "<IPython.core.display.Javascript object>"
            ]
          },
          "metadata": {
            "tags": [
              "id4-0-0",
              "outputarea_id4"
            ]
          }
        },
        {
          "output_type": "display_data",
          "data": {
            "application/javascript": [
              "window[\"aae5e61c-6648-11e9-94aa-0242ac1c0002\"] = google.colab.output.setActiveOutputArea(window[\"aae596da-6648-11e9-94aa-0242ac1c0002\"]);\n",
              "//# sourceURL=js_32193f428d"
            ],
            "text/plain": [
              "<IPython.core.display.Javascript object>"
            ]
          },
          "metadata": {
            "tags": [
              "id4-0-0",
              "outputarea_id4"
            ]
          }
        },
        {
          "output_type": "display_data",
          "data": {
            "application/javascript": [
              "window[\"abe6d7a6-6648-11e9-94aa-0242ac1c0002\"] = google.colab.output.setActiveOutputArea(window[\"aae54900-6648-11e9-94aa-0242ac1c0002\"]);\n",
              "//# sourceURL=js_d8e20eb47e"
            ],
            "text/plain": [
              "<IPython.core.display.Javascript object>"
            ]
          },
          "metadata": {
            "tags": [
              "id4-0-0",
              "outputarea_id4"
            ]
          }
        },
        {
          "output_type": "display_data",
          "data": {
            "application/javascript": [
              "window[\"abea8d6a-6648-11e9-94aa-0242ac1c0002\"] = google.colab.output.getActiveOutputArea();\n",
              "//# sourceURL=js_9074870607"
            ],
            "text/plain": [
              "<IPython.core.display.Javascript object>"
            ]
          },
          "metadata": {
            "tags": [
              "id4-0-0",
              "outputarea_id4"
            ]
          }
        },
        {
          "output_type": "display_data",
          "data": {
            "application/javascript": [
              "window[\"abeae076-6648-11e9-94aa-0242ac1c0002\"] = document.querySelector(\"#id4-0-0\");\n",
              "//# sourceURL=js_1b30f24ad4"
            ],
            "text/plain": [
              "<IPython.core.display.Javascript object>"
            ]
          },
          "metadata": {
            "tags": [
              "id4-0-0",
              "outputarea_id4"
            ]
          }
        },
        {
          "output_type": "display_data",
          "data": {
            "application/javascript": [
              "window[\"abeb2d2e-6648-11e9-94aa-0242ac1c0002\"] = google.colab.output.setActiveOutputArea(window[\"abeae076-6648-11e9-94aa-0242ac1c0002\"]);\n",
              "//# sourceURL=js_d524e4c877"
            ],
            "text/plain": [
              "<IPython.core.display.Javascript object>"
            ]
          },
          "metadata": {
            "tags": [
              "id4-0-0",
              "outputarea_id4"
            ]
          }
        },
        {
          "output_type": "display_data",
          "data": {
            "application/javascript": [
              "window[\"ad02ec7e-6648-11e9-94aa-0242ac1c0002\"] = google.colab.output.setActiveOutputArea(window[\"abea8d6a-6648-11e9-94aa-0242ac1c0002\"]);\n",
              "//# sourceURL=js_de9ca9ae37"
            ],
            "text/plain": [
              "<IPython.core.display.Javascript object>"
            ]
          },
          "metadata": {
            "tags": [
              "id4-0-0",
              "outputarea_id4"
            ]
          }
        },
        {
          "output_type": "display_data",
          "data": {
            "application/javascript": [
              "window[\"ad07d5ae-6648-11e9-94aa-0242ac1c0002\"] = google.colab.output.getActiveOutputArea();\n",
              "//# sourceURL=js_94d24a65cc"
            ],
            "text/plain": [
              "<IPython.core.display.Javascript object>"
            ]
          },
          "metadata": {
            "tags": [
              "id4-0-0",
              "outputarea_id4"
            ]
          }
        },
        {
          "output_type": "display_data",
          "data": {
            "application/javascript": [
              "window[\"ad0845a2-6648-11e9-94aa-0242ac1c0002\"] = document.querySelector(\"#id4-0-0\");\n",
              "//# sourceURL=js_04bbcbe350"
            ],
            "text/plain": [
              "<IPython.core.display.Javascript object>"
            ]
          },
          "metadata": {
            "tags": [
              "id4-0-0",
              "outputarea_id4"
            ]
          }
        },
        {
          "output_type": "display_data",
          "data": {
            "application/javascript": [
              "window[\"ad0898e0-6648-11e9-94aa-0242ac1c0002\"] = google.colab.output.setActiveOutputArea(window[\"ad0845a2-6648-11e9-94aa-0242ac1c0002\"]);\n",
              "//# sourceURL=js_731dc9e936"
            ],
            "text/plain": [
              "<IPython.core.display.Javascript object>"
            ]
          },
          "metadata": {
            "tags": [
              "id4-0-0",
              "outputarea_id4"
            ]
          }
        },
        {
          "output_type": "display_data",
          "data": {
            "application/javascript": [
              "window[\"ae082990-6648-11e9-94aa-0242ac1c0002\"] = google.colab.output.setActiveOutputArea(window[\"ad07d5ae-6648-11e9-94aa-0242ac1c0002\"]);\n",
              "//# sourceURL=js_29a894cc48"
            ],
            "text/plain": [
              "<IPython.core.display.Javascript object>"
            ]
          },
          "metadata": {
            "tags": [
              "id4-0-0",
              "outputarea_id4"
            ]
          }
        },
        {
          "output_type": "display_data",
          "data": {
            "application/javascript": [
              "window[\"ae0bfc3c-6648-11e9-94aa-0242ac1c0002\"] = google.colab.output.getActiveOutputArea();\n",
              "//# sourceURL=js_d27bfa3e7b"
            ],
            "text/plain": [
              "<IPython.core.display.Javascript object>"
            ]
          },
          "metadata": {
            "tags": [
              "id4-0-0",
              "outputarea_id4"
            ]
          }
        },
        {
          "output_type": "display_data",
          "data": {
            "application/javascript": [
              "window[\"ae0c584e-6648-11e9-94aa-0242ac1c0002\"] = document.querySelector(\"#id4-0-0\");\n",
              "//# sourceURL=js_48c9c6f7de"
            ],
            "text/plain": [
              "<IPython.core.display.Javascript object>"
            ]
          },
          "metadata": {
            "tags": [
              "id4-0-0",
              "outputarea_id4"
            ]
          }
        },
        {
          "output_type": "display_data",
          "data": {
            "application/javascript": [
              "window[\"ae0cb6fe-6648-11e9-94aa-0242ac1c0002\"] = google.colab.output.setActiveOutputArea(window[\"ae0c584e-6648-11e9-94aa-0242ac1c0002\"]);\n",
              "//# sourceURL=js_13af80cf1f"
            ],
            "text/plain": [
              "<IPython.core.display.Javascript object>"
            ]
          },
          "metadata": {
            "tags": [
              "id4-0-0",
              "outputarea_id4"
            ]
          }
        },
        {
          "output_type": "display_data",
          "data": {
            "application/javascript": [
              "window[\"af19d9c8-6648-11e9-94aa-0242ac1c0002\"] = google.colab.output.setActiveOutputArea(window[\"ae0bfc3c-6648-11e9-94aa-0242ac1c0002\"]);\n",
              "//# sourceURL=js_3f4d77443c"
            ],
            "text/plain": [
              "<IPython.core.display.Javascript object>"
            ]
          },
          "metadata": {
            "tags": [
              "id4-0-0",
              "outputarea_id4"
            ]
          }
        },
        {
          "output_type": "display_data",
          "data": {
            "application/javascript": [
              "window[\"af1dd136-6648-11e9-94aa-0242ac1c0002\"] = google.colab.output.getActiveOutputArea();\n",
              "//# sourceURL=js_4441abec8f"
            ],
            "text/plain": [
              "<IPython.core.display.Javascript object>"
            ]
          },
          "metadata": {
            "tags": [
              "id4-0-0",
              "outputarea_id4"
            ]
          }
        },
        {
          "output_type": "display_data",
          "data": {
            "application/javascript": [
              "window[\"af1e2fb4-6648-11e9-94aa-0242ac1c0002\"] = document.querySelector(\"#id4-0-0\");\n",
              "//# sourceURL=js_b567e6c72f"
            ],
            "text/plain": [
              "<IPython.core.display.Javascript object>"
            ]
          },
          "metadata": {
            "tags": [
              "id4-0-0",
              "outputarea_id4"
            ]
          }
        },
        {
          "output_type": "display_data",
          "data": {
            "application/javascript": [
              "window[\"af1e9a26-6648-11e9-94aa-0242ac1c0002\"] = google.colab.output.setActiveOutputArea(window[\"af1e2fb4-6648-11e9-94aa-0242ac1c0002\"]);\n",
              "//# sourceURL=js_ba9a7773c2"
            ],
            "text/plain": [
              "<IPython.core.display.Javascript object>"
            ]
          },
          "metadata": {
            "tags": [
              "id4-0-0",
              "outputarea_id4"
            ]
          }
        },
        {
          "output_type": "display_data",
          "data": {
            "application/javascript": [
              "window[\"b038526c-6648-11e9-94aa-0242ac1c0002\"] = google.colab.output.setActiveOutputArea(window[\"af1dd136-6648-11e9-94aa-0242ac1c0002\"]);\n",
              "//# sourceURL=js_9a9d92987b"
            ],
            "text/plain": [
              "<IPython.core.display.Javascript object>"
            ]
          },
          "metadata": {
            "tags": [
              "id4-0-0",
              "outputarea_id4"
            ]
          }
        },
        {
          "output_type": "display_data",
          "data": {
            "application/javascript": [
              "window[\"b03ca1c8-6648-11e9-94aa-0242ac1c0002\"] = google.colab.output.getActiveOutputArea();\n",
              "//# sourceURL=js_10fe6d09f6"
            ],
            "text/plain": [
              "<IPython.core.display.Javascript object>"
            ]
          },
          "metadata": {
            "tags": [
              "id4-0-0",
              "outputarea_id4"
            ]
          }
        },
        {
          "output_type": "display_data",
          "data": {
            "application/javascript": [
              "window[\"b03d2058-6648-11e9-94aa-0242ac1c0002\"] = document.querySelector(\"#id4-0-0\");\n",
              "//# sourceURL=js_b3483ac489"
            ],
            "text/plain": [
              "<IPython.core.display.Javascript object>"
            ]
          },
          "metadata": {
            "tags": [
              "id4-0-0",
              "outputarea_id4"
            ]
          }
        },
        {
          "output_type": "display_data",
          "data": {
            "application/javascript": [
              "window[\"b03d7b70-6648-11e9-94aa-0242ac1c0002\"] = google.colab.output.setActiveOutputArea(window[\"b03d2058-6648-11e9-94aa-0242ac1c0002\"]);\n",
              "//# sourceURL=js_77a77c83c2"
            ],
            "text/plain": [
              "<IPython.core.display.Javascript object>"
            ]
          },
          "metadata": {
            "tags": [
              "id4-0-0",
              "outputarea_id4"
            ]
          }
        },
        {
          "output_type": "display_data",
          "data": {
            "application/javascript": [
              "window[\"b14ce654-6648-11e9-94aa-0242ac1c0002\"] = google.colab.output.setActiveOutputArea(window[\"b03ca1c8-6648-11e9-94aa-0242ac1c0002\"]);\n",
              "//# sourceURL=js_2c3435b595"
            ],
            "text/plain": [
              "<IPython.core.display.Javascript object>"
            ]
          },
          "metadata": {
            "tags": [
              "id4-0-0",
              "outputarea_id4"
            ]
          }
        },
        {
          "output_type": "display_data",
          "data": {
            "application/javascript": [
              "window[\"b1512e62-6648-11e9-94aa-0242ac1c0002\"] = google.colab.output.getActiveOutputArea();\n",
              "//# sourceURL=js_bda6b2a9ac"
            ],
            "text/plain": [
              "<IPython.core.display.Javascript object>"
            ]
          },
          "metadata": {
            "tags": [
              "id4-0-0",
              "outputarea_id4"
            ]
          }
        },
        {
          "output_type": "display_data",
          "data": {
            "application/javascript": [
              "window[\"b151903c-6648-11e9-94aa-0242ac1c0002\"] = document.querySelector(\"#id4-0-0\");\n",
              "//# sourceURL=js_bce774d9f8"
            ],
            "text/plain": [
              "<IPython.core.display.Javascript object>"
            ]
          },
          "metadata": {
            "tags": [
              "id4-0-0",
              "outputarea_id4"
            ]
          }
        },
        {
          "output_type": "display_data",
          "data": {
            "application/javascript": [
              "window[\"b151e7ee-6648-11e9-94aa-0242ac1c0002\"] = google.colab.output.setActiveOutputArea(window[\"b151903c-6648-11e9-94aa-0242ac1c0002\"]);\n",
              "//# sourceURL=js_4395a8252b"
            ],
            "text/plain": [
              "<IPython.core.display.Javascript object>"
            ]
          },
          "metadata": {
            "tags": [
              "id4-0-0",
              "outputarea_id4"
            ]
          }
        },
        {
          "output_type": "display_data",
          "data": {
            "application/javascript": [
              "window[\"b253e9a8-6648-11e9-94aa-0242ac1c0002\"] = google.colab.output.setActiveOutputArea(window[\"b1512e62-6648-11e9-94aa-0242ac1c0002\"]);\n",
              "//# sourceURL=js_af04021f69"
            ],
            "text/plain": [
              "<IPython.core.display.Javascript object>"
            ]
          },
          "metadata": {
            "tags": [
              "id4-0-0",
              "outputarea_id4"
            ]
          }
        },
        {
          "output_type": "display_data",
          "data": {
            "application/javascript": [
              "window[\"b257c8d4-6648-11e9-94aa-0242ac1c0002\"] = google.colab.output.getActiveOutputArea();\n",
              "//# sourceURL=js_44b934ddef"
            ],
            "text/plain": [
              "<IPython.core.display.Javascript object>"
            ]
          },
          "metadata": {
            "tags": [
              "id4-0-0",
              "outputarea_id4"
            ]
          }
        },
        {
          "output_type": "display_data",
          "data": {
            "application/javascript": [
              "window[\"b25824aa-6648-11e9-94aa-0242ac1c0002\"] = document.querySelector(\"#id4-0-0\");\n",
              "//# sourceURL=js_4a5c464c99"
            ],
            "text/plain": [
              "<IPython.core.display.Javascript object>"
            ]
          },
          "metadata": {
            "tags": [
              "id4-0-0",
              "outputarea_id4"
            ]
          }
        },
        {
          "output_type": "display_data",
          "data": {
            "application/javascript": [
              "window[\"b258a4b6-6648-11e9-94aa-0242ac1c0002\"] = google.colab.output.setActiveOutputArea(window[\"b25824aa-6648-11e9-94aa-0242ac1c0002\"]);\n",
              "//# sourceURL=js_d74981fad3"
            ],
            "text/plain": [
              "<IPython.core.display.Javascript object>"
            ]
          },
          "metadata": {
            "tags": [
              "id4-0-0",
              "outputarea_id4"
            ]
          }
        },
        {
          "output_type": "display_data",
          "data": {
            "application/javascript": [
              "window[\"b356c6d6-6648-11e9-94aa-0242ac1c0002\"] = google.colab.output.setActiveOutputArea(window[\"b257c8d4-6648-11e9-94aa-0242ac1c0002\"]);\n",
              "//# sourceURL=js_daaafd4b39"
            ],
            "text/plain": [
              "<IPython.core.display.Javascript object>"
            ]
          },
          "metadata": {
            "tags": [
              "id4-0-0",
              "outputarea_id4"
            ]
          }
        },
        {
          "output_type": "display_data",
          "data": {
            "application/javascript": [
              "window[\"b35af51c-6648-11e9-94aa-0242ac1c0002\"] = google.colab.output.getActiveOutputArea();\n",
              "//# sourceURL=js_a4e9ddd5e6"
            ],
            "text/plain": [
              "<IPython.core.display.Javascript object>"
            ]
          },
          "metadata": {
            "tags": [
              "id4-0-0",
              "outputarea_id4"
            ]
          }
        },
        {
          "output_type": "display_data",
          "data": {
            "application/javascript": [
              "window[\"b35b783e-6648-11e9-94aa-0242ac1c0002\"] = document.querySelector(\"#id4-0-0\");\n",
              "//# sourceURL=js_04290c65b6"
            ],
            "text/plain": [
              "<IPython.core.display.Javascript object>"
            ]
          },
          "metadata": {
            "tags": [
              "id4-0-0",
              "outputarea_id4"
            ]
          }
        },
        {
          "output_type": "display_data",
          "data": {
            "application/javascript": [
              "window[\"b35bd43c-6648-11e9-94aa-0242ac1c0002\"] = google.colab.output.setActiveOutputArea(window[\"b35b783e-6648-11e9-94aa-0242ac1c0002\"]);\n",
              "//# sourceURL=js_b31cd8a812"
            ],
            "text/plain": [
              "<IPython.core.display.Javascript object>"
            ]
          },
          "metadata": {
            "tags": [
              "id4-0-0",
              "outputarea_id4"
            ]
          }
        },
        {
          "output_type": "display_data",
          "data": {
            "application/javascript": [
              "window[\"b463e5ae-6648-11e9-94aa-0242ac1c0002\"] = google.colab.output.setActiveOutputArea(window[\"b35af51c-6648-11e9-94aa-0242ac1c0002\"]);\n",
              "//# sourceURL=js_35b851994b"
            ],
            "text/plain": [
              "<IPython.core.display.Javascript object>"
            ]
          },
          "metadata": {
            "tags": [
              "id4-0-0",
              "outputarea_id4"
            ]
          }
        },
        {
          "output_type": "display_data",
          "data": {
            "application/javascript": [
              "window[\"b4677188-6648-11e9-94aa-0242ac1c0002\"] = google.colab.output.getActiveOutputArea();\n",
              "//# sourceURL=js_cd31637ee9"
            ],
            "text/plain": [
              "<IPython.core.display.Javascript object>"
            ]
          },
          "metadata": {
            "tags": [
              "id4-0-0",
              "outputarea_id4"
            ]
          }
        },
        {
          "output_type": "display_data",
          "data": {
            "application/javascript": [
              "window[\"b467becc-6648-11e9-94aa-0242ac1c0002\"] = document.querySelector(\"#id4-0-0\");\n",
              "//# sourceURL=js_705399408d"
            ],
            "text/plain": [
              "<IPython.core.display.Javascript object>"
            ]
          },
          "metadata": {
            "tags": [
              "id4-0-0",
              "outputarea_id4"
            ]
          }
        },
        {
          "output_type": "display_data",
          "data": {
            "application/javascript": [
              "window[\"b46806b6-6648-11e9-94aa-0242ac1c0002\"] = google.colab.output.setActiveOutputArea(window[\"b467becc-6648-11e9-94aa-0242ac1c0002\"]);\n",
              "//# sourceURL=js_ed09704bed"
            ],
            "text/plain": [
              "<IPython.core.display.Javascript object>"
            ]
          },
          "metadata": {
            "tags": [
              "id4-0-0",
              "outputarea_id4"
            ]
          }
        },
        {
          "output_type": "display_data",
          "data": {
            "application/javascript": [
              "window[\"b57a37ae-6648-11e9-94aa-0242ac1c0002\"] = google.colab.output.setActiveOutputArea(window[\"b4677188-6648-11e9-94aa-0242ac1c0002\"]);\n",
              "//# sourceURL=js_5e5cc6fb83"
            ],
            "text/plain": [
              "<IPython.core.display.Javascript object>"
            ]
          },
          "metadata": {
            "tags": [
              "id4-0-0",
              "outputarea_id4"
            ]
          }
        },
        {
          "output_type": "display_data",
          "data": {
            "application/javascript": [
              "window[\"b57e57ee-6648-11e9-94aa-0242ac1c0002\"] = google.colab.output.getActiveOutputArea();\n",
              "//# sourceURL=js_c74ce8da3e"
            ],
            "text/plain": [
              "<IPython.core.display.Javascript object>"
            ]
          },
          "metadata": {
            "tags": [
              "id4-0-0",
              "outputarea_id4"
            ]
          }
        },
        {
          "output_type": "display_data",
          "data": {
            "application/javascript": [
              "window[\"b57ed110-6648-11e9-94aa-0242ac1c0002\"] = document.querySelector(\"#id4-0-0\");\n",
              "//# sourceURL=js_615431490b"
            ],
            "text/plain": [
              "<IPython.core.display.Javascript object>"
            ]
          },
          "metadata": {
            "tags": [
              "id4-0-0",
              "outputarea_id4"
            ]
          }
        },
        {
          "output_type": "display_data",
          "data": {
            "application/javascript": [
              "window[\"b57f322c-6648-11e9-94aa-0242ac1c0002\"] = google.colab.output.setActiveOutputArea(window[\"b57ed110-6648-11e9-94aa-0242ac1c0002\"]);\n",
              "//# sourceURL=js_6921452fd8"
            ],
            "text/plain": [
              "<IPython.core.display.Javascript object>"
            ]
          },
          "metadata": {
            "tags": [
              "id4-0-0",
              "outputarea_id4"
            ]
          }
        },
        {
          "output_type": "display_data",
          "data": {
            "application/javascript": [
              "window[\"b681f57e-6648-11e9-94aa-0242ac1c0002\"] = google.colab.output.setActiveOutputArea(window[\"b57e57ee-6648-11e9-94aa-0242ac1c0002\"]);\n",
              "//# sourceURL=js_756073cb4d"
            ],
            "text/plain": [
              "<IPython.core.display.Javascript object>"
            ]
          },
          "metadata": {
            "tags": [
              "id4-0-0",
              "outputarea_id4"
            ]
          }
        },
        {
          "output_type": "display_data",
          "data": {
            "application/javascript": [
              "window[\"b686e868-6648-11e9-94aa-0242ac1c0002\"] = google.colab.output.getActiveOutputArea();\n",
              "//# sourceURL=js_c1901384df"
            ],
            "text/plain": [
              "<IPython.core.display.Javascript object>"
            ]
          },
          "metadata": {
            "tags": [
              "id4-0-0",
              "outputarea_id4"
            ]
          }
        },
        {
          "output_type": "display_data",
          "data": {
            "application/javascript": [
              "window[\"b6878c8c-6648-11e9-94aa-0242ac1c0002\"] = document.querySelector(\"#id4-0-0\");\n",
              "//# sourceURL=js_6c23ec13d2"
            ],
            "text/plain": [
              "<IPython.core.display.Javascript object>"
            ]
          },
          "metadata": {
            "tags": [
              "id4-0-0",
              "outputarea_id4"
            ]
          }
        },
        {
          "output_type": "display_data",
          "data": {
            "application/javascript": [
              "window[\"b6880bbc-6648-11e9-94aa-0242ac1c0002\"] = google.colab.output.setActiveOutputArea(window[\"b6878c8c-6648-11e9-94aa-0242ac1c0002\"]);\n",
              "//# sourceURL=js_86be925ae7"
            ],
            "text/plain": [
              "<IPython.core.display.Javascript object>"
            ]
          },
          "metadata": {
            "tags": [
              "id4-0-0",
              "outputarea_id4"
            ]
          }
        },
        {
          "output_type": "display_data",
          "data": {
            "image/png": "[encoded data removed]",
            "text/plain": [
              "<Figure size 576x576 with 4 Axes>"
            ]
          },
          "metadata": {
            "tags": [
              "id4-0-0",
              "outputarea_id4",
              "user_output"
            ]
          }
        },
        {
          "output_type": "display_data",
          "data": {
            "application/javascript": [
              "window[\"b799ca5e-6648-11e9-94aa-0242ac1c0002\"] = google.colab.output.setActiveOutputArea(window[\"b686e868-6648-11e9-94aa-0242ac1c0002\"]);\n",
              "//# sourceURL=js_7e16745381"
            ],
            "text/plain": [
              "<IPython.core.display.Javascript object>"
            ]
          },
          "metadata": {
            "tags": [
              "id4-0-0",
              "outputarea_id4"
            ]
          }
        }
      ]
    },
    {
      "metadata": {
        "id": "jrOCCqkbQkJM",
        "colab_type": "text"
      },
      "cell_type": "markdown",
      "source": [
        ""
      ]
    },
    {
      "metadata": {
        "id": "ZXe8To7ZQhju",
        "colab_type": "text"
      },
      "cell_type": "markdown",
      "source": [
        ""
      ]
    },
    {
      "metadata": {
        "id": "Ei12eOkav8IX",
        "colab_type": "text"
      },
      "cell_type": "markdown",
      "source": [
        "## k-means Clustering\n"
      ]
    },
    {
      "metadata": {
        "id": "JUPYvl0Z8HaP",
        "colab_type": "text"
      },
      "cell_type": "markdown",
      "source": [
        "## DBSCAN Clustering"
      ]
    },
    {
      "metadata": {
        "id": "ZNpM4wfH8LOG",
        "colab_type": "text"
      },
      "cell_type": "markdown",
      "source": [
        "## Spectral Clustering"
      ]
    },
    {
      "metadata": {
        "id": "8Rd3WNqR8Nb0",
        "colab_type": "text"
      },
      "cell_type": "markdown",
      "source": [
        "## Gaussian Mixture Clustering"
      ]
    }
  ]
}