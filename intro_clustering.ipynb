{
  "nbformat": 4,
  "nbformat_minor": 0,
  "metadata": {
    "colab": {
      "name": "intro_clustering.ipynb",
      "version": "0.3.2",
      "provenance": [],
      "include_colab_link": true
    },
    "kernelspec": {
      "name": "python3",
      "display_name": "Python 3"
    }
  },
  "cells": [
    {
      "cell_type": "markdown",
      "metadata": {
        "id": "view-in-github",
        "colab_type": "text"
      },
      "source": [
        "<a href=\"https://colab.research.google.com/github/mlites/mlites2019/blob/master/intro_clustering.ipynb\" target=\"_parent\"><img src=\"https://colab.research.google.com/assets/colab-badge.svg\" alt=\"Open In Colab\"/></a>"
      ]
    },
    {
      "metadata": {
        "id": "Rz1faBGsv-eN",
        "colab_type": "text"
      },
      "cell_type": "markdown",
      "source": [
        "# Introduction to Clustering\n",
        "\n",
        "Hello! This lesson will introduce you to Clustering using a number of Unsupervised Machine Learning algorithms including k-means, DBSCAN, Spectral Clustering, and Gaussian Mixture Modeling.\n",
        "\n",
        "Along the way, we'll learn about feature scaling, feature selection, expectation maximization, and other tools in the machine learning toolbox.\n",
        "\n",
        "If you haven't already, make sure to run [kaggle_introduction.ipynb](https://colab.research.google.com/github/mlites/mlites2019/blob/master/kaggle_introduction.ipynb) to download the necessary datasets and set up the environment."
      ]
    },
    {
      "metadata": {
        "id": "IzFuvInX8Zvo",
        "colab_type": "text"
      },
      "cell_type": "markdown",
      "source": [
        "## Genomic Dataset Background\n",
        "\n",
        "The dataset we'll use for this lesson is based on the Kaggle dataset [Decontamination of Microbial Genomes](https://www.kaggle.com/rec3141/biol342-genome-data). The dataset is the result of 3 years of student work in the General Microbiology course at the University of Alaska Fairbanks. In each year, students cultured a microorganism from the environment and subjected it to DNA sequencing.\n",
        "\n",
        "For various reasons, some of the cultures were impure, containing 2, 3, or more microorganisms. The goal of our unsupervised machine learning clustering is to separate out (i.e. label) the fragments of DNA belonging to each of the microorganisms.\n",
        "\n",
        "The dataset is organized by anonymized student ids (\"samples\") and DNA fragments, which are also known as contigs (for \"contiguous sequences\"). These contigs have been assembled from raw DNA reads using an *assembler* called SPAdes after various quality control steps. The contigs are named sequentially by student id and order by decreasing length, e.g. student0_1, student0_2, student0_3, etc. More detailed information about the dataset can be found [here](https://www.kaggle.com/rec3141/biol342-genome-data).\n",
        "\n",
        "The dataset consists of 5 files, although for now we'll focus just on the 1st file.\n",
        "\n",
        "1. biol342_cov_len_gc.tsv\n",
        "    * contains the sequencing coverage, length, and G+C content of each contig\n",
        "2. biol342_depths.tsv\n",
        "    * containing the sequencing depth of each contig in each sample\n",
        "3. biol342_paired.tsv\n",
        "    * contains the number of raw reads spanning each pair of contigs\n",
        "4. biol342_tax.tsv\n",
        "    * contains taxonomic labels based on comparison to a large database\n",
        "5. biol342_tnf.tsv\n",
        "    * contains the tetranucleotide frequencies of each contig\n"
      ]
    },
    {
      "metadata": {
        "id": "qxEAQfFR_p_A",
        "colab_type": "text"
      },
      "cell_type": "markdown",
      "source": [
        "## Visualizing the data\n",
        "\n",
        "It's always a good idea to start off by looking at some of the data.\n",
        "\n",
        "Let's read it into a pandas dataframe\n",
        "\n"
      ]
    },
    {
      "metadata": {
        "id": "axIphhcmAeI_",
        "colab_type": "code",
        "colab": {
          "base_uri": "https://localhost:8080/",
          "height": 204
        },
        "outputId": "9097dfc4-c37f-4d1b-b026-d3f7f8f78b4d"
      },
      "cell_type": "code",
      "source": [
        "import pandas as pd\n",
        "#note the use of the sep=\"\\t\" option to tell pandas that the data is tab-separated\n",
        "clg = pd.read_csv(\"biol342_cov_len_gc.tsv\",sep='\\t') \n",
        "\n",
        "clg.head()"
      ],
      "execution_count": 3,
      "outputs": [
        {
          "output_type": "execute_result",
          "data": {
            "text/html": [
              "<div>\n",
              "<style scoped>\n",
              "    .dataframe tbody tr th:only-of-type {\n",
              "        vertical-align: middle;\n",
              "    }\n",
              "\n",
              "    .dataframe tbody tr th {\n",
              "        vertical-align: top;\n",
              "    }\n",
              "\n",
              "    .dataframe thead th {\n",
              "        text-align: right;\n",
              "    }\n",
              "</style>\n",
              "<table border=\"1\" class=\"dataframe\">\n",
              "  <thead>\n",
              "    <tr style=\"text-align: right;\">\n",
              "      <th></th>\n",
              "      <th>contig</th>\n",
              "      <th>student</th>\n",
              "      <th>cov</th>\n",
              "      <th>len</th>\n",
              "      <th>gc</th>\n",
              "    </tr>\n",
              "  </thead>\n",
              "  <tbody>\n",
              "    <tr>\n",
              "      <th>0</th>\n",
              "      <td>student0_1</td>\n",
              "      <td>student0</td>\n",
              "      <td>29.0114</td>\n",
              "      <td>255873</td>\n",
              "      <td>0.4995</td>\n",
              "    </tr>\n",
              "    <tr>\n",
              "      <th>1</th>\n",
              "      <td>student0_2</td>\n",
              "      <td>student0</td>\n",
              "      <td>31.5053</td>\n",
              "      <td>190425</td>\n",
              "      <td>0.5151</td>\n",
              "    </tr>\n",
              "    <tr>\n",
              "      <th>2</th>\n",
              "      <td>student0_3</td>\n",
              "      <td>student0</td>\n",
              "      <td>39.5121</td>\n",
              "      <td>149891</td>\n",
              "      <td>0.5077</td>\n",
              "    </tr>\n",
              "    <tr>\n",
              "      <th>3</th>\n",
              "      <td>student0_4</td>\n",
              "      <td>student0</td>\n",
              "      <td>37.9206</td>\n",
              "      <td>135958</td>\n",
              "      <td>0.5212</td>\n",
              "    </tr>\n",
              "    <tr>\n",
              "      <th>4</th>\n",
              "      <td>student0_5</td>\n",
              "      <td>student0</td>\n",
              "      <td>34.0143</td>\n",
              "      <td>121845</td>\n",
              "      <td>0.5204</td>\n",
              "    </tr>\n",
              "  </tbody>\n",
              "</table>\n",
              "</div>"
            ],
            "text/plain": [
              "       contig   student      cov     len      gc\n",
              "0  student0_1  student0  29.0114  255873  0.4995\n",
              "1  student0_2  student0  31.5053  190425  0.5151\n",
              "2  student0_3  student0  39.5121  149891  0.5077\n",
              "3  student0_4  student0  37.9206  135958  0.5212\n",
              "4  student0_5  student0  34.0143  121845  0.5204"
            ]
          },
          "metadata": {
            "tags": []
          },
          "execution_count": 3
        }
      ]
    },
    {
      "metadata": {
        "id": "bOfir7l6BEKQ",
        "colab_type": "text"
      },
      "cell_type": "markdown",
      "source": [
        "Let's take a subset of data from a single student.\n",
        "\n",
        "Here's a few different way to do the same task, which is called *subsetting* or *slicing* the array.\n"
      ]
    },
    {
      "metadata": {
        "id": "sLTcsIQQBHTS",
        "colab_type": "code",
        "colab": {
          "base_uri": "https://localhost:8080/",
          "height": 731
        },
        "outputId": "75655ca1-e06e-4ab7-b66d-9bfa6acb8162"
      },
      "cell_type": "code",
      "source": [
        "print(\"select rows where index 'student' equals 'student0' using dot notation\")\n",
        "stu = clg[clg.student==\"student0\"]\n",
        "print(stu.head())\n",
        "\n",
        "print(\"select rows where index 'student' equals 'student0' using index notation\")\n",
        "stu = clg[clg['student']==\"student0\"]\n",
        "print(stu.head())\n",
        "\n",
        "print(\"generate a boolean which is True when index 'student' equals 'student0'\")\n",
        "pick_stu = clg['student']==\"student0\"\n",
        "stu = clg[pick_stu]\n",
        "print(stu.head())\n",
        "\n",
        "print(\"use matching via the isin() function\")\n",
        "pick_stu = ['student0']\n",
        "stu = clg[clg.student.isin(pick_stu)]\n",
        "print(stu.head())\n",
        "\n",
        "print(\"selecting on multiple conditions\")\n",
        "pick_stu = ['student0']\n",
        "stu = clg[clg.student.isin(pick_stu) & (clg.gc > 0.5)] #the parantheses around the second comparison are required\n",
        "print(stu.head())\n",
        "\n",
        "print(\"selecting the inverse\")\n",
        "pick_stu = ['student0']\n",
        "stu = clg[~clg.student.isin(pick_stu)]\n",
        "print(stu.head())\n"
      ],
      "execution_count": 21,
      "outputs": [
        {
          "output_type": "stream",
          "text": [
            "select rows where index 'student' equals 'student0' using dot notation\n",
            "       contig   student      cov     len      gc\n",
            "0  student0_1  student0  29.0114  255873  0.4995\n",
            "1  student0_2  student0  31.5053  190425  0.5151\n",
            "2  student0_3  student0  39.5121  149891  0.5077\n",
            "3  student0_4  student0  37.9206  135958  0.5212\n",
            "4  student0_5  student0  34.0143  121845  0.5204\n",
            "select rows where index 'student' equals 'student0' using index notation\n",
            "       contig   student      cov     len      gc\n",
            "0  student0_1  student0  29.0114  255873  0.4995\n",
            "1  student0_2  student0  31.5053  190425  0.5151\n",
            "2  student0_3  student0  39.5121  149891  0.5077\n",
            "3  student0_4  student0  37.9206  135958  0.5212\n",
            "4  student0_5  student0  34.0143  121845  0.5204\n",
            "generate a boolean which is True when index 'student' equals 'student0'\n",
            "       contig   student      cov     len      gc\n",
            "0  student0_1  student0  29.0114  255873  0.4995\n",
            "1  student0_2  student0  31.5053  190425  0.5151\n",
            "2  student0_3  student0  39.5121  149891  0.5077\n",
            "3  student0_4  student0  37.9206  135958  0.5212\n",
            "4  student0_5  student0  34.0143  121845  0.5204\n",
            "use matching via the isin() function\n",
            "       contig   student      cov     len      gc\n",
            "0  student0_1  student0  29.0114  255873  0.4995\n",
            "1  student0_2  student0  31.5053  190425  0.5151\n",
            "2  student0_3  student0  39.5121  149891  0.5077\n",
            "3  student0_4  student0  37.9206  135958  0.5212\n",
            "4  student0_5  student0  34.0143  121845  0.5204\n",
            "selecting on multiple conditions\n",
            "       contig   student      cov     len      gc\n",
            "1  student0_2  student0  31.5053  190425  0.5151\n",
            "2  student0_3  student0  39.5121  149891  0.5077\n",
            "3  student0_4  student0  37.9206  135958  0.5212\n",
            "4  student0_5  student0  34.0143  121845  0.5204\n",
            "5  student0_6  student0  30.4397  117759  0.5067\n",
            "selecting the inverse\n",
            "          contig   student      cov     len      gc\n",
            "3265  student1_1  student1  72.4899  438181  0.3090\n",
            "3266  student1_2  student1  88.8412  412276  0.3188\n",
            "3267  student1_3  student1  75.2792  225214  0.3125\n",
            "3268  student1_4  student1  65.1923  175073  0.3082\n",
            "3269  student1_5  student1  60.8767  153798  0.3027\n"
          ],
          "name": "stdout"
        }
      ]
    },
    {
      "metadata": {
        "id": "GTXiJSmREYbG",
        "colab_type": "text"
      },
      "cell_type": "markdown",
      "source": [
        "Let's go ahead and plot all of the samples dynamically"
      ]
    },
    {
      "metadata": {
        "id": "CBlIPX4pEhrS",
        "colab_type": "code",
        "colab": {}
      },
      "cell_type": "code",
      "source": [
        "import colab.widgets as widgets\n"
      ],
      "execution_count": 0,
      "outputs": []
    },
    {
      "metadata": {
        "id": "VTCm4MIWEXLS",
        "colab_type": "code",
        "colab": {}
      },
      "cell_type": "code",
      "source": [
        ""
      ],
      "execution_count": 0,
      "outputs": []
    },
    {
      "metadata": {
        "id": "Ei12eOkav8IX",
        "colab_type": "text"
      },
      "cell_type": "markdown",
      "source": [
        "## k-means Clustering\n"
      ]
    },
    {
      "metadata": {
        "id": "JUPYvl0Z8HaP",
        "colab_type": "text"
      },
      "cell_type": "markdown",
      "source": [
        "## DBSCAN Clustering"
      ]
    },
    {
      "metadata": {
        "id": "ZNpM4wfH8LOG",
        "colab_type": "text"
      },
      "cell_type": "markdown",
      "source": [
        "## Spectral Clustering"
      ]
    },
    {
      "metadata": {
        "id": "8Rd3WNqR8Nb0",
        "colab_type": "text"
      },
      "cell_type": "markdown",
      "source": [
        "## Gaussian Mixture Clustering"
      ]
    }
  ]
}