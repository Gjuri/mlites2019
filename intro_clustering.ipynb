{
  "nbformat": 4,
  "nbformat_minor": 0,
  "metadata": {
    "colab": {
      "name": "intro_clustering.ipynb",
      "version": "0.3.2",
      "provenance": [],
      "include_colab_link": true
    },
    "kernelspec": {
      "name": "python3",
      "display_name": "Python 3"
    }
  },
  "cells": [
    {
      "cell_type": "markdown",
      "metadata": {
        "id": "view-in-github",
        "colab_type": "text"
      },
      "source": [
        "<a href=\"https://colab.research.google.com/github/mlites/mlites2019/blob/master/intro_clustering.ipynb\" target=\"_parent\"><img src=\"https://colab.research.google.com/assets/colab-badge.svg\" alt=\"Open In Colab\"/></a>"
      ]
    },
    {
      "metadata": {
        "id": "Rz1faBGsv-eN",
        "colab_type": "text"
      },
      "cell_type": "markdown",
      "source": [
        "# Introduction to Clustering\n",
        "\n",
        "Hello! This lesson will introduce you to Clustering using a number of Unsupervised Machine Learning algorithms. Along the way, we'll learn about feature scaling, feature selection, and other tools in the machine learning toolbox. In this lesson we'll be using a dataset derived from DNA sequences, but by no means is this the only kind of data to which these tools can be applied. As you're working through the lesson, keep in mind what other applications you might have for these techniques.\n",
        "\n",
        "### sklearn clustering algorithms\n",
        "sklearn has [lots of clustering algorithms](https://scikit-learn.org/stable/auto_examples/cluster/plot_cluster_comparison.html) to choose from,  including k-means, DBSCAN, Agglomerative Clustering, Spectral Clustering, and Gaussian Mixture Modeling. We'll talk about those here and leave the others for future exploration. Each of them has their strengths and weaknesses, and may or may not be applicable to any given clustering task.\n",
        "\n",
        "![sklearn clustering algorithms](https://github.com/mlites/mlites2019/raw/master/figs/clustering-comparison.png)\n",
        "\n",
        "### Setup\n",
        "If you haven't already, make sure to run [kaggle_introduction.ipynb](https://colab.research.google.com/github/mlites/mlites2019/blob/master/kaggle_introduction.ipynb) to download the necessary datasets and set up the environment."
      ]
    },
    {
      "metadata": {
        "id": "IzFuvInX8Zvo",
        "colab_type": "text"
      },
      "cell_type": "markdown",
      "source": [
        "## Genomic Dataset Background\n",
        "\n",
        "The dataset we'll use for this lesson is based on the Kaggle dataset [Decontamination of Microbial Genomes](https://www.kaggle.com/rec3141/biol342-genome-data). The dataset is the result of 3 years of student work in the General Microbiology course at the University of Alaska Fairbanks. In each year, students cultured a microorganism from the environment and subjected it to shotgun genome sequencing.\n",
        "\n",
        "For various reasons, some of the cultures were impure, containing 2, 3, or more microorganisms. The goal of our unsupervised machine learning clustering is to separate out (i.e. label) the fragments of DNA belonging to each of the microorganisms.\n",
        "\n",
        "The dataset is organized by anonymized student ids (\"samples\") and DNA fragments, which are also known as contigs (for \"contiguous sequences\"). These contigs have been assembled from raw DNA reads using an *assembler* after various quality control steps. The contigs are named sequentially by student id and ordered by decreasing length, e.g.\n",
        "\n",
        "  * student0_1 #note that students are 0 indexed\n",
        "  * student0_2 #but contigs are 1 indexed\n",
        "  * student1_1\n",
        "  * student1_2\n",
        "\n",
        "More detailed information about the dataset can be found [here](https://www.kaggle.com/rec3141/biol342-genome-data). The dataset consists of 5 files, although for now we'll focus just on the 1st file.\n",
        "\n",
        "1. biol342_cov_len_gc.tsv\n",
        "    * contains the sequencing coverage, length, and G+C content of each contig\n",
        "2. biol342_depths.tsv\n",
        "    * contains the sequencing coverage (aka depth) of each contig in each sample\n",
        "3. biol342_paired.tsv\n",
        "    * contains the number of reads spanning each pair of contigs\n",
        "4. biol342_tax.tsv\n",
        "    * contains taxonomic labels based on comparison to a large database\n",
        "5. biol342_tnf.tsv\n",
        "    * contains the tetranucleotide frequencies of each contig\n"
      ]
    },
    {
      "metadata": {
        "id": "Poda2GdI3Lk0",
        "colab_type": "text"
      },
      "cell_type": "markdown",
      "source": [
        "## Genomics Dataset Details\n",
        "\n",
        "Once the reads have been assembled into contigs, there are many different things we can do with them. For now we'll start by looking at these features:\n",
        "  * sequencing **coverage**, relates to how many times on average each contig was observed in the dataset; in general, higher is better\n",
        "  * the **length**, in basepairs of DNA; in general, higher is better\n",
        "  * the **G+C content**, calculated as (G + C)/(A +T + C + G); in general, different organisms tend to have different mean G+C content, but many also have outliers that encode important information\n",
        "\n",
        "Here is an example contig in FASTA format.\n",
        "```\n",
        ">student999_108\n",
        "AGCTGCCATCAGAAACGGTTAAATCAACCGCCGGCAGCGTGCCGCCGTTGTTAACCAAGT\n",
        "CAGCACCCGCTTGGGTTAATACCACTTCGCCGTTCACTAACGCGTAGTAACCGTCGTCAT\n",
        "TGCTGCCAGGGGTAAAGTCAACCGTCAGTAAATCACCGTCTTCATCAAAGGTGGTGTAGG\n",
        "TTGCGGCCACATCGCCATCGACGGCGCTGTTTTCAGTAAAGTCATTGGCGACCACATCAA\n",
        "TGGTCGGCGCATCGTTGGTCGGAGTGATCACCGGAGTGTCACTGTCTTGGCCAGTTAAGC\n",
        "TGCCATCAGAGACGGTTAAATCCACTGGTGGCAGGGTGCCGCCGTTGTTCACGAGATCCG\n",
        "CACCGGCTTGGGTTAACACCACTTCGCCGTTGACCAACGCATAGTAACCGTCGTCATTGC\n",
        "TGCCTGGAGTGAAGTCGACCGTCAGTAAATCACCGTCTTCATCAAAAGTGGTGTAGGTTG\n",
        "CAGCCACATCGCCATCGACGGCGCTGTTTTCAGTAAAGTCATTGGCGACCACATCAATGG\n",
        "```\n",
        "\n",
        "For this contig we can directly measure the following properties:\n",
        "  * the length is 540 bp\n",
        "  * the G+C content is 53.8%\n",
        "\n",
        "To calculate the coverage, we *map* the raw sequencing reads from each sample against each contig and count up the average number of times each basepair of the contig was mapped\n",
        "  ![Example of read mapping](https://github.com/mlites/mlites2019/raw/master/figs/coverage-mapping.png)\n",
        "  "
      ]
    },
    {
      "metadata": {
        "id": "qxEAQfFR_p_A",
        "colab_type": "text"
      },
      "cell_type": "markdown",
      "source": [
        "## Preparing the data\n",
        "\n",
        "It's always a good idea to start off by looking at some of the data.\n",
        "\n",
        "Let's read it into a pandas dataframe\n",
        "\n"
      ]
    },
    {
      "metadata": {
        "id": "axIphhcmAeI_",
        "colab_type": "code",
        "colab": {
          "base_uri": "https://localhost:8080/",
          "height": 204
        },
        "outputId": "6c68bbbf-3140-44a7-b229-e4785d8658d8"
      },
      "cell_type": "code",
      "source": [
        "import pandas as pd\n",
        "#note the use of the sep=\"\\t\" option to tell pandas that the data is tab-separated\n",
        "clg = pd.read_csv(\"biol342_cov_len_gc.tsv\",sep='\\t') \n",
        "\n",
        "clg.head()"
      ],
      "execution_count": 11,
      "outputs": [
        {
          "output_type": "execute_result",
          "data": {
            "text/html": [
              "<div>\n",
              "<style scoped>\n",
              "    .dataframe tbody tr th:only-of-type {\n",
              "        vertical-align: middle;\n",
              "    }\n",
              "\n",
              "    .dataframe tbody tr th {\n",
              "        vertical-align: top;\n",
              "    }\n",
              "\n",
              "    .dataframe thead th {\n",
              "        text-align: right;\n",
              "    }\n",
              "</style>\n",
              "<table border=\"1\" class=\"dataframe\">\n",
              "  <thead>\n",
              "    <tr style=\"text-align: right;\">\n",
              "      <th></th>\n",
              "      <th>contig</th>\n",
              "      <th>student</th>\n",
              "      <th>cov</th>\n",
              "      <th>len</th>\n",
              "      <th>gc</th>\n",
              "    </tr>\n",
              "  </thead>\n",
              "  <tbody>\n",
              "    <tr>\n",
              "      <th>0</th>\n",
              "      <td>student0_1</td>\n",
              "      <td>student0</td>\n",
              "      <td>29.0114</td>\n",
              "      <td>255873</td>\n",
              "      <td>0.4995</td>\n",
              "    </tr>\n",
              "    <tr>\n",
              "      <th>1</th>\n",
              "      <td>student0_2</td>\n",
              "      <td>student0</td>\n",
              "      <td>31.5053</td>\n",
              "      <td>190425</td>\n",
              "      <td>0.5151</td>\n",
              "    </tr>\n",
              "    <tr>\n",
              "      <th>2</th>\n",
              "      <td>student0_3</td>\n",
              "      <td>student0</td>\n",
              "      <td>39.5121</td>\n",
              "      <td>149891</td>\n",
              "      <td>0.5077</td>\n",
              "    </tr>\n",
              "    <tr>\n",
              "      <th>3</th>\n",
              "      <td>student0_4</td>\n",
              "      <td>student0</td>\n",
              "      <td>37.9206</td>\n",
              "      <td>135958</td>\n",
              "      <td>0.5212</td>\n",
              "    </tr>\n",
              "    <tr>\n",
              "      <th>4</th>\n",
              "      <td>student0_5</td>\n",
              "      <td>student0</td>\n",
              "      <td>34.0143</td>\n",
              "      <td>121845</td>\n",
              "      <td>0.5204</td>\n",
              "    </tr>\n",
              "  </tbody>\n",
              "</table>\n",
              "</div>"
            ],
            "text/plain": [
              "       contig   student      cov     len      gc\n",
              "0  student0_1  student0  29.0114  255873  0.4995\n",
              "1  student0_2  student0  31.5053  190425  0.5151\n",
              "2  student0_3  student0  39.5121  149891  0.5077\n",
              "3  student0_4  student0  37.9206  135958  0.5212\n",
              "4  student0_5  student0  34.0143  121845  0.5204"
            ]
          },
          "metadata": {
            "tags": []
          },
          "execution_count": 11
        }
      ]
    },
    {
      "metadata": {
        "id": "aJAYqeXk5q_K",
        "colab_type": "code",
        "colab": {
          "base_uri": "https://localhost:8080/",
          "height": 85
        },
        "outputId": "c7029aef-4f52-48af-cf98-0f917a372fd8"
      },
      "cell_type": "code",
      "source": [
        "# note that pd.cov() is a pandas dataframe function to calculate the pairwise covariance of columns\n",
        "print(clg.cov())\n",
        "\n",
        "# so it's best if we rename the 'cov' column to 'coverage' to avoid any future confusion\n",
        "clg.rename(columns={'cov':'coverage'},inplace=True)"
      ],
      "execution_count": 12,
      "outputs": [
        {
          "output_type": "stream",
          "text": [
            "              cov           len         gc\n",
            "cov   1345.873335  7.869703e+04  -0.264883\n",
            "len  78697.029290  5.741991e+08 -49.321021\n",
            "gc      -0.264883 -4.932102e+01   0.018683\n"
          ],
          "name": "stdout"
        }
      ]
    },
    {
      "metadata": {
        "id": "3Fd9FgA6dvFl",
        "colab_type": "text"
      },
      "cell_type": "markdown",
      "source": [
        "What kind of data do we have?\n",
        "\n",
        "The main data types for pandas dataframes are:\n",
        "* **int64** - whole numbers, integers\n",
        "* **float** - decimals\n",
        "* **object** - most general type, mixed numbers and letters\n",
        "* **category** - assigned labels such as [small, medium, large]\n",
        "* **datetime** - special date+time type"
      ]
    },
    {
      "metadata": {
        "id": "-nSMuZ42d0H7",
        "colab_type": "code",
        "colab": {
          "base_uri": "https://localhost:8080/",
          "height": 187
        },
        "outputId": "18cb471d-d075-4ea8-fd68-441a9e837316"
      },
      "cell_type": "code",
      "source": [
        "clg.info()"
      ],
      "execution_count": 13,
      "outputs": [
        {
          "output_type": "stream",
          "text": [
            "<class 'pandas.core.frame.DataFrame'>\n",
            "RangeIndex: 142380 entries, 0 to 142379\n",
            "Data columns (total 5 columns):\n",
            "contig      142380 non-null object\n",
            "student     142380 non-null object\n",
            "coverage    142380 non-null float64\n",
            "len         142380 non-null int64\n",
            "gc          142380 non-null float64\n",
            "dtypes: float64(2), int64(1), object(2)\n",
            "memory usage: 5.4+ MB\n"
          ],
          "name": "stdout"
        }
      ]
    },
    {
      "metadata": {
        "id": "pKT8AKfJRs3i",
        "colab_type": "text"
      },
      "cell_type": "markdown",
      "source": [
        "Let's first take a broad look at the distributions of the data using the pandas describe() function.\n",
        "\n",
        "**Questions**:\n",
        "  * In total how many contigs are in the dataset?\n",
        "  * What is the mean and standard deviation of G+C content of the whole dataset?\n",
        "  * What are the minimum and maximum coverages in the dataset?\n",
        "  * What are the minimum and maximum lengths in the dataset?"
      ]
    },
    {
      "metadata": {
        "id": "UFBm8uhrcLPj",
        "colab_type": "code",
        "colab": {
          "base_uri": "https://localhost:8080/",
          "height": 297
        },
        "outputId": "519f5471-d866-4bf8-800c-6541f571b0b1"
      },
      "cell_type": "code",
      "source": [
        "clg.describe()"
      ],
      "execution_count": 3,
      "outputs": [
        {
          "output_type": "execute_result",
          "data": {
            "text/html": [
              "<div>\n",
              "<style scoped>\n",
              "    .dataframe tbody tr th:only-of-type {\n",
              "        vertical-align: middle;\n",
              "    }\n",
              "\n",
              "    .dataframe tbody tr th {\n",
              "        vertical-align: top;\n",
              "    }\n",
              "\n",
              "    .dataframe thead th {\n",
              "        text-align: right;\n",
              "    }\n",
              "</style>\n",
              "<table border=\"1\" class=\"dataframe\">\n",
              "  <thead>\n",
              "    <tr style=\"text-align: right;\">\n",
              "      <th></th>\n",
              "      <th>coverage</th>\n",
              "      <th>len</th>\n",
              "      <th>gc</th>\n",
              "    </tr>\n",
              "  </thead>\n",
              "  <tbody>\n",
              "    <tr>\n",
              "      <th>count</th>\n",
              "      <td>142380.000000</td>\n",
              "      <td>1.423800e+05</td>\n",
              "      <td>142380.000000</td>\n",
              "    </tr>\n",
              "    <tr>\n",
              "      <th>mean</th>\n",
              "      <td>7.596764</td>\n",
              "      <td>4.278103e+03</td>\n",
              "      <td>0.531938</td>\n",
              "    </tr>\n",
              "    <tr>\n",
              "      <th>std</th>\n",
              "      <td>36.686146</td>\n",
              "      <td>2.396245e+04</td>\n",
              "      <td>0.136685</td>\n",
              "    </tr>\n",
              "    <tr>\n",
              "      <th>min</th>\n",
              "      <td>0.000000</td>\n",
              "      <td>1.280000e+02</td>\n",
              "      <td>0.000000</td>\n",
              "    </tr>\n",
              "    <tr>\n",
              "      <th>25%</th>\n",
              "      <td>1.258200</td>\n",
              "      <td>5.110000e+02</td>\n",
              "      <td>0.418200</td>\n",
              "    </tr>\n",
              "    <tr>\n",
              "      <th>50%</th>\n",
              "      <td>1.995800</td>\n",
              "      <td>7.480000e+02</td>\n",
              "      <td>0.537300</td>\n",
              "    </tr>\n",
              "    <tr>\n",
              "      <th>75%</th>\n",
              "      <td>3.864225</td>\n",
              "      <td>1.560000e+03</td>\n",
              "      <td>0.630100</td>\n",
              "    </tr>\n",
              "    <tr>\n",
              "      <th>max</th>\n",
              "      <td>2647.348100</td>\n",
              "      <td>2.231226e+06</td>\n",
              "      <td>1.000000</td>\n",
              "    </tr>\n",
              "  </tbody>\n",
              "</table>\n",
              "</div>"
            ],
            "text/plain": [
              "            coverage           len             gc\n",
              "count  142380.000000  1.423800e+05  142380.000000\n",
              "mean        7.596764  4.278103e+03       0.531938\n",
              "std        36.686146  2.396245e+04       0.136685\n",
              "min         0.000000  1.280000e+02       0.000000\n",
              "25%         1.258200  5.110000e+02       0.418200\n",
              "50%         1.995800  7.480000e+02       0.537300\n",
              "75%         3.864225  1.560000e+03       0.630100\n",
              "max      2647.348100  2.231226e+06       1.000000"
            ]
          },
          "metadata": {
            "tags": []
          },
          "execution_count": 3
        }
      ]
    },
    {
      "metadata": {
        "id": "8vPzYFX8cQp-",
        "colab_type": "text"
      },
      "cell_type": "markdown",
      "source": [
        "### Plotting histograms\n",
        "\n",
        "Next look at the distributions using the hist() function in matplotlib to make a histogram."
      ]
    },
    {
      "metadata": {
        "id": "VTCm4MIWEXLS",
        "colab_type": "code",
        "colab": {
          "base_uri": "https://localhost:8080/",
          "height": 297
        },
        "outputId": "2d299fd4-5b08-4d2c-e6ce-69c14655c754"
      },
      "cell_type": "code",
      "source": [
        "import matplotlib.pyplot as plt\n",
        "\n",
        "plt.figure(figsize=(12,4))\n",
        "\n",
        "plt.subplot(1,3,1)\n",
        "hist_cov = plt.hist(clg.coverage, 100) #using 100 bins\n",
        "plt.title(\"coverage\")\n",
        "\n",
        "plt.subplot(1,3,2)\n",
        "hist_len = plt.hist(clg.len, 100)\n",
        "plt.title(\"length\")\n",
        "\n",
        "plt.subplot(1,3,3)\n",
        "hist_gc = plt.hist(clg.gc, 100)\n",
        "plt.title(\"G+C content\")\n",
        "\n",
        "plt.tight_layout()\n",
        "plt.show()"
      ],
      "execution_count": 14,
      "outputs": [
        {
          "output_type": "display_data",
          "data": {
            "image/png": "[encoded data removed]",
            "text/plain": [
              "<Figure size 864x288 with 3 Axes>"
            ]
          },
          "metadata": {
            "tags": []
          }
        }
      ]
    },
    {
      "metadata": {
        "id": "v-EZGX9BSA8b",
        "colab_type": "text"
      },
      "cell_type": "markdown",
      "source": [
        "It looks like the coverage and length data are skewed to have very long right tails. In cases like this it is often useful to transform the data.\n",
        "\n",
        "One common transform is to use the logarithms instead. Let's try that and re-plot the data."
      ]
    },
    {
      "metadata": {
        "id": "Dx9VGHZwTFlM",
        "colab_type": "code",
        "colab": {
          "base_uri": "https://localhost:8080/",
          "height": 297
        },
        "outputId": "18ab1801-24e5-425e-9f0f-cbe58890d8d5"
      },
      "cell_type": "code",
      "source": [
        "import math\n",
        "import numpy as np\n",
        "\n",
        "# add new log-transformed features to the dataset\n",
        "# need to use np.log rather than math.log when working with numpy arrays\n",
        "# also using np.log1p because some of the coverages are zeros and log(0) is indefinite\n",
        "clg[\"log_coverage\"] = np.log1p(clg[\"coverage\"])\n",
        "clg[\"log_len\"] = np.log10(clg[\"len\"])\n",
        "\n",
        "plt.figure(figsize=(12,4))\n",
        "\n",
        "plt.subplot(1,3,1)\n",
        "hist_cov = plt.hist(clg.log_coverage, 100)\n",
        "plt.title(\"log coverage\")\n",
        "\n",
        "plt.subplot(1,3,2)\n",
        "hist_len = plt.hist(clg.log_len, 100)\n",
        "plt.title(\"log length\")\n",
        "\n",
        "plt.subplot(1,3,3)\n",
        "hist_gc = plt.hist(clg.gc, 100)\n",
        "plt.title(\"G+C content\")\n",
        "\n",
        "plt.tight_layout()\n",
        "plt.show()"
      ],
      "execution_count": 15,
      "outputs": [
        {
          "output_type": "display_data",
          "data": {
            "image/png": "[encoded data removed]",
            "text/plain": [
              "<Figure size 864x288 with 3 Axes>"
            ]
          },
          "metadata": {
            "tags": []
          }
        }
      ]
    },
    {
      "metadata": {
        "id": "Py_gD0v2WK3i",
        "colab_type": "text"
      },
      "cell_type": "markdown",
      "source": [
        "That looks much better. You could also try another transform called the Box-Cox power transform, which can be called from sklearn.\n",
        "\n",
        "https://scikit-learn.org/stable/modules/preprocessing.html"
      ]
    },
    {
      "metadata": {
        "id": "7bEFWQyIWdj1",
        "colab_type": "code",
        "colab": {}
      },
      "cell_type": "code",
      "source": [
        "import sklearn\n",
        "from sklearn.preprocessing import PowerTransformer\n",
        "\n",
        "# add new Box-Cox transformed features to the dataset\n",
        "# need to pass pandas columns to sklearn as an array like this: [clg[\"coverage\"]]\n",
        "pt = PowerTransformer()\n",
        "pt.fit([clg[\"coverage\"].values])\n",
        "clg[\"boxcox_coverage\"] = pt.transform([clg[\"coverage\"]])\n",
        "\n",
        "clg[\"boxcox_len\"] = PowerTransformer().fit([clg[\"len\"]]).transform([clg[\"len\"]])\n",
        "\n",
        "plt.figure(figsize=(12,4))\n",
        "\n",
        "plt.subplot(1,3,1)\n",
        "hist_cov = plt.hist(clg.boxcox_coverage, 100)\n",
        "plt.title(\"Box-Cox coverage\")\n",
        "\n",
        "plt.subplot(1,3,2)\n",
        "hist_len = plt.hist(clg.boxcox_len, 100)\n",
        "plt.title(\"Box-Cox length\")\n",
        "\n",
        "plt.subplot(1,3,3)\n",
        "hist_gc = plt.hist(clg.gc, 100)\n",
        "plt.title(\"G+C content\")\n",
        "\n",
        "plt.tight_layout()\n",
        "plt.show()"
      ],
      "execution_count": 0,
      "outputs": []
    },
    {
      "metadata": {
        "id": "bOfir7l6BEKQ",
        "colab_type": "text"
      },
      "cell_type": "markdown",
      "source": [
        "### Taking a subset of rows\n",
        "\n",
        "Now let's take a subset of data from a single student.\n",
        "\n",
        "Here's a few different way to do the same task, which is called *subsetting* or *slicing* the array.\n"
      ]
    },
    {
      "metadata": {
        "id": "sLTcsIQQBHTS",
        "colab_type": "code",
        "colab": {
          "base_uri": "https://localhost:8080/",
          "height": 731
        },
        "outputId": "1987c7b1-608c-407d-c1f6-5c347c03fff9"
      },
      "cell_type": "code",
      "source": [
        "print(\"select rows where index 'student' equals 'student0' using dot notation\")\n",
        "stu = clg[clg.student==\"student0\"]\n",
        "print(stu.head())\n",
        "\n",
        "print(\"select rows where index 'student' equals 'student0' using index notation\")\n",
        "stu = clg[clg['student']==\"student0\"]\n",
        "print(stu.head())\n",
        "\n",
        "print(\"generate a boolean which is True when index 'student' equals 'student0'\")\n",
        "pick_stu = clg['student']==\"student0\"\n",
        "stu = clg[pick_stu]\n",
        "print(stu.head())\n",
        "\n",
        "print(\"use matching via the isin() function\")\n",
        "pick_stu = ['student0']\n",
        "stu = clg[clg.student.isin(pick_stu)]\n",
        "print(stu.head())\n",
        "\n",
        "print(\"selecting on multiple conditions\")\n",
        "pick_stu = ['student0']\n",
        "stu = clg[clg.student.isin(pick_stu) & (clg.gc > 0.5)] #the parantheses around the second comparison are required\n",
        "print(stu.head())\n",
        "\n",
        "print(\"selecting the inverse using tilde ~ notation\")\n",
        "pick_stu = ['student0']\n",
        "stu = clg[~clg.student.isin(pick_stu)]\n",
        "print(stu.head())\n",
        "\n"
      ],
      "execution_count": 18,
      "outputs": [
        {
          "output_type": "stream",
          "text": [
            "select rows where index 'student' equals 'student0' using dot notation\n",
            "       contig   student  coverage     len      gc  log_coverage   log_len\n",
            "0  student0_1  student0   29.0114  255873  0.4995      3.401577  5.408024\n",
            "1  student0_2  student0   31.5053  190425  0.5151      3.481403  5.279724\n",
            "2  student0_3  student0   39.5121  149891  0.5077      3.701601  5.175776\n",
            "3  student0_4  student0   37.9206  135958  0.5212      3.661524  5.133405\n",
            "4  student0_5  student0   34.0143  121845  0.5204      3.555757  5.085808\n",
            "select rows where index 'student' equals 'student0' using index notation\n",
            "       contig   student  coverage     len      gc  log_coverage   log_len\n",
            "0  student0_1  student0   29.0114  255873  0.4995      3.401577  5.408024\n",
            "1  student0_2  student0   31.5053  190425  0.5151      3.481403  5.279724\n",
            "2  student0_3  student0   39.5121  149891  0.5077      3.701601  5.175776\n",
            "3  student0_4  student0   37.9206  135958  0.5212      3.661524  5.133405\n",
            "4  student0_5  student0   34.0143  121845  0.5204      3.555757  5.085808\n",
            "generate a boolean which is True when index 'student' equals 'student0'\n",
            "       contig   student  coverage     len      gc  log_coverage   log_len\n",
            "0  student0_1  student0   29.0114  255873  0.4995      3.401577  5.408024\n",
            "1  student0_2  student0   31.5053  190425  0.5151      3.481403  5.279724\n",
            "2  student0_3  student0   39.5121  149891  0.5077      3.701601  5.175776\n",
            "3  student0_4  student0   37.9206  135958  0.5212      3.661524  5.133405\n",
            "4  student0_5  student0   34.0143  121845  0.5204      3.555757  5.085808\n",
            "use matching via the isin() function\n",
            "       contig   student  coverage     len      gc  log_coverage   log_len\n",
            "0  student0_1  student0   29.0114  255873  0.4995      3.401577  5.408024\n",
            "1  student0_2  student0   31.5053  190425  0.5151      3.481403  5.279724\n",
            "2  student0_3  student0   39.5121  149891  0.5077      3.701601  5.175776\n",
            "3  student0_4  student0   37.9206  135958  0.5212      3.661524  5.133405\n",
            "4  student0_5  student0   34.0143  121845  0.5204      3.555757  5.085808\n",
            "selecting on multiple conditions\n",
            "       contig   student  coverage     len      gc  log_coverage   log_len\n",
            "1  student0_2  student0   31.5053  190425  0.5151      3.481403  5.279724\n",
            "2  student0_3  student0   39.5121  149891  0.5077      3.701601  5.175776\n",
            "3  student0_4  student0   37.9206  135958  0.5212      3.661524  5.133405\n",
            "4  student0_5  student0   34.0143  121845  0.5204      3.555757  5.085808\n",
            "5  student0_6  student0   30.4397  117759  0.5067      3.448071  5.070994\n",
            "selecting the inverse using tilde ~ notation\n",
            "          contig   student  coverage     len      gc  log_coverage   log_len\n",
            "3265  student1_1  student1   72.4899  438181  0.3090      4.297148  5.641654\n",
            "3266  student1_2  student1   88.8412  412276  0.3188      4.498044  5.615188\n",
            "3267  student1_3  student1   75.2792  225214  0.3125      4.334400  5.352595\n",
            "3268  student1_4  student1   65.1923  175073  0.3082      4.192564  5.243219\n",
            "3269  student1_5  student1   60.8767  153798  0.3027      4.125144  5.186951\n"
          ],
          "name": "stdout"
        }
      ]
    },
    {
      "metadata": {
        "id": "GTXiJSmREYbG",
        "colab_type": "text"
      },
      "cell_type": "markdown",
      "source": [
        "### Dynamic plot of all samples\n",
        "\n",
        "Now we'll go ahead and plot all of the samples dynamically using the log transformed data"
      ]
    },
    {
      "metadata": {
        "id": "CBlIPX4pEhrS",
        "colab_type": "code",
        "colab": {
          "base_uri": "https://localhost:8080/",
          "height": 715
        },
        "outputId": "e721fa02-1119-47f9-b6bb-1608acab79d4"
      },
      "cell_type": "code",
      "source": [
        "from google.colab import widgets\n",
        "import matplotlib.pyplot as plt\n",
        "import time\n",
        "\n",
        "grid = widgets.Grid(1, 1)\n",
        "students = clg.student.unique()\n",
        "for sid in students:\n",
        "  stu = clg[clg.student==sid]\n",
        "  with grid.output_to(0, 0):\n",
        "    grid.clear_cell()\n",
        "    plt.figure(figsize=(8,8))\n",
        "    # plot cov ~ len\n",
        "    plt.subplot(2, 2, 1)\n",
        "    plt.scatter(stu.log_coverage,stu.log_len,color=\"blue\", s=1) # choose columns by dot notation\n",
        "    plt.legend() #plot the legend\n",
        "    plt.xlabel(\"log contig coverage\") #plot x label\n",
        "    plt.ylabel(\"log10 contig length (bp)\") #plot y label\n",
        "\n",
        "    # plot cov ~ gc\n",
        "    plt.subplot(2, 2, 2)\n",
        "    plt.title(sid)\n",
        "\n",
        "    # plot cov ~ gc\n",
        "    plt.subplot(2, 2, 3)\n",
        "    plt.scatter(stu[\"log_coverage\"],stu[\"gc\"],color=\"blue\", s=1) # choose columns by index notation\n",
        "    plt.legend() #plot the legend\n",
        "    plt.xlabel(\"log contig coverage\") #plot x label\n",
        "    plt.ylabel(\"contig G+C\") #plot y label\n",
        "\n",
        "    # plot len ~ gc\n",
        "    plt.subplot(2, 2, 4)\n",
        "    plt.scatter(stu[\"log_len\"],stu.gc,color=\"blue\", s=1) # or choose columns by a mixture\n",
        "    plt.legend() #plot the legend\n",
        "    plt.xlabel(\"log contig length (bp)\") #plot x label\n",
        "    plt.ylabel(\"contig G+C\") #plot y label\n",
        "    \n",
        "    plt.show()\n",
        "    time.sleep(1)\n",
        "      "
      ],
      "execution_count": 66,
      "outputs": [
        {
          "output_type": "display_data",
          "data": {
            "text/html": [
              "<style>\n",
              "       table#id4, #id4 > tbody > tr > th, #id4 > tbody > tr > td {\n",
              "         border: 1px solid lightgray;\n",
              "         border-collapse:collapse;\n",
              "         \n",
              "        }</style>"
            ],
            "text/plain": [
              "<IPython.core.display.HTML object>"
            ]
          },
          "metadata": {
            "tags": [
              "outputarea_id4"
            ]
          }
        },
        {
          "output_type": "display_data",
          "data": {
            "text/html": [
              "<table id=id4><tr><td id=id4-0-0></td></tr></table>"
            ],
            "text/plain": [
              "<IPython.core.display.HTML object>"
            ]
          },
          "metadata": {
            "tags": [
              "outputarea_id4"
            ]
          }
        },
        {
          "output_type": "display_data",
          "data": {
            "application/javascript": [
              "window[\"4488bc02-66aa-11e9-9393-0242ac1c0002\"] = google.colab.output.getActiveOutputArea();\n",
              "//# sourceURL=js_7b8994ff6b"
            ],
            "text/plain": [
              "<IPython.core.display.Javascript object>"
            ]
          },
          "metadata": {
            "tags": [
              "id4-0-0",
              "outputarea_id4"
            ]
          }
        },
        {
          "output_type": "display_data",
          "data": {
            "application/javascript": [
              "window[\"44893132-66aa-11e9-9393-0242ac1c0002\"] = document.querySelector(\"#id4-0-0\");\n",
              "//# sourceURL=js_5077a0ba13"
            ],
            "text/plain": [
              "<IPython.core.display.Javascript object>"
            ]
          },
          "metadata": {
            "tags": [
              "id4-0-0",
              "outputarea_id4"
            ]
          }
        },
        {
          "output_type": "display_data",
          "data": {
            "application/javascript": [
              "window[\"4489d542-66aa-11e9-9393-0242ac1c0002\"] = google.colab.output.setActiveOutputArea(window[\"44893132-66aa-11e9-9393-0242ac1c0002\"]);\n",
              "//# sourceURL=js_4c872ea504"
            ],
            "text/plain": [
              "<IPython.core.display.Javascript object>"
            ]
          },
          "metadata": {
            "tags": [
              "id4-0-0",
              "outputarea_id4"
            ]
          }
        },
        {
          "output_type": "display_data",
          "data": {
            "application/javascript": [
              "window[\"459f074a-66aa-11e9-9393-0242ac1c0002\"] = google.colab.output.setActiveOutputArea(window[\"4488bc02-66aa-11e9-9393-0242ac1c0002\"]);\n",
              "//# sourceURL=js_838acacd7d"
            ],
            "text/plain": [
              "<IPython.core.display.Javascript object>"
            ]
          },
          "metadata": {
            "tags": [
              "id4-0-0",
              "outputarea_id4"
            ]
          }
        },
        {
          "output_type": "display_data",
          "data": {
            "application/javascript": [
              "window[\"45a3b61e-66aa-11e9-9393-0242ac1c0002\"] = google.colab.output.getActiveOutputArea();\n",
              "//# sourceURL=js_d553214472"
            ],
            "text/plain": [
              "<IPython.core.display.Javascript object>"
            ]
          },
          "metadata": {
            "tags": [
              "id4-0-0",
              "outputarea_id4"
            ]
          }
        },
        {
          "output_type": "display_data",
          "data": {
            "application/javascript": [
              "window[\"45a44fac-66aa-11e9-9393-0242ac1c0002\"] = document.querySelector(\"#id4-0-0\");\n",
              "//# sourceURL=js_4ba704745e"
            ],
            "text/plain": [
              "<IPython.core.display.Javascript object>"
            ]
          },
          "metadata": {
            "tags": [
              "id4-0-0",
              "outputarea_id4"
            ]
          }
        },
        {
          "output_type": "display_data",
          "data": {
            "application/javascript": [
              "window[\"45a4caf4-66aa-11e9-9393-0242ac1c0002\"] = google.colab.output.setActiveOutputArea(window[\"45a44fac-66aa-11e9-9393-0242ac1c0002\"]);\n",
              "//# sourceURL=js_d94a784e3f"
            ],
            "text/plain": [
              "<IPython.core.display.Javascript object>"
            ]
          },
          "metadata": {
            "tags": [
              "id4-0-0",
              "outputarea_id4"
            ]
          }
        },
        {
          "output_type": "display_data",
          "data": {
            "application/javascript": [
              "window[\"46a7c992-66aa-11e9-9393-0242ac1c0002\"] = google.colab.output.setActiveOutputArea(window[\"45a3b61e-66aa-11e9-9393-0242ac1c0002\"]);\n",
              "//# sourceURL=js_8eabe6ebf1"
            ],
            "text/plain": [
              "<IPython.core.display.Javascript object>"
            ]
          },
          "metadata": {
            "tags": [
              "id4-0-0",
              "outputarea_id4"
            ]
          }
        },
        {
          "output_type": "display_data",
          "data": {
            "application/javascript": [
              "window[\"46ac6cd6-66aa-11e9-9393-0242ac1c0002\"] = google.colab.output.getActiveOutputArea();\n",
              "//# sourceURL=js_6271a718fc"
            ],
            "text/plain": [
              "<IPython.core.display.Javascript object>"
            ]
          },
          "metadata": {
            "tags": [
              "id4-0-0",
              "outputarea_id4"
            ]
          }
        },
        {
          "output_type": "display_data",
          "data": {
            "application/javascript": [
              "window[\"46ad0808-66aa-11e9-9393-0242ac1c0002\"] = document.querySelector(\"#id4-0-0\");\n",
              "//# sourceURL=js_7e1b332bb7"
            ],
            "text/plain": [
              "<IPython.core.display.Javascript object>"
            ]
          },
          "metadata": {
            "tags": [
              "id4-0-0",
              "outputarea_id4"
            ]
          }
        },
        {
          "output_type": "display_data",
          "data": {
            "application/javascript": [
              "window[\"46ada2d6-66aa-11e9-9393-0242ac1c0002\"] = google.colab.output.setActiveOutputArea(window[\"46ad0808-66aa-11e9-9393-0242ac1c0002\"]);\n",
              "//# sourceURL=js_3128e9ec97"
            ],
            "text/plain": [
              "<IPython.core.display.Javascript object>"
            ]
          },
          "metadata": {
            "tags": [
              "id4-0-0",
              "outputarea_id4"
            ]
          }
        },
        {
          "output_type": "display_data",
          "data": {
            "application/javascript": [
              "window[\"47ad6464-66aa-11e9-9393-0242ac1c0002\"] = google.colab.output.setActiveOutputArea(window[\"46ac6cd6-66aa-11e9-9393-0242ac1c0002\"]);\n",
              "//# sourceURL=js_8672ed10c0"
            ],
            "text/plain": [
              "<IPython.core.display.Javascript object>"
            ]
          },
          "metadata": {
            "tags": [
              "id4-0-0",
              "outputarea_id4"
            ]
          }
        },
        {
          "output_type": "display_data",
          "data": {
            "application/javascript": [
              "window[\"47b13ba2-66aa-11e9-9393-0242ac1c0002\"] = google.colab.output.getActiveOutputArea();\n",
              "//# sourceURL=js_98685b80a2"
            ],
            "text/plain": [
              "<IPython.core.display.Javascript object>"
            ]
          },
          "metadata": {
            "tags": [
              "id4-0-0",
              "outputarea_id4"
            ]
          }
        },
        {
          "output_type": "display_data",
          "data": {
            "application/javascript": [
              "window[\"47b19bf6-66aa-11e9-9393-0242ac1c0002\"] = document.querySelector(\"#id4-0-0\");\n",
              "//# sourceURL=js_abe145eef3"
            ],
            "text/plain": [
              "<IPython.core.display.Javascript object>"
            ]
          },
          "metadata": {
            "tags": [
              "id4-0-0",
              "outputarea_id4"
            ]
          }
        },
        {
          "output_type": "display_data",
          "data": {
            "application/javascript": [
              "window[\"47b216ee-66aa-11e9-9393-0242ac1c0002\"] = google.colab.output.setActiveOutputArea(window[\"47b19bf6-66aa-11e9-9393-0242ac1c0002\"]);\n",
              "//# sourceURL=js_3de96745be"
            ],
            "text/plain": [
              "<IPython.core.display.Javascript object>"
            ]
          },
          "metadata": {
            "tags": [
              "id4-0-0",
              "outputarea_id4"
            ]
          }
        },
        {
          "output_type": "display_data",
          "data": {
            "application/javascript": [
              "window[\"48b04f5c-66aa-11e9-9393-0242ac1c0002\"] = google.colab.output.setActiveOutputArea(window[\"47b13ba2-66aa-11e9-9393-0242ac1c0002\"]);\n",
              "//# sourceURL=js_01deaa65b9"
            ],
            "text/plain": [
              "<IPython.core.display.Javascript object>"
            ]
          },
          "metadata": {
            "tags": [
              "id4-0-0",
              "outputarea_id4"
            ]
          }
        },
        {
          "output_type": "display_data",
          "data": {
            "application/javascript": [
              "window[\"48b45d18-66aa-11e9-9393-0242ac1c0002\"] = google.colab.output.getActiveOutputArea();\n",
              "//# sourceURL=js_674e4b7559"
            ],
            "text/plain": [
              "<IPython.core.display.Javascript object>"
            ]
          },
          "metadata": {
            "tags": [
              "id4-0-0",
              "outputarea_id4"
            ]
          }
        },
        {
          "output_type": "display_data",
          "data": {
            "application/javascript": [
              "window[\"48b4ae26-66aa-11e9-9393-0242ac1c0002\"] = document.querySelector(\"#id4-0-0\");\n",
              "//# sourceURL=js_bb65db3bfb"
            ],
            "text/plain": [
              "<IPython.core.display.Javascript object>"
            ]
          },
          "metadata": {
            "tags": [
              "id4-0-0",
              "outputarea_id4"
            ]
          }
        },
        {
          "output_type": "display_data",
          "data": {
            "application/javascript": [
              "window[\"48b50b00-66aa-11e9-9393-0242ac1c0002\"] = google.colab.output.setActiveOutputArea(window[\"48b4ae26-66aa-11e9-9393-0242ac1c0002\"]);\n",
              "//# sourceURL=js_1b29204c04"
            ],
            "text/plain": [
              "<IPython.core.display.Javascript object>"
            ]
          },
          "metadata": {
            "tags": [
              "id4-0-0",
              "outputarea_id4"
            ]
          }
        },
        {
          "output_type": "display_data",
          "data": {
            "application/javascript": [
              "window[\"49c9bc66-66aa-11e9-9393-0242ac1c0002\"] = google.colab.output.setActiveOutputArea(window[\"48b45d18-66aa-11e9-9393-0242ac1c0002\"]);\n",
              "//# sourceURL=js_01ccb81ffe"
            ],
            "text/plain": [
              "<IPython.core.display.Javascript object>"
            ]
          },
          "metadata": {
            "tags": [
              "id4-0-0",
              "outputarea_id4"
            ]
          }
        },
        {
          "output_type": "display_data",
          "data": {
            "application/javascript": [
              "window[\"49cdd800-66aa-11e9-9393-0242ac1c0002\"] = google.colab.output.getActiveOutputArea();\n",
              "//# sourceURL=js_5ee4014445"
            ],
            "text/plain": [
              "<IPython.core.display.Javascript object>"
            ]
          },
          "metadata": {
            "tags": [
              "id4-0-0",
              "outputarea_id4"
            ]
          }
        },
        {
          "output_type": "display_data",
          "data": {
            "application/javascript": [
              "window[\"49ce448e-66aa-11e9-9393-0242ac1c0002\"] = document.querySelector(\"#id4-0-0\");\n",
              "//# sourceURL=js_b88ec99a04"
            ],
            "text/plain": [
              "<IPython.core.display.Javascript object>"
            ]
          },
          "metadata": {
            "tags": [
              "id4-0-0",
              "outputarea_id4"
            ]
          }
        },
        {
          "output_type": "display_data",
          "data": {
            "application/javascript": [
              "window[\"49cea776-66aa-11e9-9393-0242ac1c0002\"] = google.colab.output.setActiveOutputArea(window[\"49ce448e-66aa-11e9-9393-0242ac1c0002\"]);\n",
              "//# sourceURL=js_ee787e77fa"
            ],
            "text/plain": [
              "<IPython.core.display.Javascript object>"
            ]
          },
          "metadata": {
            "tags": [
              "id4-0-0",
              "outputarea_id4"
            ]
          }
        },
        {
          "output_type": "display_data",
          "data": {
            "application/javascript": [
              "window[\"4ad269aa-66aa-11e9-9393-0242ac1c0002\"] = google.colab.output.setActiveOutputArea(window[\"49cdd800-66aa-11e9-9393-0242ac1c0002\"]);\n",
              "//# sourceURL=js_1dea068729"
            ],
            "text/plain": [
              "<IPython.core.display.Javascript object>"
            ]
          },
          "metadata": {
            "tags": [
              "id4-0-0",
              "outputarea_id4"
            ]
          }
        },
        {
          "output_type": "display_data",
          "data": {
            "application/javascript": [
              "window[\"4ad672ca-66aa-11e9-9393-0242ac1c0002\"] = google.colab.output.getActiveOutputArea();\n",
              "//# sourceURL=js_8e92354709"
            ],
            "text/plain": [
              "<IPython.core.display.Javascript object>"
            ]
          },
          "metadata": {
            "tags": [
              "id4-0-0",
              "outputarea_id4"
            ]
          }
        },
        {
          "output_type": "display_data",
          "data": {
            "application/javascript": [
              "window[\"4ad6d38c-66aa-11e9-9393-0242ac1c0002\"] = document.querySelector(\"#id4-0-0\");\n",
              "//# sourceURL=js_9903d1eab9"
            ],
            "text/plain": [
              "<IPython.core.display.Javascript object>"
            ]
          },
          "metadata": {
            "tags": [
              "id4-0-0",
              "outputarea_id4"
            ]
          }
        },
        {
          "output_type": "display_data",
          "data": {
            "application/javascript": [
              "window[\"4ad733ae-66aa-11e9-9393-0242ac1c0002\"] = google.colab.output.setActiveOutputArea(window[\"4ad6d38c-66aa-11e9-9393-0242ac1c0002\"]);\n",
              "//# sourceURL=js_0e497b012e"
            ],
            "text/plain": [
              "<IPython.core.display.Javascript object>"
            ]
          },
          "metadata": {
            "tags": [
              "id4-0-0",
              "outputarea_id4"
            ]
          }
        },
        {
          "output_type": "display_data",
          "data": {
            "application/javascript": [
              "window[\"4bde1650-66aa-11e9-9393-0242ac1c0002\"] = google.colab.output.setActiveOutputArea(window[\"4ad672ca-66aa-11e9-9393-0242ac1c0002\"]);\n",
              "//# sourceURL=js_8b600dd17b"
            ],
            "text/plain": [
              "<IPython.core.display.Javascript object>"
            ]
          },
          "metadata": {
            "tags": [
              "id4-0-0",
              "outputarea_id4"
            ]
          }
        },
        {
          "output_type": "display_data",
          "data": {
            "application/javascript": [
              "window[\"4be26c46-66aa-11e9-9393-0242ac1c0002\"] = google.colab.output.getActiveOutputArea();\n",
              "//# sourceURL=js_a5063bf95f"
            ],
            "text/plain": [
              "<IPython.core.display.Javascript object>"
            ]
          },
          "metadata": {
            "tags": [
              "id4-0-0",
              "outputarea_id4"
            ]
          }
        },
        {
          "output_type": "display_data",
          "data": {
            "application/javascript": [
              "window[\"4be2dee2-66aa-11e9-9393-0242ac1c0002\"] = document.querySelector(\"#id4-0-0\");\n",
              "//# sourceURL=js_35ae5f3a51"
            ],
            "text/plain": [
              "<IPython.core.display.Javascript object>"
            ]
          },
          "metadata": {
            "tags": [
              "id4-0-0",
              "outputarea_id4"
            ]
          }
        },
        {
          "output_type": "display_data",
          "data": {
            "application/javascript": [
              "window[\"4be376d6-66aa-11e9-9393-0242ac1c0002\"] = google.colab.output.setActiveOutputArea(window[\"4be2dee2-66aa-11e9-9393-0242ac1c0002\"]);\n",
              "//# sourceURL=js_252e5a2d99"
            ],
            "text/plain": [
              "<IPython.core.display.Javascript object>"
            ]
          },
          "metadata": {
            "tags": [
              "id4-0-0",
              "outputarea_id4"
            ]
          }
        },
        {
          "output_type": "display_data",
          "data": {
            "image/png": "[encoded data removed]",
            "text/plain": [
              "<Figure size 576x576 with 4 Axes>"
            ]
          },
          "metadata": {
            "tags": [
              "id4-0-0",
              "outputarea_id4",
              "user_output"
            ]
          }
        },
        {
          "output_type": "display_data",
          "data": {
            "application/javascript": [
              "window[\"4d164df8-66aa-11e9-9393-0242ac1c0002\"] = google.colab.output.setActiveOutputArea(window[\"4be26c46-66aa-11e9-9393-0242ac1c0002\"]);\n",
              "//# sourceURL=js_a828bc1986"
            ],
            "text/plain": [
              "<IPython.core.display.Javascript object>"
            ]
          },
          "metadata": {
            "tags": [
              "id4-0-0",
              "outputarea_id4"
            ]
          }
        },
        {
          "output_type": "error",
          "ename": "KeyboardInterrupt",
          "evalue": "ignored",
          "traceback": [
            "\u001b[0;31m---------------------------------------------------------------------------\u001b[0m",
            "\u001b[0;31mKeyboardInterrupt\u001b[0m                         Traceback (most recent call last)",
            "\u001b[0;32m<ipython-input-66-8e25a4ef9ebd>\u001b[0m in \u001b[0;36m<module>\u001b[0;34m()\u001b[0m\n\u001b[1;32m     36\u001b[0m \u001b[0;34m\u001b[0m\u001b[0m\n\u001b[1;32m     37\u001b[0m     \u001b[0mplt\u001b[0m\u001b[0;34m.\u001b[0m\u001b[0mshow\u001b[0m\u001b[0;34m(\u001b[0m\u001b[0;34m)\u001b[0m\u001b[0;34m\u001b[0m\u001b[0;34m\u001b[0m\u001b[0m\n\u001b[0;32m---> 38\u001b[0;31m     \u001b[0mtime\u001b[0m\u001b[0;34m.\u001b[0m\u001b[0msleep\u001b[0m\u001b[0;34m(\u001b[0m\u001b[0;36m1\u001b[0m\u001b[0;34m)\u001b[0m\u001b[0;34m\u001b[0m\u001b[0;34m\u001b[0m\u001b[0m\n\u001b[0m\u001b[1;32m     39\u001b[0m \u001b[0;34m\u001b[0m\u001b[0m\n",
            "\u001b[0;31mKeyboardInterrupt\u001b[0m: "
          ]
        }
      ]
    },
    {
      "metadata": {
        "id": "jrOCCqkbQkJM",
        "colab_type": "text"
      },
      "cell_type": "markdown",
      "source": [
        "### Plotting a subset\n",
        "\n",
        "To make things simple to start with, we'll pick out an easier sample, say lucky student83.\n",
        "\n",
        "Let's try looking at the data in a few different ways.\n",
        "\n",
        "* First, we'll plot the log(coverage) on the x-axis, the G+C content on the y-axis, and scale the point sizes to the square root of the contig length.\n",
        "\n",
        "* Second, we'll plot the log(length) on the x-axis, the G+C content on the y-axis, and scale the point sizes to the square root of the contig coverage.\n",
        "\n",
        "* Finally, we'll plot the log(length) on the x-axis, the log(coverage) on the y-axis, and scale the point colors to G+C content.\n"
      ]
    },
    {
      "metadata": {
        "id": "ivCQeU6kmP4i",
        "colab_type": "code",
        "colab": {
          "base_uri": "https://localhost:8080/",
          "height": 297
        },
        "outputId": "f13b1b9d-5e41-44b4-f85d-71f23ccf673f"
      },
      "cell_type": "code",
      "source": [
        "stu = clg[clg.student==\"student83\"]\n",
        "\n",
        "plt.figure(figsize=(12,4))\n",
        "\n",
        "plt.subplot(1,3,1)\n",
        "# s= specifies the size of the points, in this case the square root of the length\n",
        "# alpha= sets the transparency level of the points, in this case to 20% opaque/ 80% transparent\n",
        "plt.scatter(stu.log_coverage,stu.gc, s=0.5*np.sqrt(stu[\"len\"]), alpha=0.2, label=\"length\")\n",
        "plt.xlabel(\"log coverage\")\n",
        "plt.ylabel(\"G+C content\")\n",
        "plt.legend()\n",
        "\n",
        "plt.subplot(1,3,2)\n",
        "# c= specifies the color of the points, in this case colored continuously by G+C content using the default 'viridis' colormap\n",
        "plt.scatter(stu.log_len, stu.gc, s=10*np.sqrt(stu[\"coverage\"]), c=stu.gc, alpha=0.2, label=\"coverage\")\n",
        "plt.xlabel(\"log length\")\n",
        "plt.ylabel(\"G+C content\")\n",
        "plt.legend()\n",
        "\n",
        "plt.subplot(1,3,3)\n",
        "# cmap= specifies the colormap or palette of the points, in this case the 'hot' colormap\n",
        "plt.scatter(stu.log_len,stu.log_coverage, s=np.sqrt(stu.gc), c=stu.gc, cmap=\"hot\", alpha=0.2, label=\"gc\")\n",
        "plt.xlabel(\"log length\")\n",
        "plt.ylabel(\"log coverage\")\n",
        "plt.legend()\n",
        "\n",
        "plt.tight_layout() #cleans up the axes so they don't overlap\n",
        "plt.show()\n"
      ],
      "execution_count": 67,
      "outputs": [
        {
          "output_type": "display_data",
          "data": {
            "image/png": "[encoded data removed]",
            "text/plain": [
              "<Figure size 864x288 with 3 Axes>"
            ]
          },
          "metadata": {
            "tags": []
          }
        }
      ]
    },
    {
      "metadata": {
        "id": "KAsE0zWZmLzw",
        "colab_type": "text"
      },
      "cell_type": "markdown",
      "source": [
        "### 3D scatterplot\n",
        "\n",
        "And just for the heck of it, let's make a 3D scatterplot with all 3 variables\n"
      ]
    },
    {
      "metadata": {
        "id": "nFCIGsySt24j",
        "colab_type": "code",
        "colab": {
          "base_uri": "https://localhost:8080/",
          "height": 357
        },
        "outputId": "c1835970-aa4b-469c-b330-1f496367b3f4"
      },
      "cell_type": "code",
      "source": [
        "from mpl_toolkits.mplot3d import Axes3D\n",
        "\n",
        "fig = plt.figure(figsize=(6,6))\n",
        "ax = fig.add_subplot(111, projection='3d')\n",
        "\n",
        "ax.scatter(stu.gc, stu.log_len,stu.log_coverage,  alpha=0.1)\n",
        "ax.set_xlabel(\"G+C content\")\n",
        "ax.set_ylabel(\"log length\")\n",
        "ax.set_zlabel(\"log coverage\")\n",
        "plt.show()"
      ],
      "execution_count": 28,
      "outputs": [
        {
          "output_type": "display_data",
          "data": {
            "image/png": "[encoded data removed]",
            "text/plain": [
              "<Figure size 432x432 with 1 Axes>"
            ]
          },
          "metadata": {
            "tags": []
          }
        }
      ]
    },
    {
      "metadata": {
        "id": "ZXe8To7ZQhju",
        "colab_type": "text"
      },
      "cell_type": "markdown",
      "source": [
        "### Plot analysis\n",
        "\n",
        "There are clearly 2 clusters here, which means that student83 probably co-cultured two microorganisms together and sequenced them both. They seem to both have similar distributions in length and coverage, but very different G+C content.\n",
        "\n",
        "In the next steps we'll use various machine learning algorithms that might help us separate them."
      ]
    },
    {
      "metadata": {
        "id": "hQArXw9-_QIM",
        "colab_type": "text"
      },
      "cell_type": "markdown",
      "source": [
        "### Plotting Exercise\n",
        "  * Choose another student from the dataset\n",
        "  * Subset the data\n",
        "  * Plot the 3-panel figure as above\n",
        "  * But use a [different colormap](https://matplotlib.org/tutorials/colors/colormaps.html) from those used above "
      ]
    },
    {
      "metadata": {
        "id": "Gve8DdGQ-qXV",
        "colab_type": "text"
      },
      "cell_type": "markdown",
      "source": [
        "\n",
        "# Clustering Algorithms\n",
        "\n",
        "Now we're going to look at a few different machine learning algorithms that might help us separate them back out again. "
      ]
    },
    {
      "metadata": {
        "id": "Ei12eOkav8IX",
        "colab_type": "text"
      },
      "cell_type": "markdown",
      "source": [
        "## k-means Clustering\n",
        "\n",
        "sklearn docs: [Kmeans](https://scikit-learn.org/stable/modules/generated/sklearn.cluster.KMeans.html)"
      ]
    },
    {
      "metadata": {
        "id": "yWO0Sd5HBblq",
        "colab_type": "text"
      },
      "cell_type": "markdown",
      "source": [
        "### Algorithm"
      ]
    },
    {
      "metadata": {
        "id": "waptcJsdBc8P",
        "colab_type": "text"
      },
      "cell_type": "markdown",
      "source": [
        "### Application"
      ]
    },
    {
      "metadata": {
        "id": "xoBbAndgBgEY",
        "colab_type": "code",
        "colab": {
          "base_uri": "https://localhost:8080/",
          "height": 357
        },
        "outputId": "6a2ef81e-c23d-4fab-e1e8-77c681800892"
      },
      "cell_type": "code",
      "source": [
        "from sklearn.cluster import KMeans\n",
        "import numpy as np\n",
        "\n",
        "# using student8 as an example\n",
        "stu = clg[clg.student==\"student83\"]\n",
        "\n",
        "print(stu.shape)\n",
        "print(stu.head())\n",
        "print(stu.tail())\n"
      ],
      "execution_count": 76,
      "outputs": [
        {
          "output_type": "stream",
          "text": [
            "(3439, 7)\n",
            "            contig    student  coverage    len      gc  log_coverage   log_len\n",
            "86220  student83_1  student83    4.7279  22242  0.6889      1.745349  4.347174\n",
            "86221  student83_2  student83    5.9351  19119  0.6638      1.936595  4.281465\n",
            "86222  student83_3  student83    3.4680  15504  0.7033      1.496941  4.190444\n",
            "86223  student83_4  student83    3.4849  14583  0.7258      1.500716  4.163847\n",
            "86224  student83_5  student83    3.5862  12499  0.6823      1.523052  4.096875\n",
            "               contig    student  coverage  len      gc  log_coverage  \\\n",
            "89654  student83_3435  student83       0.0  159  0.6038           0.0   \n",
            "89655  student83_3436  student83       0.0  150  0.7867           0.0   \n",
            "89656  student83_3437  student83       0.0  140  0.5500           0.0   \n",
            "89657  student83_3438  student83       0.0  136  0.5588           0.0   \n",
            "89658  student83_3439  student83       0.0  128  0.0000           0.0   \n",
            "\n",
            "        log_len  \n",
            "89654  2.201397  \n",
            "89655  2.176091  \n",
            "89656  2.146128  \n",
            "89657  2.133539  \n",
            "89658  2.107210  \n"
          ],
          "name": "stdout"
        }
      ]
    },
    {
      "metadata": {
        "id": "7arMauBPEezG",
        "colab_type": "code",
        "colab": {
          "base_uri": "https://localhost:8080/",
          "height": 68
        },
        "outputId": "545e3946-7406-43f0-dadc-e3e0414b44be"
      },
      "cell_type": "code",
      "source": [
        "# select just the G+C content and log length columns\n",
        "X = stu[[\"log_len\",\"gc\"]]\n",
        "\n",
        "# n_clusters= sets the number of clusters to find; we suspect there are 2\n",
        "kmeans = KMeans(n_clusters=2)\n",
        "\n",
        "# fit the data\n",
        "kmeans.fit(X)\n",
        "\n",
        "print(kmeans.labels_)\n",
        "print(kmeans.cluster_centers_)"
      ],
      "execution_count": 122,
      "outputs": [
        {
          "output_type": "stream",
          "text": [
            "[1 1 1 ... 0 0 0]\n",
            "[[2.90301143 0.50150301]\n",
            " [3.43484069 0.56314202]]\n"
          ],
          "name": "stdout"
        }
      ]
    },
    {
      "metadata": {
        "id": "usA0Ul1cCOiQ",
        "colab_type": "code",
        "colab": {
          "base_uri": "https://localhost:8080/",
          "height": 269
        },
        "outputId": "73b30653-16c6-479c-f401-eeff6c36626c"
      },
      "cell_type": "code",
      "source": [
        "#fit the data and make predictions at the same time\n",
        "y_pred = kmeans.predict(X)\n",
        "\n",
        "plt.scatter(X[\"log_len\"], X[\"gc\"], c=y_pred)\n",
        "plt.scatter(kmeans.cluster_centers_[:, 0], kmeans.cluster_centers_[:, 1],\n",
        "            marker='x', s=169, linewidths=3,\n",
        "            color='r', zorder=10)\n",
        "plt.show()"
      ],
      "execution_count": 123,
      "outputs": [
        {
          "output_type": "display_data",
          "data": {
            "image/png": "[encoded data removed]",
            "text/plain": [
              "<Figure size 432x288 with 1 Axes>"
            ]
          },
          "metadata": {
            "tags": []
          }
        }
      ]
    },
    {
      "metadata": {
        "id": "IyWW9_sOH8YM",
        "colab_type": "text"
      },
      "cell_type": "markdown",
      "source": [
        "How well did it do? Maybe we should try a few random initializations to see how it changes."
      ]
    },
    {
      "metadata": {
        "id": "Apv14Ry1INcH",
        "colab_type": "code",
        "colab": {
          "base_uri": "https://localhost:8080/",
          "height": 490
        },
        "outputId": "de94b7e5-db6b-42f8-d34b-fc5f099d1e10"
      },
      "cell_type": "code",
      "source": [
        "grid = widgets.Grid(1, 1)\n",
        "for i in range(10):\n",
        "  with grid.output_to(0, 0):\n",
        "    grid.clear_cell()\n",
        "    plt.figure(figsize=(8,8))\n",
        "    kmeans = KMeans(n_clusters=2,init=\"random\",n_init=1,max_iter=10).fit(X)\n",
        "    y_pred = kmeans.predict(X)\n",
        "    plt.scatter(X[\"log_len\"], X[\"gc\"], c=y_pred)\n",
        "    plt.scatter(kmeans.cluster_centers_[:, 0], kmeans.cluster_centers_[:,1],\n",
        "            marker='x', s=169, linewidths=3,\n",
        "            color='r')\n",
        "    plt.show()\n",
        "    "
      ],
      "execution_count": 121,
      "outputs": [
        {
          "output_type": "display_data",
          "data": {
            "text/html": [
              "<style>\n",
              "       table#id52, #id52 > tbody > tr > th, #id52 > tbody > tr > td {\n",
              "         border: 1px solid lightgray;\n",
              "         border-collapse:collapse;\n",
              "         \n",
              "        }</style>"
            ],
            "text/plain": [
              "<IPython.core.display.HTML object>"
            ]
          },
          "metadata": {
            "tags": [
              "outputarea_id52"
            ]
          }
        },
        {
          "output_type": "display_data",
          "data": {
            "text/html": [
              "<table id=id52><tr><td id=id52-0-0></td></tr></table>"
            ],
            "text/plain": [
              "<IPython.core.display.HTML object>"
            ]
          },
          "metadata": {
            "tags": [
              "outputarea_id52"
            ]
          }
        },
        {
          "output_type": "display_data",
          "data": {
            "application/javascript": [
              "window[\"9eccf2d8-66ae-11e9-9393-0242ac1c0002\"] = google.colab.output.getActiveOutputArea();\n",
              "//# sourceURL=js_88fba6bdc0"
            ],
            "text/plain": [
              "<IPython.core.display.Javascript object>"
            ]
          },
          "metadata": {
            "tags": [
              "id52-0-0",
              "outputarea_id52"
            ]
          }
        },
        {
          "output_type": "display_data",
          "data": {
            "application/javascript": [
              "window[\"9ecd3bbc-66ae-11e9-9393-0242ac1c0002\"] = document.querySelector(\"#id52-0-0\");\n",
              "//# sourceURL=js_b814c304e8"
            ],
            "text/plain": [
              "<IPython.core.display.Javascript object>"
            ]
          },
          "metadata": {
            "tags": [
              "id52-0-0",
              "outputarea_id52"
            ]
          }
        },
        {
          "output_type": "display_data",
          "data": {
            "application/javascript": [
              "window[\"9ecd9a44-66ae-11e9-9393-0242ac1c0002\"] = google.colab.output.setActiveOutputArea(window[\"9ecd3bbc-66ae-11e9-9393-0242ac1c0002\"]);\n",
              "//# sourceURL=js_d2cec7d8e1"
            ],
            "text/plain": [
              "<IPython.core.display.Javascript object>"
            ]
          },
          "metadata": {
            "tags": [
              "id52-0-0",
              "outputarea_id52"
            ]
          }
        },
        {
          "output_type": "display_data",
          "data": {
            "application/javascript": [
              "window[\"9f172d8a-66ae-11e9-9393-0242ac1c0002\"] = google.colab.output.setActiveOutputArea(window[\"9eccf2d8-66ae-11e9-9393-0242ac1c0002\"]);\n",
              "//# sourceURL=js_ae234f9f1f"
            ],
            "text/plain": [
              "<IPython.core.display.Javascript object>"
            ]
          },
          "metadata": {
            "tags": [
              "id52-0-0",
              "outputarea_id52"
            ]
          }
        },
        {
          "output_type": "display_data",
          "data": {
            "application/javascript": [
              "window[\"9f188b76-66ae-11e9-9393-0242ac1c0002\"] = google.colab.output.getActiveOutputArea();\n",
              "//# sourceURL=js_9ecf9e80f9"
            ],
            "text/plain": [
              "<IPython.core.display.Javascript object>"
            ]
          },
          "metadata": {
            "tags": [
              "id52-0-0",
              "outputarea_id52"
            ]
          }
        },
        {
          "output_type": "display_data",
          "data": {
            "application/javascript": [
              "window[\"9f18dcac-66ae-11e9-9393-0242ac1c0002\"] = document.querySelector(\"#id52-0-0\");\n",
              "//# sourceURL=js_95ac8d4af6"
            ],
            "text/plain": [
              "<IPython.core.display.Javascript object>"
            ]
          },
          "metadata": {
            "tags": [
              "id52-0-0",
              "outputarea_id52"
            ]
          }
        },
        {
          "output_type": "display_data",
          "data": {
            "application/javascript": [
              "window[\"9f1917da-66ae-11e9-9393-0242ac1c0002\"] = google.colab.output.setActiveOutputArea(window[\"9f18dcac-66ae-11e9-9393-0242ac1c0002\"]);\n",
              "//# sourceURL=js_aa8c497716"
            ],
            "text/plain": [
              "<IPython.core.display.Javascript object>"
            ]
          },
          "metadata": {
            "tags": [
              "id52-0-0",
              "outputarea_id52"
            ]
          }
        },
        {
          "output_type": "display_data",
          "data": {
            "application/javascript": [
              "window[\"9f631c90-66ae-11e9-9393-0242ac1c0002\"] = google.colab.output.setActiveOutputArea(window[\"9f188b76-66ae-11e9-9393-0242ac1c0002\"]);\n",
              "//# sourceURL=js_45d4803f62"
            ],
            "text/plain": [
              "<IPython.core.display.Javascript object>"
            ]
          },
          "metadata": {
            "tags": [
              "id52-0-0",
              "outputarea_id52"
            ]
          }
        },
        {
          "output_type": "display_data",
          "data": {
            "application/javascript": [
              "window[\"9f6470ea-66ae-11e9-9393-0242ac1c0002\"] = google.colab.output.getActiveOutputArea();\n",
              "//# sourceURL=js_1fc4cbbea5"
            ],
            "text/plain": [
              "<IPython.core.display.Javascript object>"
            ]
          },
          "metadata": {
            "tags": [
              "id52-0-0",
              "outputarea_id52"
            ]
          }
        },
        {
          "output_type": "display_data",
          "data": {
            "application/javascript": [
              "window[\"9f64bfb4-66ae-11e9-9393-0242ac1c0002\"] = document.querySelector(\"#id52-0-0\");\n",
              "//# sourceURL=js_53a61404f5"
            ],
            "text/plain": [
              "<IPython.core.display.Javascript object>"
            ]
          },
          "metadata": {
            "tags": [
              "id52-0-0",
              "outputarea_id52"
            ]
          }
        },
        {
          "output_type": "display_data",
          "data": {
            "application/javascript": [
              "window[\"9f6501ae-66ae-11e9-9393-0242ac1c0002\"] = google.colab.output.setActiveOutputArea(window[\"9f64bfb4-66ae-11e9-9393-0242ac1c0002\"]);\n",
              "//# sourceURL=js_4b71a63b37"
            ],
            "text/plain": [
              "<IPython.core.display.Javascript object>"
            ]
          },
          "metadata": {
            "tags": [
              "id52-0-0",
              "outputarea_id52"
            ]
          }
        },
        {
          "output_type": "display_data",
          "data": {
            "application/javascript": [
              "window[\"9fb0c53a-66ae-11e9-9393-0242ac1c0002\"] = google.colab.output.setActiveOutputArea(window[\"9f6470ea-66ae-11e9-9393-0242ac1c0002\"]);\n",
              "//# sourceURL=js_8f4428c5ab"
            ],
            "text/plain": [
              "<IPython.core.display.Javascript object>"
            ]
          },
          "metadata": {
            "tags": [
              "id52-0-0",
              "outputarea_id52"
            ]
          }
        },
        {
          "output_type": "display_data",
          "data": {
            "application/javascript": [
              "window[\"9fb1fee6-66ae-11e9-9393-0242ac1c0002\"] = google.colab.output.getActiveOutputArea();\n",
              "//# sourceURL=js_30d027847d"
            ],
            "text/plain": [
              "<IPython.core.display.Javascript object>"
            ]
          },
          "metadata": {
            "tags": [
              "id52-0-0",
              "outputarea_id52"
            ]
          }
        },
        {
          "output_type": "display_data",
          "data": {
            "application/javascript": [
              "window[\"9fb25378-66ae-11e9-9393-0242ac1c0002\"] = document.querySelector(\"#id52-0-0\");\n",
              "//# sourceURL=js_8ffb01a93c"
            ],
            "text/plain": [
              "<IPython.core.display.Javascript object>"
            ]
          },
          "metadata": {
            "tags": [
              "id52-0-0",
              "outputarea_id52"
            ]
          }
        },
        {
          "output_type": "display_data",
          "data": {
            "application/javascript": [
              "window[\"9fb29414-66ae-11e9-9393-0242ac1c0002\"] = google.colab.output.setActiveOutputArea(window[\"9fb25378-66ae-11e9-9393-0242ac1c0002\"]);\n",
              "//# sourceURL=js_d76c3d77ff"
            ],
            "text/plain": [
              "<IPython.core.display.Javascript object>"
            ]
          },
          "metadata": {
            "tags": [
              "id52-0-0",
              "outputarea_id52"
            ]
          }
        },
        {
          "output_type": "display_data",
          "data": {
            "application/javascript": [
              "window[\"a009c2de-66ae-11e9-9393-0242ac1c0002\"] = google.colab.output.setActiveOutputArea(window[\"9fb1fee6-66ae-11e9-9393-0242ac1c0002\"]);\n",
              "//# sourceURL=js_78f7a0950d"
            ],
            "text/plain": [
              "<IPython.core.display.Javascript object>"
            ]
          },
          "metadata": {
            "tags": [
              "id52-0-0",
              "outputarea_id52"
            ]
          }
        },
        {
          "output_type": "display_data",
          "data": {
            "application/javascript": [
              "window[\"a00cedce-66ae-11e9-9393-0242ac1c0002\"] = google.colab.output.getActiveOutputArea();\n",
              "//# sourceURL=js_a48a222024"
            ],
            "text/plain": [
              "<IPython.core.display.Javascript object>"
            ]
          },
          "metadata": {
            "tags": [
              "id52-0-0",
              "outputarea_id52"
            ]
          }
        },
        {
          "output_type": "display_data",
          "data": {
            "application/javascript": [
              "window[\"a00d7302-66ae-11e9-9393-0242ac1c0002\"] = document.querySelector(\"#id52-0-0\");\n",
              "//# sourceURL=js_5f1b90a76c"
            ],
            "text/plain": [
              "<IPython.core.display.Javascript object>"
            ]
          },
          "metadata": {
            "tags": [
              "id52-0-0",
              "outputarea_id52"
            ]
          }
        },
        {
          "output_type": "display_data",
          "data": {
            "application/javascript": [
              "window[\"a00df200-66ae-11e9-9393-0242ac1c0002\"] = google.colab.output.setActiveOutputArea(window[\"a00d7302-66ae-11e9-9393-0242ac1c0002\"]);\n",
              "//# sourceURL=js_f6a5e49e57"
            ],
            "text/plain": [
              "<IPython.core.display.Javascript object>"
            ]
          },
          "metadata": {
            "tags": [
              "id52-0-0",
              "outputarea_id52"
            ]
          }
        },
        {
          "output_type": "display_data",
          "data": {
            "application/javascript": [
              "window[\"a04fff6a-66ae-11e9-9393-0242ac1c0002\"] = google.colab.output.setActiveOutputArea(window[\"a00cedce-66ae-11e9-9393-0242ac1c0002\"]);\n",
              "//# sourceURL=js_c64b3507f7"
            ],
            "text/plain": [
              "<IPython.core.display.Javascript object>"
            ]
          },
          "metadata": {
            "tags": [
              "id52-0-0",
              "outputarea_id52"
            ]
          }
        },
        {
          "output_type": "display_data",
          "data": {
            "application/javascript": [
              "window[\"a051d786-66ae-11e9-9393-0242ac1c0002\"] = google.colab.output.getActiveOutputArea();\n",
              "//# sourceURL=js_5273edbc93"
            ],
            "text/plain": [
              "<IPython.core.display.Javascript object>"
            ]
          },
          "metadata": {
            "tags": [
              "id52-0-0",
              "outputarea_id52"
            ]
          }
        },
        {
          "output_type": "display_data",
          "data": {
            "application/javascript": [
              "window[\"a0524fd6-66ae-11e9-9393-0242ac1c0002\"] = document.querySelector(\"#id52-0-0\");\n",
              "//# sourceURL=js_503f007b97"
            ],
            "text/plain": [
              "<IPython.core.display.Javascript object>"
            ]
          },
          "metadata": {
            "tags": [
              "id52-0-0",
              "outputarea_id52"
            ]
          }
        },
        {
          "output_type": "display_data",
          "data": {
            "application/javascript": [
              "window[\"a052c628-66ae-11e9-9393-0242ac1c0002\"] = google.colab.output.setActiveOutputArea(window[\"a0524fd6-66ae-11e9-9393-0242ac1c0002\"]);\n",
              "//# sourceURL=js_4dab9bee62"
            ],
            "text/plain": [
              "<IPython.core.display.Javascript object>"
            ]
          },
          "metadata": {
            "tags": [
              "id52-0-0",
              "outputarea_id52"
            ]
          }
        },
        {
          "output_type": "display_data",
          "data": {
            "application/javascript": [
              "window[\"a09e2708-66ae-11e9-9393-0242ac1c0002\"] = google.colab.output.setActiveOutputArea(window[\"a051d786-66ae-11e9-9393-0242ac1c0002\"]);\n",
              "//# sourceURL=js_8684e64ef0"
            ],
            "text/plain": [
              "<IPython.core.display.Javascript object>"
            ]
          },
          "metadata": {
            "tags": [
              "id52-0-0",
              "outputarea_id52"
            ]
          }
        },
        {
          "output_type": "display_data",
          "data": {
            "application/javascript": [
              "window[\"a09f5736-66ae-11e9-9393-0242ac1c0002\"] = google.colab.output.getActiveOutputArea();\n",
              "//# sourceURL=js_7371e38f09"
            ],
            "text/plain": [
              "<IPython.core.display.Javascript object>"
            ]
          },
          "metadata": {
            "tags": [
              "id52-0-0",
              "outputarea_id52"
            ]
          }
        },
        {
          "output_type": "display_data",
          "data": {
            "application/javascript": [
              "window[\"a09f9746-66ae-11e9-9393-0242ac1c0002\"] = document.querySelector(\"#id52-0-0\");\n",
              "//# sourceURL=js_be188aae2d"
            ],
            "text/plain": [
              "<IPython.core.display.Javascript object>"
            ]
          },
          "metadata": {
            "tags": [
              "id52-0-0",
              "outputarea_id52"
            ]
          }
        },
        {
          "output_type": "display_data",
          "data": {
            "application/javascript": [
              "window[\"a09fd742-66ae-11e9-9393-0242ac1c0002\"] = google.colab.output.setActiveOutputArea(window[\"a09f9746-66ae-11e9-9393-0242ac1c0002\"]);\n",
              "//# sourceURL=js_92288823db"
            ],
            "text/plain": [
              "<IPython.core.display.Javascript object>"
            ]
          },
          "metadata": {
            "tags": [
              "id52-0-0",
              "outputarea_id52"
            ]
          }
        },
        {
          "output_type": "display_data",
          "data": {
            "application/javascript": [
              "window[\"a0ed1f8e-66ae-11e9-9393-0242ac1c0002\"] = google.colab.output.setActiveOutputArea(window[\"a09f5736-66ae-11e9-9393-0242ac1c0002\"]);\n",
              "//# sourceURL=js_869bb5cc4d"
            ],
            "text/plain": [
              "<IPython.core.display.Javascript object>"
            ]
          },
          "metadata": {
            "tags": [
              "id52-0-0",
              "outputarea_id52"
            ]
          }
        },
        {
          "output_type": "display_data",
          "data": {
            "application/javascript": [
              "window[\"a0f0280a-66ae-11e9-9393-0242ac1c0002\"] = google.colab.output.getActiveOutputArea();\n",
              "//# sourceURL=js_fa24426524"
            ],
            "text/plain": [
              "<IPython.core.display.Javascript object>"
            ]
          },
          "metadata": {
            "tags": [
              "id52-0-0",
              "outputarea_id52"
            ]
          }
        },
        {
          "output_type": "display_data",
          "data": {
            "application/javascript": [
              "window[\"a0f067d4-66ae-11e9-9393-0242ac1c0002\"] = document.querySelector(\"#id52-0-0\");\n",
              "//# sourceURL=js_6854072107"
            ],
            "text/plain": [
              "<IPython.core.display.Javascript object>"
            ]
          },
          "metadata": {
            "tags": [
              "id52-0-0",
              "outputarea_id52"
            ]
          }
        },
        {
          "output_type": "display_data",
          "data": {
            "application/javascript": [
              "window[\"a0f0a564-66ae-11e9-9393-0242ac1c0002\"] = google.colab.output.setActiveOutputArea(window[\"a0f067d4-66ae-11e9-9393-0242ac1c0002\"]);\n",
              "//# sourceURL=js_017d6c1092"
            ],
            "text/plain": [
              "<IPython.core.display.Javascript object>"
            ]
          },
          "metadata": {
            "tags": [
              "id52-0-0",
              "outputarea_id52"
            ]
          }
        },
        {
          "output_type": "display_data",
          "data": {
            "application/javascript": [
              "window[\"a137f770-66ae-11e9-9393-0242ac1c0002\"] = google.colab.output.setActiveOutputArea(window[\"a0f0280a-66ae-11e9-9393-0242ac1c0002\"]);\n",
              "//# sourceURL=js_bf9c6ff3aa"
            ],
            "text/plain": [
              "<IPython.core.display.Javascript object>"
            ]
          },
          "metadata": {
            "tags": [
              "id52-0-0",
              "outputarea_id52"
            ]
          }
        },
        {
          "output_type": "display_data",
          "data": {
            "application/javascript": [
              "window[\"a13947b0-66ae-11e9-9393-0242ac1c0002\"] = google.colab.output.getActiveOutputArea();\n",
              "//# sourceURL=js_911ed2d35a"
            ],
            "text/plain": [
              "<IPython.core.display.Javascript object>"
            ]
          },
          "metadata": {
            "tags": [
              "id52-0-0",
              "outputarea_id52"
            ]
          }
        },
        {
          "output_type": "display_data",
          "data": {
            "application/javascript": [
              "window[\"a139b498-66ae-11e9-9393-0242ac1c0002\"] = document.querySelector(\"#id52-0-0\");\n",
              "//# sourceURL=js_5baea12376"
            ],
            "text/plain": [
              "<IPython.core.display.Javascript object>"
            ]
          },
          "metadata": {
            "tags": [
              "id52-0-0",
              "outputarea_id52"
            ]
          }
        },
        {
          "output_type": "display_data",
          "data": {
            "application/javascript": [
              "window[\"a13a1cda-66ae-11e9-9393-0242ac1c0002\"] = google.colab.output.setActiveOutputArea(window[\"a139b498-66ae-11e9-9393-0242ac1c0002\"]);\n",
              "//# sourceURL=js_9396a43eb2"
            ],
            "text/plain": [
              "<IPython.core.display.Javascript object>"
            ]
          },
          "metadata": {
            "tags": [
              "id52-0-0",
              "outputarea_id52"
            ]
          }
        },
        {
          "output_type": "display_data",
          "data": {
            "application/javascript": [
              "window[\"a1842bd6-66ae-11e9-9393-0242ac1c0002\"] = google.colab.output.setActiveOutputArea(window[\"a13947b0-66ae-11e9-9393-0242ac1c0002\"]);\n",
              "//# sourceURL=js_c92938ea07"
            ],
            "text/plain": [
              "<IPython.core.display.Javascript object>"
            ]
          },
          "metadata": {
            "tags": [
              "id52-0-0",
              "outputarea_id52"
            ]
          }
        },
        {
          "output_type": "display_data",
          "data": {
            "application/javascript": [
              "window[\"a1851ece-66ae-11e9-9393-0242ac1c0002\"] = google.colab.output.getActiveOutputArea();\n",
              "//# sourceURL=js_93c4e264bb"
            ],
            "text/plain": [
              "<IPython.core.display.Javascript object>"
            ]
          },
          "metadata": {
            "tags": [
              "id52-0-0",
              "outputarea_id52"
            ]
          }
        },
        {
          "output_type": "display_data",
          "data": {
            "application/javascript": [
              "window[\"a18559e8-66ae-11e9-9393-0242ac1c0002\"] = document.querySelector(\"#id52-0-0\");\n",
              "//# sourceURL=js_f846b7569b"
            ],
            "text/plain": [
              "<IPython.core.display.Javascript object>"
            ]
          },
          "metadata": {
            "tags": [
              "id52-0-0",
              "outputarea_id52"
            ]
          }
        },
        {
          "output_type": "display_data",
          "data": {
            "application/javascript": [
              "window[\"a1858d46-66ae-11e9-9393-0242ac1c0002\"] = google.colab.output.setActiveOutputArea(window[\"a18559e8-66ae-11e9-9393-0242ac1c0002\"]);\n",
              "//# sourceURL=js_199f18f117"
            ],
            "text/plain": [
              "<IPython.core.display.Javascript object>"
            ]
          },
          "metadata": {
            "tags": [
              "id52-0-0",
              "outputarea_id52"
            ]
          }
        },
        {
          "output_type": "display_data",
          "data": {
            "image/png": "[encoded data removed]",
            "text/plain": [
              "<Figure size 576x576 with 1 Axes>"
            ]
          },
          "metadata": {
            "tags": [
              "id52-0-0",
              "outputarea_id52",
              "user_output"
            ]
          }
        },
        {
          "output_type": "display_data",
          "data": {
            "application/javascript": [
              "window[\"a1cf7dac-66ae-11e9-9393-0242ac1c0002\"] = google.colab.output.setActiveOutputArea(window[\"a1851ece-66ae-11e9-9393-0242ac1c0002\"]);\n",
              "//# sourceURL=js_f258d6d451"
            ],
            "text/plain": [
              "<IPython.core.display.Javascript object>"
            ]
          },
          "metadata": {
            "tags": [
              "id52-0-0",
              "outputarea_id52"
            ]
          }
        }
      ]
    },
    {
      "metadata": {
        "id": "2LWrblCgJVlA",
        "colab_type": "text"
      },
      "cell_type": "markdown",
      "source": [
        "**Questions**\n",
        "* What do you think?\n",
        "* Is k-means the best clustering algorithm for this task?\n"
      ]
    },
    {
      "metadata": {
        "id": "y8NRZOKjNEm8",
        "colab_type": "text"
      },
      "cell_type": "markdown",
      "source": [
        "### Multidimensional clustering\n",
        "\n",
        "Let's try one more thing and include all 3 columns in the analysis. Most clustering algorithms can take"
      ]
    },
    {
      "metadata": {
        "id": "U62lG4BfHbAa",
        "colab_type": "code",
        "colab": {
          "base_uri": "https://localhost:8080/",
          "height": 490
        },
        "outputId": "c56d91ac-d26c-4270-bdc8-952a92a1b063"
      },
      "cell_type": "code",
      "source": [
        "X3 = stu[[\"log_len\",\"gc\",\"log_coverage\"]]\n",
        "\n",
        "grid = widgets.Grid(1, 1)\n",
        "for i in range(10):\n",
        "  with grid.output_to(0, 0):\n",
        "    grid.clear_cell()\n",
        "    plt.figure(figsize=(8,8))\n",
        "    kmeans = KMeans(n_clusters=2,init=\"random\",n_init=1,max_iter=10).fit(X3)\n",
        "    y_pred = kmeans.predict(X3)\n",
        "    plt.scatter(X3[\"log_len\"], X3[\"gc\"], c=y_pred)\n",
        "    plt.scatter(kmeans.cluster_centers_[:, 0], kmeans.cluster_centers_[:, 1],\n",
        "            marker='x', s=169, linewidths=3,\n",
        "            color='r')\n",
        "    plt.show()"
      ],
      "execution_count": 124,
      "outputs": [
        {
          "output_type": "display_data",
          "data": {
            "text/html": [
              "<style>\n",
              "       table#id54, #id54 > tbody > tr > th, #id54 > tbody > tr > td {\n",
              "         border: 1px solid lightgray;\n",
              "         border-collapse:collapse;\n",
              "         \n",
              "        }</style>"
            ],
            "text/plain": [
              "<IPython.core.display.HTML object>"
            ]
          },
          "metadata": {
            "tags": [
              "outputarea_id54"
            ]
          }
        },
        {
          "output_type": "display_data",
          "data": {
            "text/html": [
              "<table id=id54><tr><td id=id54-0-0></td></tr></table>"
            ],
            "text/plain": [
              "<IPython.core.display.HTML object>"
            ]
          },
          "metadata": {
            "tags": [
              "outputarea_id54"
            ]
          }
        },
        {
          "output_type": "display_data",
          "data": {
            "application/javascript": [
              "window[\"e7da5484-66ae-11e9-9393-0242ac1c0002\"] = google.colab.output.getActiveOutputArea();\n",
              "//# sourceURL=js_98fa495519"
            ],
            "text/plain": [
              "<IPython.core.display.Javascript object>"
            ]
          },
          "metadata": {
            "tags": [
              "id54-0-0",
              "outputarea_id54"
            ]
          }
        },
        {
          "output_type": "display_data",
          "data": {
            "application/javascript": [
              "window[\"e7da9d36-66ae-11e9-9393-0242ac1c0002\"] = document.querySelector(\"#id54-0-0\");\n",
              "//# sourceURL=js_54f9a5861f"
            ],
            "text/plain": [
              "<IPython.core.display.Javascript object>"
            ]
          },
          "metadata": {
            "tags": [
              "id54-0-0",
              "outputarea_id54"
            ]
          }
        },
        {
          "output_type": "display_data",
          "data": {
            "application/javascript": [
              "window[\"e7daf11e-66ae-11e9-9393-0242ac1c0002\"] = google.colab.output.setActiveOutputArea(window[\"e7da9d36-66ae-11e9-9393-0242ac1c0002\"]);\n",
              "//# sourceURL=js_93270af1e3"
            ],
            "text/plain": [
              "<IPython.core.display.Javascript object>"
            ]
          },
          "metadata": {
            "tags": [
              "id54-0-0",
              "outputarea_id54"
            ]
          }
        },
        {
          "output_type": "display_data",
          "data": {
            "application/javascript": [
              "window[\"e82336b8-66ae-11e9-9393-0242ac1c0002\"] = google.colab.output.setActiveOutputArea(window[\"e7da5484-66ae-11e9-9393-0242ac1c0002\"]);\n",
              "//# sourceURL=js_32a10ab27f"
            ],
            "text/plain": [
              "<IPython.core.display.Javascript object>"
            ]
          },
          "metadata": {
            "tags": [
              "id54-0-0",
              "outputarea_id54"
            ]
          }
        },
        {
          "output_type": "display_data",
          "data": {
            "application/javascript": [
              "window[\"e8242d52-66ae-11e9-9393-0242ac1c0002\"] = google.colab.output.getActiveOutputArea();\n",
              "//# sourceURL=js_84d468fe72"
            ],
            "text/plain": [
              "<IPython.core.display.Javascript object>"
            ]
          },
          "metadata": {
            "tags": [
              "id54-0-0",
              "outputarea_id54"
            ]
          }
        },
        {
          "output_type": "display_data",
          "data": {
            "application/javascript": [
              "window[\"e824695c-66ae-11e9-9393-0242ac1c0002\"] = document.querySelector(\"#id54-0-0\");\n",
              "//# sourceURL=js_d726648434"
            ],
            "text/plain": [
              "<IPython.core.display.Javascript object>"
            ]
          },
          "metadata": {
            "tags": [
              "id54-0-0",
              "outputarea_id54"
            ]
          }
        },
        {
          "output_type": "display_data",
          "data": {
            "application/javascript": [
              "window[\"e8249f44-66ae-11e9-9393-0242ac1c0002\"] = google.colab.output.setActiveOutputArea(window[\"e824695c-66ae-11e9-9393-0242ac1c0002\"]);\n",
              "//# sourceURL=js_39855269ce"
            ],
            "text/plain": [
              "<IPython.core.display.Javascript object>"
            ]
          },
          "metadata": {
            "tags": [
              "id54-0-0",
              "outputarea_id54"
            ]
          }
        },
        {
          "output_type": "display_data",
          "data": {
            "application/javascript": [
              "window[\"e86d09dc-66ae-11e9-9393-0242ac1c0002\"] = google.colab.output.setActiveOutputArea(window[\"e8242d52-66ae-11e9-9393-0242ac1c0002\"]);\n",
              "//# sourceURL=js_9eafdace47"
            ],
            "text/plain": [
              "<IPython.core.display.Javascript object>"
            ]
          },
          "metadata": {
            "tags": [
              "id54-0-0",
              "outputarea_id54"
            ]
          }
        },
        {
          "output_type": "display_data",
          "data": {
            "application/javascript": [
              "window[\"e86e0ca6-66ae-11e9-9393-0242ac1c0002\"] = google.colab.output.getActiveOutputArea();\n",
              "//# sourceURL=js_29e5cec257"
            ],
            "text/plain": [
              "<IPython.core.display.Javascript object>"
            ]
          },
          "metadata": {
            "tags": [
              "id54-0-0",
              "outputarea_id54"
            ]
          }
        },
        {
          "output_type": "display_data",
          "data": {
            "application/javascript": [
              "window[\"e86e4be4-66ae-11e9-9393-0242ac1c0002\"] = document.querySelector(\"#id54-0-0\");\n",
              "//# sourceURL=js_6803866459"
            ],
            "text/plain": [
              "<IPython.core.display.Javascript object>"
            ]
          },
          "metadata": {
            "tags": [
              "id54-0-0",
              "outputarea_id54"
            ]
          }
        },
        {
          "output_type": "display_data",
          "data": {
            "application/javascript": [
              "window[\"e86e8348-66ae-11e9-9393-0242ac1c0002\"] = google.colab.output.setActiveOutputArea(window[\"e86e4be4-66ae-11e9-9393-0242ac1c0002\"]);\n",
              "//# sourceURL=js_f45755a1e3"
            ],
            "text/plain": [
              "<IPython.core.display.Javascript object>"
            ]
          },
          "metadata": {
            "tags": [
              "id54-0-0",
              "outputarea_id54"
            ]
          }
        },
        {
          "output_type": "display_data",
          "data": {
            "application/javascript": [
              "window[\"e8b26b76-66ae-11e9-9393-0242ac1c0002\"] = google.colab.output.setActiveOutputArea(window[\"e86e0ca6-66ae-11e9-9393-0242ac1c0002\"]);\n",
              "//# sourceURL=js_ab944cf2b9"
            ],
            "text/plain": [
              "<IPython.core.display.Javascript object>"
            ]
          },
          "metadata": {
            "tags": [
              "id54-0-0",
              "outputarea_id54"
            ]
          }
        },
        {
          "output_type": "display_data",
          "data": {
            "application/javascript": [
              "window[\"e8b43f96-66ae-11e9-9393-0242ac1c0002\"] = google.colab.output.getActiveOutputArea();\n",
              "//# sourceURL=js_d1cee6e32a"
            ],
            "text/plain": [
              "<IPython.core.display.Javascript object>"
            ]
          },
          "metadata": {
            "tags": [
              "id54-0-0",
              "outputarea_id54"
            ]
          }
        },
        {
          "output_type": "display_data",
          "data": {
            "application/javascript": [
              "window[\"e8b47560-66ae-11e9-9393-0242ac1c0002\"] = document.querySelector(\"#id54-0-0\");\n",
              "//# sourceURL=js_24bdfa0144"
            ],
            "text/plain": [
              "<IPython.core.display.Javascript object>"
            ]
          },
          "metadata": {
            "tags": [
              "id54-0-0",
              "outputarea_id54"
            ]
          }
        },
        {
          "output_type": "display_data",
          "data": {
            "application/javascript": [
              "window[\"e8b4ba84-66ae-11e9-9393-0242ac1c0002\"] = google.colab.output.setActiveOutputArea(window[\"e8b47560-66ae-11e9-9393-0242ac1c0002\"]);\n",
              "//# sourceURL=js_0e6d80ee40"
            ],
            "text/plain": [
              "<IPython.core.display.Javascript object>"
            ]
          },
          "metadata": {
            "tags": [
              "id54-0-0",
              "outputarea_id54"
            ]
          }
        },
        {
          "output_type": "display_data",
          "data": {
            "application/javascript": [
              "window[\"e8fba8ae-66ae-11e9-9393-0242ac1c0002\"] = google.colab.output.setActiveOutputArea(window[\"e8b43f96-66ae-11e9-9393-0242ac1c0002\"]);\n",
              "//# sourceURL=js_30d40e2d57"
            ],
            "text/plain": [
              "<IPython.core.display.Javascript object>"
            ]
          },
          "metadata": {
            "tags": [
              "id54-0-0",
              "outputarea_id54"
            ]
          }
        },
        {
          "output_type": "display_data",
          "data": {
            "application/javascript": [
              "window[\"e8fec52a-66ae-11e9-9393-0242ac1c0002\"] = google.colab.output.getActiveOutputArea();\n",
              "//# sourceURL=js_b03a8c6254"
            ],
            "text/plain": [
              "<IPython.core.display.Javascript object>"
            ]
          },
          "metadata": {
            "tags": [
              "id54-0-0",
              "outputarea_id54"
            ]
          }
        },
        {
          "output_type": "display_data",
          "data": {
            "application/javascript": [
              "window[\"e8ff3a14-66ae-11e9-9393-0242ac1c0002\"] = document.querySelector(\"#id54-0-0\");\n",
              "//# sourceURL=js_489f2d61cb"
            ],
            "text/plain": [
              "<IPython.core.display.Javascript object>"
            ]
          },
          "metadata": {
            "tags": [
              "id54-0-0",
              "outputarea_id54"
            ]
          }
        },
        {
          "output_type": "display_data",
          "data": {
            "application/javascript": [
              "window[\"e8ffb836-66ae-11e9-9393-0242ac1c0002\"] = google.colab.output.setActiveOutputArea(window[\"e8ff3a14-66ae-11e9-9393-0242ac1c0002\"]);\n",
              "//# sourceURL=js_a3a36637ce"
            ],
            "text/plain": [
              "<IPython.core.display.Javascript object>"
            ]
          },
          "metadata": {
            "tags": [
              "id54-0-0",
              "outputarea_id54"
            ]
          }
        },
        {
          "output_type": "display_data",
          "data": {
            "application/javascript": [
              "window[\"e949500e-66ae-11e9-9393-0242ac1c0002\"] = google.colab.output.setActiveOutputArea(window[\"e8fec52a-66ae-11e9-9393-0242ac1c0002\"]);\n",
              "//# sourceURL=js_683275b726"
            ],
            "text/plain": [
              "<IPython.core.display.Javascript object>"
            ]
          },
          "metadata": {
            "tags": [
              "id54-0-0",
              "outputarea_id54"
            ]
          }
        },
        {
          "output_type": "display_data",
          "data": {
            "application/javascript": [
              "window[\"e94e5e14-66ae-11e9-9393-0242ac1c0002\"] = google.colab.output.getActiveOutputArea();\n",
              "//# sourceURL=js_78dd6b6a22"
            ],
            "text/plain": [
              "<IPython.core.display.Javascript object>"
            ]
          },
          "metadata": {
            "tags": [
              "id54-0-0",
              "outputarea_id54"
            ]
          }
        },
        {
          "output_type": "display_data",
          "data": {
            "application/javascript": [
              "window[\"e94ea310-66ae-11e9-9393-0242ac1c0002\"] = document.querySelector(\"#id54-0-0\");\n",
              "//# sourceURL=js_551005b267"
            ],
            "text/plain": [
              "<IPython.core.display.Javascript object>"
            ]
          },
          "metadata": {
            "tags": [
              "id54-0-0",
              "outputarea_id54"
            ]
          }
        },
        {
          "output_type": "display_data",
          "data": {
            "application/javascript": [
              "window[\"e94ee99c-66ae-11e9-9393-0242ac1c0002\"] = google.colab.output.setActiveOutputArea(window[\"e94ea310-66ae-11e9-9393-0242ac1c0002\"]);\n",
              "//# sourceURL=js_e38941f309"
            ],
            "text/plain": [
              "<IPython.core.display.Javascript object>"
            ]
          },
          "metadata": {
            "tags": [
              "id54-0-0",
              "outputarea_id54"
            ]
          }
        },
        {
          "output_type": "display_data",
          "data": {
            "application/javascript": [
              "window[\"e9960a34-66ae-11e9-9393-0242ac1c0002\"] = google.colab.output.setActiveOutputArea(window[\"e94e5e14-66ae-11e9-9393-0242ac1c0002\"]);\n",
              "//# sourceURL=js_c183a18b90"
            ],
            "text/plain": [
              "<IPython.core.display.Javascript object>"
            ]
          },
          "metadata": {
            "tags": [
              "id54-0-0",
              "outputarea_id54"
            ]
          }
        },
        {
          "output_type": "display_data",
          "data": {
            "application/javascript": [
              "window[\"e999063a-66ae-11e9-9393-0242ac1c0002\"] = google.colab.output.getActiveOutputArea();\n",
              "//# sourceURL=js_2fa87e9d59"
            ],
            "text/plain": [
              "<IPython.core.display.Javascript object>"
            ]
          },
          "metadata": {
            "tags": [
              "id54-0-0",
              "outputarea_id54"
            ]
          }
        },
        {
          "output_type": "display_data",
          "data": {
            "application/javascript": [
              "window[\"e999415e-66ae-11e9-9393-0242ac1c0002\"] = document.querySelector(\"#id54-0-0\");\n",
              "//# sourceURL=js_e783f42c2a"
            ],
            "text/plain": [
              "<IPython.core.display.Javascript object>"
            ]
          },
          "metadata": {
            "tags": [
              "id54-0-0",
              "outputarea_id54"
            ]
          }
        },
        {
          "output_type": "display_data",
          "data": {
            "application/javascript": [
              "window[\"e99979c6-66ae-11e9-9393-0242ac1c0002\"] = google.colab.output.setActiveOutputArea(window[\"e999415e-66ae-11e9-9393-0242ac1c0002\"]);\n",
              "//# sourceURL=js_95f5f54942"
            ],
            "text/plain": [
              "<IPython.core.display.Javascript object>"
            ]
          },
          "metadata": {
            "tags": [
              "id54-0-0",
              "outputarea_id54"
            ]
          }
        },
        {
          "output_type": "display_data",
          "data": {
            "application/javascript": [
              "window[\"e9e1ea80-66ae-11e9-9393-0242ac1c0002\"] = google.colab.output.setActiveOutputArea(window[\"e999063a-66ae-11e9-9393-0242ac1c0002\"]);\n",
              "//# sourceURL=js_590af6ac1f"
            ],
            "text/plain": [
              "<IPython.core.display.Javascript object>"
            ]
          },
          "metadata": {
            "tags": [
              "id54-0-0",
              "outputarea_id54"
            ]
          }
        },
        {
          "output_type": "display_data",
          "data": {
            "application/javascript": [
              "window[\"e9e2f588-66ae-11e9-9393-0242ac1c0002\"] = google.colab.output.getActiveOutputArea();\n",
              "//# sourceURL=js_cadd4994db"
            ],
            "text/plain": [
              "<IPython.core.display.Javascript object>"
            ]
          },
          "metadata": {
            "tags": [
              "id54-0-0",
              "outputarea_id54"
            ]
          }
        },
        {
          "output_type": "display_data",
          "data": {
            "application/javascript": [
              "window[\"e9e32bb6-66ae-11e9-9393-0242ac1c0002\"] = document.querySelector(\"#id54-0-0\");\n",
              "//# sourceURL=js_6bf4181d3f"
            ],
            "text/plain": [
              "<IPython.core.display.Javascript object>"
            ]
          },
          "metadata": {
            "tags": [
              "id54-0-0",
              "outputarea_id54"
            ]
          }
        },
        {
          "output_type": "display_data",
          "data": {
            "application/javascript": [
              "window[\"e9e36216-66ae-11e9-9393-0242ac1c0002\"] = google.colab.output.setActiveOutputArea(window[\"e9e32bb6-66ae-11e9-9393-0242ac1c0002\"]);\n",
              "//# sourceURL=js_15d82d1983"
            ],
            "text/plain": [
              "<IPython.core.display.Javascript object>"
            ]
          },
          "metadata": {
            "tags": [
              "id54-0-0",
              "outputarea_id54"
            ]
          }
        },
        {
          "output_type": "display_data",
          "data": {
            "application/javascript": [
              "window[\"ea2c2ad2-66ae-11e9-9393-0242ac1c0002\"] = google.colab.output.setActiveOutputArea(window[\"e9e2f588-66ae-11e9-9393-0242ac1c0002\"]);\n",
              "//# sourceURL=js_7f921d093b"
            ],
            "text/plain": [
              "<IPython.core.display.Javascript object>"
            ]
          },
          "metadata": {
            "tags": [
              "id54-0-0",
              "outputarea_id54"
            ]
          }
        },
        {
          "output_type": "display_data",
          "data": {
            "application/javascript": [
              "window[\"ea2fae32-66ae-11e9-9393-0242ac1c0002\"] = google.colab.output.getActiveOutputArea();\n",
              "//# sourceURL=js_4541d8df7a"
            ],
            "text/plain": [
              "<IPython.core.display.Javascript object>"
            ]
          },
          "metadata": {
            "tags": [
              "id54-0-0",
              "outputarea_id54"
            ]
          }
        },
        {
          "output_type": "display_data",
          "data": {
            "application/javascript": [
              "window[\"ea30225e-66ae-11e9-9393-0242ac1c0002\"] = document.querySelector(\"#id54-0-0\");\n",
              "//# sourceURL=js_f90a1b6d43"
            ],
            "text/plain": [
              "<IPython.core.display.Javascript object>"
            ]
          },
          "metadata": {
            "tags": [
              "id54-0-0",
              "outputarea_id54"
            ]
          }
        },
        {
          "output_type": "display_data",
          "data": {
            "application/javascript": [
              "window[\"ea30bf3e-66ae-11e9-9393-0242ac1c0002\"] = google.colab.output.setActiveOutputArea(window[\"ea30225e-66ae-11e9-9393-0242ac1c0002\"]);\n",
              "//# sourceURL=js_dab5ab6e62"
            ],
            "text/plain": [
              "<IPython.core.display.Javascript object>"
            ]
          },
          "metadata": {
            "tags": [
              "id54-0-0",
              "outputarea_id54"
            ]
          }
        },
        {
          "output_type": "display_data",
          "data": {
            "application/javascript": [
              "window[\"ea79d728-66ae-11e9-9393-0242ac1c0002\"] = google.colab.output.setActiveOutputArea(window[\"ea2fae32-66ae-11e9-9393-0242ac1c0002\"]);\n",
              "//# sourceURL=js_3f8feb222b"
            ],
            "text/plain": [
              "<IPython.core.display.Javascript object>"
            ]
          },
          "metadata": {
            "tags": [
              "id54-0-0",
              "outputarea_id54"
            ]
          }
        },
        {
          "output_type": "display_data",
          "data": {
            "application/javascript": [
              "window[\"ea7e064a-66ae-11e9-9393-0242ac1c0002\"] = google.colab.output.getActiveOutputArea();\n",
              "//# sourceURL=js_31ef69e384"
            ],
            "text/plain": [
              "<IPython.core.display.Javascript object>"
            ]
          },
          "metadata": {
            "tags": [
              "id54-0-0",
              "outputarea_id54"
            ]
          }
        },
        {
          "output_type": "display_data",
          "data": {
            "application/javascript": [
              "window[\"ea7e823c-66ae-11e9-9393-0242ac1c0002\"] = document.querySelector(\"#id54-0-0\");\n",
              "//# sourceURL=js_a0c7f9e0e4"
            ],
            "text/plain": [
              "<IPython.core.display.Javascript object>"
            ]
          },
          "metadata": {
            "tags": [
              "id54-0-0",
              "outputarea_id54"
            ]
          }
        },
        {
          "output_type": "display_data",
          "data": {
            "application/javascript": [
              "window[\"ea7ee902-66ae-11e9-9393-0242ac1c0002\"] = google.colab.output.setActiveOutputArea(window[\"ea7e823c-66ae-11e9-9393-0242ac1c0002\"]);\n",
              "//# sourceURL=js_8751b6ab28"
            ],
            "text/plain": [
              "<IPython.core.display.Javascript object>"
            ]
          },
          "metadata": {
            "tags": [
              "id54-0-0",
              "outputarea_id54"
            ]
          }
        },
        {
          "output_type": "display_data",
          "data": {
            "image/png": "[encoded data removed]",
            "text/plain": [
              "<Figure size 576x576 with 1 Axes>"
            ]
          },
          "metadata": {
            "tags": [
              "id54-0-0",
              "outputarea_id54",
              "user_output"
            ]
          }
        },
        {
          "output_type": "display_data",
          "data": {
            "application/javascript": [
              "window[\"eac605e4-66ae-11e9-9393-0242ac1c0002\"] = google.colab.output.setActiveOutputArea(window[\"ea7e064a-66ae-11e9-9393-0242ac1c0002\"]);\n",
              "//# sourceURL=js_40376888e9"
            ],
            "text/plain": [
              "<IPython.core.display.Javascript object>"
            ]
          },
          "metadata": {
            "tags": [
              "id54-0-0",
              "outputarea_id54"
            ]
          }
        }
      ]
    },
    {
      "metadata": {
        "id": "JUPYvl0Z8HaP",
        "colab_type": "text"
      },
      "cell_type": "markdown",
      "source": [
        "## DBSCAN Clustering\n",
        "\n",
        "### Algorithm\n",
        "\n",
        "### Application"
      ]
    },
    {
      "metadata": {
        "id": "mxD8W-mF3Xou",
        "colab_type": "text"
      },
      "cell_type": "markdown",
      "source": [
        "## Agglomerative Clustering\n",
        "\n",
        "### Algorithm\n",
        "\n",
        "### Application"
      ]
    },
    {
      "metadata": {
        "id": "ZNpM4wfH8LOG",
        "colab_type": "text"
      },
      "cell_type": "markdown",
      "source": [
        "## Spectral Clustering\n",
        "\n",
        "### Algorithm\n",
        "\n",
        "### Application"
      ]
    },
    {
      "metadata": {
        "id": "8Rd3WNqR8Nb0",
        "colab_type": "text"
      },
      "cell_type": "markdown",
      "source": [
        "## Gaussian Mixture Model Clustering\n",
        "\n",
        "### Algorithm\n",
        "\n",
        "### Application"
      ]
    }
  ]
}