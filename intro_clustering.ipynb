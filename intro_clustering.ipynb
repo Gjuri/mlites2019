{
  "nbformat": 4,
  "nbformat_minor": 0,
  "metadata": {
    "colab": {
      "name": "intro_clustering.ipynb",
      "version": "0.3.2",
      "provenance": [],
      "include_colab_link": true
    },
    "kernelspec": {
      "name": "python3",
      "display_name": "Python 3"
    }
  },
  "cells": [
    {
      "cell_type": "markdown",
      "metadata": {
        "id": "view-in-github",
        "colab_type": "text"
      },
      "source": [
        "<a href=\"https://colab.research.google.com/github/mlites/mlites2019/blob/master/intro_clustering.ipynb\" target=\"_parent\"><img src=\"https://colab.research.google.com/assets/colab-badge.svg\" alt=\"Open In Colab\"/></a>"
      ]
    },
    {
      "metadata": {
        "id": "Rz1faBGsv-eN",
        "colab_type": "text"
      },
      "cell_type": "markdown",
      "source": [
        "# Introduction to Clustering\n",
        "\n",
        "Hello! This lesson will introduce you to Clustering using a number of Unsupervised Machine Learning algorithms including k-means, DBSCAN, Spectral Clustering, and Gaussian Mixture Modeling.\n",
        "\n",
        "Along the way, we'll learn about feature scaling, feature selection, expectation maximization, and other tools in the machine learning toolbox.\n",
        "\n",
        "If you haven't already, make sure to run [kaggle_introduction.ipynb](https://colab.research.google.com/github/mlites/mlites2019/blob/master/kaggle_introduction.ipynb) to download the necessary datasets and set up the environment."
      ]
    },
    {
      "metadata": {
        "id": "IzFuvInX8Zvo",
        "colab_type": "text"
      },
      "cell_type": "markdown",
      "source": [
        "## Genomic Dataset Background\n",
        "\n",
        "The dataset we'll use for this lesson is based on the Kaggle dataset [Decontamination of Microbial Genomes](https://www.kaggle.com/rec3141/biol342-genome-data). The dataset is the result of 3 years of student work in the General Microbiology course at the University of Alaska Fairbanks. In each year, students cultured a microorganism from the environment and subjected it to DNA sequencing.\n",
        "\n",
        "For various reasons, some of the cultures were impure, containing 2, 3, or more microorganisms. The goal of our unsupervised machine learning clustering is to separate out (i.e. label) the fragments of DNA belonging to each of the microorganisms.\n",
        "\n",
        "The dataset is organized by anonymized student ids (\"samples\") and DNA fragments, which are also known as contigs (for \"contiguous sequences\"). These contigs have been assembled from raw DNA reads using an *assembler* called SPAdes after various quality control steps. The contigs are named sequentially by student id and decreasing by length, e.g. student0_1, student0_2, student0_3, etc. More detailed information about the dataset can be found [here](https://www.kaggle.com/rec3141/biol342-genome-data).\n",
        "\n",
        "The dataset consists of 5 files\n",
        "1. biol342_cov_len_gc.tsv\n",
        "    * contains the sequencing coverage, length, and G+C content of each contig\n",
        "2. biol342_depths.tsv\n",
        "    * containing the sequencing depth of each contig in each sample\n",
        "3. biol342_paired.tsv\n",
        "    * contains the number of raw reads spanning each pair of contigs\n",
        "4. biol342_tax.tsv\n",
        "    * contains taxonomic labels based on comparison to a large database\n",
        "5. biol342_tnf.tsv\n",
        "    * contains the tetranucleotide frequencies of each contig\n"
      ]
    },
    {
      "metadata": {
        "id": "qxEAQfFR_p_A",
        "colab_type": "text"
      },
      "cell_type": "markdown",
      "source": [
        "## Visualizing the data\n",
        "\n",
        "Let's start off by just looking at some of the data.\n",
        "\n"
      ]
    },
    {
      "metadata": {
        "id": "Ei12eOkav8IX",
        "colab_type": "text"
      },
      "cell_type": "markdown",
      "source": [
        "## k-means Clustering\n"
      ]
    },
    {
      "metadata": {
        "id": "JUPYvl0Z8HaP",
        "colab_type": "text"
      },
      "cell_type": "markdown",
      "source": [
        "## DBSCAN Clustering"
      ]
    },
    {
      "metadata": {
        "id": "ZNpM4wfH8LOG",
        "colab_type": "text"
      },
      "cell_type": "markdown",
      "source": [
        "## Spectral Clustering"
      ]
    },
    {
      "metadata": {
        "id": "8Rd3WNqR8Nb0",
        "colab_type": "text"
      },
      "cell_type": "markdown",
      "source": [
        "## Gaussian Mixture Clustering"
      ]
    }
  ]
}